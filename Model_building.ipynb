{
 "cells": [
  {
   "cell_type": "markdown",
   "metadata": {},
   "source": [
    "## Import"
   ]
  },
  {
   "cell_type": "code",
   "execution_count": 73,
   "metadata": {},
   "outputs": [],
   "source": [
    "import numpy as np\n",
    "import pandas as pd"
   ]
  },
  {
   "cell_type": "code",
   "execution_count": 74,
   "metadata": {},
   "outputs": [],
   "source": [
    "# pd.set_option('display.max_rows', 500)\n",
    "pd.set_option('display.max_columns', 500)\n",
    "# pd.set_option('display.width', 1000)\n",
    "# pd.set_option('display.expand_frame_repr', True)"
   ]
  },
  {
   "cell_type": "code",
   "execution_count": 75,
   "metadata": {},
   "outputs": [],
   "source": [
    "import scipy\n",
    "import matplotlib.pyplot as plt\n",
    "%matplotlib inline\n",
    "import seaborn as sns\n",
    "import numpy as np\n",
    "import random\n",
    "import datetime\n",
    "import warnings\n",
    "warnings.filterwarnings('ignore')\n",
    "from scipy import stats"
   ]
  },
  {
   "cell_type": "code",
   "execution_count": 76,
   "metadata": {},
   "outputs": [],
   "source": [
    "# Imports for better visualization\n",
    "from matplotlib import rcParams\n",
    "#colorbrewer2 Dark2 qualitative color table\n",
    "dark2_colors = [(0.10588235294117647, 0.6196078431372549, 0.4666666666666667),\n",
    "                (0.8509803921568627, 0.37254901960784315, 0.00784313725490196),\n",
    "                (0.4588235294117647, 0.4392156862745098, 0.7019607843137254),\n",
    "                (0.9058823529411765, 0.1607843137254902, 0.5411764705882353),\n",
    "                (0.4, 0.6509803921568628, 0.11764705882352941),\n",
    "                (0.9019607843137255, 0.6705882352941176, 0.00784313725490196),\n",
    "                (0.6509803921568628, 0.4627450980392157, 0.11372549019607843)]\n",
    "\n",
    "rcParams['figure.figsize'] = (10, 4)\n",
    "rcParams['figure.dpi'] = 150\n",
    "#rcParams['axes.color_cycle'] = dark2_colors\n",
    "rcParams['lines.linewidth'] = 2\n",
    "rcParams['font.size'] = 8\n",
    "rcParams['patch.edgecolor'] = 'white'\n",
    "rcParams['patch.facecolor'] = dark2_colors[0]\n",
    "rcParams['font.family'] = 'StixGeneral'\n",
    "rcParams['axes.grid'] = True\n",
    "rcParams['axes.facecolor'] = '#eeeeee'\n"
   ]
  },
  {
   "cell_type": "code",
   "execution_count": 77,
   "metadata": {},
   "outputs": [],
   "source": [
    "train = pd.read_csv('./data/train_5UKooLv.csv')"
   ]
  },
  {
   "cell_type": "code",
   "execution_count": 78,
   "metadata": {},
   "outputs": [],
   "source": [
    "test = pd.read_csv('./data/test_J1hm2KQ.csv',usecols = train.columns)"
   ]
  },
  {
   "cell_type": "code",
   "execution_count": 79,
   "metadata": {
    "scrolled": false
   },
   "outputs": [
    {
     "data": {
      "text/html": [
       "<div>\n",
       "<style scoped>\n",
       "    .dataframe tbody tr th:only-of-type {\n",
       "        vertical-align: middle;\n",
       "    }\n",
       "\n",
       "    .dataframe tbody tr th {\n",
       "        vertical-align: top;\n",
       "    }\n",
       "\n",
       "    .dataframe thead th {\n",
       "        text-align: right;\n",
       "    }\n",
       "</style>\n",
       "<table border=\"1\" class=\"dataframe\">\n",
       "  <thead>\n",
       "    <tr style=\"text-align: right;\">\n",
       "      <th></th>\n",
       "      <th>Country</th>\n",
       "      <th>CustomerID</th>\n",
       "      <th>InvoiceDate</th>\n",
       "      <th>InvoiceNo</th>\n",
       "      <th>Quantity</th>\n",
       "      <th>StockCode</th>\n",
       "      <th>UnitPrice</th>\n",
       "    </tr>\n",
       "  </thead>\n",
       "  <tbody>\n",
       "    <tr>\n",
       "      <th>0</th>\n",
       "      <td>PX</td>\n",
       "      <td>127269</td>\n",
       "      <td>01/12/10 8:28</td>\n",
       "      <td>127269</td>\n",
       "      <td>7</td>\n",
       "      <td>22633V</td>\n",
       "      <td>1.85</td>\n",
       "    </tr>\n",
       "    <tr>\n",
       "      <th>1</th>\n",
       "      <td>PX</td>\n",
       "      <td>227268</td>\n",
       "      <td>01/12/10 8:34</td>\n",
       "      <td>227268</td>\n",
       "      <td>38</td>\n",
       "      <td>84879M</td>\n",
       "      <td>1.69</td>\n",
       "    </tr>\n",
       "    <tr>\n",
       "      <th>2</th>\n",
       "      <td>PX</td>\n",
       "      <td>227268</td>\n",
       "      <td>01/12/10 8:34</td>\n",
       "      <td>227268</td>\n",
       "      <td>7</td>\n",
       "      <td>22748P</td>\n",
       "      <td>2.10</td>\n",
       "    </tr>\n",
       "    <tr>\n",
       "      <th>3</th>\n",
       "      <td>PX</td>\n",
       "      <td>227268</td>\n",
       "      <td>01/12/10 8:34</td>\n",
       "      <td>227268</td>\n",
       "      <td>9</td>\n",
       "      <td>22749K</td>\n",
       "      <td>3.75</td>\n",
       "    </tr>\n",
       "    <tr>\n",
       "      <th>4</th>\n",
       "      <td>PX</td>\n",
       "      <td>227268</td>\n",
       "      <td>01/12/10 8:34</td>\n",
       "      <td>227268</td>\n",
       "      <td>2</td>\n",
       "      <td>22622G</td>\n",
       "      <td>9.95</td>\n",
       "    </tr>\n",
       "  </tbody>\n",
       "</table>\n",
       "</div>"
      ],
      "text/plain": [
       "  Country  CustomerID    InvoiceDate  InvoiceNo  Quantity StockCode  UnitPrice\n",
       "0      PX      127269  01/12/10 8:28     127269         7    22633V       1.85\n",
       "1      PX      227268  01/12/10 8:34     227268        38    84879M       1.69\n",
       "2      PX      227268  01/12/10 8:34     227268         7    22748P       2.10\n",
       "3      PX      227268  01/12/10 8:34     227268         9    22749K       3.75\n",
       "4      PX      227268  01/12/10 8:34     227268         2    22622G       9.95"
      ]
     },
     "execution_count": 79,
     "metadata": {},
     "output_type": "execute_result"
    }
   ],
   "source": [
    "test.head()"
   ]
  },
  {
   "cell_type": "code",
   "execution_count": 80,
   "metadata": {},
   "outputs": [],
   "source": [
    "## In the test data, each user has certain number of reco, but that is just the 50% of his transactions,\n",
    "## we have to predict the remaining 50% for each user}"
   ]
  },
  {
   "cell_type": "code",
   "execution_count": 81,
   "metadata": {},
   "outputs": [],
   "source": [
    "submission_sample = pd.read_csv('./data/sample_submission_r7hs8Tz.csv')"
   ]
  },
  {
   "cell_type": "code",
   "execution_count": 82,
   "metadata": {
    "scrolled": true
   },
   "outputs": [],
   "source": [
    "train = train[test.columns]"
   ]
  },
  {
   "cell_type": "code",
   "execution_count": null,
   "metadata": {},
   "outputs": [],
   "source": []
  },
  {
   "cell_type": "markdown",
   "metadata": {},
   "source": [
    "### Reco PseudoTarget Analysis"
   ]
  },
  {
   "cell_type": "code",
   "execution_count": 83,
   "metadata": {},
   "outputs": [
    {
     "name": "stdout",
     "output_type": "stream",
     "text": [
      "3522\n"
     ]
    },
    {
     "data": {
      "text/plain": [
       "0         22633V\n",
       "1         84879M\n",
       "2         22748P\n",
       "3         22749K\n",
       "4         22622G\n",
       "           ...  \n",
       "103092    23328X\n",
       "103093    22556N\n",
       "103094    22367K\n",
       "103095    22629C\n",
       "103096    23256O\n",
       "Name: StockCode, Length: 103097, dtype: object"
      ]
     },
     "execution_count": 83,
     "metadata": {},
     "output_type": "execute_result"
    }
   ],
   "source": [
    "print(test['StockCode'].nunique())\n",
    "test['StockCode']"
   ]
  },
  {
   "cell_type": "code",
   "execution_count": 84,
   "metadata": {},
   "outputs": [
    {
     "name": "stdout",
     "output_type": "stream",
     "text": [
      "3810\n"
     ]
    },
    {
     "data": {
      "text/plain": [
       "0         85123AY\n",
       "1          71053R\n",
       "2         84406BH\n",
       "3         84029GV\n",
       "4         84029EX\n",
       "           ...   \n",
       "330570     23498F\n",
       "330571     22061J\n",
       "330572     23275I\n",
       "330573     21217W\n",
       "330574     20685H\n",
       "Name: StockCode, Length: 330575, dtype: object"
      ]
     },
     "execution_count": 84,
     "metadata": {},
     "output_type": "execute_result"
    }
   ],
   "source": [
    "print(train['StockCode'].nunique())\n",
    "train['StockCode']"
   ]
  },
  {
   "cell_type": "code",
   "execution_count": 85,
   "metadata": {},
   "outputs": [
    {
     "data": {
      "text/html": [
       "<div>\n",
       "<style scoped>\n",
       "    .dataframe tbody tr th:only-of-type {\n",
       "        vertical-align: middle;\n",
       "    }\n",
       "\n",
       "    .dataframe tbody tr th {\n",
       "        vertical-align: top;\n",
       "    }\n",
       "\n",
       "    .dataframe thead th {\n",
       "        text-align: right;\n",
       "    }\n",
       "</style>\n",
       "<table border=\"1\" class=\"dataframe\">\n",
       "  <thead>\n",
       "    <tr style=\"text-align: right;\">\n",
       "      <th></th>\n",
       "      <th>Country</th>\n",
       "      <th>CustomerID</th>\n",
       "      <th>InvoiceDate</th>\n",
       "      <th>InvoiceNo</th>\n",
       "      <th>Quantity</th>\n",
       "      <th>StockCode</th>\n",
       "      <th>UnitPrice</th>\n",
       "    </tr>\n",
       "  </thead>\n",
       "  <tbody>\n",
       "    <tr>\n",
       "      <th>0</th>\n",
       "      <td>PX</td>\n",
       "      <td>127269</td>\n",
       "      <td>01/12/10 8:28</td>\n",
       "      <td>127269</td>\n",
       "      <td>7</td>\n",
       "      <td>22633V</td>\n",
       "      <td>1.85</td>\n",
       "    </tr>\n",
       "    <tr>\n",
       "      <th>1</th>\n",
       "      <td>PX</td>\n",
       "      <td>227268</td>\n",
       "      <td>01/12/10 8:34</td>\n",
       "      <td>227268</td>\n",
       "      <td>38</td>\n",
       "      <td>84879M</td>\n",
       "      <td>1.69</td>\n",
       "    </tr>\n",
       "    <tr>\n",
       "      <th>2</th>\n",
       "      <td>PX</td>\n",
       "      <td>227268</td>\n",
       "      <td>01/12/10 8:34</td>\n",
       "      <td>227268</td>\n",
       "      <td>7</td>\n",
       "      <td>22748P</td>\n",
       "      <td>2.10</td>\n",
       "    </tr>\n",
       "    <tr>\n",
       "      <th>3</th>\n",
       "      <td>PX</td>\n",
       "      <td>227268</td>\n",
       "      <td>01/12/10 8:34</td>\n",
       "      <td>227268</td>\n",
       "      <td>9</td>\n",
       "      <td>22749K</td>\n",
       "      <td>3.75</td>\n",
       "    </tr>\n",
       "    <tr>\n",
       "      <th>4</th>\n",
       "      <td>PX</td>\n",
       "      <td>227268</td>\n",
       "      <td>01/12/10 8:34</td>\n",
       "      <td>227268</td>\n",
       "      <td>2</td>\n",
       "      <td>22622G</td>\n",
       "      <td>9.95</td>\n",
       "    </tr>\n",
       "    <tr>\n",
       "      <th>5</th>\n",
       "      <td>PX</td>\n",
       "      <td>227268</td>\n",
       "      <td>01/12/10 8:34</td>\n",
       "      <td>227268</td>\n",
       "      <td>4</td>\n",
       "      <td>48187N</td>\n",
       "      <td>7.95</td>\n",
       "    </tr>\n",
       "    <tr>\n",
       "      <th>6</th>\n",
       "      <td>PX</td>\n",
       "      <td>327267</td>\n",
       "      <td>01/12/10 8:34</td>\n",
       "      <td>327267</td>\n",
       "      <td>3</td>\n",
       "      <td>22914W</td>\n",
       "      <td>4.95</td>\n",
       "    </tr>\n",
       "    <tr>\n",
       "      <th>7</th>\n",
       "      <td>PX</td>\n",
       "      <td>162738</td>\n",
       "      <td>01/12/10 9:02</td>\n",
       "      <td>162738</td>\n",
       "      <td>7</td>\n",
       "      <td>85123AY</td>\n",
       "      <td>2.55</td>\n",
       "    </tr>\n",
       "    <tr>\n",
       "      <th>8</th>\n",
       "      <td>PX</td>\n",
       "      <td>162738</td>\n",
       "      <td>01/12/10 9:02</td>\n",
       "      <td>162738</td>\n",
       "      <td>7</td>\n",
       "      <td>71053R</td>\n",
       "      <td>3.39</td>\n",
       "    </tr>\n",
       "    <tr>\n",
       "      <th>9</th>\n",
       "      <td>PX</td>\n",
       "      <td>162738</td>\n",
       "      <td>01/12/10 9:02</td>\n",
       "      <td>162738</td>\n",
       "      <td>9</td>\n",
       "      <td>84406BH</td>\n",
       "      <td>2.75</td>\n",
       "    </tr>\n",
       "    <tr>\n",
       "      <th>10</th>\n",
       "      <td>PX</td>\n",
       "      <td>162738</td>\n",
       "      <td>01/12/10 9:02</td>\n",
       "      <td>162738</td>\n",
       "      <td>7</td>\n",
       "      <td>37370Z</td>\n",
       "      <td>1.06</td>\n",
       "    </tr>\n",
       "    <tr>\n",
       "      <th>11</th>\n",
       "      <td>PX</td>\n",
       "      <td>162738</td>\n",
       "      <td>01/12/10 9:02</td>\n",
       "      <td>162738</td>\n",
       "      <td>7</td>\n",
       "      <td>21871Y</td>\n",
       "      <td>1.06</td>\n",
       "    </tr>\n",
       "    <tr>\n",
       "      <th>12</th>\n",
       "      <td>PX</td>\n",
       "      <td>162738</td>\n",
       "      <td>01/12/10 9:02</td>\n",
       "      <td>162738</td>\n",
       "      <td>7</td>\n",
       "      <td>21071P</td>\n",
       "      <td>1.06</td>\n",
       "    </tr>\n",
       "    <tr>\n",
       "      <th>13</th>\n",
       "      <td>PX</td>\n",
       "      <td>162738</td>\n",
       "      <td>01/12/10 9:02</td>\n",
       "      <td>162738</td>\n",
       "      <td>2</td>\n",
       "      <td>82483P</td>\n",
       "      <td>4.95</td>\n",
       "    </tr>\n",
       "    <tr>\n",
       "      <th>14</th>\n",
       "      <td>PX</td>\n",
       "      <td>162738</td>\n",
       "      <td>01/12/10 9:02</td>\n",
       "      <td>162738</td>\n",
       "      <td>2</td>\n",
       "      <td>22752G</td>\n",
       "      <td>7.65</td>\n",
       "    </tr>\n",
       "    <tr>\n",
       "      <th>15</th>\n",
       "      <td>PX</td>\n",
       "      <td>162738</td>\n",
       "      <td>01/12/10 9:02</td>\n",
       "      <td>162738</td>\n",
       "      <td>7</td>\n",
       "      <td>21730R</td>\n",
       "      <td>4.25</td>\n",
       "    </tr>\n",
       "    <tr>\n",
       "      <th>16</th>\n",
       "      <td>PX</td>\n",
       "      <td>252747</td>\n",
       "      <td>01/12/10 9:45</td>\n",
       "      <td>252747</td>\n",
       "      <td>9</td>\n",
       "      <td>21912V</td>\n",
       "      <td>3.75</td>\n",
       "    </tr>\n",
       "    <tr>\n",
       "      <th>17</th>\n",
       "      <td>PX</td>\n",
       "      <td>252747</td>\n",
       "      <td>01/12/10 9:45</td>\n",
       "      <td>252747</td>\n",
       "      <td>60</td>\n",
       "      <td>22381J</td>\n",
       "      <td>1.85</td>\n",
       "    </tr>\n",
       "    <tr>\n",
       "      <th>18</th>\n",
       "      <td>PX</td>\n",
       "      <td>252747</td>\n",
       "      <td>01/12/10 9:45</td>\n",
       "      <td>252747</td>\n",
       "      <td>9</td>\n",
       "      <td>22798I</td>\n",
       "      <td>2.95</td>\n",
       "    </tr>\n",
       "    <tr>\n",
       "      <th>19</th>\n",
       "      <td>PX</td>\n",
       "      <td>252747</td>\n",
       "      <td>01/12/10 9:45</td>\n",
       "      <td>252747</td>\n",
       "      <td>4</td>\n",
       "      <td>22726C</td>\n",
       "      <td>3.75</td>\n",
       "    </tr>\n",
       "    <tr>\n",
       "      <th>20</th>\n",
       "      <td>PX</td>\n",
       "      <td>252747</td>\n",
       "      <td>01/12/10 9:45</td>\n",
       "      <td>252747</td>\n",
       "      <td>14</td>\n",
       "      <td>22926R</td>\n",
       "      <td>5.95</td>\n",
       "    </tr>\n",
       "    <tr>\n",
       "      <th>21</th>\n",
       "      <td>PX</td>\n",
       "      <td>252747</td>\n",
       "      <td>01/12/10 9:45</td>\n",
       "      <td>252747</td>\n",
       "      <td>4</td>\n",
       "      <td>22783G</td>\n",
       "      <td>16.95</td>\n",
       "    </tr>\n",
       "    <tr>\n",
       "      <th>22</th>\n",
       "      <td>PX</td>\n",
       "      <td>347247</td>\n",
       "      <td>01/12/10 9:59</td>\n",
       "      <td>347247</td>\n",
       "      <td>3</td>\n",
       "      <td>21755A</td>\n",
       "      <td>5.95</td>\n",
       "    </tr>\n",
       "    <tr>\n",
       "      <th>23</th>\n",
       "      <td>PX</td>\n",
       "      <td>347247</td>\n",
       "      <td>01/12/10 9:59</td>\n",
       "      <td>347247</td>\n",
       "      <td>3</td>\n",
       "      <td>21363T</td>\n",
       "      <td>4.95</td>\n",
       "    </tr>\n",
       "    <tr>\n",
       "      <th>24</th>\n",
       "      <td>PX</td>\n",
       "      <td>347247</td>\n",
       "      <td>01/12/10 9:59</td>\n",
       "      <td>347247</td>\n",
       "      <td>3</td>\n",
       "      <td>21411J</td>\n",
       "      <td>4.25</td>\n",
       "    </tr>\n",
       "    <tr>\n",
       "      <th>25</th>\n",
       "      <td>PX</td>\n",
       "      <td>347247</td>\n",
       "      <td>01/12/10 9:59</td>\n",
       "      <td>347247</td>\n",
       "      <td>14</td>\n",
       "      <td>22464B</td>\n",
       "      <td>1.65</td>\n",
       "    </tr>\n",
       "    <tr>\n",
       "      <th>26</th>\n",
       "      <td>PX</td>\n",
       "      <td>347247</td>\n",
       "      <td>01/12/10 9:59</td>\n",
       "      <td>347247</td>\n",
       "      <td>14</td>\n",
       "      <td>22922K</td>\n",
       "      <td>0.85</td>\n",
       "    </tr>\n",
       "    <tr>\n",
       "      <th>27</th>\n",
       "      <td>PX</td>\n",
       "      <td>347247</td>\n",
       "      <td>01/12/10 9:59</td>\n",
       "      <td>347247</td>\n",
       "      <td>14</td>\n",
       "      <td>22969Z</td>\n",
       "      <td>1.45</td>\n",
       "    </tr>\n",
       "    <tr>\n",
       "      <th>28</th>\n",
       "      <td>PX</td>\n",
       "      <td>347247</td>\n",
       "      <td>01/12/10 9:59</td>\n",
       "      <td>347247</td>\n",
       "      <td>14</td>\n",
       "      <td>22923F</td>\n",
       "      <td>0.85</td>\n",
       "    </tr>\n",
       "    <tr>\n",
       "      <th>29</th>\n",
       "      <td>PX</td>\n",
       "      <td>347247</td>\n",
       "      <td>01/12/10 9:59</td>\n",
       "      <td>347247</td>\n",
       "      <td>4</td>\n",
       "      <td>21115Q</td>\n",
       "      <td>6.75</td>\n",
       "    </tr>\n",
       "    <tr>\n",
       "      <th>...</th>\n",
       "      <td>...</td>\n",
       "      <td>...</td>\n",
       "      <td>...</td>\n",
       "      <td>...</td>\n",
       "      <td>...</td>\n",
       "      <td>...</td>\n",
       "      <td>...</td>\n",
       "    </tr>\n",
       "    <tr>\n",
       "      <th>103067</th>\n",
       "      <td>PX</td>\n",
       "      <td>406386</td>\n",
       "      <td>09/12/11 12:00</td>\n",
       "      <td>406386</td>\n",
       "      <td>7</td>\n",
       "      <td>23326S</td>\n",
       "      <td>0.63</td>\n",
       "    </tr>\n",
       "    <tr>\n",
       "      <th>103068</th>\n",
       "      <td>PX</td>\n",
       "      <td>406386</td>\n",
       "      <td>09/12/11 12:00</td>\n",
       "      <td>406386</td>\n",
       "      <td>1</td>\n",
       "      <td>21313C</td>\n",
       "      <td>0.85</td>\n",
       "    </tr>\n",
       "    <tr>\n",
       "      <th>103069</th>\n",
       "      <td>PX</td>\n",
       "      <td>406386</td>\n",
       "      <td>09/12/11 12:00</td>\n",
       "      <td>406386</td>\n",
       "      <td>1</td>\n",
       "      <td>48187N</td>\n",
       "      <td>8.25</td>\n",
       "    </tr>\n",
       "    <tr>\n",
       "      <th>103070</th>\n",
       "      <td>PX</td>\n",
       "      <td>406386</td>\n",
       "      <td>09/12/11 12:00</td>\n",
       "      <td>406386</td>\n",
       "      <td>4</td>\n",
       "      <td>23197D</td>\n",
       "      <td>1.45</td>\n",
       "    </tr>\n",
       "    <tr>\n",
       "      <th>103071</th>\n",
       "      <td>PX</td>\n",
       "      <td>406386</td>\n",
       "      <td>09/12/11 12:00</td>\n",
       "      <td>406386</td>\n",
       "      <td>2</td>\n",
       "      <td>21012K</td>\n",
       "      <td>2.10</td>\n",
       "    </tr>\n",
       "    <tr>\n",
       "      <th>103072</th>\n",
       "      <td>PX</td>\n",
       "      <td>406386</td>\n",
       "      <td>09/12/11 12:00</td>\n",
       "      <td>406386</td>\n",
       "      <td>12</td>\n",
       "      <td>22227K</td>\n",
       "      <td>0.65</td>\n",
       "    </tr>\n",
       "    <tr>\n",
       "      <th>103073</th>\n",
       "      <td>PX</td>\n",
       "      <td>406386</td>\n",
       "      <td>09/12/11 12:00</td>\n",
       "      <td>406386</td>\n",
       "      <td>1</td>\n",
       "      <td>23182N</td>\n",
       "      <td>0.83</td>\n",
       "    </tr>\n",
       "    <tr>\n",
       "      <th>103074</th>\n",
       "      <td>PX</td>\n",
       "      <td>406386</td>\n",
       "      <td>09/12/11 12:00</td>\n",
       "      <td>406386</td>\n",
       "      <td>1</td>\n",
       "      <td>21755A</td>\n",
       "      <td>6.25</td>\n",
       "    </tr>\n",
       "    <tr>\n",
       "      <th>103075</th>\n",
       "      <td>PX</td>\n",
       "      <td>406386</td>\n",
       "      <td>09/12/11 12:00</td>\n",
       "      <td>406386</td>\n",
       "      <td>43</td>\n",
       "      <td>23168M</td>\n",
       "      <td>1.04</td>\n",
       "    </tr>\n",
       "    <tr>\n",
       "      <th>103076</th>\n",
       "      <td>PX</td>\n",
       "      <td>406386</td>\n",
       "      <td>09/12/11 12:00</td>\n",
       "      <td>406386</td>\n",
       "      <td>57</td>\n",
       "      <td>21314Q</td>\n",
       "      <td>1.85</td>\n",
       "    </tr>\n",
       "    <tr>\n",
       "      <th>103077</th>\n",
       "      <td>PX</td>\n",
       "      <td>406386</td>\n",
       "      <td>09/12/11 12:00</td>\n",
       "      <td>406386</td>\n",
       "      <td>28</td>\n",
       "      <td>21137F</td>\n",
       "      <td>3.39</td>\n",
       "    </tr>\n",
       "    <tr>\n",
       "      <th>103078</th>\n",
       "      <td>PX</td>\n",
       "      <td>406386</td>\n",
       "      <td>09/12/11 12:00</td>\n",
       "      <td>406386</td>\n",
       "      <td>1</td>\n",
       "      <td>44234S</td>\n",
       "      <td>0.21</td>\n",
       "    </tr>\n",
       "    <tr>\n",
       "      <th>103079</th>\n",
       "      <td>PX</td>\n",
       "      <td>406386</td>\n",
       "      <td>09/12/11 12:00</td>\n",
       "      <td>406386</td>\n",
       "      <td>28</td>\n",
       "      <td>84347V</td>\n",
       "      <td>2.55</td>\n",
       "    </tr>\n",
       "    <tr>\n",
       "      <th>103080</th>\n",
       "      <td>PX</td>\n",
       "      <td>306387</td>\n",
       "      <td>09/12/11 12:08</td>\n",
       "      <td>306387</td>\n",
       "      <td>57</td>\n",
       "      <td>23328X</td>\n",
       "      <td>3.39</td>\n",
       "    </tr>\n",
       "    <tr>\n",
       "      <th>103081</th>\n",
       "      <td>PX</td>\n",
       "      <td>196398</td>\n",
       "      <td>09/12/11 12:23</td>\n",
       "      <td>196398</td>\n",
       "      <td>48</td>\n",
       "      <td>20725N</td>\n",
       "      <td>1.45</td>\n",
       "    </tr>\n",
       "    <tr>\n",
       "      <th>103082</th>\n",
       "      <td>PX</td>\n",
       "      <td>3600</td>\n",
       "      <td>09/12/11 12:31</td>\n",
       "      <td>3600</td>\n",
       "      <td>14</td>\n",
       "      <td>22178V</td>\n",
       "      <td>1.95</td>\n",
       "    </tr>\n",
       "    <tr>\n",
       "      <th>103083</th>\n",
       "      <td>PX</td>\n",
       "      <td>3600</td>\n",
       "      <td>09/12/11 12:31</td>\n",
       "      <td>3600</td>\n",
       "      <td>14</td>\n",
       "      <td>23084M</td>\n",
       "      <td>2.08</td>\n",
       "    </tr>\n",
       "    <tr>\n",
       "      <th>103084</th>\n",
       "      <td>PX</td>\n",
       "      <td>3600</td>\n",
       "      <td>09/12/11 12:31</td>\n",
       "      <td>3600</td>\n",
       "      <td>19</td>\n",
       "      <td>84879M</td>\n",
       "      <td>1.69</td>\n",
       "    </tr>\n",
       "    <tr>\n",
       "      <th>103085</th>\n",
       "      <td>PX</td>\n",
       "      <td>3600</td>\n",
       "      <td>09/12/11 12:31</td>\n",
       "      <td>3600</td>\n",
       "      <td>3</td>\n",
       "      <td>23356F</td>\n",
       "      <td>5.95</td>\n",
       "    </tr>\n",
       "    <tr>\n",
       "      <th>103086</th>\n",
       "      <td>PX</td>\n",
       "      <td>3600</td>\n",
       "      <td>09/12/11 12:31</td>\n",
       "      <td>3600</td>\n",
       "      <td>9</td>\n",
       "      <td>22726C</td>\n",
       "      <td>3.75</td>\n",
       "    </tr>\n",
       "    <tr>\n",
       "      <th>103087</th>\n",
       "      <td>PX</td>\n",
       "      <td>3600</td>\n",
       "      <td>09/12/11 12:31</td>\n",
       "      <td>3600</td>\n",
       "      <td>4</td>\n",
       "      <td>22727B</td>\n",
       "      <td>3.75</td>\n",
       "    </tr>\n",
       "    <tr>\n",
       "      <th>103088</th>\n",
       "      <td>PX</td>\n",
       "      <td>3600</td>\n",
       "      <td>09/12/11 12:31</td>\n",
       "      <td>3600</td>\n",
       "      <td>28</td>\n",
       "      <td>21916D</td>\n",
       "      <td>0.42</td>\n",
       "    </tr>\n",
       "    <tr>\n",
       "      <th>103089</th>\n",
       "      <td>PX</td>\n",
       "      <td>3600</td>\n",
       "      <td>09/12/11 12:31</td>\n",
       "      <td>3600</td>\n",
       "      <td>30</td>\n",
       "      <td>84692Z</td>\n",
       "      <td>0.42</td>\n",
       "    </tr>\n",
       "    <tr>\n",
       "      <th>103090</th>\n",
       "      <td>PX</td>\n",
       "      <td>3600</td>\n",
       "      <td>09/12/11 12:31</td>\n",
       "      <td>3600</td>\n",
       "      <td>14</td>\n",
       "      <td>84946F</td>\n",
       "      <td>1.25</td>\n",
       "    </tr>\n",
       "    <tr>\n",
       "      <th>103091</th>\n",
       "      <td>PX</td>\n",
       "      <td>3600</td>\n",
       "      <td>09/12/11 12:31</td>\n",
       "      <td>3600</td>\n",
       "      <td>14</td>\n",
       "      <td>21684X</td>\n",
       "      <td>0.85</td>\n",
       "    </tr>\n",
       "    <tr>\n",
       "      <th>103092</th>\n",
       "      <td>PX</td>\n",
       "      <td>3600</td>\n",
       "      <td>09/12/11 12:31</td>\n",
       "      <td>3600</td>\n",
       "      <td>4</td>\n",
       "      <td>23328X</td>\n",
       "      <td>3.75</td>\n",
       "    </tr>\n",
       "    <tr>\n",
       "      <th>103093</th>\n",
       "      <td>RA</td>\n",
       "      <td>203598</td>\n",
       "      <td>09/12/11 12:50</td>\n",
       "      <td>203598</td>\n",
       "      <td>14</td>\n",
       "      <td>22556N</td>\n",
       "      <td>1.65</td>\n",
       "    </tr>\n",
       "    <tr>\n",
       "      <th>103094</th>\n",
       "      <td>RA</td>\n",
       "      <td>203598</td>\n",
       "      <td>09/12/11 12:50</td>\n",
       "      <td>203598</td>\n",
       "      <td>9</td>\n",
       "      <td>22367K</td>\n",
       "      <td>1.95</td>\n",
       "    </tr>\n",
       "    <tr>\n",
       "      <th>103095</th>\n",
       "      <td>RA</td>\n",
       "      <td>203598</td>\n",
       "      <td>09/12/11 12:50</td>\n",
       "      <td>203598</td>\n",
       "      <td>14</td>\n",
       "      <td>22629C</td>\n",
       "      <td>1.95</td>\n",
       "    </tr>\n",
       "    <tr>\n",
       "      <th>103096</th>\n",
       "      <td>RA</td>\n",
       "      <td>203598</td>\n",
       "      <td>09/12/11 12:50</td>\n",
       "      <td>203598</td>\n",
       "      <td>4</td>\n",
       "      <td>23256O</td>\n",
       "      <td>4.15</td>\n",
       "    </tr>\n",
       "  </tbody>\n",
       "</table>\n",
       "<p>103035 rows × 7 columns</p>\n",
       "</div>"
      ],
      "text/plain": [
       "       Country  CustomerID     InvoiceDate  InvoiceNo  Quantity StockCode  \\\n",
       "0           PX      127269   01/12/10 8:28     127269         7    22633V   \n",
       "1           PX      227268   01/12/10 8:34     227268        38    84879M   \n",
       "2           PX      227268   01/12/10 8:34     227268         7    22748P   \n",
       "3           PX      227268   01/12/10 8:34     227268         9    22749K   \n",
       "4           PX      227268   01/12/10 8:34     227268         2    22622G   \n",
       "...        ...         ...             ...        ...       ...       ...   \n",
       "103092      PX        3600  09/12/11 12:31       3600         4    23328X   \n",
       "103093      RA      203598  09/12/11 12:50     203598        14    22556N   \n",
       "103094      RA      203598  09/12/11 12:50     203598         9    22367K   \n",
       "103095      RA      203598  09/12/11 12:50     203598        14    22629C   \n",
       "103096      RA      203598  09/12/11 12:50     203598         4    23256O   \n",
       "\n",
       "        UnitPrice  \n",
       "0            1.85  \n",
       "1            1.69  \n",
       "2            2.10  \n",
       "3            3.75  \n",
       "4            9.95  \n",
       "...           ...  \n",
       "103092       3.75  \n",
       "103093       1.65  \n",
       "103094       1.95  \n",
       "103095       1.95  \n",
       "103096       4.15  \n",
       "\n",
       "[103035 rows x 7 columns]"
      ]
     },
     "execution_count": 85,
     "metadata": {},
     "output_type": "execute_result"
    }
   ],
   "source": [
    "test[test['StockCode'].isin(train['StockCode'].unique())]"
   ]
  },
  {
   "cell_type": "code",
   "execution_count": 86,
   "metadata": {
    "scrolled": false
   },
   "outputs": [
    {
     "data": {
      "text/plain": [
       "50"
      ]
     },
     "execution_count": 86,
     "metadata": {},
     "output_type": "execute_result"
    }
   ],
   "source": [
    "test[~test['StockCode'].isin(train['StockCode'].unique())]['StockCode'].nunique()"
   ]
  },
  {
   "cell_type": "code",
   "execution_count": 87,
   "metadata": {},
   "outputs": [
    {
     "data": {
      "text/html": [
       "<div>\n",
       "<style scoped>\n",
       "    .dataframe tbody tr th:only-of-type {\n",
       "        vertical-align: middle;\n",
       "    }\n",
       "\n",
       "    .dataframe tbody tr th {\n",
       "        vertical-align: top;\n",
       "    }\n",
       "\n",
       "    .dataframe thead th {\n",
       "        text-align: right;\n",
       "    }\n",
       "</style>\n",
       "<table border=\"1\" class=\"dataframe\">\n",
       "  <thead>\n",
       "    <tr style=\"text-align: right;\">\n",
       "      <th></th>\n",
       "      <th>Country</th>\n",
       "      <th>CustomerID</th>\n",
       "      <th>InvoiceDate</th>\n",
       "      <th>InvoiceNo</th>\n",
       "      <th>Quantity</th>\n",
       "      <th>StockCode</th>\n",
       "      <th>UnitPrice</th>\n",
       "    </tr>\n",
       "  </thead>\n",
       "  <tbody>\n",
       "    <tr>\n",
       "      <th>0</th>\n",
       "      <td>PX</td>\n",
       "      <td>27270</td>\n",
       "      <td>01/12/10 8:26</td>\n",
       "      <td>27270</td>\n",
       "      <td>7</td>\n",
       "      <td>85123AY</td>\n",
       "      <td>2.55</td>\n",
       "    </tr>\n",
       "    <tr>\n",
       "      <th>1</th>\n",
       "      <td>PX</td>\n",
       "      <td>27270</td>\n",
       "      <td>01/12/10 8:26</td>\n",
       "      <td>27270</td>\n",
       "      <td>7</td>\n",
       "      <td>71053R</td>\n",
       "      <td>3.39</td>\n",
       "    </tr>\n",
       "    <tr>\n",
       "      <th>2</th>\n",
       "      <td>PX</td>\n",
       "      <td>27270</td>\n",
       "      <td>01/12/10 8:26</td>\n",
       "      <td>27270</td>\n",
       "      <td>9</td>\n",
       "      <td>84406BH</td>\n",
       "      <td>2.75</td>\n",
       "    </tr>\n",
       "    <tr>\n",
       "      <th>3</th>\n",
       "      <td>PX</td>\n",
       "      <td>27270</td>\n",
       "      <td>01/12/10 8:26</td>\n",
       "      <td>27270</td>\n",
       "      <td>7</td>\n",
       "      <td>84029GV</td>\n",
       "      <td>3.39</td>\n",
       "    </tr>\n",
       "    <tr>\n",
       "      <th>4</th>\n",
       "      <td>PX</td>\n",
       "      <td>27270</td>\n",
       "      <td>01/12/10 8:26</td>\n",
       "      <td>27270</td>\n",
       "      <td>7</td>\n",
       "      <td>84029EX</td>\n",
       "      <td>3.39</td>\n",
       "    </tr>\n",
       "    <tr>\n",
       "      <th>5</th>\n",
       "      <td>PX</td>\n",
       "      <td>27270</td>\n",
       "      <td>01/12/10 8:26</td>\n",
       "      <td>27270</td>\n",
       "      <td>2</td>\n",
       "      <td>22752G</td>\n",
       "      <td>7.65</td>\n",
       "    </tr>\n",
       "    <tr>\n",
       "      <th>6</th>\n",
       "      <td>PX</td>\n",
       "      <td>27270</td>\n",
       "      <td>01/12/10 8:26</td>\n",
       "      <td>27270</td>\n",
       "      <td>7</td>\n",
       "      <td>21730R</td>\n",
       "      <td>4.25</td>\n",
       "    </tr>\n",
       "    <tr>\n",
       "      <th>7</th>\n",
       "      <td>PX</td>\n",
       "      <td>427266</td>\n",
       "      <td>01/12/10 8:35</td>\n",
       "      <td>427266</td>\n",
       "      <td>3</td>\n",
       "      <td>21756Q</td>\n",
       "      <td>5.95</td>\n",
       "    </tr>\n",
       "    <tr>\n",
       "      <th>8</th>\n",
       "      <td>RA</td>\n",
       "      <td>462735</td>\n",
       "      <td>01/12/10 8:45</td>\n",
       "      <td>462735</td>\n",
       "      <td>28</td>\n",
       "      <td>22728B</td>\n",
       "      <td>3.75</td>\n",
       "    </tr>\n",
       "    <tr>\n",
       "      <th>9</th>\n",
       "      <td>RA</td>\n",
       "      <td>462735</td>\n",
       "      <td>01/12/10 8:45</td>\n",
       "      <td>462735</td>\n",
       "      <td>28</td>\n",
       "      <td>22727B</td>\n",
       "      <td>3.75</td>\n",
       "    </tr>\n",
       "    <tr>\n",
       "      <th>10</th>\n",
       "      <td>RA</td>\n",
       "      <td>462735</td>\n",
       "      <td>01/12/10 8:45</td>\n",
       "      <td>462735</td>\n",
       "      <td>14</td>\n",
       "      <td>22726C</td>\n",
       "      <td>3.75</td>\n",
       "    </tr>\n",
       "    <tr>\n",
       "      <th>11</th>\n",
       "      <td>RA</td>\n",
       "      <td>462735</td>\n",
       "      <td>01/12/10 8:45</td>\n",
       "      <td>462735</td>\n",
       "      <td>14</td>\n",
       "      <td>21724T</td>\n",
       "      <td>0.85</td>\n",
       "    </tr>\n",
       "    <tr>\n",
       "      <th>12</th>\n",
       "      <td>RA</td>\n",
       "      <td>462735</td>\n",
       "      <td>01/12/10 8:45</td>\n",
       "      <td>462735</td>\n",
       "      <td>28</td>\n",
       "      <td>21883V</td>\n",
       "      <td>0.65</td>\n",
       "    </tr>\n",
       "    <tr>\n",
       "      <th>13</th>\n",
       "      <td>RA</td>\n",
       "      <td>462735</td>\n",
       "      <td>01/12/10 8:45</td>\n",
       "      <td>462735</td>\n",
       "      <td>57</td>\n",
       "      <td>10002F</td>\n",
       "      <td>0.85</td>\n",
       "    </tr>\n",
       "    <tr>\n",
       "      <th>14</th>\n",
       "      <td>RA</td>\n",
       "      <td>462735</td>\n",
       "      <td>01/12/10 8:45</td>\n",
       "      <td>462735</td>\n",
       "      <td>28</td>\n",
       "      <td>21791H</td>\n",
       "      <td>1.25</td>\n",
       "    </tr>\n",
       "    <tr>\n",
       "      <th>15</th>\n",
       "      <td>RA</td>\n",
       "      <td>462735</td>\n",
       "      <td>01/12/10 8:45</td>\n",
       "      <td>462735</td>\n",
       "      <td>21</td>\n",
       "      <td>21035O</td>\n",
       "      <td>2.95</td>\n",
       "    </tr>\n",
       "    <tr>\n",
       "      <th>16</th>\n",
       "      <td>RA</td>\n",
       "      <td>462735</td>\n",
       "      <td>01/12/10 8:45</td>\n",
       "      <td>462735</td>\n",
       "      <td>28</td>\n",
       "      <td>22326L</td>\n",
       "      <td>2.95</td>\n",
       "    </tr>\n",
       "    <tr>\n",
       "      <th>17</th>\n",
       "      <td>RA</td>\n",
       "      <td>462735</td>\n",
       "      <td>01/12/10 8:45</td>\n",
       "      <td>462735</td>\n",
       "      <td>28</td>\n",
       "      <td>22629C</td>\n",
       "      <td>1.95</td>\n",
       "    </tr>\n",
       "    <tr>\n",
       "      <th>18</th>\n",
       "      <td>RA</td>\n",
       "      <td>462735</td>\n",
       "      <td>01/12/10 8:45</td>\n",
       "      <td>462735</td>\n",
       "      <td>28</td>\n",
       "      <td>22659F</td>\n",
       "      <td>1.95</td>\n",
       "    </tr>\n",
       "    <tr>\n",
       "      <th>19</th>\n",
       "      <td>RA</td>\n",
       "      <td>462735</td>\n",
       "      <td>01/12/10 8:45</td>\n",
       "      <td>462735</td>\n",
       "      <td>28</td>\n",
       "      <td>22631M</td>\n",
       "      <td>1.95</td>\n",
       "    </tr>\n",
       "    <tr>\n",
       "      <th>20</th>\n",
       "      <td>RA</td>\n",
       "      <td>462735</td>\n",
       "      <td>01/12/10 8:45</td>\n",
       "      <td>462735</td>\n",
       "      <td>24</td>\n",
       "      <td>22661W</td>\n",
       "      <td>0.85</td>\n",
       "    </tr>\n",
       "    <tr>\n",
       "      <th>21</th>\n",
       "      <td>RA</td>\n",
       "      <td>462735</td>\n",
       "      <td>01/12/10 8:45</td>\n",
       "      <td>462735</td>\n",
       "      <td>28</td>\n",
       "      <td>21731V</td>\n",
       "      <td>1.65</td>\n",
       "    </tr>\n",
       "    <tr>\n",
       "      <th>22</th>\n",
       "      <td>RA</td>\n",
       "      <td>462735</td>\n",
       "      <td>01/12/10 8:45</td>\n",
       "      <td>462735</td>\n",
       "      <td>28</td>\n",
       "      <td>22900U</td>\n",
       "      <td>2.95</td>\n",
       "    </tr>\n",
       "    <tr>\n",
       "      <th>23</th>\n",
       "      <td>RA</td>\n",
       "      <td>462735</td>\n",
       "      <td>01/12/10 8:45</td>\n",
       "      <td>462735</td>\n",
       "      <td>14</td>\n",
       "      <td>21913C</td>\n",
       "      <td>3.75</td>\n",
       "    </tr>\n",
       "    <tr>\n",
       "      <th>24</th>\n",
       "      <td>RA</td>\n",
       "      <td>462735</td>\n",
       "      <td>01/12/10 8:45</td>\n",
       "      <td>462735</td>\n",
       "      <td>28</td>\n",
       "      <td>22540W</td>\n",
       "      <td>0.42</td>\n",
       "    </tr>\n",
       "    <tr>\n",
       "      <th>25</th>\n",
       "      <td>RA</td>\n",
       "      <td>462735</td>\n",
       "      <td>01/12/10 8:45</td>\n",
       "      <td>462735</td>\n",
       "      <td>28</td>\n",
       "      <td>22544C</td>\n",
       "      <td>0.42</td>\n",
       "    </tr>\n",
       "    <tr>\n",
       "      <th>26</th>\n",
       "      <td>RA</td>\n",
       "      <td>462735</td>\n",
       "      <td>01/12/10 8:45</td>\n",
       "      <td>462735</td>\n",
       "      <td>43</td>\n",
       "      <td>22492E</td>\n",
       "      <td>0.65</td>\n",
       "    </tr>\n",
       "    <tr>\n",
       "      <th>27</th>\n",
       "      <td>PX</td>\n",
       "      <td>262737</td>\n",
       "      <td>01/12/10 9:01</td>\n",
       "      <td>262737</td>\n",
       "      <td>7</td>\n",
       "      <td>22632O</td>\n",
       "      <td>1.85</td>\n",
       "    </tr>\n",
       "    <tr>\n",
       "      <th>28</th>\n",
       "      <td>PX</td>\n",
       "      <td>262737</td>\n",
       "      <td>01/12/10 9:01</td>\n",
       "      <td>262737</td>\n",
       "      <td>7</td>\n",
       "      <td>22633V</td>\n",
       "      <td>1.85</td>\n",
       "    </tr>\n",
       "    <tr>\n",
       "      <th>29</th>\n",
       "      <td>PX</td>\n",
       "      <td>62739</td>\n",
       "      <td>01/12/10 9:09</td>\n",
       "      <td>62739</td>\n",
       "      <td>38</td>\n",
       "      <td>21258H</td>\n",
       "      <td>10.95</td>\n",
       "    </tr>\n",
       "    <tr>\n",
       "      <th>...</th>\n",
       "      <td>...</td>\n",
       "      <td>...</td>\n",
       "      <td>...</td>\n",
       "      <td>...</td>\n",
       "      <td>...</td>\n",
       "      <td>...</td>\n",
       "      <td>...</td>\n",
       "    </tr>\n",
       "    <tr>\n",
       "      <th>330545</th>\n",
       "      <td>PX</td>\n",
       "      <td>496395</td>\n",
       "      <td>09/12/11 12:20</td>\n",
       "      <td>496395</td>\n",
       "      <td>1</td>\n",
       "      <td>22906G</td>\n",
       "      <td>1.65</td>\n",
       "    </tr>\n",
       "    <tr>\n",
       "      <th>330546</th>\n",
       "      <td>PX</td>\n",
       "      <td>496395</td>\n",
       "      <td>09/12/11 12:20</td>\n",
       "      <td>496395</td>\n",
       "      <td>2</td>\n",
       "      <td>21803X</td>\n",
       "      <td>0.42</td>\n",
       "    </tr>\n",
       "    <tr>\n",
       "      <th>330547</th>\n",
       "      <td>PX</td>\n",
       "      <td>496395</td>\n",
       "      <td>09/12/11 12:20</td>\n",
       "      <td>496395</td>\n",
       "      <td>2</td>\n",
       "      <td>21809L</td>\n",
       "      <td>0.39</td>\n",
       "    </tr>\n",
       "    <tr>\n",
       "      <th>330548</th>\n",
       "      <td>PX</td>\n",
       "      <td>496395</td>\n",
       "      <td>09/12/11 12:20</td>\n",
       "      <td>496395</td>\n",
       "      <td>1</td>\n",
       "      <td>20974J</td>\n",
       "      <td>0.65</td>\n",
       "    </tr>\n",
       "    <tr>\n",
       "      <th>330549</th>\n",
       "      <td>PX</td>\n",
       "      <td>496395</td>\n",
       "      <td>09/12/11 12:20</td>\n",
       "      <td>496395</td>\n",
       "      <td>1</td>\n",
       "      <td>23338J</td>\n",
       "      <td>2.08</td>\n",
       "    </tr>\n",
       "    <tr>\n",
       "      <th>330550</th>\n",
       "      <td>PX</td>\n",
       "      <td>496395</td>\n",
       "      <td>09/12/11 12:20</td>\n",
       "      <td>496395</td>\n",
       "      <td>1</td>\n",
       "      <td>85049AF</td>\n",
       "      <td>1.25</td>\n",
       "    </tr>\n",
       "    <tr>\n",
       "      <th>330551</th>\n",
       "      <td>PX</td>\n",
       "      <td>496395</td>\n",
       "      <td>09/12/11 12:20</td>\n",
       "      <td>496395</td>\n",
       "      <td>1</td>\n",
       "      <td>23126J</td>\n",
       "      <td>4.95</td>\n",
       "    </tr>\n",
       "    <tr>\n",
       "      <th>330552</th>\n",
       "      <td>PX</td>\n",
       "      <td>496395</td>\n",
       "      <td>09/12/11 12:20</td>\n",
       "      <td>496395</td>\n",
       "      <td>1</td>\n",
       "      <td>22695M</td>\n",
       "      <td>0.59</td>\n",
       "    </tr>\n",
       "    <tr>\n",
       "      <th>330553</th>\n",
       "      <td>PX</td>\n",
       "      <td>496395</td>\n",
       "      <td>09/12/11 12:20</td>\n",
       "      <td>496395</td>\n",
       "      <td>1</td>\n",
       "      <td>22144E</td>\n",
       "      <td>2.10</td>\n",
       "    </tr>\n",
       "    <tr>\n",
       "      <th>330554</th>\n",
       "      <td>PX</td>\n",
       "      <td>496395</td>\n",
       "      <td>09/12/11 12:20</td>\n",
       "      <td>496395</td>\n",
       "      <td>2</td>\n",
       "      <td>22908G</td>\n",
       "      <td>0.85</td>\n",
       "    </tr>\n",
       "    <tr>\n",
       "      <th>330555</th>\n",
       "      <td>PX</td>\n",
       "      <td>496395</td>\n",
       "      <td>09/12/11 12:20</td>\n",
       "      <td>496395</td>\n",
       "      <td>2</td>\n",
       "      <td>22894Q</td>\n",
       "      <td>9.95</td>\n",
       "    </tr>\n",
       "    <tr>\n",
       "      <th>330556</th>\n",
       "      <td>PX</td>\n",
       "      <td>496395</td>\n",
       "      <td>09/12/11 12:20</td>\n",
       "      <td>496395</td>\n",
       "      <td>30</td>\n",
       "      <td>22704P</td>\n",
       "      <td>0.42</td>\n",
       "    </tr>\n",
       "    <tr>\n",
       "      <th>330557</th>\n",
       "      <td>PX</td>\n",
       "      <td>496395</td>\n",
       "      <td>09/12/11 12:20</td>\n",
       "      <td>496395</td>\n",
       "      <td>1</td>\n",
       "      <td>22721T</td>\n",
       "      <td>1.95</td>\n",
       "    </tr>\n",
       "    <tr>\n",
       "      <th>330558</th>\n",
       "      <td>PX</td>\n",
       "      <td>496395</td>\n",
       "      <td>09/12/11 12:20</td>\n",
       "      <td>496395</td>\n",
       "      <td>28</td>\n",
       "      <td>22816Q</td>\n",
       "      <td>0.42</td>\n",
       "    </tr>\n",
       "    <tr>\n",
       "      <th>330559</th>\n",
       "      <td>PX</td>\n",
       "      <td>496395</td>\n",
       "      <td>09/12/11 12:20</td>\n",
       "      <td>496395</td>\n",
       "      <td>2</td>\n",
       "      <td>85049EP</td>\n",
       "      <td>1.25</td>\n",
       "    </tr>\n",
       "    <tr>\n",
       "      <th>330560</th>\n",
       "      <td>PX</td>\n",
       "      <td>496395</td>\n",
       "      <td>09/12/11 12:20</td>\n",
       "      <td>496395</td>\n",
       "      <td>2</td>\n",
       "      <td>22075W</td>\n",
       "      <td>0.39</td>\n",
       "    </tr>\n",
       "    <tr>\n",
       "      <th>330561</th>\n",
       "      <td>PX</td>\n",
       "      <td>496395</td>\n",
       "      <td>09/12/11 12:20</td>\n",
       "      <td>496395</td>\n",
       "      <td>1</td>\n",
       "      <td>21351H</td>\n",
       "      <td>6.75</td>\n",
       "    </tr>\n",
       "    <tr>\n",
       "      <th>330562</th>\n",
       "      <td>PX</td>\n",
       "      <td>496395</td>\n",
       "      <td>09/12/11 12:20</td>\n",
       "      <td>496395</td>\n",
       "      <td>1</td>\n",
       "      <td>22698C</td>\n",
       "      <td>2.95</td>\n",
       "    </tr>\n",
       "    <tr>\n",
       "      <th>330563</th>\n",
       "      <td>PX</td>\n",
       "      <td>496395</td>\n",
       "      <td>09/12/11 12:20</td>\n",
       "      <td>496395</td>\n",
       "      <td>1</td>\n",
       "      <td>22567D</td>\n",
       "      <td>1.45</td>\n",
       "    </tr>\n",
       "    <tr>\n",
       "      <th>330564</th>\n",
       "      <td>PX</td>\n",
       "      <td>496395</td>\n",
       "      <td>09/12/11 12:20</td>\n",
       "      <td>496395</td>\n",
       "      <td>2</td>\n",
       "      <td>79321V</td>\n",
       "      <td>5.75</td>\n",
       "    </tr>\n",
       "    <tr>\n",
       "      <th>330565</th>\n",
       "      <td>PX</td>\n",
       "      <td>496395</td>\n",
       "      <td>09/12/11 12:20</td>\n",
       "      <td>496395</td>\n",
       "      <td>1</td>\n",
       "      <td>37500D</td>\n",
       "      <td>4.95</td>\n",
       "    </tr>\n",
       "    <tr>\n",
       "      <th>330566</th>\n",
       "      <td>PX</td>\n",
       "      <td>396396</td>\n",
       "      <td>09/12/11 12:20</td>\n",
       "      <td>396396</td>\n",
       "      <td>7</td>\n",
       "      <td>23562I</td>\n",
       "      <td>2.89</td>\n",
       "    </tr>\n",
       "    <tr>\n",
       "      <th>330567</th>\n",
       "      <td>PX</td>\n",
       "      <td>396396</td>\n",
       "      <td>09/12/11 12:20</td>\n",
       "      <td>396396</td>\n",
       "      <td>7</td>\n",
       "      <td>23561C</td>\n",
       "      <td>2.89</td>\n",
       "    </tr>\n",
       "    <tr>\n",
       "      <th>330568</th>\n",
       "      <td>PX</td>\n",
       "      <td>396396</td>\n",
       "      <td>09/12/11 12:20</td>\n",
       "      <td>396396</td>\n",
       "      <td>12</td>\n",
       "      <td>23681Y</td>\n",
       "      <td>1.65</td>\n",
       "    </tr>\n",
       "    <tr>\n",
       "      <th>330569</th>\n",
       "      <td>PX</td>\n",
       "      <td>296397</td>\n",
       "      <td>09/12/11 12:21</td>\n",
       "      <td>296397</td>\n",
       "      <td>7</td>\n",
       "      <td>23552T</td>\n",
       "      <td>2.08</td>\n",
       "    </tr>\n",
       "    <tr>\n",
       "      <th>330570</th>\n",
       "      <td>PX</td>\n",
       "      <td>296397</td>\n",
       "      <td>09/12/11 12:21</td>\n",
       "      <td>296397</td>\n",
       "      <td>14</td>\n",
       "      <td>23498F</td>\n",
       "      <td>1.45</td>\n",
       "    </tr>\n",
       "    <tr>\n",
       "      <th>330571</th>\n",
       "      <td>PX</td>\n",
       "      <td>103599</td>\n",
       "      <td>09/12/11 12:49</td>\n",
       "      <td>103599</td>\n",
       "      <td>9</td>\n",
       "      <td>22061J</td>\n",
       "      <td>2.95</td>\n",
       "    </tr>\n",
       "    <tr>\n",
       "      <th>330572</th>\n",
       "      <td>PX</td>\n",
       "      <td>103599</td>\n",
       "      <td>09/12/11 12:49</td>\n",
       "      <td>103599</td>\n",
       "      <td>28</td>\n",
       "      <td>23275I</td>\n",
       "      <td>1.25</td>\n",
       "    </tr>\n",
       "    <tr>\n",
       "      <th>330573</th>\n",
       "      <td>PX</td>\n",
       "      <td>103599</td>\n",
       "      <td>09/12/11 12:49</td>\n",
       "      <td>103599</td>\n",
       "      <td>28</td>\n",
       "      <td>21217W</td>\n",
       "      <td>8.95</td>\n",
       "    </tr>\n",
       "    <tr>\n",
       "      <th>330574</th>\n",
       "      <td>PX</td>\n",
       "      <td>103599</td>\n",
       "      <td>09/12/11 12:49</td>\n",
       "      <td>103599</td>\n",
       "      <td>12</td>\n",
       "      <td>20685H</td>\n",
       "      <td>7.08</td>\n",
       "    </tr>\n",
       "  </tbody>\n",
       "</table>\n",
       "<p>329492 rows × 7 columns</p>\n",
       "</div>"
      ],
      "text/plain": [
       "       Country  CustomerID     InvoiceDate  InvoiceNo  Quantity StockCode  \\\n",
       "0           PX       27270   01/12/10 8:26      27270         7   85123AY   \n",
       "1           PX       27270   01/12/10 8:26      27270         7    71053R   \n",
       "2           PX       27270   01/12/10 8:26      27270         9   84406BH   \n",
       "3           PX       27270   01/12/10 8:26      27270         7   84029GV   \n",
       "4           PX       27270   01/12/10 8:26      27270         7   84029EX   \n",
       "...        ...         ...             ...        ...       ...       ...   \n",
       "330570      PX      296397  09/12/11 12:21     296397        14    23498F   \n",
       "330571      PX      103599  09/12/11 12:49     103599         9    22061J   \n",
       "330572      PX      103599  09/12/11 12:49     103599        28    23275I   \n",
       "330573      PX      103599  09/12/11 12:49     103599        28    21217W   \n",
       "330574      PX      103599  09/12/11 12:49     103599        12    20685H   \n",
       "\n",
       "        UnitPrice  \n",
       "0            2.55  \n",
       "1            3.39  \n",
       "2            2.75  \n",
       "3            3.39  \n",
       "4            3.39  \n",
       "...           ...  \n",
       "330570       1.45  \n",
       "330571       2.95  \n",
       "330572       1.25  \n",
       "330573       8.95  \n",
       "330574       7.08  \n",
       "\n",
       "[329492 rows x 7 columns]"
      ]
     },
     "execution_count": 87,
     "metadata": {},
     "output_type": "execute_result"
    }
   ],
   "source": [
    "train[train['StockCode'].isin(test['StockCode'].unique())]"
   ]
  },
  {
   "cell_type": "code",
   "execution_count": 88,
   "metadata": {
    "scrolled": true
   },
   "outputs": [
    {
     "data": {
      "text/plain": [
       "338"
      ]
     },
     "execution_count": 88,
     "metadata": {},
     "output_type": "execute_result"
    }
   ],
   "source": [
    "train[~train['StockCode'].isin(test['StockCode'].unique())]['StockCode'].nunique()"
   ]
  },
  {
   "cell_type": "code",
   "execution_count": 89,
   "metadata": {},
   "outputs": [],
   "source": [
    "## 338 extra stockcodes in train, while 50 new in test"
   ]
  },
  {
   "cell_type": "code",
   "execution_count": 90,
   "metadata": {},
   "outputs": [],
   "source": [
    "## extra stockcodes can be related by unit_price"
   ]
  },
  {
   "cell_type": "code",
   "execution_count": 91,
   "metadata": {},
   "outputs": [
    {
     "data": {
      "text/html": [
       "<div>\n",
       "<style scoped>\n",
       "    .dataframe tbody tr th:only-of-type {\n",
       "        vertical-align: middle;\n",
       "    }\n",
       "\n",
       "    .dataframe tbody tr th {\n",
       "        vertical-align: top;\n",
       "    }\n",
       "\n",
       "    .dataframe thead th {\n",
       "        text-align: right;\n",
       "    }\n",
       "</style>\n",
       "<table border=\"1\" class=\"dataframe\">\n",
       "  <thead>\n",
       "    <tr style=\"text-align: right;\">\n",
       "      <th></th>\n",
       "      <th>Country</th>\n",
       "      <th>CustomerID</th>\n",
       "      <th>InvoiceDate</th>\n",
       "      <th>InvoiceNo</th>\n",
       "      <th>Quantity</th>\n",
       "      <th>StockCode</th>\n",
       "      <th>UnitPrice</th>\n",
       "    </tr>\n",
       "  </thead>\n",
       "  <tbody>\n",
       "    <tr>\n",
       "      <th>710</th>\n",
       "      <td>PX</td>\n",
       "      <td>69129</td>\n",
       "      <td>01/12/10 12:38</td>\n",
       "      <td>69129</td>\n",
       "      <td>-6</td>\n",
       "      <td>22960K</td>\n",
       "      <td>4.25</td>\n",
       "    </tr>\n",
       "    <tr>\n",
       "      <th>1070</th>\n",
       "      <td>PX</td>\n",
       "      <td>190908</td>\n",
       "      <td>01/12/10 14:30</td>\n",
       "      <td>190908</td>\n",
       "      <td>-1</td>\n",
       "      <td>22632O</td>\n",
       "      <td>2.10</td>\n",
       "    </tr>\n",
       "    <tr>\n",
       "      <th>1071</th>\n",
       "      <td>PX</td>\n",
       "      <td>190908</td>\n",
       "      <td>01/12/10 14:30</td>\n",
       "      <td>190908</td>\n",
       "      <td>-2</td>\n",
       "      <td>22355U</td>\n",
       "      <td>0.85</td>\n",
       "    </tr>\n",
       "    <tr>\n",
       "      <th>2048</th>\n",
       "      <td>GJ</td>\n",
       "      <td>309987</td>\n",
       "      <td>02/12/10 10:37</td>\n",
       "      <td>309987</td>\n",
       "      <td>-2</td>\n",
       "      <td>22752G</td>\n",
       "      <td>8.50</td>\n",
       "    </tr>\n",
       "    <tr>\n",
       "      <th>2098</th>\n",
       "      <td>PX</td>\n",
       "      <td>9990</td>\n",
       "      <td>02/12/10 10:46</td>\n",
       "      <td>9990</td>\n",
       "      <td>-2</td>\n",
       "      <td>22839T</td>\n",
       "      <td>14.95</td>\n",
       "    </tr>\n",
       "    <tr>\n",
       "      <th>2348</th>\n",
       "      <td>PX</td>\n",
       "      <td>290007</td>\n",
       "      <td>02/12/10 11:56</td>\n",
       "      <td>290007</td>\n",
       "      <td>-1</td>\n",
       "      <td>21463L</td>\n",
       "      <td>5.95</td>\n",
       "    </tr>\n",
       "    <tr>\n",
       "      <th>2521</th>\n",
       "      <td>PX</td>\n",
       "      <td>99099</td>\n",
       "      <td>02/12/10 12:50</td>\n",
       "      <td>99099</td>\n",
       "      <td>-4</td>\n",
       "      <td>22780U</td>\n",
       "      <td>4.25</td>\n",
       "    </tr>\n",
       "    <tr>\n",
       "      <th>2522</th>\n",
       "      <td>PX</td>\n",
       "      <td>99099</td>\n",
       "      <td>02/12/10 12:50</td>\n",
       "      <td>99099</td>\n",
       "      <td>-1</td>\n",
       "      <td>85048L</td>\n",
       "      <td>7.95</td>\n",
       "    </tr>\n",
       "    <tr>\n",
       "      <th>2524</th>\n",
       "      <td>PX</td>\n",
       "      <td>200898</td>\n",
       "      <td>02/12/10 13:05</td>\n",
       "      <td>200898</td>\n",
       "      <td>-2</td>\n",
       "      <td>22798I</td>\n",
       "      <td>2.95</td>\n",
       "    </tr>\n",
       "    <tr>\n",
       "      <th>2850</th>\n",
       "      <td>PX</td>\n",
       "      <td>220878</td>\n",
       "      <td>02/12/10 14:23</td>\n",
       "      <td>220878</td>\n",
       "      <td>-9360</td>\n",
       "      <td>84347V</td>\n",
       "      <td>0.03</td>\n",
       "    </tr>\n",
       "    <tr>\n",
       "      <th>3214</th>\n",
       "      <td>PX</td>\n",
       "      <td>318177</td>\n",
       "      <td>02/12/10 16:58</td>\n",
       "      <td>318177</td>\n",
       "      <td>-36</td>\n",
       "      <td>22578A</td>\n",
       "      <td>0.85</td>\n",
       "    </tr>\n",
       "    <tr>\n",
       "      <th>3215</th>\n",
       "      <td>PX</td>\n",
       "      <td>318177</td>\n",
       "      <td>02/12/10 16:58</td>\n",
       "      <td>318177</td>\n",
       "      <td>-192</td>\n",
       "      <td>22574T</td>\n",
       "      <td>0.72</td>\n",
       "    </tr>\n",
       "    <tr>\n",
       "      <th>3216</th>\n",
       "      <td>PX</td>\n",
       "      <td>318177</td>\n",
       "      <td>02/12/10 16:58</td>\n",
       "      <td>318177</td>\n",
       "      <td>-144</td>\n",
       "      <td>22593E</td>\n",
       "      <td>0.72</td>\n",
       "    </tr>\n",
       "    <tr>\n",
       "      <th>3217</th>\n",
       "      <td>PX</td>\n",
       "      <td>318177</td>\n",
       "      <td>02/12/10 16:58</td>\n",
       "      <td>318177</td>\n",
       "      <td>-144</td>\n",
       "      <td>22595D</td>\n",
       "      <td>0.72</td>\n",
       "    </tr>\n",
       "    <tr>\n",
       "      <th>3218</th>\n",
       "      <td>PX</td>\n",
       "      <td>318177</td>\n",
       "      <td>02/12/10 16:58</td>\n",
       "      <td>318177</td>\n",
       "      <td>-192</td>\n",
       "      <td>22588W</td>\n",
       "      <td>2.10</td>\n",
       "    </tr>\n",
       "    <tr>\n",
       "      <th>3219</th>\n",
       "      <td>PX</td>\n",
       "      <td>318177</td>\n",
       "      <td>02/12/10 16:58</td>\n",
       "      <td>318177</td>\n",
       "      <td>-144</td>\n",
       "      <td>22130P</td>\n",
       "      <td>0.72</td>\n",
       "    </tr>\n",
       "    <tr>\n",
       "      <th>3237</th>\n",
       "      <td>PX</td>\n",
       "      <td>81819</td>\n",
       "      <td>02/12/10 17:06</td>\n",
       "      <td>81819</td>\n",
       "      <td>-2</td>\n",
       "      <td>21129X</td>\n",
       "      <td>6.95</td>\n",
       "    </tr>\n",
       "    <tr>\n",
       "      <th>3238</th>\n",
       "      <td>BC</td>\n",
       "      <td>181818</td>\n",
       "      <td>02/12/10 17:08</td>\n",
       "      <td>181818</td>\n",
       "      <td>-1</td>\n",
       "      <td>22187R</td>\n",
       "      <td>4.25</td>\n",
       "    </tr>\n",
       "    <tr>\n",
       "      <th>3239</th>\n",
       "      <td>BC</td>\n",
       "      <td>181818</td>\n",
       "      <td>02/12/10 17:08</td>\n",
       "      <td>181818</td>\n",
       "      <td>-1</td>\n",
       "      <td>71477B</td>\n",
       "      <td>3.25</td>\n",
       "    </tr>\n",
       "    <tr>\n",
       "      <th>3240</th>\n",
       "      <td>PX</td>\n",
       "      <td>281817</td>\n",
       "      <td>02/12/10 17:09</td>\n",
       "      <td>281817</td>\n",
       "      <td>-1</td>\n",
       "      <td>84947R</td>\n",
       "      <td>1.25</td>\n",
       "    </tr>\n",
       "    <tr>\n",
       "      <th>3258</th>\n",
       "      <td>PX</td>\n",
       "      <td>308187</td>\n",
       "      <td>02/12/10 17:19</td>\n",
       "      <td>308187</td>\n",
       "      <td>-2</td>\n",
       "      <td>22847W</td>\n",
       "      <td>16.95</td>\n",
       "    </tr>\n",
       "    <tr>\n",
       "      <th>3259</th>\n",
       "      <td>PX</td>\n",
       "      <td>308187</td>\n",
       "      <td>02/12/10 17:19</td>\n",
       "      <td>308187</td>\n",
       "      <td>-1</td>\n",
       "      <td>21430A</td>\n",
       "      <td>3.75</td>\n",
       "    </tr>\n",
       "    <tr>\n",
       "      <th>3263</th>\n",
       "      <td>PX</td>\n",
       "      <td>91809</td>\n",
       "      <td>02/12/10 17:30</td>\n",
       "      <td>91809</td>\n",
       "      <td>-2</td>\n",
       "      <td>35004BV</td>\n",
       "      <td>4.65</td>\n",
       "    </tr>\n",
       "    <tr>\n",
       "      <th>3264</th>\n",
       "      <td>PX</td>\n",
       "      <td>91809</td>\n",
       "      <td>02/12/10 17:30</td>\n",
       "      <td>91809</td>\n",
       "      <td>-3</td>\n",
       "      <td>35004BV</td>\n",
       "      <td>4.65</td>\n",
       "    </tr>\n",
       "    <tr>\n",
       "      <th>3265</th>\n",
       "      <td>PX</td>\n",
       "      <td>191808</td>\n",
       "      <td>02/12/10 17:31</td>\n",
       "      <td>191808</td>\n",
       "      <td>-3</td>\n",
       "      <td>21527P</td>\n",
       "      <td>6.95</td>\n",
       "    </tr>\n",
       "    <tr>\n",
       "      <th>3266</th>\n",
       "      <td>PX</td>\n",
       "      <td>291807</td>\n",
       "      <td>02/12/10 17:35</td>\n",
       "      <td>291807</td>\n",
       "      <td>-1</td>\n",
       "      <td>22832Q</td>\n",
       "      <td>10.75</td>\n",
       "    </tr>\n",
       "    <tr>\n",
       "      <th>3267</th>\n",
       "      <td>PX</td>\n",
       "      <td>291807</td>\n",
       "      <td>02/12/10 17:35</td>\n",
       "      <td>291807</td>\n",
       "      <td>-3</td>\n",
       "      <td>84946F</td>\n",
       "      <td>1.25</td>\n",
       "    </tr>\n",
       "    <tr>\n",
       "      <th>3268</th>\n",
       "      <td>PX</td>\n",
       "      <td>391806</td>\n",
       "      <td>02/12/10 17:36</td>\n",
       "      <td>391806</td>\n",
       "      <td>-1</td>\n",
       "      <td>71477B</td>\n",
       "      <td>3.25</td>\n",
       "    </tr>\n",
       "    <tr>\n",
       "      <th>3508</th>\n",
       "      <td>PX</td>\n",
       "      <td>478215</td>\n",
       "      <td>03/12/10 9:47</td>\n",
       "      <td>478215</td>\n",
       "      <td>-48</td>\n",
       "      <td>22942P</td>\n",
       "      <td>7.65</td>\n",
       "    </tr>\n",
       "    <tr>\n",
       "      <th>3509</th>\n",
       "      <td>PX</td>\n",
       "      <td>478215</td>\n",
       "      <td>03/12/10 9:47</td>\n",
       "      <td>478215</td>\n",
       "      <td>-50</td>\n",
       "      <td>22689Q</td>\n",
       "      <td>6.75</td>\n",
       "    </tr>\n",
       "    <tr>\n",
       "      <th>...</th>\n",
       "      <td>...</td>\n",
       "      <td>...</td>\n",
       "      <td>...</td>\n",
       "      <td>...</td>\n",
       "      <td>...</td>\n",
       "      <td>...</td>\n",
       "      <td>...</td>\n",
       "    </tr>\n",
       "    <tr>\n",
       "      <th>328242</th>\n",
       "      <td>GJ</td>\n",
       "      <td>322776</td>\n",
       "      <td>08/12/11 14:08</td>\n",
       "      <td>322776</td>\n",
       "      <td>-1</td>\n",
       "      <td>23114G</td>\n",
       "      <td>4.95</td>\n",
       "    </tr>\n",
       "    <tr>\n",
       "      <th>328243</th>\n",
       "      <td>GJ</td>\n",
       "      <td>322776</td>\n",
       "      <td>08/12/11 14:08</td>\n",
       "      <td>322776</td>\n",
       "      <td>-1</td>\n",
       "      <td>23245W</td>\n",
       "      <td>4.95</td>\n",
       "    </tr>\n",
       "    <tr>\n",
       "      <th>328244</th>\n",
       "      <td>GJ</td>\n",
       "      <td>322776</td>\n",
       "      <td>08/12/11 14:08</td>\n",
       "      <td>322776</td>\n",
       "      <td>-1</td>\n",
       "      <td>23462J</td>\n",
       "      <td>19.95</td>\n",
       "    </tr>\n",
       "    <tr>\n",
       "      <th>328245</th>\n",
       "      <td>GJ</td>\n",
       "      <td>322776</td>\n",
       "      <td>08/12/11 14:08</td>\n",
       "      <td>322776</td>\n",
       "      <td>-1</td>\n",
       "      <td>22781B</td>\n",
       "      <td>7.65</td>\n",
       "    </tr>\n",
       "    <tr>\n",
       "      <th>328246</th>\n",
       "      <td>GJ</td>\n",
       "      <td>322776</td>\n",
       "      <td>08/12/11 14:08</td>\n",
       "      <td>322776</td>\n",
       "      <td>-1</td>\n",
       "      <td>82484O</td>\n",
       "      <td>7.95</td>\n",
       "    </tr>\n",
       "    <tr>\n",
       "      <th>328247</th>\n",
       "      <td>GJ</td>\n",
       "      <td>322776</td>\n",
       "      <td>08/12/11 14:08</td>\n",
       "      <td>322776</td>\n",
       "      <td>-1</td>\n",
       "      <td>82482D</td>\n",
       "      <td>2.95</td>\n",
       "    </tr>\n",
       "    <tr>\n",
       "      <th>328248</th>\n",
       "      <td>GJ</td>\n",
       "      <td>322776</td>\n",
       "      <td>08/12/11 14:08</td>\n",
       "      <td>322776</td>\n",
       "      <td>-2</td>\n",
       "      <td>22173N</td>\n",
       "      <td>3.29</td>\n",
       "    </tr>\n",
       "    <tr>\n",
       "      <th>328249</th>\n",
       "      <td>GJ</td>\n",
       "      <td>322776</td>\n",
       "      <td>08/12/11 14:08</td>\n",
       "      <td>322776</td>\n",
       "      <td>-1</td>\n",
       "      <td>85199LV</td>\n",
       "      <td>0.65</td>\n",
       "    </tr>\n",
       "    <tr>\n",
       "      <th>328250</th>\n",
       "      <td>GJ</td>\n",
       "      <td>322776</td>\n",
       "      <td>08/12/11 14:08</td>\n",
       "      <td>322776</td>\n",
       "      <td>-5</td>\n",
       "      <td>85127T</td>\n",
       "      <td>4.95</td>\n",
       "    </tr>\n",
       "    <tr>\n",
       "      <th>329314</th>\n",
       "      <td>PX</td>\n",
       "      <td>517275</td>\n",
       "      <td>08/12/11 18:48</td>\n",
       "      <td>517275</td>\n",
       "      <td>-5</td>\n",
       "      <td>22197J</td>\n",
       "      <td>0.72</td>\n",
       "    </tr>\n",
       "    <tr>\n",
       "      <th>329315</th>\n",
       "      <td>PX</td>\n",
       "      <td>517275</td>\n",
       "      <td>08/12/11 18:48</td>\n",
       "      <td>517275</td>\n",
       "      <td>-1</td>\n",
       "      <td>22107A</td>\n",
       "      <td>1.25</td>\n",
       "    </tr>\n",
       "    <tr>\n",
       "      <th>329320</th>\n",
       "      <td>PX</td>\n",
       "      <td>317277</td>\n",
       "      <td>08/12/11 18:51</td>\n",
       "      <td>317277</td>\n",
       "      <td>-48</td>\n",
       "      <td>16219C</td>\n",
       "      <td>0.06</td>\n",
       "    </tr>\n",
       "    <tr>\n",
       "      <th>329321</th>\n",
       "      <td>PX</td>\n",
       "      <td>317277</td>\n",
       "      <td>08/12/11 18:51</td>\n",
       "      <td>317277</td>\n",
       "      <td>-72</td>\n",
       "      <td>21642S</td>\n",
       "      <td>0.29</td>\n",
       "    </tr>\n",
       "    <tr>\n",
       "      <th>329322</th>\n",
       "      <td>PX</td>\n",
       "      <td>17280</td>\n",
       "      <td>08/12/11 18:59</td>\n",
       "      <td>17280</td>\n",
       "      <td>-2</td>\n",
       "      <td>23660U</td>\n",
       "      <td>1.65</td>\n",
       "    </tr>\n",
       "    <tr>\n",
       "      <th>329323</th>\n",
       "      <td>PX</td>\n",
       "      <td>17280</td>\n",
       "      <td>08/12/11 18:59</td>\n",
       "      <td>17280</td>\n",
       "      <td>-1</td>\n",
       "      <td>22171T</td>\n",
       "      <td>8.50</td>\n",
       "    </tr>\n",
       "    <tr>\n",
       "      <th>329324</th>\n",
       "      <td>PX</td>\n",
       "      <td>17280</td>\n",
       "      <td>08/12/11 18:59</td>\n",
       "      <td>17280</td>\n",
       "      <td>-4</td>\n",
       "      <td>21876I</td>\n",
       "      <td>1.65</td>\n",
       "    </tr>\n",
       "    <tr>\n",
       "      <th>329325</th>\n",
       "      <td>PX</td>\n",
       "      <td>17280</td>\n",
       "      <td>08/12/11 18:59</td>\n",
       "      <td>17280</td>\n",
       "      <td>-3</td>\n",
       "      <td>20914Q</td>\n",
       "      <td>2.95</td>\n",
       "    </tr>\n",
       "    <tr>\n",
       "      <th>329326</th>\n",
       "      <td>PX</td>\n",
       "      <td>82719</td>\n",
       "      <td>08/12/11 19:20</td>\n",
       "      <td>82719</td>\n",
       "      <td>-1</td>\n",
       "      <td>22838C</td>\n",
       "      <td>14.95</td>\n",
       "    </tr>\n",
       "    <tr>\n",
       "      <th>329327</th>\n",
       "      <td>PX</td>\n",
       "      <td>82719</td>\n",
       "      <td>08/12/11 19:20</td>\n",
       "      <td>82719</td>\n",
       "      <td>-2</td>\n",
       "      <td>22720A</td>\n",
       "      <td>4.95</td>\n",
       "    </tr>\n",
       "    <tr>\n",
       "      <th>329328</th>\n",
       "      <td>PX</td>\n",
       "      <td>82719</td>\n",
       "      <td>08/12/11 19:20</td>\n",
       "      <td>82719</td>\n",
       "      <td>-1</td>\n",
       "      <td>21216B</td>\n",
       "      <td>4.95</td>\n",
       "    </tr>\n",
       "    <tr>\n",
       "      <th>329329</th>\n",
       "      <td>PX</td>\n",
       "      <td>82719</td>\n",
       "      <td>08/12/11 19:20</td>\n",
       "      <td>82719</td>\n",
       "      <td>-2</td>\n",
       "      <td>21535E</td>\n",
       "      <td>2.55</td>\n",
       "    </tr>\n",
       "    <tr>\n",
       "      <th>329330</th>\n",
       "      <td>PX</td>\n",
       "      <td>82719</td>\n",
       "      <td>08/12/11 19:20</td>\n",
       "      <td>82719</td>\n",
       "      <td>-1</td>\n",
       "      <td>21232B</td>\n",
       "      <td>1.25</td>\n",
       "    </tr>\n",
       "    <tr>\n",
       "      <th>329331</th>\n",
       "      <td>PX</td>\n",
       "      <td>282717</td>\n",
       "      <td>08/12/11 19:26</td>\n",
       "      <td>282717</td>\n",
       "      <td>-10</td>\n",
       "      <td>21314Q</td>\n",
       "      <td>2.10</td>\n",
       "    </tr>\n",
       "    <tr>\n",
       "      <th>329332</th>\n",
       "      <td>PX</td>\n",
       "      <td>282717</td>\n",
       "      <td>08/12/11 19:26</td>\n",
       "      <td>282717</td>\n",
       "      <td>-12</td>\n",
       "      <td>22098N</td>\n",
       "      <td>0.39</td>\n",
       "    </tr>\n",
       "    <tr>\n",
       "      <th>329333</th>\n",
       "      <td>PX</td>\n",
       "      <td>507285</td>\n",
       "      <td>08/12/11 19:28</td>\n",
       "      <td>507285</td>\n",
       "      <td>-4</td>\n",
       "      <td>23084M</td>\n",
       "      <td>2.08</td>\n",
       "    </tr>\n",
       "    <tr>\n",
       "      <th>329508</th>\n",
       "      <td>PX</td>\n",
       "      <td>487305</td>\n",
       "      <td>09/12/11 9:57</td>\n",
       "      <td>487305</td>\n",
       "      <td>-12</td>\n",
       "      <td>22178V</td>\n",
       "      <td>1.95</td>\n",
       "    </tr>\n",
       "    <tr>\n",
       "      <th>329509</th>\n",
       "      <td>PX</td>\n",
       "      <td>487305</td>\n",
       "      <td>09/12/11 9:57</td>\n",
       "      <td>487305</td>\n",
       "      <td>-11</td>\n",
       "      <td>23144I</td>\n",
       "      <td>0.83</td>\n",
       "    </tr>\n",
       "    <tr>\n",
       "      <th>330448</th>\n",
       "      <td>PX</td>\n",
       "      <td>283617</td>\n",
       "      <td>09/12/11 11:57</td>\n",
       "      <td>283617</td>\n",
       "      <td>-5</td>\n",
       "      <td>21258H</td>\n",
       "      <td>10.95</td>\n",
       "    </tr>\n",
       "    <tr>\n",
       "      <th>330449</th>\n",
       "      <td>PX</td>\n",
       "      <td>383616</td>\n",
       "      <td>09/12/11 11:58</td>\n",
       "      <td>383616</td>\n",
       "      <td>-1</td>\n",
       "      <td>84978X</td>\n",
       "      <td>1.25</td>\n",
       "    </tr>\n",
       "    <tr>\n",
       "      <th>330450</th>\n",
       "      <td>PX</td>\n",
       "      <td>383616</td>\n",
       "      <td>09/12/11 11:58</td>\n",
       "      <td>383616</td>\n",
       "      <td>-5</td>\n",
       "      <td>20979K</td>\n",
       "      <td>1.25</td>\n",
       "    </tr>\n",
       "  </tbody>\n",
       "</table>\n",
       "<p>5588 rows × 7 columns</p>\n",
       "</div>"
      ],
      "text/plain": [
       "       Country  CustomerID     InvoiceDate  InvoiceNo  Quantity StockCode  \\\n",
       "710         PX       69129  01/12/10 12:38      69129        -6    22960K   \n",
       "1070        PX      190908  01/12/10 14:30     190908        -1    22632O   \n",
       "1071        PX      190908  01/12/10 14:30     190908        -2    22355U   \n",
       "2048        GJ      309987  02/12/10 10:37     309987        -2    22752G   \n",
       "2098        PX        9990  02/12/10 10:46       9990        -2    22839T   \n",
       "...        ...         ...             ...        ...       ...       ...   \n",
       "329508      PX      487305   09/12/11 9:57     487305       -12    22178V   \n",
       "329509      PX      487305   09/12/11 9:57     487305       -11    23144I   \n",
       "330448      PX      283617  09/12/11 11:57     283617        -5    21258H   \n",
       "330449      PX      383616  09/12/11 11:58     383616        -1    84978X   \n",
       "330450      PX      383616  09/12/11 11:58     383616        -5    20979K   \n",
       "\n",
       "        UnitPrice  \n",
       "710          4.25  \n",
       "1070         2.10  \n",
       "1071         0.85  \n",
       "2048         8.50  \n",
       "2098        14.95  \n",
       "...           ...  \n",
       "329508       1.95  \n",
       "329509       0.83  \n",
       "330448      10.95  \n",
       "330449       1.25  \n",
       "330450       1.25  \n",
       "\n",
       "[5588 rows x 7 columns]"
      ]
     },
     "execution_count": 91,
     "metadata": {},
     "output_type": "execute_result"
    }
   ],
   "source": [
    "train[train['Quantity']<=0]"
   ]
  },
  {
   "cell_type": "code",
   "execution_count": 92,
   "metadata": {},
   "outputs": [
    {
     "data": {
      "text/html": [
       "<div>\n",
       "<style scoped>\n",
       "    .dataframe tbody tr th:only-of-type {\n",
       "        vertical-align: middle;\n",
       "    }\n",
       "\n",
       "    .dataframe tbody tr th {\n",
       "        vertical-align: top;\n",
       "    }\n",
       "\n",
       "    .dataframe thead th {\n",
       "        text-align: right;\n",
       "    }\n",
       "</style>\n",
       "<table border=\"1\" class=\"dataframe\">\n",
       "  <thead>\n",
       "    <tr style=\"text-align: right;\">\n",
       "      <th></th>\n",
       "      <th>Country</th>\n",
       "      <th>CustomerID</th>\n",
       "      <th>InvoiceDate</th>\n",
       "      <th>InvoiceNo</th>\n",
       "      <th>Quantity</th>\n",
       "      <th>StockCode</th>\n",
       "      <th>UnitPrice</th>\n",
       "    </tr>\n",
       "  </thead>\n",
       "  <tbody>\n",
       "    <tr>\n",
       "      <th>42</th>\n",
       "      <td>PX</td>\n",
       "      <td>342756</td>\n",
       "      <td>01/12/10 10:24</td>\n",
       "      <td>342756</td>\n",
       "      <td>-12</td>\n",
       "      <td>22556N</td>\n",
       "      <td>1.65</td>\n",
       "    </tr>\n",
       "    <tr>\n",
       "      <th>43</th>\n",
       "      <td>PX</td>\n",
       "      <td>342756</td>\n",
       "      <td>01/12/10 10:24</td>\n",
       "      <td>342756</td>\n",
       "      <td>-24</td>\n",
       "      <td>21983K</td>\n",
       "      <td>0.29</td>\n",
       "    </tr>\n",
       "    <tr>\n",
       "      <th>44</th>\n",
       "      <td>PX</td>\n",
       "      <td>342756</td>\n",
       "      <td>01/12/10 10:24</td>\n",
       "      <td>342756</td>\n",
       "      <td>-24</td>\n",
       "      <td>21980L</td>\n",
       "      <td>0.29</td>\n",
       "    </tr>\n",
       "    <tr>\n",
       "      <th>45</th>\n",
       "      <td>PX</td>\n",
       "      <td>342756</td>\n",
       "      <td>01/12/10 10:24</td>\n",
       "      <td>342756</td>\n",
       "      <td>-12</td>\n",
       "      <td>21484N</td>\n",
       "      <td>3.45</td>\n",
       "    </tr>\n",
       "    <tr>\n",
       "      <th>191</th>\n",
       "      <td>GJ</td>\n",
       "      <td>309087</td>\n",
       "      <td>01/12/10 14:33</td>\n",
       "      <td>309087</td>\n",
       "      <td>-4</td>\n",
       "      <td>22244X</td>\n",
       "      <td>1.95</td>\n",
       "    </tr>\n",
       "    <tr>\n",
       "      <th>192</th>\n",
       "      <td>GJ</td>\n",
       "      <td>309087</td>\n",
       "      <td>01/12/10 14:33</td>\n",
       "      <td>309087</td>\n",
       "      <td>-1</td>\n",
       "      <td>20914Q</td>\n",
       "      <td>2.95</td>\n",
       "    </tr>\n",
       "    <tr>\n",
       "      <th>193</th>\n",
       "      <td>GJ</td>\n",
       "      <td>309087</td>\n",
       "      <td>01/12/10 14:33</td>\n",
       "      <td>309087</td>\n",
       "      <td>-7</td>\n",
       "      <td>22892Z</td>\n",
       "      <td>1.25</td>\n",
       "    </tr>\n",
       "    <tr>\n",
       "      <th>194</th>\n",
       "      <td>GJ</td>\n",
       "      <td>309087</td>\n",
       "      <td>01/12/10 14:33</td>\n",
       "      <td>309087</td>\n",
       "      <td>-1</td>\n",
       "      <td>22654J</td>\n",
       "      <td>5.95</td>\n",
       "    </tr>\n",
       "    <tr>\n",
       "      <th>195</th>\n",
       "      <td>GJ</td>\n",
       "      <td>309087</td>\n",
       "      <td>01/12/10 14:33</td>\n",
       "      <td>309087</td>\n",
       "      <td>-2</td>\n",
       "      <td>22767S</td>\n",
       "      <td>9.95</td>\n",
       "    </tr>\n",
       "    <tr>\n",
       "      <th>196</th>\n",
       "      <td>GJ</td>\n",
       "      <td>309087</td>\n",
       "      <td>01/12/10 14:33</td>\n",
       "      <td>309087</td>\n",
       "      <td>-1</td>\n",
       "      <td>22333G</td>\n",
       "      <td>1.65</td>\n",
       "    </tr>\n",
       "    <tr>\n",
       "      <th>197</th>\n",
       "      <td>GJ</td>\n",
       "      <td>309087</td>\n",
       "      <td>01/12/10 14:33</td>\n",
       "      <td>309087</td>\n",
       "      <td>-2</td>\n",
       "      <td>22245R</td>\n",
       "      <td>0.85</td>\n",
       "    </tr>\n",
       "    <tr>\n",
       "      <th>198</th>\n",
       "      <td>GJ</td>\n",
       "      <td>309087</td>\n",
       "      <td>01/12/10 14:33</td>\n",
       "      <td>309087</td>\n",
       "      <td>-6</td>\n",
       "      <td>22077P</td>\n",
       "      <td>1.65</td>\n",
       "    </tr>\n",
       "    <tr>\n",
       "      <th>199</th>\n",
       "      <td>GJ</td>\n",
       "      <td>309087</td>\n",
       "      <td>01/12/10 14:33</td>\n",
       "      <td>309087</td>\n",
       "      <td>-2</td>\n",
       "      <td>22168R</td>\n",
       "      <td>8.50</td>\n",
       "    </tr>\n",
       "    <tr>\n",
       "      <th>200</th>\n",
       "      <td>GJ</td>\n",
       "      <td>309087</td>\n",
       "      <td>01/12/10 14:33</td>\n",
       "      <td>309087</td>\n",
       "      <td>-3</td>\n",
       "      <td>21218O</td>\n",
       "      <td>3.75</td>\n",
       "    </tr>\n",
       "    <tr>\n",
       "      <th>624</th>\n",
       "      <td>PX</td>\n",
       "      <td>70029</td>\n",
       "      <td>02/12/10 9:10</td>\n",
       "      <td>70029</td>\n",
       "      <td>-2</td>\n",
       "      <td>20914Q</td>\n",
       "      <td>2.95</td>\n",
       "    </tr>\n",
       "    <tr>\n",
       "      <th>720</th>\n",
       "      <td>PX</td>\n",
       "      <td>320877</td>\n",
       "      <td>02/12/10 14:25</td>\n",
       "      <td>320877</td>\n",
       "      <td>-1</td>\n",
       "      <td>21314Q</td>\n",
       "      <td>2.10</td>\n",
       "    </tr>\n",
       "    <tr>\n",
       "      <th>728</th>\n",
       "      <td>PX</td>\n",
       "      <td>469125</td>\n",
       "      <td>02/12/10 14:29</td>\n",
       "      <td>469125</td>\n",
       "      <td>-1</td>\n",
       "      <td>22175U</td>\n",
       "      <td>2.95</td>\n",
       "    </tr>\n",
       "    <tr>\n",
       "      <th>729</th>\n",
       "      <td>PX</td>\n",
       "      <td>469125</td>\n",
       "      <td>02/12/10 14:29</td>\n",
       "      <td>469125</td>\n",
       "      <td>-3</td>\n",
       "      <td>22273M</td>\n",
       "      <td>2.95</td>\n",
       "    </tr>\n",
       "    <tr>\n",
       "      <th>816</th>\n",
       "      <td>PX</td>\n",
       "      <td>171828</td>\n",
       "      <td>02/12/10 16:45</td>\n",
       "      <td>171828</td>\n",
       "      <td>-2</td>\n",
       "      <td>22501Q</td>\n",
       "      <td>9.95</td>\n",
       "    </tr>\n",
       "    <tr>\n",
       "      <th>817</th>\n",
       "      <td>PX</td>\n",
       "      <td>171828</td>\n",
       "      <td>02/12/10 16:45</td>\n",
       "      <td>171828</td>\n",
       "      <td>-1</td>\n",
       "      <td>22778O</td>\n",
       "      <td>3.95</td>\n",
       "    </tr>\n",
       "    <tr>\n",
       "      <th>826</th>\n",
       "      <td>PX</td>\n",
       "      <td>118179</td>\n",
       "      <td>02/12/10 17:03</td>\n",
       "      <td>118179</td>\n",
       "      <td>-6</td>\n",
       "      <td>72799EK</td>\n",
       "      <td>2.95</td>\n",
       "    </tr>\n",
       "    <tr>\n",
       "      <th>827</th>\n",
       "      <td>PX</td>\n",
       "      <td>118179</td>\n",
       "      <td>02/12/10 17:03</td>\n",
       "      <td>118179</td>\n",
       "      <td>-2</td>\n",
       "      <td>85066U</td>\n",
       "      <td>12.75</td>\n",
       "    </tr>\n",
       "    <tr>\n",
       "      <th>828</th>\n",
       "      <td>PX</td>\n",
       "      <td>118179</td>\n",
       "      <td>02/12/10 17:03</td>\n",
       "      <td>118179</td>\n",
       "      <td>-1</td>\n",
       "      <td>21258H</td>\n",
       "      <td>12.75</td>\n",
       "    </tr>\n",
       "    <tr>\n",
       "      <th>829</th>\n",
       "      <td>PX</td>\n",
       "      <td>508185</td>\n",
       "      <td>02/12/10 17:14</td>\n",
       "      <td>508185</td>\n",
       "      <td>-1</td>\n",
       "      <td>22869U</td>\n",
       "      <td>1.95</td>\n",
       "    </tr>\n",
       "    <tr>\n",
       "      <th>830</th>\n",
       "      <td>PX</td>\n",
       "      <td>508185</td>\n",
       "      <td>02/12/10 17:14</td>\n",
       "      <td>508185</td>\n",
       "      <td>-1</td>\n",
       "      <td>22878W</td>\n",
       "      <td>2.10</td>\n",
       "    </tr>\n",
       "    <tr>\n",
       "      <th>874</th>\n",
       "      <td>PX</td>\n",
       "      <td>78219</td>\n",
       "      <td>03/12/10 10:09</td>\n",
       "      <td>78219</td>\n",
       "      <td>-1</td>\n",
       "      <td>21871Y</td>\n",
       "      <td>1.25</td>\n",
       "    </tr>\n",
       "    <tr>\n",
       "      <th>1087</th>\n",
       "      <td>PX</td>\n",
       "      <td>116289</td>\n",
       "      <td>03/12/10 16:21</td>\n",
       "      <td>116289</td>\n",
       "      <td>-36</td>\n",
       "      <td>20893F</td>\n",
       "      <td>2.10</td>\n",
       "    </tr>\n",
       "    <tr>\n",
       "      <th>1099</th>\n",
       "      <td>PX</td>\n",
       "      <td>306297</td>\n",
       "      <td>03/12/10 16:50</td>\n",
       "      <td>306297</td>\n",
       "      <td>-30</td>\n",
       "      <td>21275D</td>\n",
       "      <td>0.00</td>\n",
       "    </tr>\n",
       "    <tr>\n",
       "      <th>1124</th>\n",
       "      <td>PX</td>\n",
       "      <td>196308</td>\n",
       "      <td>05/12/10 10:48</td>\n",
       "      <td>196308</td>\n",
       "      <td>-6</td>\n",
       "      <td>22575Y</td>\n",
       "      <td>1.95</td>\n",
       "    </tr>\n",
       "    <tr>\n",
       "      <th>1125</th>\n",
       "      <td>PX</td>\n",
       "      <td>196308</td>\n",
       "      <td>05/12/10 10:48</td>\n",
       "      <td>196308</td>\n",
       "      <td>-1</td>\n",
       "      <td>11001M</td>\n",
       "      <td>1.69</td>\n",
       "    </tr>\n",
       "    <tr>\n",
       "      <th>...</th>\n",
       "      <td>...</td>\n",
       "      <td>...</td>\n",
       "      <td>...</td>\n",
       "      <td>...</td>\n",
       "      <td>...</td>\n",
       "      <td>...</td>\n",
       "      <td>...</td>\n",
       "    </tr>\n",
       "    <tr>\n",
       "      <th>101607</th>\n",
       "      <td>PX</td>\n",
       "      <td>121869</td>\n",
       "      <td>06/12/11 14:19</td>\n",
       "      <td>121869</td>\n",
       "      <td>-4</td>\n",
       "      <td>22111I</td>\n",
       "      <td>4.95</td>\n",
       "    </tr>\n",
       "    <tr>\n",
       "      <th>101608</th>\n",
       "      <td>PX</td>\n",
       "      <td>121869</td>\n",
       "      <td>06/12/11 14:19</td>\n",
       "      <td>121869</td>\n",
       "      <td>-25</td>\n",
       "      <td>21428B</td>\n",
       "      <td>3.75</td>\n",
       "    </tr>\n",
       "    <tr>\n",
       "      <th>101609</th>\n",
       "      <td>PX</td>\n",
       "      <td>121869</td>\n",
       "      <td>06/12/11 14:19</td>\n",
       "      <td>121869</td>\n",
       "      <td>-16</td>\n",
       "      <td>21238G</td>\n",
       "      <td>0.85</td>\n",
       "    </tr>\n",
       "    <tr>\n",
       "      <th>101610</th>\n",
       "      <td>PX</td>\n",
       "      <td>121869</td>\n",
       "      <td>06/12/11 14:19</td>\n",
       "      <td>121869</td>\n",
       "      <td>-15</td>\n",
       "      <td>20682A</td>\n",
       "      <td>3.25</td>\n",
       "    </tr>\n",
       "    <tr>\n",
       "      <th>101611</th>\n",
       "      <td>PX</td>\n",
       "      <td>121869</td>\n",
       "      <td>06/12/11 14:19</td>\n",
       "      <td>121869</td>\n",
       "      <td>-4</td>\n",
       "      <td>84997DC</td>\n",
       "      <td>3.75</td>\n",
       "    </tr>\n",
       "    <tr>\n",
       "      <th>101612</th>\n",
       "      <td>PX</td>\n",
       "      <td>121869</td>\n",
       "      <td>06/12/11 14:19</td>\n",
       "      <td>121869</td>\n",
       "      <td>-5</td>\n",
       "      <td>84997CQ</td>\n",
       "      <td>3.75</td>\n",
       "    </tr>\n",
       "    <tr>\n",
       "      <th>101641</th>\n",
       "      <td>PX</td>\n",
       "      <td>501885</td>\n",
       "      <td>06/12/11 15:01</td>\n",
       "      <td>501885</td>\n",
       "      <td>-6</td>\n",
       "      <td>22946R</td>\n",
       "      <td>12.75</td>\n",
       "    </tr>\n",
       "    <tr>\n",
       "      <th>101642</th>\n",
       "      <td>PX</td>\n",
       "      <td>401886</td>\n",
       "      <td>06/12/11 15:04</td>\n",
       "      <td>401886</td>\n",
       "      <td>-36</td>\n",
       "      <td>90058AF</td>\n",
       "      <td>0.38</td>\n",
       "    </tr>\n",
       "    <tr>\n",
       "      <th>101643</th>\n",
       "      <td>PX</td>\n",
       "      <td>401886</td>\n",
       "      <td>06/12/11 15:04</td>\n",
       "      <td>401886</td>\n",
       "      <td>-250</td>\n",
       "      <td>22313I</td>\n",
       "      <td>2.55</td>\n",
       "    </tr>\n",
       "    <tr>\n",
       "      <th>101828</th>\n",
       "      <td>PX</td>\n",
       "      <td>370827</td>\n",
       "      <td>07/12/11 9:24</td>\n",
       "      <td>370827</td>\n",
       "      <td>-1</td>\n",
       "      <td>37449B</td>\n",
       "      <td>9.95</td>\n",
       "    </tr>\n",
       "    <tr>\n",
       "      <th>102239</th>\n",
       "      <td>PX</td>\n",
       "      <td>79020</td>\n",
       "      <td>07/12/11 18:32</td>\n",
       "      <td>79020</td>\n",
       "      <td>-55</td>\n",
       "      <td>20893F</td>\n",
       "      <td>0.00</td>\n",
       "    </tr>\n",
       "    <tr>\n",
       "      <th>102240</th>\n",
       "      <td>PX</td>\n",
       "      <td>220977</td>\n",
       "      <td>07/12/11 18:35</td>\n",
       "      <td>220977</td>\n",
       "      <td>-10</td>\n",
       "      <td>72801CQ</td>\n",
       "      <td>0.00</td>\n",
       "    </tr>\n",
       "    <tr>\n",
       "      <th>102258</th>\n",
       "      <td>PX</td>\n",
       "      <td>240957</td>\n",
       "      <td>08/12/11 10:06</td>\n",
       "      <td>240957</td>\n",
       "      <td>-12</td>\n",
       "      <td>23210F</td>\n",
       "      <td>1.25</td>\n",
       "    </tr>\n",
       "    <tr>\n",
       "      <th>102259</th>\n",
       "      <td>PX</td>\n",
       "      <td>240957</td>\n",
       "      <td>08/12/11 10:06</td>\n",
       "      <td>240957</td>\n",
       "      <td>-6</td>\n",
       "      <td>82494LP</td>\n",
       "      <td>2.95</td>\n",
       "    </tr>\n",
       "    <tr>\n",
       "      <th>102260</th>\n",
       "      <td>PX</td>\n",
       "      <td>240957</td>\n",
       "      <td>08/12/11 10:06</td>\n",
       "      <td>240957</td>\n",
       "      <td>-24</td>\n",
       "      <td>22781B</td>\n",
       "      <td>6.75</td>\n",
       "    </tr>\n",
       "    <tr>\n",
       "      <th>102261</th>\n",
       "      <td>BD</td>\n",
       "      <td>340956</td>\n",
       "      <td>08/12/11 10:14</td>\n",
       "      <td>340956</td>\n",
       "      <td>-10</td>\n",
       "      <td>85099BJ</td>\n",
       "      <td>2.08</td>\n",
       "    </tr>\n",
       "    <tr>\n",
       "      <th>102262</th>\n",
       "      <td>BD</td>\n",
       "      <td>340956</td>\n",
       "      <td>08/12/11 10:14</td>\n",
       "      <td>340956</td>\n",
       "      <td>-24</td>\n",
       "      <td>84828A</td>\n",
       "      <td>1.25</td>\n",
       "    </tr>\n",
       "    <tr>\n",
       "      <th>102263</th>\n",
       "      <td>BD</td>\n",
       "      <td>340956</td>\n",
       "      <td>08/12/11 10:14</td>\n",
       "      <td>340956</td>\n",
       "      <td>-24</td>\n",
       "      <td>79191CA</td>\n",
       "      <td>0.85</td>\n",
       "    </tr>\n",
       "    <tr>\n",
       "      <th>102264</th>\n",
       "      <td>BD</td>\n",
       "      <td>340956</td>\n",
       "      <td>08/12/11 10:14</td>\n",
       "      <td>340956</td>\n",
       "      <td>-24</td>\n",
       "      <td>23392B</td>\n",
       "      <td>2.08</td>\n",
       "    </tr>\n",
       "    <tr>\n",
       "      <th>102265</th>\n",
       "      <td>BD</td>\n",
       "      <td>340956</td>\n",
       "      <td>08/12/11 10:14</td>\n",
       "      <td>340956</td>\n",
       "      <td>-10</td>\n",
       "      <td>23344R</td>\n",
       "      <td>2.08</td>\n",
       "    </tr>\n",
       "    <tr>\n",
       "      <th>102266</th>\n",
       "      <td>BD</td>\n",
       "      <td>340956</td>\n",
       "      <td>08/12/11 10:14</td>\n",
       "      <td>340956</td>\n",
       "      <td>-20</td>\n",
       "      <td>23209X</td>\n",
       "      <td>1.65</td>\n",
       "    </tr>\n",
       "    <tr>\n",
       "      <th>102267</th>\n",
       "      <td>BD</td>\n",
       "      <td>340956</td>\n",
       "      <td>08/12/11 10:14</td>\n",
       "      <td>340956</td>\n",
       "      <td>-36</td>\n",
       "      <td>23158A</td>\n",
       "      <td>2.08</td>\n",
       "    </tr>\n",
       "    <tr>\n",
       "      <th>102268</th>\n",
       "      <td>BD</td>\n",
       "      <td>340956</td>\n",
       "      <td>08/12/11 10:14</td>\n",
       "      <td>340956</td>\n",
       "      <td>-12</td>\n",
       "      <td>21507E</td>\n",
       "      <td>0.42</td>\n",
       "    </tr>\n",
       "    <tr>\n",
       "      <th>102324</th>\n",
       "      <td>PX</td>\n",
       "      <td>78120</td>\n",
       "      <td>08/12/11 11:42</td>\n",
       "      <td>78120</td>\n",
       "      <td>-1</td>\n",
       "      <td>22627E</td>\n",
       "      <td>8.50</td>\n",
       "    </tr>\n",
       "    <tr>\n",
       "      <th>102325</th>\n",
       "      <td>RA</td>\n",
       "      <td>31869</td>\n",
       "      <td>08/12/11 11:46</td>\n",
       "      <td>31869</td>\n",
       "      <td>-1</td>\n",
       "      <td>21531U</td>\n",
       "      <td>2.55</td>\n",
       "    </tr>\n",
       "    <tr>\n",
       "      <th>102482</th>\n",
       "      <td>PX</td>\n",
       "      <td>488205</td>\n",
       "      <td>08/12/11 13:13</td>\n",
       "      <td>488205</td>\n",
       "      <td>-10</td>\n",
       "      <td>23374A</td>\n",
       "      <td>0.82</td>\n",
       "    </tr>\n",
       "    <tr>\n",
       "      <th>102710</th>\n",
       "      <td>PX</td>\n",
       "      <td>357237</td>\n",
       "      <td>08/12/11 15:24</td>\n",
       "      <td>357237</td>\n",
       "      <td>-235</td>\n",
       "      <td>23169O</td>\n",
       "      <td>0.00</td>\n",
       "    </tr>\n",
       "    <tr>\n",
       "      <th>102821</th>\n",
       "      <td>PX</td>\n",
       "      <td>217278</td>\n",
       "      <td>08/12/11 18:56</td>\n",
       "      <td>217278</td>\n",
       "      <td>-2</td>\n",
       "      <td>85048L</td>\n",
       "      <td>7.95</td>\n",
       "    </tr>\n",
       "    <tr>\n",
       "      <th>102822</th>\n",
       "      <td>PX</td>\n",
       "      <td>117279</td>\n",
       "      <td>08/12/11 18:57</td>\n",
       "      <td>117279</td>\n",
       "      <td>-6</td>\n",
       "      <td>71477B</td>\n",
       "      <td>3.95</td>\n",
       "    </tr>\n",
       "    <tr>\n",
       "      <th>102900</th>\n",
       "      <td>PX</td>\n",
       "      <td>97299</td>\n",
       "      <td>09/12/11 9:27</td>\n",
       "      <td>97299</td>\n",
       "      <td>-80995</td>\n",
       "      <td>23843K</td>\n",
       "      <td>2.08</td>\n",
       "    </tr>\n",
       "  </tbody>\n",
       "</table>\n",
       "<p>1762 rows × 7 columns</p>\n",
       "</div>"
      ],
      "text/plain": [
       "       Country  CustomerID     InvoiceDate  InvoiceNo  Quantity StockCode  \\\n",
       "42          PX      342756  01/12/10 10:24     342756       -12    22556N   \n",
       "43          PX      342756  01/12/10 10:24     342756       -24    21983K   \n",
       "44          PX      342756  01/12/10 10:24     342756       -24    21980L   \n",
       "45          PX      342756  01/12/10 10:24     342756       -12    21484N   \n",
       "191         GJ      309087  01/12/10 14:33     309087        -4    22244X   \n",
       "...        ...         ...             ...        ...       ...       ...   \n",
       "102482      PX      488205  08/12/11 13:13     488205       -10    23374A   \n",
       "102710      PX      357237  08/12/11 15:24     357237      -235    23169O   \n",
       "102821      PX      217278  08/12/11 18:56     217278        -2    85048L   \n",
       "102822      PX      117279  08/12/11 18:57     117279        -6    71477B   \n",
       "102900      PX       97299   09/12/11 9:27      97299    -80995    23843K   \n",
       "\n",
       "        UnitPrice  \n",
       "42           1.65  \n",
       "43           0.29  \n",
       "44           0.29  \n",
       "45           3.45  \n",
       "191          1.95  \n",
       "...           ...  \n",
       "102482       0.82  \n",
       "102710       0.00  \n",
       "102821       7.95  \n",
       "102822       3.95  \n",
       "102900       2.08  \n",
       "\n",
       "[1762 rows x 7 columns]"
      ]
     },
     "execution_count": 92,
     "metadata": {},
     "output_type": "execute_result"
    }
   ],
   "source": [
    "test[test['Quantity']<=0]"
   ]
  },
  {
   "cell_type": "code",
   "execution_count": 93,
   "metadata": {},
   "outputs": [],
   "source": [
    "## lets assume a hypothesis\n",
    "## Negative quantity means the customer didn't buy that product, might have been given it for free\n",
    "## or returned it instaed"
   ]
  },
  {
   "cell_type": "markdown",
   "metadata": {},
   "source": [
    "## Basic EDA"
   ]
  },
  {
   "cell_type": "markdown",
   "metadata": {},
   "source": [
    "### Items Data"
   ]
  },
  {
   "cell_type": "code",
   "execution_count": 94,
   "metadata": {},
   "outputs": [
    {
     "data": {
      "text/plain": [
       "0       85123AY\n",
       "1        71053R\n",
       "2       84406BH\n",
       "3       84029GV\n",
       "4       84029EX\n",
       "         ...   \n",
       "3805    90182BN\n",
       "3806    47591bU\n",
       "3807     23843K\n",
       "3808     23635S\n",
       "3809     23644D\n",
       "Length: 3810, dtype: object"
      ]
     },
     "execution_count": 94,
     "metadata": {},
     "output_type": "execute_result"
    }
   ],
   "source": [
    "pd.Series(train['StockCode'].unique())"
   ]
  },
  {
   "cell_type": "code",
   "execution_count": 95,
   "metadata": {},
   "outputs": [
    {
     "name": "stdout",
     "output_type": "stream",
     "text": [
      "334\n"
     ]
    },
    {
     "data": {
      "text/plain": [
       "0         AY\n",
       "1          R\n",
       "2         BH\n",
       "3         GV\n",
       "4         EX\n",
       "          ..\n",
       "330570     F\n",
       "330571     J\n",
       "330572     I\n",
       "330573     W\n",
       "330574     H\n",
       "Name: StockCode, Length: 330575, dtype: object"
      ]
     },
     "execution_count": 95,
     "metadata": {},
     "output_type": "execute_result"
    }
   ],
   "source": [
    "codes = train['StockCode'].apply(lambda x:x[-2:])\n",
    "codes = codes.apply(lambda x:x[1] if x[0].isdigit() else x)\n",
    "print(codes.nunique())\n",
    "codes"
   ]
  },
  {
   "cell_type": "code",
   "execution_count": 96,
   "metadata": {},
   "outputs": [],
   "source": [
    "numeric_codes = train['StockCode'].apply(lambda x:x[:-1])\n",
    "numeric_codes = numeric_codes.apply(lambda x:x[:-1] if x[-1].isdigit()==False else x)"
   ]
  },
  {
   "cell_type": "code",
   "execution_count": 97,
   "metadata": {},
   "outputs": [],
   "source": [
    "primary_codes = numeric_codes.apply(lambda x:x[0:2])\n",
    "secondary_codes = numeric_codes.apply(lambda x:x[2:4])\n",
    "single_code = numeric_codes.apply(lambda x:x[4])"
   ]
  },
  {
   "cell_type": "markdown",
   "metadata": {},
   "source": [
    "## Data Modelling"
   ]
  },
  {
   "cell_type": "markdown",
   "metadata": {},
   "source": [
    "#### Two approaches could be followed\n",
    "1. model the data on Quantity bough for each StockCode, considering the total quantity instead of individual transactions\n",
    "2. Prepare a dummy variable, denoting whether the user bought that product or not, consider it as a binary target\n",
    "3. at the end we can also try out the normalized_quantity approach but it mostly seems to fail.\n",
    "\n",
    "#### Test data can be merged with train_data for training, and then predicting exact same number of products for each test user, as the test data is 50% transaction of each test_user, and we need to predict the remaining 50%"
   ]
  },
  {
   "cell_type": "markdown",
   "metadata": {},
   "source": [
    "### Purchase count approach"
   ]
  },
  {
   "cell_type": "markdown",
   "metadata": {},
   "source": [
    "### Train Test Merge"
   ]
  },
  {
   "cell_type": "code",
   "execution_count": 98,
   "metadata": {},
   "outputs": [],
   "source": [
    "train.loc[train[train['Quantity']<0].index, 'Quantity'] *=-1\n",
    "test.loc[test[test['Quantity']<0].index, 'Quantity'] *=-1"
   ]
  },
  {
   "cell_type": "code",
   "execution_count": 99,
   "metadata": {},
   "outputs": [],
   "source": [
    "merged = pd.concat([train,test])\n",
    "data_1 = merged.groupby(['CustomerID','Country','StockCode'])['StockCode'].agg({'total_quantity':'count'}).reset_index()"
   ]
  },
  {
   "cell_type": "markdown",
   "metadata": {},
   "source": [
    "#### Item Data on Train-Test"
   ]
  },
  {
   "cell_type": "code",
   "execution_count": 100,
   "metadata": {
    "scrolled": false
   },
   "outputs": [],
   "source": [
    "price_data = merged.groupby(['StockCode'])['UnitPrice'].agg({'mode_price':scipy.stats.mode}).reset_index()\n",
    "price_data['mode_price'] = price_data['mode_price'].apply(lambda x:x[0][0])\n",
    "\n",
    "items_df = pd.DataFrame(merged['StockCode'].unique(),columns=['StockCode'])\n",
    "codes = items_df['StockCode'].apply(lambda x:x[-2:])\n",
    "items_df['alphabet_codes'] = codes.apply(lambda x:x[1] if x[0].isdigit() else x)\n",
    "\n",
    "numeric_codes = items_df['StockCode'].apply(lambda x:x[:-1])\n",
    "numeric_codes = numeric_codes.apply(lambda x:x[:-1] if x[-1].isdigit()==False else x)\n",
    "\n",
    "items_df['primary_numeric'] = numeric_codes.apply(lambda x:x[0:2])\n",
    "items_df['secondary_numeric'] = numeric_codes.apply(lambda x:x[2:4])\n",
    "items_df['single_digit_numeric'] = numeric_codes.apply(lambda x:x[4])\n",
    "\n",
    "items_df = items_df.merge(price_data,on=['StockCode'],how='inner')"
   ]
  },
  {
   "cell_type": "markdown",
   "metadata": {},
   "source": [
    "#### Preprocess Item Data"
   ]
  },
  {
   "cell_type": "code",
   "execution_count": 101,
   "metadata": {
    "scrolled": true
   },
   "outputs": [],
   "source": [
    "data_1['total_quantity'].clip(upper=5,inplace=True)"
   ]
  },
  {
   "cell_type": "code",
   "execution_count": 102,
   "metadata": {
    "scrolled": true
   },
   "outputs": [
    {
     "data": {
      "text/plain": [
       "count    366405.000000\n",
       "mean          1.182585\n",
       "std           0.503004\n",
       "min           1.000000\n",
       "25%           1.000000\n",
       "50%           1.000000\n",
       "75%           1.000000\n",
       "max           5.000000\n",
       "Name: total_quantity, dtype: float64"
      ]
     },
     "execution_count": 102,
     "metadata": {},
     "output_type": "execute_result"
    }
   ],
   "source": [
    "data_1['total_quantity'].describe()"
   ]
  },
  {
   "cell_type": "markdown",
   "metadata": {},
   "source": [
    "#### Dummy data"
   ]
  },
  {
   "cell_type": "code",
   "execution_count": 103,
   "metadata": {},
   "outputs": [],
   "source": [
    "def create_data_dummy(data):\n",
    "    data_dummy = data.copy()\n",
    "    data_dummy['purchase_dummy'] = 1\n",
    "    return data_dummy\n",
    "\n",
    "data_dummy = create_data_dummy(data_1)"
   ]
  },
  {
   "cell_type": "markdown",
   "metadata": {},
   "source": [
    "#### normalized_quantity data"
   ]
  },
  {
   "cell_type": "code",
   "execution_count": 104,
   "metadata": {},
   "outputs": [],
   "source": [
    "def normalize_data(data):\n",
    "    df_matrix = pd.pivot_table(data, values='total_quantity', index='CustomerID', columns='StockCode')\n",
    "    df_matrix_norm = (df_matrix-df_matrix.min())/(df_matrix.max()-df_matrix.min())\n",
    "    d = df_matrix_norm.reset_index()\n",
    "    d.index.names = ['scaled_purchase_freq']\n",
    "    return pd.melt(d, id_vars=['CustomerID'], value_name='scaled_purchase_freq').dropna()"
   ]
  },
  {
   "cell_type": "code",
   "execution_count": 105,
   "metadata": {
    "scrolled": true
   },
   "outputs": [],
   "source": [
    "data_norm = normalize_data(data_1)"
   ]
  },
  {
   "cell_type": "markdown",
   "metadata": {},
   "source": [
    "### Turicreate model"
   ]
  },
  {
   "cell_type": "code",
   "execution_count": 106,
   "metadata": {
    "scrolled": false
   },
   "outputs": [],
   "source": [
    "### train_test_split\n",
    "from sklearn.model_selection import train_test_split\n",
    "### turicreate\n",
    "import time\n",
    "import turicreate as tc"
   ]
  },
  {
   "cell_type": "code",
   "execution_count": 107,
   "metadata": {},
   "outputs": [],
   "source": [
    "def split_data(data):\n",
    "    '''\n",
    "    Splits dataset into training and test set.\n",
    "    \n",
    "    Args:\n",
    "        data (pandas.DataFrame)\n",
    "        \n",
    "    Returns\n",
    "        train_data (tc.SFrame)\n",
    "        test_data (tc.SFrame)\n",
    "    '''\n",
    "    train, test = train_test_split(data, test_size = .2)\n",
    "    train_data = tc.SFrame(train)\n",
    "    test_data = tc.SFrame(test)\n",
    "    return train_data, test_data"
   ]
  },
  {
   "cell_type": "code",
   "execution_count": 108,
   "metadata": {
    "scrolled": true
   },
   "outputs": [],
   "source": [
    "train_data, test_data = split_data(data_1)\n",
    "train_data_dummy, test_data_dummy = split_data(data_dummy)"
   ]
  },
  {
   "cell_type": "markdown",
   "metadata": {},
   "source": [
    "## Model Building - Validation"
   ]
  },
  {
   "cell_type": "code",
   "execution_count": 109,
   "metadata": {
    "scrolled": true
   },
   "outputs": [],
   "source": [
    "# constant variables to define field names include:\n",
    "user_id = 'CustomerID'\n",
    "item_id = 'StockCode'\n",
    "users_to_recommend = list(train_data[user_id][0:3])\n",
    "n_rec = 10 # number of items to recommend\n",
    "n_display = 30 # to display the first few rows in an output dataset"
   ]
  },
  {
   "cell_type": "code",
   "execution_count": null,
   "metadata": {},
   "outputs": [],
   "source": []
  },
  {
   "cell_type": "code",
   "execution_count": 110,
   "metadata": {},
   "outputs": [],
   "source": [
    "def model(train_data, name, user_id, item_id, target, user_data, item_data, users_to_recommend, n_rec, n_display):\n",
    "    if name == 'reco_fact':\n",
    "        model = tc.ranking_factorization_recommender.create(train_data, \n",
    "                                                    user_id=user_id, \n",
    "                                                    item_id=item_id, \n",
    "                                                    target=None, solver='ials')\n",
    "\n",
    "    elif name =='reco_fact_with_data':\n",
    "        model = tc.ranking_factorization_recommender.create(train_data, \n",
    "                                                    user_id=user_id, \n",
    "                                                    item_id=item_id, \n",
    "                                                    target=None,user_data=user_data, item_data=item_data, solver='ials')\n",
    "        \n",
    "    \n",
    "    recom = model.recommend(users=users_to_recommend, k=n_rec)\n",
    "    recom.print_rows(n_display)\n",
    "    return model"
   ]
  },
  {
   "cell_type": "code",
   "execution_count": 111,
   "metadata": {
    "scrolled": true
   },
   "outputs": [
    {
     "data": {
      "text/html": [
       "<pre>Warning: This solver currently does not support side features. Proceeding with training without side features.</pre>"
      ],
      "text/plain": [
       "Warning: This solver currently does not support side features. Proceeding with training without side features."
      ]
     },
     "metadata": {},
     "output_type": "display_data"
    },
    {
     "data": {
      "text/html": [
       "<pre>Preparing data set.</pre>"
      ],
      "text/plain": [
       "Preparing data set."
      ]
     },
     "metadata": {},
     "output_type": "display_data"
    },
    {
     "data": {
      "text/html": [
       "<pre>    Data has 293124 observations with 1597 users and 3830 items.</pre>"
      ],
      "text/plain": [
       "    Data has 293124 observations with 1597 users and 3830 items."
      ]
     },
     "metadata": {},
     "output_type": "display_data"
    },
    {
     "data": {
      "text/html": [
       "<pre>    Data prepared in: 0.294525s</pre>"
      ],
      "text/plain": [
       "    Data prepared in: 0.294525s"
      ]
     },
     "metadata": {},
     "output_type": "display_data"
    },
    {
     "data": {
      "text/html": [
       "<pre>Training ranking_factorization_recommender for recommendations.</pre>"
      ],
      "text/plain": [
       "Training ranking_factorization_recommender for recommendations."
      ]
     },
     "metadata": {},
     "output_type": "display_data"
    },
    {
     "data": {
      "text/html": [
       "<pre>+------------------------------+--------------------------------------------------+----------+</pre>"
      ],
      "text/plain": [
       "+------------------------------+--------------------------------------------------+----------+"
      ]
     },
     "metadata": {},
     "output_type": "display_data"
    },
    {
     "data": {
      "text/html": [
       "<pre>| Parameter                    | Description                                      | Value    |</pre>"
      ],
      "text/plain": [
       "| Parameter                    | Description                                      | Value    |"
      ]
     },
     "metadata": {},
     "output_type": "display_data"
    },
    {
     "data": {
      "text/html": [
       "<pre>+------------------------------+--------------------------------------------------+----------+</pre>"
      ],
      "text/plain": [
       "+------------------------------+--------------------------------------------------+----------+"
      ]
     },
     "metadata": {},
     "output_type": "display_data"
    },
    {
     "data": {
      "text/html": [
       "<pre>| num_factors                  | Factor Dimension                                 | 32       |</pre>"
      ],
      "text/plain": [
       "| num_factors                  | Factor Dimension                                 | 32       |"
      ]
     },
     "metadata": {},
     "output_type": "display_data"
    },
    {
     "data": {
      "text/html": [
       "<pre>| regularization               | L2 Regularization on Factors                     | 1e-09    |</pre>"
      ],
      "text/plain": [
       "| regularization               | L2 Regularization on Factors                     | 1e-09    |"
      ]
     },
     "metadata": {},
     "output_type": "display_data"
    },
    {
     "data": {
      "text/html": [
       "<pre>| max_iterations               | Maximum Number of Iterations                     | 25       |</pre>"
      ],
      "text/plain": [
       "| max_iterations               | Maximum Number of Iterations                     | 25       |"
      ]
     },
     "metadata": {},
     "output_type": "display_data"
    },
    {
     "data": {
      "text/html": [
       "<pre>| solver                       | Solver used for training                         | ials     |</pre>"
      ],
      "text/plain": [
       "| solver                       | Solver used for training                         | ials     |"
      ]
     },
     "metadata": {},
     "output_type": "display_data"
    },
    {
     "data": {
      "text/html": [
       "<pre>+------------------------------+--------------------------------------------------+----------+</pre>"
      ],
      "text/plain": [
       "+------------------------------+--------------------------------------------------+----------+"
      ]
     },
     "metadata": {},
     "output_type": "display_data"
    },
    {
     "data": {
      "text/html": [
       "<pre>+---------+--------------+---------------------------+</pre>"
      ],
      "text/plain": [
       "+---------+--------------+---------------------------+"
      ]
     },
     "metadata": {},
     "output_type": "display_data"
    },
    {
     "data": {
      "text/html": [
       "<pre>| Iter.   | Elapsed time | Estimated Objective Value |</pre>"
      ],
      "text/plain": [
       "| Iter.   | Elapsed time | Estimated Objective Value |"
      ]
     },
     "metadata": {},
     "output_type": "display_data"
    },
    {
     "data": {
      "text/html": [
       "<pre>+---------+--------------+---------------------------+</pre>"
      ],
      "text/plain": [
       "+---------+--------------+---------------------------+"
      ]
     },
     "metadata": {},
     "output_type": "display_data"
    },
    {
     "data": {
      "text/html": [
       "<pre>| Initial | 56us         | NA                        |</pre>"
      ],
      "text/plain": [
       "| Initial | 56us         | NA                        |"
      ]
     },
     "metadata": {},
     "output_type": "display_data"
    },
    {
     "data": {
      "text/html": [
       "<pre>+---------+--------------+---------------------------+</pre>"
      ],
      "text/plain": [
       "+---------+--------------+---------------------------+"
      ]
     },
     "metadata": {},
     "output_type": "display_data"
    },
    {
     "data": {
      "text/html": [
       "<pre>| 0       | 128.6ms      | 0.704272                  |</pre>"
      ],
      "text/plain": [
       "| 0       | 128.6ms      | 0.704272                  |"
      ]
     },
     "metadata": {},
     "output_type": "display_data"
    },
    {
     "data": {
      "text/html": [
       "<pre>| 1       | 234.244ms    | 0.648656                  |</pre>"
      ],
      "text/plain": [
       "| 1       | 234.244ms    | 0.648656                  |"
      ]
     },
     "metadata": {},
     "output_type": "display_data"
    },
    {
     "data": {
      "text/html": [
       "<pre>| 2       | 331.578ms    | 0.640527                  |</pre>"
      ],
      "text/plain": [
       "| 2       | 331.578ms    | 0.640527                  |"
      ]
     },
     "metadata": {},
     "output_type": "display_data"
    },
    {
     "data": {
      "text/html": [
       "<pre>| 3       | 443.504ms    | 0.636854                  |</pre>"
      ],
      "text/plain": [
       "| 3       | 443.504ms    | 0.636854                  |"
      ]
     },
     "metadata": {},
     "output_type": "display_data"
    },
    {
     "data": {
      "text/html": [
       "<pre>| 4       | 541.018ms    | 0.634906                  |</pre>"
      ],
      "text/plain": [
       "| 4       | 541.018ms    | 0.634906                  |"
      ]
     },
     "metadata": {},
     "output_type": "display_data"
    },
    {
     "data": {
      "text/html": [
       "<pre>| 5       | 640.112ms    | 0.633767                  |</pre>"
      ],
      "text/plain": [
       "| 5       | 640.112ms    | 0.633767                  |"
      ]
     },
     "metadata": {},
     "output_type": "display_data"
    },
    {
     "data": {
      "text/html": [
       "<pre>| 6       | 734.463ms    | 0.633042                  |</pre>"
      ],
      "text/plain": [
       "| 6       | 734.463ms    | 0.633042                  |"
      ]
     },
     "metadata": {},
     "output_type": "display_data"
    },
    {
     "data": {
      "text/html": [
       "<pre>| 7       | 828.036ms    | 0.632551                  |</pre>"
      ],
      "text/plain": [
       "| 7       | 828.036ms    | 0.632551                  |"
      ]
     },
     "metadata": {},
     "output_type": "display_data"
    },
    {
     "data": {
      "text/html": [
       "<pre>| 8       | 923.597ms    | 0.632201                  |</pre>"
      ],
      "text/plain": [
       "| 8       | 923.597ms    | 0.632201                  |"
      ]
     },
     "metadata": {},
     "output_type": "display_data"
    },
    {
     "data": {
      "text/html": [
       "<pre>| 9       | 1.02s        | 0.631944                  |</pre>"
      ],
      "text/plain": [
       "| 9       | 1.02s        | 0.631944                  |"
      ]
     },
     "metadata": {},
     "output_type": "display_data"
    },
    {
     "data": {
      "text/html": [
       "<pre>| 10      | 1.11s        | 0.631748                  |</pre>"
      ],
      "text/plain": [
       "| 10      | 1.11s        | 0.631748                  |"
      ]
     },
     "metadata": {},
     "output_type": "display_data"
    },
    {
     "data": {
      "text/html": [
       "<pre>| 11      | 1.21s        | 0.631595                  |</pre>"
      ],
      "text/plain": [
       "| 11      | 1.21s        | 0.631595                  |"
      ]
     },
     "metadata": {},
     "output_type": "display_data"
    },
    {
     "data": {
      "text/html": [
       "<pre>| 12      | 1.31s        | 0.631473                  |</pre>"
      ],
      "text/plain": [
       "| 12      | 1.31s        | 0.631473                  |"
      ]
     },
     "metadata": {},
     "output_type": "display_data"
    },
    {
     "data": {
      "text/html": [
       "<pre>| 13      | 1.41s        | 0.631373                  |</pre>"
      ],
      "text/plain": [
       "| 13      | 1.41s        | 0.631373                  |"
      ]
     },
     "metadata": {},
     "output_type": "display_data"
    },
    {
     "data": {
      "text/html": [
       "<pre>| 14      | 1.51s        | 0.63129                   |</pre>"
      ],
      "text/plain": [
       "| 14      | 1.51s        | 0.63129                   |"
      ]
     },
     "metadata": {},
     "output_type": "display_data"
    },
    {
     "data": {
      "text/html": [
       "<pre>| 15      | 1.60s        | 0.63122                   |</pre>"
      ],
      "text/plain": [
       "| 15      | 1.60s        | 0.63122                   |"
      ]
     },
     "metadata": {},
     "output_type": "display_data"
    },
    {
     "data": {
      "text/html": [
       "<pre>| 16      | 1.71s        | 0.63116                   |</pre>"
      ],
      "text/plain": [
       "| 16      | 1.71s        | 0.63116                   |"
      ]
     },
     "metadata": {},
     "output_type": "display_data"
    },
    {
     "data": {
      "text/html": [
       "<pre>| 17      | 1.82s        | 0.631109                  |</pre>"
      ],
      "text/plain": [
       "| 17      | 1.82s        | 0.631109                  |"
      ]
     },
     "metadata": {},
     "output_type": "display_data"
    },
    {
     "data": {
      "text/html": [
       "<pre>| 18      | 1.92s        | 0.631066                  |</pre>"
      ],
      "text/plain": [
       "| 18      | 1.92s        | 0.631066                  |"
      ]
     },
     "metadata": {},
     "output_type": "display_data"
    },
    {
     "data": {
      "text/html": [
       "<pre>| 19      | 2.04s        | 0.631028                  |</pre>"
      ],
      "text/plain": [
       "| 19      | 2.04s        | 0.631028                  |"
      ]
     },
     "metadata": {},
     "output_type": "display_data"
    },
    {
     "data": {
      "text/html": [
       "<pre>| 20      | 2.13s        | 0.630995                  |</pre>"
      ],
      "text/plain": [
       "| 20      | 2.13s        | 0.630995                  |"
      ]
     },
     "metadata": {},
     "output_type": "display_data"
    },
    {
     "data": {
      "text/html": [
       "<pre>| 21      | 2.23s        | 0.630966                  |</pre>"
      ],
      "text/plain": [
       "| 21      | 2.23s        | 0.630966                  |"
      ]
     },
     "metadata": {},
     "output_type": "display_data"
    },
    {
     "data": {
      "text/html": [
       "<pre>| 22      | 2.33s        | 0.630941                  |</pre>"
      ],
      "text/plain": [
       "| 22      | 2.33s        | 0.630941                  |"
      ]
     },
     "metadata": {},
     "output_type": "display_data"
    },
    {
     "data": {
      "text/html": [
       "<pre>| 23      | 2.42s        | 0.630919                  |</pre>"
      ],
      "text/plain": [
       "| 23      | 2.42s        | 0.630919                  |"
      ]
     },
     "metadata": {},
     "output_type": "display_data"
    },
    {
     "data": {
      "text/html": [
       "<pre>| 24      | 2.52s        | 0.630899                  |</pre>"
      ],
      "text/plain": [
       "| 24      | 2.52s        | 0.630899                  |"
      ]
     },
     "metadata": {},
     "output_type": "display_data"
    },
    {
     "data": {
      "text/html": [
       "<pre>| FINAL   | 2.52s        | 0.630899                  |</pre>"
      ],
      "text/plain": [
       "| FINAL   | 2.52s        | 0.630899                  |"
      ]
     },
     "metadata": {},
     "output_type": "display_data"
    },
    {
     "data": {
      "text/html": [
       "<pre>+---------+--------------+---------------------------+</pre>"
      ],
      "text/plain": [
       "+---------+--------------+---------------------------+"
      ]
     },
     "metadata": {},
     "output_type": "display_data"
    },
    {
     "data": {
      "text/html": [
       "<pre>Optimization Complete: Iteration limit reached.</pre>"
      ],
      "text/plain": [
       "Optimization Complete: Iteration limit reached."
      ]
     },
     "metadata": {},
     "output_type": "display_data"
    },
    {
     "name": "stdout",
     "output_type": "stream",
     "text": [
      "+------------+-----------+--------------------+------+\n",
      "| CustomerID | StockCode |       score        | rank |\n",
      "+------------+-----------+--------------------+------+\n",
      "|   362826   |   22727B  | 0.8316797614097595 |  1   |\n",
      "|   362826   |   20725N  | 0.7542881369590759 |  2   |\n",
      "|   362826   |   22720A  | 0.7171946167945862 |  3   |\n",
      "|   362826   |   22086O  | 0.6843122839927673 |  4   |\n",
      "|   362826   |   22728B  | 0.6635282635688782 |  5   |\n",
      "|   362826   |   22470E  | 0.6497192978858948 |  6   |\n",
      "|   362826   |   21175V  | 0.6497176289558411 |  7   |\n",
      "|   362826   |   23209X  | 0.6338817477226257 |  8   |\n",
      "|   362826   |  85099BJ  | 0.6151326894760132 |  9   |\n",
      "|   362826   |   22867O  | 0.6067772507667542 |  10  |\n",
      "|   176418   |  84596BQ  | 1.0722315311431885 |  1   |\n",
      "|   176418   |   47566Y  | 1.0417845249176025 |  2   |\n",
      "|   176418   |   23205F  | 1.0376877784729004 |  3   |\n",
      "|   176418   |   22381J  | 0.9438562393188477 |  4   |\n",
      "|   176418   |   20727V  | 0.934748649597168  |  5   |\n",
      "|   176418   |  85099CQ  | 0.8788037300109863 |  6   |\n",
      "|   176418   |   22663L  | 0.866268515586853  |  7   |\n",
      "|   176418   |   22384W  |  0.86258864402771  |  8   |\n",
      "|   176418   |  85123AY  | 0.8526226878166199 |  9   |\n",
      "|   176418   |   22602D  | 0.8383011221885681 |  10  |\n",
      "|   273627   |  84509AK  | 1.2422161102294922 |  1   |\n",
      "|   273627   |   22725X  | 1.2251579761505127 |  2   |\n",
      "|   273627   |   22726C  | 1.2189228534698486 |  3   |\n",
      "|   273627   |   21883V  | 1.1641919612884521 |  4   |\n",
      "|   273627   |   22728B  | 1.120837688446045  |  5   |\n",
      "|   273627   |  85099CQ  | 1.1025962829589844 |  6   |\n",
      "|   273627   |   22467G  | 1.0510499477386475 |  7   |\n",
      "|   273627   |   21802W  | 1.0505506992340088 |  8   |\n",
      "|   273627   |   21672A  | 1.0291672945022583 |  9   |\n",
      "|   273627   |   22174M  | 0.9904456734657288 |  10  |\n",
      "+------------+-----------+--------------------+------+\n",
      "[30 rows x 4 columns]\n",
      "\n"
     ]
    }
   ],
   "source": [
    "name = 'reco_fact_with_data'\n",
    "target = 'total_quantity'\n",
    "item_data = tc.SFrame(items_df.drop(['alphabet_codes','secondary_numeric','single_digit_numeric'],axis=1))\n",
    "user_data = None\n",
    "reco_fact_data = model(train_data, name, user_id, item_id, target, user_data, item_data, users_to_recommend, n_rec, n_display)"
   ]
  },
  {
   "cell_type": "code",
   "execution_count": null,
   "metadata": {},
   "outputs": [],
   "source": []
  },
  {
   "cell_type": "markdown",
   "metadata": {},
   "source": [
    "### Final Model"
   ]
  },
  {
   "cell_type": "code",
   "execution_count": 112,
   "metadata": {},
   "outputs": [],
   "source": [
    "# constant variables to define field names include:\n",
    "user_id = 'CustomerID'\n",
    "item_id = 'StockCode'\n",
    "users_to_recommend = list(train_data[user_id][0:3])\n",
    "n_rec = 10 # number of items to recommend\n",
    "n_display = 30 # to display the first few rows in an output dataset"
   ]
  },
  {
   "cell_type": "code",
   "execution_count": 113,
   "metadata": {
    "scrolled": true
   },
   "outputs": [],
   "source": [
    "target = 'total_quantity'\n",
    "item_data = tc.SFrame(items_df.drop(['alphabet_codes','secondary_numeric','single_digit_numeric'],axis=1))\n",
    "user_data = None"
   ]
  },
  {
   "cell_type": "code",
   "execution_count": 114,
   "metadata": {
    "scrolled": true
   },
   "outputs": [
    {
     "data": {
      "text/html": [
       "<pre>Warning: This solver currently does not support side features. Proceeding with training without side features.</pre>"
      ],
      "text/plain": [
       "Warning: This solver currently does not support side features. Proceeding with training without side features."
      ]
     },
     "metadata": {},
     "output_type": "display_data"
    },
    {
     "data": {
      "text/html": [
       "<pre>Preparing data set.</pre>"
      ],
      "text/plain": [
       "Preparing data set."
      ]
     },
     "metadata": {},
     "output_type": "display_data"
    },
    {
     "data": {
      "text/html": [
       "<pre>    Data has 366405 observations with 1600 users and 3860 items.</pre>"
      ],
      "text/plain": [
       "    Data has 366405 observations with 1600 users and 3860 items."
      ]
     },
     "metadata": {},
     "output_type": "display_data"
    },
    {
     "data": {
      "text/html": [
       "<pre>    Data prepared in: 0.269992s</pre>"
      ],
      "text/plain": [
       "    Data prepared in: 0.269992s"
      ]
     },
     "metadata": {},
     "output_type": "display_data"
    },
    {
     "data": {
      "text/html": [
       "<pre>Training ranking_factorization_recommender for recommendations.</pre>"
      ],
      "text/plain": [
       "Training ranking_factorization_recommender for recommendations."
      ]
     },
     "metadata": {},
     "output_type": "display_data"
    },
    {
     "data": {
      "text/html": [
       "<pre>+------------------------------+--------------------------------------------------+----------+</pre>"
      ],
      "text/plain": [
       "+------------------------------+--------------------------------------------------+----------+"
      ]
     },
     "metadata": {},
     "output_type": "display_data"
    },
    {
     "data": {
      "text/html": [
       "<pre>| Parameter                    | Description                                      | Value    |</pre>"
      ],
      "text/plain": [
       "| Parameter                    | Description                                      | Value    |"
      ]
     },
     "metadata": {},
     "output_type": "display_data"
    },
    {
     "data": {
      "text/html": [
       "<pre>+------------------------------+--------------------------------------------------+----------+</pre>"
      ],
      "text/plain": [
       "+------------------------------+--------------------------------------------------+----------+"
      ]
     },
     "metadata": {},
     "output_type": "display_data"
    },
    {
     "data": {
      "text/html": [
       "<pre>| num_factors                  | Factor Dimension                                 | 32       |</pre>"
      ],
      "text/plain": [
       "| num_factors                  | Factor Dimension                                 | 32       |"
      ]
     },
     "metadata": {},
     "output_type": "display_data"
    },
    {
     "data": {
      "text/html": [
       "<pre>| regularization               | L2 Regularization on Factors                     | 1e-09    |</pre>"
      ],
      "text/plain": [
       "| regularization               | L2 Regularization on Factors                     | 1e-09    |"
      ]
     },
     "metadata": {},
     "output_type": "display_data"
    },
    {
     "data": {
      "text/html": [
       "<pre>| max_iterations               | Maximum Number of Iterations                     | 25       |</pre>"
      ],
      "text/plain": [
       "| max_iterations               | Maximum Number of Iterations                     | 25       |"
      ]
     },
     "metadata": {},
     "output_type": "display_data"
    },
    {
     "data": {
      "text/html": [
       "<pre>| solver                       | Solver used for training                         | ials     |</pre>"
      ],
      "text/plain": [
       "| solver                       | Solver used for training                         | ials     |"
      ]
     },
     "metadata": {},
     "output_type": "display_data"
    },
    {
     "data": {
      "text/html": [
       "<pre>+------------------------------+--------------------------------------------------+----------+</pre>"
      ],
      "text/plain": [
       "+------------------------------+--------------------------------------------------+----------+"
      ]
     },
     "metadata": {},
     "output_type": "display_data"
    },
    {
     "data": {
      "text/html": [
       "<pre>+---------+--------------+---------------------------+</pre>"
      ],
      "text/plain": [
       "+---------+--------------+---------------------------+"
      ]
     },
     "metadata": {},
     "output_type": "display_data"
    },
    {
     "data": {
      "text/html": [
       "<pre>| Iter.   | Elapsed time | Estimated Objective Value |</pre>"
      ],
      "text/plain": [
       "| Iter.   | Elapsed time | Estimated Objective Value |"
      ]
     },
     "metadata": {},
     "output_type": "display_data"
    },
    {
     "data": {
      "text/html": [
       "<pre>+---------+--------------+---------------------------+</pre>"
      ],
      "text/plain": [
       "+---------+--------------+---------------------------+"
      ]
     },
     "metadata": {},
     "output_type": "display_data"
    },
    {
     "data": {
      "text/html": [
       "<pre>| Initial | 50us         | NA                        |</pre>"
      ],
      "text/plain": [
       "| Initial | 50us         | NA                        |"
      ]
     },
     "metadata": {},
     "output_type": "display_data"
    },
    {
     "data": {
      "text/html": [
       "<pre>+---------+--------------+---------------------------+</pre>"
      ],
      "text/plain": [
       "+---------+--------------+---------------------------+"
      ]
     },
     "metadata": {},
     "output_type": "display_data"
    },
    {
     "data": {
      "text/html": [
       "<pre>| 0       | 134.561ms    | 0.923259                  |</pre>"
      ],
      "text/plain": [
       "| 0       | 134.561ms    | 0.923259                  |"
      ]
     },
     "metadata": {},
     "output_type": "display_data"
    },
    {
     "data": {
      "text/html": [
       "<pre>| 1       | 244.013ms    | 0.864992                  |</pre>"
      ],
      "text/plain": [
       "| 1       | 244.013ms    | 0.864992                  |"
      ]
     },
     "metadata": {},
     "output_type": "display_data"
    },
    {
     "data": {
      "text/html": [
       "<pre>| 2       | 363.201ms    | 0.856656                  |</pre>"
      ],
      "text/plain": [
       "| 2       | 363.201ms    | 0.856656                  |"
      ]
     },
     "metadata": {},
     "output_type": "display_data"
    },
    {
     "data": {
      "text/html": [
       "<pre>| 3       | 488.081ms    | 0.853263                  |</pre>"
      ],
      "text/plain": [
       "| 3       | 488.081ms    | 0.853263                  |"
      ]
     },
     "metadata": {},
     "output_type": "display_data"
    },
    {
     "data": {
      "text/html": [
       "<pre>| 4       | 611.61ms     | 0.851571                  |</pre>"
      ],
      "text/plain": [
       "| 4       | 611.61ms     | 0.851571                  |"
      ]
     },
     "metadata": {},
     "output_type": "display_data"
    },
    {
     "data": {
      "text/html": [
       "<pre>| 5       | 724.322ms    | 0.8506                    |</pre>"
      ],
      "text/plain": [
       "| 5       | 724.322ms    | 0.8506                    |"
      ]
     },
     "metadata": {},
     "output_type": "display_data"
    },
    {
     "data": {
      "text/html": [
       "<pre>| 6       | 833.581ms    | 0.849985                  |</pre>"
      ],
      "text/plain": [
       "| 6       | 833.581ms    | 0.849985                  |"
      ]
     },
     "metadata": {},
     "output_type": "display_data"
    },
    {
     "data": {
      "text/html": [
       "<pre>| 7       | 948.436ms    | 0.84957                   |</pre>"
      ],
      "text/plain": [
       "| 7       | 948.436ms    | 0.84957                   |"
      ]
     },
     "metadata": {},
     "output_type": "display_data"
    },
    {
     "data": {
      "text/html": [
       "<pre>| 8       | 1.05s        | 0.849274                  |</pre>"
      ],
      "text/plain": [
       "| 8       | 1.05s        | 0.849274                  |"
      ]
     },
     "metadata": {},
     "output_type": "display_data"
    },
    {
     "data": {
      "text/html": [
       "<pre>| 9       | 1.17s        | 0.849057                  |</pre>"
      ],
      "text/plain": [
       "| 9       | 1.17s        | 0.849057                  |"
      ]
     },
     "metadata": {},
     "output_type": "display_data"
    },
    {
     "data": {
      "text/html": [
       "<pre>| 10      | 1.31s        | 0.848895                  |</pre>"
      ],
      "text/plain": [
       "| 10      | 1.31s        | 0.848895                  |"
      ]
     },
     "metadata": {},
     "output_type": "display_data"
    },
    {
     "data": {
      "text/html": [
       "<pre>| 11      | 1.44s        | 0.848771                  |</pre>"
      ],
      "text/plain": [
       "| 11      | 1.44s        | 0.848771                  |"
      ]
     },
     "metadata": {},
     "output_type": "display_data"
    },
    {
     "data": {
      "text/html": [
       "<pre>| 12      | 1.58s        | 0.848675                  |</pre>"
      ],
      "text/plain": [
       "| 12      | 1.58s        | 0.848675                  |"
      ]
     },
     "metadata": {},
     "output_type": "display_data"
    },
    {
     "data": {
      "text/html": [
       "<pre>| 13      | 1.72s        | 0.8486                    |</pre>"
      ],
      "text/plain": [
       "| 13      | 1.72s        | 0.8486                    |"
      ]
     },
     "metadata": {},
     "output_type": "display_data"
    },
    {
     "data": {
      "text/html": [
       "<pre>| 14      | 1.85s        | 0.848541                  |</pre>"
      ],
      "text/plain": [
       "| 14      | 1.85s        | 0.848541                  |"
      ]
     },
     "metadata": {},
     "output_type": "display_data"
    },
    {
     "data": {
      "text/html": [
       "<pre>| 15      | 1.96s        | 0.848493                  |</pre>"
      ],
      "text/plain": [
       "| 15      | 1.96s        | 0.848493                  |"
      ]
     },
     "metadata": {},
     "output_type": "display_data"
    },
    {
     "data": {
      "text/html": [
       "<pre>| 16      | 2.07s        | 0.848455                  |</pre>"
      ],
      "text/plain": [
       "| 16      | 2.07s        | 0.848455                  |"
      ]
     },
     "metadata": {},
     "output_type": "display_data"
    },
    {
     "data": {
      "text/html": [
       "<pre>| 17      | 2.18s        | 0.848423                  |</pre>"
      ],
      "text/plain": [
       "| 17      | 2.18s        | 0.848423                  |"
      ]
     },
     "metadata": {},
     "output_type": "display_data"
    },
    {
     "data": {
      "text/html": [
       "<pre>| 18      | 2.29s        | 0.848396                  |</pre>"
      ],
      "text/plain": [
       "| 18      | 2.29s        | 0.848396                  |"
      ]
     },
     "metadata": {},
     "output_type": "display_data"
    },
    {
     "data": {
      "text/html": [
       "<pre>| 19      | 2.41s        | 0.848374                  |</pre>"
      ],
      "text/plain": [
       "| 19      | 2.41s        | 0.848374                  |"
      ]
     },
     "metadata": {},
     "output_type": "display_data"
    },
    {
     "data": {
      "text/html": [
       "<pre>| 20      | 2.52s        | 0.848354                  |</pre>"
      ],
      "text/plain": [
       "| 20      | 2.52s        | 0.848354                  |"
      ]
     },
     "metadata": {},
     "output_type": "display_data"
    },
    {
     "data": {
      "text/html": [
       "<pre>| 21      | 2.63s        | 0.848338                  |</pre>"
      ],
      "text/plain": [
       "| 21      | 2.63s        | 0.848338                  |"
      ]
     },
     "metadata": {},
     "output_type": "display_data"
    },
    {
     "data": {
      "text/html": [
       "<pre>| 22      | 2.74s        | 0.848324                  |</pre>"
      ],
      "text/plain": [
       "| 22      | 2.74s        | 0.848324                  |"
      ]
     },
     "metadata": {},
     "output_type": "display_data"
    },
    {
     "data": {
      "text/html": [
       "<pre>| 23      | 2.85s        | 0.848312                  |</pre>"
      ],
      "text/plain": [
       "| 23      | 2.85s        | 0.848312                  |"
      ]
     },
     "metadata": {},
     "output_type": "display_data"
    },
    {
     "data": {
      "text/html": [
       "<pre>| 24      | 2.99s        | 0.848301                  |</pre>"
      ],
      "text/plain": [
       "| 24      | 2.99s        | 0.848301                  |"
      ]
     },
     "metadata": {},
     "output_type": "display_data"
    },
    {
     "data": {
      "text/html": [
       "<pre>| FINAL   | 2.99s        | 0.848301                  |</pre>"
      ],
      "text/plain": [
       "| FINAL   | 2.99s        | 0.848301                  |"
      ]
     },
     "metadata": {},
     "output_type": "display_data"
    },
    {
     "data": {
      "text/html": [
       "<pre>+---------+--------------+---------------------------+</pre>"
      ],
      "text/plain": [
       "+---------+--------------+---------------------------+"
      ]
     },
     "metadata": {},
     "output_type": "display_data"
    },
    {
     "data": {
      "text/html": [
       "<pre>Optimization Complete: Iteration limit reached.</pre>"
      ],
      "text/plain": [
       "Optimization Complete: Iteration limit reached."
      ]
     },
     "metadata": {},
     "output_type": "display_data"
    },
    {
     "name": "stdout",
     "output_type": "stream",
     "text": [
      "+------------+-----------+--------------------+------+\n",
      "| CustomerID | StockCode |       score        | rank |\n",
      "+------------+-----------+--------------------+------+\n",
      "|   362826   |   22960K  | 0.8227763772010803 |  1   |\n",
      "|   362826   |   22470E  | 0.8025978803634644 |  2   |\n",
      "|   362826   |   22728B  | 0.7989366054534912 |  3   |\n",
      "|   362826   |   47566Y  | 0.7960784435272217 |  4   |\n",
      "|   362826   |   22730Z  | 0.7202638983726501 |  5   |\n",
      "|   362826   |   84879M  | 0.7172607183456421 |  6   |\n",
      "|   362826   |   22720A  | 0.7144532799720764 |  7   |\n",
      "|   362826   |   21175V  | 0.700600266456604  |  8   |\n",
      "|   362826   |   22077P  | 0.6973388195037842 |  9   |\n",
      "|   362826   |   22625P  | 0.6918052434921265 |  10  |\n",
      "|   176418   |   21094A  | 1.2686989307403564 |  1   |\n",
      "|   176418   |  84596BQ  | 1.1358253955841064 |  2   |\n",
      "|   176418   |   20717I  | 1.018040418624878  |  3   |\n",
      "|   176418   |   21080R  | 0.995925784111023  |  4   |\n",
      "|   176418   |   21086B  | 0.9858379364013672 |  5   |\n",
      "|   176418   |   23171H  | 0.9544291496276855 |  6   |\n",
      "|   176418   |   22728B  | 0.9538672566413879 |  7   |\n",
      "|   176418   |   21668N  | 0.9518766403198242 |  8   |\n",
      "|   176418   |   22385P  | 0.9430328011512756 |  9   |\n",
      "|   176418   |  15056ND  | 0.9079843759536743 |  10  |\n",
      "|   273627   |   22328M  | 1.2084953784942627 |  1   |\n",
      "|   273627   |   21213V  | 1.0977416038513184 |  2   |\n",
      "|   273627   |  85071AE  | 1.0940512418746948 |  3   |\n",
      "|   273627   |   22345K  | 1.0736901760101318 |  4   |\n",
      "|   273627   |   84991R  | 1.0290340185165405 |  5   |\n",
      "|   273627   |  85099CQ  | 1.0117928981781006 |  6   |\n",
      "|   273627   |   22906G  | 1.0081424713134766 |  7   |\n",
      "|   273627   |   21479J  | 0.9990438222885132 |  8   |\n",
      "|   273627   |   21043X  | 0.9961327314376831 |  9   |\n",
      "|   273627   |   84375E  | 0.9940241575241089 |  10  |\n",
      "+------------+-----------+--------------------+------+\n",
      "[30 rows x 4 columns]\n",
      "\n"
     ]
    }
   ],
   "source": [
    "model = tc.ranking_factorization_recommender.create(tc.SFrame(data_dummy), \n",
    "                                                    user_id=user_id, \n",
    "                                                    item_id=item_id, \n",
    "                                                    target='total_quantity',user_data=user_data, item_data=item_data, \n",
    "                                                    solver='ials')\n",
    "        \n",
    "\n",
    "\n",
    "recom = model.recommend(users=users_to_recommend, k=n_rec)\n",
    "recom.print_rows(n_display)"
   ]
  },
  {
   "cell_type": "code",
   "execution_count": 117,
   "metadata": {},
   "outputs": [],
   "source": [
    "model.save('final_model_submission')"
   ]
  },
  {
   "cell_type": "markdown",
   "metadata": {},
   "source": [
    "## Model Testing on test data"
   ]
  },
  {
   "cell_type": "markdown",
   "metadata": {},
   "source": [
    "For one user"
   ]
  },
  {
   "cell_type": "code",
   "execution_count": 44,
   "metadata": {
    "scrolled": true
   },
   "outputs": [
    {
     "data": {
      "text/html": [
       "<div style=\"max-height:1000px;max-width:1500px;overflow:auto;\"><table frame=\"box\" rules=\"cols\">\n",
       "    <tr>\n",
       "        <th style=\"padding-left: 1em; padding-right: 1em; text-align: center\">CustomerID</th>\n",
       "        <th style=\"padding-left: 1em; padding-right: 1em; text-align: center\">StockCode</th>\n",
       "        <th style=\"padding-left: 1em; padding-right: 1em; text-align: center\">score</th>\n",
       "        <th style=\"padding-left: 1em; padding-right: 1em; text-align: center\">rank</th>\n",
       "    </tr>\n",
       "    <tr>\n",
       "        <td style=\"padding-left: 1em; padding-right: 1em; text-align: center; vertical-align: top\">127269</td>\n",
       "        <td style=\"padding-left: 1em; padding-right: 1em; text-align: center; vertical-align: top\">22909Z</td>\n",
       "        <td style=\"padding-left: 1em; padding-right: 1em; text-align: center; vertical-align: top\">0.9485517144203186</td>\n",
       "        <td style=\"padding-left: 1em; padding-right: 1em; text-align: center; vertical-align: top\">1</td>\n",
       "    </tr>\n",
       "    <tr>\n",
       "        <td style=\"padding-left: 1em; padding-right: 1em; text-align: center; vertical-align: top\">127269</td>\n",
       "        <td style=\"padding-left: 1em; padding-right: 1em; text-align: center; vertical-align: top\">21175V</td>\n",
       "        <td style=\"padding-left: 1em; padding-right: 1em; text-align: center; vertical-align: top\">0.9293605089187622</td>\n",
       "        <td style=\"padding-left: 1em; padding-right: 1em; text-align: center; vertical-align: top\">2</td>\n",
       "    </tr>\n",
       "    <tr>\n",
       "        <td style=\"padding-left: 1em; padding-right: 1em; text-align: center; vertical-align: top\">127269</td>\n",
       "        <td style=\"padding-left: 1em; padding-right: 1em; text-align: center; vertical-align: top\">85123AY</td>\n",
       "        <td style=\"padding-left: 1em; padding-right: 1em; text-align: center; vertical-align: top\">0.9239928722381592</td>\n",
       "        <td style=\"padding-left: 1em; padding-right: 1em; text-align: center; vertical-align: top\">3</td>\n",
       "    </tr>\n",
       "    <tr>\n",
       "        <td style=\"padding-left: 1em; padding-right: 1em; text-align: center; vertical-align: top\">127269</td>\n",
       "        <td style=\"padding-left: 1em; padding-right: 1em; text-align: center; vertical-align: top\">22423U</td>\n",
       "        <td style=\"padding-left: 1em; padding-right: 1em; text-align: center; vertical-align: top\">0.9160864353179932</td>\n",
       "        <td style=\"padding-left: 1em; padding-right: 1em; text-align: center; vertical-align: top\">4</td>\n",
       "    </tr>\n",
       "    <tr>\n",
       "        <td style=\"padding-left: 1em; padding-right: 1em; text-align: center; vertical-align: top\">127269</td>\n",
       "        <td style=\"padding-left: 1em; padding-right: 1em; text-align: center; vertical-align: top\">22144E</td>\n",
       "        <td style=\"padding-left: 1em; padding-right: 1em; text-align: center; vertical-align: top\">0.9137962460517883</td>\n",
       "        <td style=\"padding-left: 1em; padding-right: 1em; text-align: center; vertical-align: top\">5</td>\n",
       "    </tr>\n",
       "    <tr>\n",
       "        <td style=\"padding-left: 1em; padding-right: 1em; text-align: center; vertical-align: top\">127269</td>\n",
       "        <td style=\"padding-left: 1em; padding-right: 1em; text-align: center; vertical-align: top\">21166I</td>\n",
       "        <td style=\"padding-left: 1em; padding-right: 1em; text-align: center; vertical-align: top\">0.912585973739624</td>\n",
       "        <td style=\"padding-left: 1em; padding-right: 1em; text-align: center; vertical-align: top\">6</td>\n",
       "    </tr>\n",
       "    <tr>\n",
       "        <td style=\"padding-left: 1em; padding-right: 1em; text-align: center; vertical-align: top\">127269</td>\n",
       "        <td style=\"padding-left: 1em; padding-right: 1em; text-align: center; vertical-align: top\">22624O</td>\n",
       "        <td style=\"padding-left: 1em; padding-right: 1em; text-align: center; vertical-align: top\">0.8741899132728577</td>\n",
       "        <td style=\"padding-left: 1em; padding-right: 1em; text-align: center; vertical-align: top\">7</td>\n",
       "    </tr>\n",
       "    <tr>\n",
       "        <td style=\"padding-left: 1em; padding-right: 1em; text-align: center; vertical-align: top\">127269</td>\n",
       "        <td style=\"padding-left: 1em; padding-right: 1em; text-align: center; vertical-align: top\">84970SL</td>\n",
       "        <td style=\"padding-left: 1em; padding-right: 1em; text-align: center; vertical-align: top\">0.8570689558982849</td>\n",
       "        <td style=\"padding-left: 1em; padding-right: 1em; text-align: center; vertical-align: top\">8</td>\n",
       "    </tr>\n",
       "    <tr>\n",
       "        <td style=\"padding-left: 1em; padding-right: 1em; text-align: center; vertical-align: top\">127269</td>\n",
       "        <td style=\"padding-left: 1em; padding-right: 1em; text-align: center; vertical-align: top\">21181K</td>\n",
       "        <td style=\"padding-left: 1em; padding-right: 1em; text-align: center; vertical-align: top\">0.8566892743110657</td>\n",
       "        <td style=\"padding-left: 1em; padding-right: 1em; text-align: center; vertical-align: top\">9</td>\n",
       "    </tr>\n",
       "    <tr>\n",
       "        <td style=\"padding-left: 1em; padding-right: 1em; text-align: center; vertical-align: top\">127269</td>\n",
       "        <td style=\"padding-left: 1em; padding-right: 1em; text-align: center; vertical-align: top\">21914B</td>\n",
       "        <td style=\"padding-left: 1em; padding-right: 1em; text-align: center; vertical-align: top\">0.8536292314529419</td>\n",
       "        <td style=\"padding-left: 1em; padding-right: 1em; text-align: center; vertical-align: top\">10</td>\n",
       "    </tr>\n",
       "</table>\n",
       "[388 rows x 4 columns]<br/>Note: Only the head of the SFrame is printed.<br/>You can use print_rows(num_rows=m, num_columns=n) to print more rows and columns.\n",
       "</div>"
      ],
      "text/plain": [
       "Columns:\n",
       "\tCustomerID\tint\n",
       "\tStockCode\tstr\n",
       "\tscore\tfloat\n",
       "\trank\tint\n",
       "\n",
       "Rows: 388\n",
       "\n",
       "Data:\n",
       "+------------+-----------+--------------------+------+\n",
       "| CustomerID | StockCode |       score        | rank |\n",
       "+------------+-----------+--------------------+------+\n",
       "|   127269   |   22909Z  | 0.9485517144203186 |  1   |\n",
       "|   127269   |   21175V  | 0.9293605089187622 |  2   |\n",
       "|   127269   |  85123AY  | 0.9239928722381592 |  3   |\n",
       "|   127269   |   22423U  | 0.9160864353179932 |  4   |\n",
       "|   127269   |   22144E  | 0.9137962460517883 |  5   |\n",
       "|   127269   |   21166I  | 0.912585973739624  |  6   |\n",
       "|   127269   |   22624O  | 0.8741899132728577 |  7   |\n",
       "|   127269   |  84970SL  | 0.8570689558982849 |  8   |\n",
       "|   127269   |   21181K  | 0.8566892743110657 |  9   |\n",
       "|   127269   |   21914B  | 0.8536292314529419 |  10  |\n",
       "+------------+-----------+--------------------+------+\n",
       "[388 rows x 4 columns]\n",
       "Note: Only the head of the SFrame is printed.\n",
       "You can use print_rows(num_rows=m, num_columns=n) to print more rows and columns."
      ]
     },
     "execution_count": 44,
     "metadata": {},
     "output_type": "execute_result"
    }
   ],
   "source": [
    "customer = 127269\n",
    "no_of_products = merged[merged['CustomerID']==customer]['StockCode'].nunique()\n",
    "model.recommend(users=[127269], k=no_of_products)"
   ]
  },
  {
   "cell_type": "code",
   "execution_count": null,
   "metadata": {},
   "outputs": [],
   "source": []
  },
  {
   "cell_type": "markdown",
   "metadata": {},
   "source": [
    "#### For all users\n",
    "So basically we will predict the remaining 50% products for each test customer, we are doing it by considering k = no of products bought before. Here I have one doubt, should we consider the 50% as prodcuts %, or the transaction %. I mean to say that if a customer did 500 transactions but bought only 400 products, so should we consider k=400 or k=500, because the contest page says that the test data is 50% transactions for a diffrent set of customers"
   ]
  },
  {
   "cell_type": "code",
   "execution_count": 45,
   "metadata": {
    "scrolled": true
   },
   "outputs": [],
   "source": [
    "test_user = pd.DataFrame(test['CustomerID'].unique(), columns=['CustomerID'])"
   ]
  },
  {
   "cell_type": "code",
   "execution_count": 46,
   "metadata": {
    "scrolled": true
   },
   "outputs": [],
   "source": [
    "test_user['no_reco_to_made'] = test_user['CustomerID'].apply(lambda x:merged[merged['CustomerID']==x]['StockCode'].nunique())"
   ]
  },
  {
   "cell_type": "code",
   "execution_count": 47,
   "metadata": {
    "scrolled": true
   },
   "outputs": [],
   "source": [
    "test_user['Items'] = test_user['CustomerID'].apply(lambda x: list(model.recommend(users=[x], k=int(test_user[test_user['CustomerID']==x]['no_reco_to_made']))['StockCode']))"
   ]
  },
  {
   "cell_type": "markdown",
   "metadata": {},
   "source": [
    "#### Writing the submission file"
   ]
  },
  {
   "cell_type": "code",
   "execution_count": 48,
   "metadata": {
    "scrolled": true
   },
   "outputs": [],
   "source": [
    "test_user.drop('no_reco_to_made',axis=1).to_csv('./new_submissions_data_exp/reco_fact_target_purchase_count_with_item_user_new_experiment.csv',index=False,header=True)"
   ]
  },
  {
   "cell_type": "code",
   "execution_count": 49,
   "metadata": {},
   "outputs": [],
   "source": [
    "# ohe = one hot encode"
   ]
  },
  {
   "cell_type": "markdown",
   "metadata": {},
   "source": [
    "## Data Experiment logs"
   ]
  },
  {
   "cell_type": "markdown",
   "metadata": {},
   "source": [
    "1. using only alphabetical, primary numeric, and 1e-5 regularization, leaderboard accuracy 0.2450, wont work\n",
    "\n",
    "##### bc we have been using only 80% of data for experiment, and didnt use purchase count at all, thats why such low accuracies\n",
    "\n",
    "2. Okay that worked fine, 0.2598 with all item data, and purchase count\n",
    "\n",
    "3. Increased the iterations to 50, increased num_smapled_negative_examples to 10, didnt improve the performance, 0.2591\n",
    "\n",
    "4. Used only primary_numeric codes, but didnt improve, came back to 0.2598\n",
    "\n",
    "5. Removed all item data, used adagrad solver, and damn that took accuracy to 0.19 lololo!!!!!!!!! buoycott adagrad\n",
    "\n",
    "6. One hot encoded primary_numeric, no improvement"
   ]
  },
  {
   "cell_type": "markdown",
   "metadata": {},
   "source": [
    "# Ensemble Learning"
   ]
  },
  {
   "cell_type": "markdown",
   "metadata": {},
   "source": [
    "### Lets try out ensemble here"
   ]
  },
  {
   "cell_type": "markdown",
   "metadata": {},
   "source": [
    "For each user we predict required no. of products, then make it a single list, then find out top products from that list"
   ]
  },
  {
   "cell_type": "markdown",
   "metadata": {},
   "source": [
    "Models to be used,\n",
    "1. Model with item data and purchase count\n",
    "2. Model without item data and purchase count\n",
    "lets do it for two then we will see if this works or not"
   ]
  },
  {
   "cell_type": "code",
   "execution_count": 52,
   "metadata": {},
   "outputs": [],
   "source": [
    "# constant variables to define field names include:\n",
    "user_id = 'CustomerID'\n",
    "item_id = 'StockCode'\n",
    "users_to_recommend = list(train_data[user_id][0:3])\n",
    "n_rec = 10 # number of items to recommend\n",
    "n_display = 30 # to display the first few rows in an output dataset\n",
    "\n",
    "target = 'total_quantity'\n",
    "item_data = tc.SFrame(items_df.drop(['alphabet_codes','secondary_numeric','single_digit_numeric'],axis=1))\n",
    "user_data = None"
   ]
  },
  {
   "cell_type": "code",
   "execution_count": 53,
   "metadata": {
    "scrolled": true
   },
   "outputs": [
    {
     "data": {
      "text/html": [
       "<pre>Preparing data set.</pre>"
      ],
      "text/plain": [
       "Preparing data set."
      ]
     },
     "metadata": {},
     "output_type": "display_data"
    },
    {
     "data": {
      "text/html": [
       "<pre>    Data has 366405 observations with 1600 users and 3860 items.</pre>"
      ],
      "text/plain": [
       "    Data has 366405 observations with 1600 users and 3860 items."
      ]
     },
     "metadata": {},
     "output_type": "display_data"
    },
    {
     "data": {
      "text/html": [
       "<pre>    Data prepared in: 0.264924s</pre>"
      ],
      "text/plain": [
       "    Data prepared in: 0.264924s"
      ]
     },
     "metadata": {},
     "output_type": "display_data"
    },
    {
     "data": {
      "text/html": [
       "<pre>Training ranking_factorization_recommender for recommendations.</pre>"
      ],
      "text/plain": [
       "Training ranking_factorization_recommender for recommendations."
      ]
     },
     "metadata": {},
     "output_type": "display_data"
    },
    {
     "data": {
      "text/html": [
       "<pre>+------------------------------+--------------------------------------------------+----------+</pre>"
      ],
      "text/plain": [
       "+------------------------------+--------------------------------------------------+----------+"
      ]
     },
     "metadata": {},
     "output_type": "display_data"
    },
    {
     "data": {
      "text/html": [
       "<pre>| Parameter                    | Description                                      | Value    |</pre>"
      ],
      "text/plain": [
       "| Parameter                    | Description                                      | Value    |"
      ]
     },
     "metadata": {},
     "output_type": "display_data"
    },
    {
     "data": {
      "text/html": [
       "<pre>+------------------------------+--------------------------------------------------+----------+</pre>"
      ],
      "text/plain": [
       "+------------------------------+--------------------------------------------------+----------+"
      ]
     },
     "metadata": {},
     "output_type": "display_data"
    },
    {
     "data": {
      "text/html": [
       "<pre>| num_factors                  | Factor Dimension                                 | 32       |</pre>"
      ],
      "text/plain": [
       "| num_factors                  | Factor Dimension                                 | 32       |"
      ]
     },
     "metadata": {},
     "output_type": "display_data"
    },
    {
     "data": {
      "text/html": [
       "<pre>| regularization               | L2 Regularization on Factors                     | 1e-09    |</pre>"
      ],
      "text/plain": [
       "| regularization               | L2 Regularization on Factors                     | 1e-09    |"
      ]
     },
     "metadata": {},
     "output_type": "display_data"
    },
    {
     "data": {
      "text/html": [
       "<pre>| max_iterations               | Maximum Number of Iterations                     | 25       |</pre>"
      ],
      "text/plain": [
       "| max_iterations               | Maximum Number of Iterations                     | 25       |"
      ]
     },
     "metadata": {},
     "output_type": "display_data"
    },
    {
     "data": {
      "text/html": [
       "<pre>| solver                       | Solver used for training                         | ials     |</pre>"
      ],
      "text/plain": [
       "| solver                       | Solver used for training                         | ials     |"
      ]
     },
     "metadata": {},
     "output_type": "display_data"
    },
    {
     "data": {
      "text/html": [
       "<pre>+------------------------------+--------------------------------------------------+----------+</pre>"
      ],
      "text/plain": [
       "+------------------------------+--------------------------------------------------+----------+"
      ]
     },
     "metadata": {},
     "output_type": "display_data"
    },
    {
     "data": {
      "text/html": [
       "<pre>+---------+--------------+---------------------------+</pre>"
      ],
      "text/plain": [
       "+---------+--------------+---------------------------+"
      ]
     },
     "metadata": {},
     "output_type": "display_data"
    },
    {
     "data": {
      "text/html": [
       "<pre>| Iter.   | Elapsed time | Estimated Objective Value |</pre>"
      ],
      "text/plain": [
       "| Iter.   | Elapsed time | Estimated Objective Value |"
      ]
     },
     "metadata": {},
     "output_type": "display_data"
    },
    {
     "data": {
      "text/html": [
       "<pre>+---------+--------------+---------------------------+</pre>"
      ],
      "text/plain": [
       "+---------+--------------+---------------------------+"
      ]
     },
     "metadata": {},
     "output_type": "display_data"
    },
    {
     "data": {
      "text/html": [
       "<pre>| Initial | 51us         | NA                        |</pre>"
      ],
      "text/plain": [
       "| Initial | 51us         | NA                        |"
      ]
     },
     "metadata": {},
     "output_type": "display_data"
    },
    {
     "data": {
      "text/html": [
       "<pre>+---------+--------------+---------------------------+</pre>"
      ],
      "text/plain": [
       "+---------+--------------+---------------------------+"
      ]
     },
     "metadata": {},
     "output_type": "display_data"
    },
    {
     "data": {
      "text/html": [
       "<pre>| 0       | 132.193ms    | 0.922698                  |</pre>"
      ],
      "text/plain": [
       "| 0       | 132.193ms    | 0.922698                  |"
      ]
     },
     "metadata": {},
     "output_type": "display_data"
    },
    {
     "data": {
      "text/html": [
       "<pre>| 1       | 263.897ms    | 0.864921                  |</pre>"
      ],
      "text/plain": [
       "| 1       | 263.897ms    | 0.864921                  |"
      ]
     },
     "metadata": {},
     "output_type": "display_data"
    },
    {
     "data": {
      "text/html": [
       "<pre>| 2       | 426.075ms    | 0.856565                  |</pre>"
      ],
      "text/plain": [
       "| 2       | 426.075ms    | 0.856565                  |"
      ]
     },
     "metadata": {},
     "output_type": "display_data"
    },
    {
     "data": {
      "text/html": [
       "<pre>| 3       | 609.345ms    | 0.853126                  |</pre>"
      ],
      "text/plain": [
       "| 3       | 609.345ms    | 0.853126                  |"
      ]
     },
     "metadata": {},
     "output_type": "display_data"
    },
    {
     "data": {
      "text/html": [
       "<pre>| 4       | 779.45ms     | 0.851429                  |</pre>"
      ],
      "text/plain": [
       "| 4       | 779.45ms     | 0.851429                  |"
      ]
     },
     "metadata": {},
     "output_type": "display_data"
    },
    {
     "data": {
      "text/html": [
       "<pre>| 5       | 939.344ms    | 0.850464                  |</pre>"
      ],
      "text/plain": [
       "| 5       | 939.344ms    | 0.850464                  |"
      ]
     },
     "metadata": {},
     "output_type": "display_data"
    },
    {
     "data": {
      "text/html": [
       "<pre>| 6       | 1.08s        | 0.849861                  |</pre>"
      ],
      "text/plain": [
       "| 6       | 1.08s        | 0.849861                  |"
      ]
     },
     "metadata": {},
     "output_type": "display_data"
    },
    {
     "data": {
      "text/html": [
       "<pre>| 7       | 1.23s        | 0.849459                  |</pre>"
      ],
      "text/plain": [
       "| 7       | 1.23s        | 0.849459                  |"
      ]
     },
     "metadata": {},
     "output_type": "display_data"
    },
    {
     "data": {
      "text/html": [
       "<pre>| 8       | 1.37s        | 0.849179                  |</pre>"
      ],
      "text/plain": [
       "| 8       | 1.37s        | 0.849179                  |"
      ]
     },
     "metadata": {},
     "output_type": "display_data"
    },
    {
     "data": {
      "text/html": [
       "<pre>| 9       | 1.50s        | 0.848977                  |</pre>"
      ],
      "text/plain": [
       "| 9       | 1.50s        | 0.848977                  |"
      ]
     },
     "metadata": {},
     "output_type": "display_data"
    },
    {
     "data": {
      "text/html": [
       "<pre>| 10      | 1.68s        | 0.848828                  |</pre>"
      ],
      "text/plain": [
       "| 10      | 1.68s        | 0.848828                  |"
      ]
     },
     "metadata": {},
     "output_type": "display_data"
    },
    {
     "data": {
      "text/html": [
       "<pre>| 11      | 1.82s        | 0.848714                  |</pre>"
      ],
      "text/plain": [
       "| 11      | 1.82s        | 0.848714                  |"
      ]
     },
     "metadata": {},
     "output_type": "display_data"
    },
    {
     "data": {
      "text/html": [
       "<pre>| 12      | 1.96s        | 0.848626                  |</pre>"
      ],
      "text/plain": [
       "| 12      | 1.96s        | 0.848626                  |"
      ]
     },
     "metadata": {},
     "output_type": "display_data"
    },
    {
     "data": {
      "text/html": [
       "<pre>| 13      | 2.10s        | 0.848557                  |</pre>"
      ],
      "text/plain": [
       "| 13      | 2.10s        | 0.848557                  |"
      ]
     },
     "metadata": {},
     "output_type": "display_data"
    },
    {
     "data": {
      "text/html": [
       "<pre>| 14      | 2.25s        | 0.848501                  |</pre>"
      ],
      "text/plain": [
       "| 14      | 2.25s        | 0.848501                  |"
      ]
     },
     "metadata": {},
     "output_type": "display_data"
    },
    {
     "data": {
      "text/html": [
       "<pre>| 15      | 2.38s        | 0.848456                  |</pre>"
      ],
      "text/plain": [
       "| 15      | 2.38s        | 0.848456                  |"
      ]
     },
     "metadata": {},
     "output_type": "display_data"
    },
    {
     "data": {
      "text/html": [
       "<pre>| 16      | 2.52s        | 0.848419                  |</pre>"
      ],
      "text/plain": [
       "| 16      | 2.52s        | 0.848419                  |"
      ]
     },
     "metadata": {},
     "output_type": "display_data"
    },
    {
     "data": {
      "text/html": [
       "<pre>| 17      | 2.66s        | 0.848388                  |</pre>"
      ],
      "text/plain": [
       "| 17      | 2.66s        | 0.848388                  |"
      ]
     },
     "metadata": {},
     "output_type": "display_data"
    },
    {
     "data": {
      "text/html": [
       "<pre>| 18      | 2.84s        | 0.848362                  |</pre>"
      ],
      "text/plain": [
       "| 18      | 2.84s        | 0.848362                  |"
      ]
     },
     "metadata": {},
     "output_type": "display_data"
    },
    {
     "data": {
      "text/html": [
       "<pre>| 19      | 2.98s        | 0.84834                   |</pre>"
      ],
      "text/plain": [
       "| 19      | 2.98s        | 0.84834                   |"
      ]
     },
     "metadata": {},
     "output_type": "display_data"
    },
    {
     "data": {
      "text/html": [
       "<pre>| 20      | 3.13s        | 0.848321                  |</pre>"
      ],
      "text/plain": [
       "| 20      | 3.13s        | 0.848321                  |"
      ]
     },
     "metadata": {},
     "output_type": "display_data"
    },
    {
     "data": {
      "text/html": [
       "<pre>| 21      | 3.27s        | 0.848305                  |</pre>"
      ],
      "text/plain": [
       "| 21      | 3.27s        | 0.848305                  |"
      ]
     },
     "metadata": {},
     "output_type": "display_data"
    },
    {
     "data": {
      "text/html": [
       "<pre>| 22      | 3.42s        | 0.848291                  |</pre>"
      ],
      "text/plain": [
       "| 22      | 3.42s        | 0.848291                  |"
      ]
     },
     "metadata": {},
     "output_type": "display_data"
    },
    {
     "data": {
      "text/html": [
       "<pre>| 23      | 3.55s        | 0.848278                  |</pre>"
      ],
      "text/plain": [
       "| 23      | 3.55s        | 0.848278                  |"
      ]
     },
     "metadata": {},
     "output_type": "display_data"
    },
    {
     "data": {
      "text/html": [
       "<pre>| 24      | 3.69s        | 0.848267                  |</pre>"
      ],
      "text/plain": [
       "| 24      | 3.69s        | 0.848267                  |"
      ]
     },
     "metadata": {},
     "output_type": "display_data"
    },
    {
     "data": {
      "text/html": [
       "<pre>| FINAL   | 3.69s        | 0.848267                  |</pre>"
      ],
      "text/plain": [
       "| FINAL   | 3.69s        | 0.848267                  |"
      ]
     },
     "metadata": {},
     "output_type": "display_data"
    },
    {
     "data": {
      "text/html": [
       "<pre>+---------+--------------+---------------------------+</pre>"
      ],
      "text/plain": [
       "+---------+--------------+---------------------------+"
      ]
     },
     "metadata": {},
     "output_type": "display_data"
    },
    {
     "data": {
      "text/html": [
       "<pre>Optimization Complete: Iteration limit reached.</pre>"
      ],
      "text/plain": [
       "Optimization Complete: Iteration limit reached."
      ]
     },
     "metadata": {},
     "output_type": "display_data"
    },
    {
     "data": {
      "text/html": [
       "<pre>Warning: This solver currently does not support side features. Proceeding with training without side features.</pre>"
      ],
      "text/plain": [
       "Warning: This solver currently does not support side features. Proceeding with training without side features."
      ]
     },
     "metadata": {},
     "output_type": "display_data"
    },
    {
     "data": {
      "text/html": [
       "<pre>Preparing data set.</pre>"
      ],
      "text/plain": [
       "Preparing data set."
      ]
     },
     "metadata": {},
     "output_type": "display_data"
    },
    {
     "data": {
      "text/html": [
       "<pre>    Data has 366405 observations with 1600 users and 3860 items.</pre>"
      ],
      "text/plain": [
       "    Data has 366405 observations with 1600 users and 3860 items."
      ]
     },
     "metadata": {},
     "output_type": "display_data"
    },
    {
     "data": {
      "text/html": [
       "<pre>    Data prepared in: 0.263488s</pre>"
      ],
      "text/plain": [
       "    Data prepared in: 0.263488s"
      ]
     },
     "metadata": {},
     "output_type": "display_data"
    },
    {
     "data": {
      "text/html": [
       "<pre>Training ranking_factorization_recommender for recommendations.</pre>"
      ],
      "text/plain": [
       "Training ranking_factorization_recommender for recommendations."
      ]
     },
     "metadata": {},
     "output_type": "display_data"
    },
    {
     "data": {
      "text/html": [
       "<pre>+------------------------------+--------------------------------------------------+----------+</pre>"
      ],
      "text/plain": [
       "+------------------------------+--------------------------------------------------+----------+"
      ]
     },
     "metadata": {},
     "output_type": "display_data"
    },
    {
     "data": {
      "text/html": [
       "<pre>| Parameter                    | Description                                      | Value    |</pre>"
      ],
      "text/plain": [
       "| Parameter                    | Description                                      | Value    |"
      ]
     },
     "metadata": {},
     "output_type": "display_data"
    },
    {
     "data": {
      "text/html": [
       "<pre>+------------------------------+--------------------------------------------------+----------+</pre>"
      ],
      "text/plain": [
       "+------------------------------+--------------------------------------------------+----------+"
      ]
     },
     "metadata": {},
     "output_type": "display_data"
    },
    {
     "data": {
      "text/html": [
       "<pre>| num_factors                  | Factor Dimension                                 | 32       |</pre>"
      ],
      "text/plain": [
       "| num_factors                  | Factor Dimension                                 | 32       |"
      ]
     },
     "metadata": {},
     "output_type": "display_data"
    },
    {
     "data": {
      "text/html": [
       "<pre>| regularization               | L2 Regularization on Factors                     | 1e-09    |</pre>"
      ],
      "text/plain": [
       "| regularization               | L2 Regularization on Factors                     | 1e-09    |"
      ]
     },
     "metadata": {},
     "output_type": "display_data"
    },
    {
     "data": {
      "text/html": [
       "<pre>| max_iterations               | Maximum Number of Iterations                     | 25       |</pre>"
      ],
      "text/plain": [
       "| max_iterations               | Maximum Number of Iterations                     | 25       |"
      ]
     },
     "metadata": {},
     "output_type": "display_data"
    },
    {
     "data": {
      "text/html": [
       "<pre>| solver                       | Solver used for training                         | ials     |</pre>"
      ],
      "text/plain": [
       "| solver                       | Solver used for training                         | ials     |"
      ]
     },
     "metadata": {},
     "output_type": "display_data"
    },
    {
     "data": {
      "text/html": [
       "<pre>+------------------------------+--------------------------------------------------+----------+</pre>"
      ],
      "text/plain": [
       "+------------------------------+--------------------------------------------------+----------+"
      ]
     },
     "metadata": {},
     "output_type": "display_data"
    },
    {
     "data": {
      "text/html": [
       "<pre>+---------+--------------+---------------------------+</pre>"
      ],
      "text/plain": [
       "+---------+--------------+---------------------------+"
      ]
     },
     "metadata": {},
     "output_type": "display_data"
    },
    {
     "data": {
      "text/html": [
       "<pre>| Iter.   | Elapsed time | Estimated Objective Value |</pre>"
      ],
      "text/plain": [
       "| Iter.   | Elapsed time | Estimated Objective Value |"
      ]
     },
     "metadata": {},
     "output_type": "display_data"
    },
    {
     "data": {
      "text/html": [
       "<pre>+---------+--------------+---------------------------+</pre>"
      ],
      "text/plain": [
       "+---------+--------------+---------------------------+"
      ]
     },
     "metadata": {},
     "output_type": "display_data"
    },
    {
     "data": {
      "text/html": [
       "<pre>| Initial | 48us         | NA                        |</pre>"
      ],
      "text/plain": [
       "| Initial | 48us         | NA                        |"
      ]
     },
     "metadata": {},
     "output_type": "display_data"
    },
    {
     "data": {
      "text/html": [
       "<pre>+---------+--------------+---------------------------+</pre>"
      ],
      "text/plain": [
       "+---------+--------------+---------------------------+"
      ]
     },
     "metadata": {},
     "output_type": "display_data"
    },
    {
     "data": {
      "text/html": [
       "<pre>| 0       | 149.452ms    | 0.922894                  |</pre>"
      ],
      "text/plain": [
       "| 0       | 149.452ms    | 0.922894                  |"
      ]
     },
     "metadata": {},
     "output_type": "display_data"
    },
    {
     "data": {
      "text/html": [
       "<pre>| 1       | 279.17ms     | 0.864787                  |</pre>"
      ],
      "text/plain": [
       "| 1       | 279.17ms     | 0.864787                  |"
      ]
     },
     "metadata": {},
     "output_type": "display_data"
    },
    {
     "data": {
      "text/html": [
       "<pre>| 2       | 417.21ms     | 0.856516                  |</pre>"
      ],
      "text/plain": [
       "| 2       | 417.21ms     | 0.856516                  |"
      ]
     },
     "metadata": {},
     "output_type": "display_data"
    },
    {
     "data": {
      "text/html": [
       "<pre>| 3       | 551.666ms    | 0.853112                  |</pre>"
      ],
      "text/plain": [
       "| 3       | 551.666ms    | 0.853112                  |"
      ]
     },
     "metadata": {},
     "output_type": "display_data"
    },
    {
     "data": {
      "text/html": [
       "<pre>| 4       | 689.079ms    | 0.851419                  |</pre>"
      ],
      "text/plain": [
       "| 4       | 689.079ms    | 0.851419                  |"
      ]
     },
     "metadata": {},
     "output_type": "display_data"
    },
    {
     "data": {
      "text/html": [
       "<pre>| 5       | 825.41ms     | 0.850453                  |</pre>"
      ],
      "text/plain": [
       "| 5       | 825.41ms     | 0.850453                  |"
      ]
     },
     "metadata": {},
     "output_type": "display_data"
    },
    {
     "data": {
      "text/html": [
       "<pre>| 6       | 961.884ms    | 0.849846                  |</pre>"
      ],
      "text/plain": [
       "| 6       | 961.884ms    | 0.849846                  |"
      ]
     },
     "metadata": {},
     "output_type": "display_data"
    },
    {
     "data": {
      "text/html": [
       "<pre>| 7       | 1.10s        | 0.849439                  |</pre>"
      ],
      "text/plain": [
       "| 7       | 1.10s        | 0.849439                  |"
      ]
     },
     "metadata": {},
     "output_type": "display_data"
    },
    {
     "data": {
      "text/html": [
       "<pre>| 8       | 1.24s        | 0.849154                  |</pre>"
      ],
      "text/plain": [
       "| 8       | 1.24s        | 0.849154                  |"
      ]
     },
     "metadata": {},
     "output_type": "display_data"
    },
    {
     "data": {
      "text/html": [
       "<pre>| 9       | 1.38s        | 0.848949                  |</pre>"
      ],
      "text/plain": [
       "| 9       | 1.38s        | 0.848949                  |"
      ]
     },
     "metadata": {},
     "output_type": "display_data"
    },
    {
     "data": {
      "text/html": [
       "<pre>| 10      | 1.52s        | 0.848798                  |</pre>"
      ],
      "text/plain": [
       "| 10      | 1.52s        | 0.848798                  |"
      ]
     },
     "metadata": {},
     "output_type": "display_data"
    },
    {
     "data": {
      "text/html": [
       "<pre>| 11      | 1.65s        | 0.848685                  |</pre>"
      ],
      "text/plain": [
       "| 11      | 1.65s        | 0.848685                  |"
      ]
     },
     "metadata": {},
     "output_type": "display_data"
    },
    {
     "data": {
      "text/html": [
       "<pre>| 12      | 1.79s        | 0.848599                  |</pre>"
      ],
      "text/plain": [
       "| 12      | 1.79s        | 0.848599                  |"
      ]
     },
     "metadata": {},
     "output_type": "display_data"
    },
    {
     "data": {
      "text/html": [
       "<pre>| 13      | 1.94s        | 0.848533                  |</pre>"
      ],
      "text/plain": [
       "| 13      | 1.94s        | 0.848533                  |"
      ]
     },
     "metadata": {},
     "output_type": "display_data"
    },
    {
     "data": {
      "text/html": [
       "<pre>| 14      | 2.07s        | 0.848481                  |</pre>"
      ],
      "text/plain": [
       "| 14      | 2.07s        | 0.848481                  |"
      ]
     },
     "metadata": {},
     "output_type": "display_data"
    },
    {
     "data": {
      "text/html": [
       "<pre>| 15      | 2.21s        | 0.848439                  |</pre>"
      ],
      "text/plain": [
       "| 15      | 2.21s        | 0.848439                  |"
      ]
     },
     "metadata": {},
     "output_type": "display_data"
    },
    {
     "data": {
      "text/html": [
       "<pre>| 16      | 2.35s        | 0.848404                  |</pre>"
      ],
      "text/plain": [
       "| 16      | 2.35s        | 0.848404                  |"
      ]
     },
     "metadata": {},
     "output_type": "display_data"
    },
    {
     "data": {
      "text/html": [
       "<pre>| 17      | 2.49s        | 0.848376                  |</pre>"
      ],
      "text/plain": [
       "| 17      | 2.49s        | 0.848376                  |"
      ]
     },
     "metadata": {},
     "output_type": "display_data"
    },
    {
     "data": {
      "text/html": [
       "<pre>| 18      | 2.63s        | 0.848352                  |</pre>"
      ],
      "text/plain": [
       "| 18      | 2.63s        | 0.848352                  |"
      ]
     },
     "metadata": {},
     "output_type": "display_data"
    },
    {
     "data": {
      "text/html": [
       "<pre>| 19      | 2.77s        | 0.848331                  |</pre>"
      ],
      "text/plain": [
       "| 19      | 2.77s        | 0.848331                  |"
      ]
     },
     "metadata": {},
     "output_type": "display_data"
    },
    {
     "data": {
      "text/html": [
       "<pre>| 20      | 2.90s        | 0.848313                  |</pre>"
      ],
      "text/plain": [
       "| 20      | 2.90s        | 0.848313                  |"
      ]
     },
     "metadata": {},
     "output_type": "display_data"
    },
    {
     "data": {
      "text/html": [
       "<pre>| 21      | 3.04s        | 0.848298                  |</pre>"
      ],
      "text/plain": [
       "| 21      | 3.04s        | 0.848298                  |"
      ]
     },
     "metadata": {},
     "output_type": "display_data"
    },
    {
     "data": {
      "text/html": [
       "<pre>| 22      | 3.18s        | 0.848285                  |</pre>"
      ],
      "text/plain": [
       "| 22      | 3.18s        | 0.848285                  |"
      ]
     },
     "metadata": {},
     "output_type": "display_data"
    },
    {
     "data": {
      "text/html": [
       "<pre>| 23      | 3.31s        | 0.848273                  |</pre>"
      ],
      "text/plain": [
       "| 23      | 3.31s        | 0.848273                  |"
      ]
     },
     "metadata": {},
     "output_type": "display_data"
    },
    {
     "data": {
      "text/html": [
       "<pre>| 24      | 3.45s        | 0.848262                  |</pre>"
      ],
      "text/plain": [
       "| 24      | 3.45s        | 0.848262                  |"
      ]
     },
     "metadata": {},
     "output_type": "display_data"
    },
    {
     "data": {
      "text/html": [
       "<pre>| FINAL   | 3.45s        | 0.848262                  |</pre>"
      ],
      "text/plain": [
       "| FINAL   | 3.45s        | 0.848262                  |"
      ]
     },
     "metadata": {},
     "output_type": "display_data"
    },
    {
     "data": {
      "text/html": [
       "<pre>+---------+--------------+---------------------------+</pre>"
      ],
      "text/plain": [
       "+---------+--------------+---------------------------+"
      ]
     },
     "metadata": {},
     "output_type": "display_data"
    },
    {
     "data": {
      "text/html": [
       "<pre>Optimization Complete: Iteration limit reached.</pre>"
      ],
      "text/plain": [
       "Optimization Complete: Iteration limit reached."
      ]
     },
     "metadata": {},
     "output_type": "display_data"
    },
    {
     "data": {
      "text/html": [
       "<pre>Preparing data set.</pre>"
      ],
      "text/plain": [
       "Preparing data set."
      ]
     },
     "metadata": {},
     "output_type": "display_data"
    },
    {
     "data": {
      "text/html": [
       "<pre>    Data has 366405 observations with 1600 users and 3860 items.</pre>"
      ],
      "text/plain": [
       "    Data has 366405 observations with 1600 users and 3860 items."
      ]
     },
     "metadata": {},
     "output_type": "display_data"
    },
    {
     "data": {
      "text/html": [
       "<pre>    Data prepared in: 0.262664s</pre>"
      ],
      "text/plain": [
       "    Data prepared in: 0.262664s"
      ]
     },
     "metadata": {},
     "output_type": "display_data"
    },
    {
     "data": {
      "text/html": [
       "<pre>Training ranking_factorization_recommender for recommendations.</pre>"
      ],
      "text/plain": [
       "Training ranking_factorization_recommender for recommendations."
      ]
     },
     "metadata": {},
     "output_type": "display_data"
    },
    {
     "data": {
      "text/html": [
       "<pre>+------------------------------+--------------------------------------------------+----------+</pre>"
      ],
      "text/plain": [
       "+------------------------------+--------------------------------------------------+----------+"
      ]
     },
     "metadata": {},
     "output_type": "display_data"
    },
    {
     "data": {
      "text/html": [
       "<pre>| Parameter                    | Description                                      | Value    |</pre>"
      ],
      "text/plain": [
       "| Parameter                    | Description                                      | Value    |"
      ]
     },
     "metadata": {},
     "output_type": "display_data"
    },
    {
     "data": {
      "text/html": [
       "<pre>+------------------------------+--------------------------------------------------+----------+</pre>"
      ],
      "text/plain": [
       "+------------------------------+--------------------------------------------------+----------+"
      ]
     },
     "metadata": {},
     "output_type": "display_data"
    },
    {
     "data": {
      "text/html": [
       "<pre>| num_factors                  | Factor Dimension                                 | 32       |</pre>"
      ],
      "text/plain": [
       "| num_factors                  | Factor Dimension                                 | 32       |"
      ]
     },
     "metadata": {},
     "output_type": "display_data"
    },
    {
     "data": {
      "text/html": [
       "<pre>| regularization               | L2 Regularization on Factors                     | 1e-09    |</pre>"
      ],
      "text/plain": [
       "| regularization               | L2 Regularization on Factors                     | 1e-09    |"
      ]
     },
     "metadata": {},
     "output_type": "display_data"
    },
    {
     "data": {
      "text/html": [
       "<pre>| max_iterations               | Maximum Number of Iterations                     | 25       |</pre>"
      ],
      "text/plain": [
       "| max_iterations               | Maximum Number of Iterations                     | 25       |"
      ]
     },
     "metadata": {},
     "output_type": "display_data"
    },
    {
     "data": {
      "text/html": [
       "<pre>| solver                       | Solver used for training                         | ials     |</pre>"
      ],
      "text/plain": [
       "| solver                       | Solver used for training                         | ials     |"
      ]
     },
     "metadata": {},
     "output_type": "display_data"
    },
    {
     "data": {
      "text/html": [
       "<pre>+------------------------------+--------------------------------------------------+----------+</pre>"
      ],
      "text/plain": [
       "+------------------------------+--------------------------------------------------+----------+"
      ]
     },
     "metadata": {},
     "output_type": "display_data"
    },
    {
     "data": {
      "text/html": [
       "<pre>+---------+--------------+---------------------------+</pre>"
      ],
      "text/plain": [
       "+---------+--------------+---------------------------+"
      ]
     },
     "metadata": {},
     "output_type": "display_data"
    },
    {
     "data": {
      "text/html": [
       "<pre>| Iter.   | Elapsed time | Estimated Objective Value |</pre>"
      ],
      "text/plain": [
       "| Iter.   | Elapsed time | Estimated Objective Value |"
      ]
     },
     "metadata": {},
     "output_type": "display_data"
    },
    {
     "data": {
      "text/html": [
       "<pre>+---------+--------------+---------------------------+</pre>"
      ],
      "text/plain": [
       "+---------+--------------+---------------------------+"
      ]
     },
     "metadata": {},
     "output_type": "display_data"
    },
    {
     "data": {
      "text/html": [
       "<pre>| Initial | 58us         | NA                        |</pre>"
      ],
      "text/plain": [
       "| Initial | 58us         | NA                        |"
      ]
     },
     "metadata": {},
     "output_type": "display_data"
    },
    {
     "data": {
      "text/html": [
       "<pre>+---------+--------------+---------------------------+</pre>"
      ],
      "text/plain": [
       "+---------+--------------+---------------------------+"
      ]
     },
     "metadata": {},
     "output_type": "display_data"
    },
    {
     "data": {
      "text/html": [
       "<pre>| 0       | 138.621ms    | 0.923069                  |</pre>"
      ],
      "text/plain": [
       "| 0       | 138.621ms    | 0.923069                  |"
      ]
     },
     "metadata": {},
     "output_type": "display_data"
    },
    {
     "data": {
      "text/html": [
       "<pre>| 1       | 275.698ms    | 0.864952                  |</pre>"
      ],
      "text/plain": [
       "| 1       | 275.698ms    | 0.864952                  |"
      ]
     },
     "metadata": {},
     "output_type": "display_data"
    },
    {
     "data": {
      "text/html": [
       "<pre>| 2       | 410.382ms    | 0.85657                   |</pre>"
      ],
      "text/plain": [
       "| 2       | 410.382ms    | 0.85657                   |"
      ]
     },
     "metadata": {},
     "output_type": "display_data"
    },
    {
     "data": {
      "text/html": [
       "<pre>| 3       | 547.977ms    | 0.853123                  |</pre>"
      ],
      "text/plain": [
       "| 3       | 547.977ms    | 0.853123                  |"
      ]
     },
     "metadata": {},
     "output_type": "display_data"
    },
    {
     "data": {
      "text/html": [
       "<pre>| 4       | 686.007ms    | 0.851422                  |</pre>"
      ],
      "text/plain": [
       "| 4       | 686.007ms    | 0.851422                  |"
      ]
     },
     "metadata": {},
     "output_type": "display_data"
    },
    {
     "data": {
      "text/html": [
       "<pre>| 5       | 827.521ms    | 0.850458                  |</pre>"
      ],
      "text/plain": [
       "| 5       | 827.521ms    | 0.850458                  |"
      ]
     },
     "metadata": {},
     "output_type": "display_data"
    },
    {
     "data": {
      "text/html": [
       "<pre>| 6       | 967.495ms    | 0.849855                  |</pre>"
      ],
      "text/plain": [
       "| 6       | 967.495ms    | 0.849855                  |"
      ]
     },
     "metadata": {},
     "output_type": "display_data"
    },
    {
     "data": {
      "text/html": [
       "<pre>| 7       | 1.11s        | 0.849452                  |</pre>"
      ],
      "text/plain": [
       "| 7       | 1.11s        | 0.849452                  |"
      ]
     },
     "metadata": {},
     "output_type": "display_data"
    },
    {
     "data": {
      "text/html": [
       "<pre>| 8       | 1.25s        | 0.84917                   |</pre>"
      ],
      "text/plain": [
       "| 8       | 1.25s        | 0.84917                   |"
      ]
     },
     "metadata": {},
     "output_type": "display_data"
    },
    {
     "data": {
      "text/html": [
       "<pre>| 9       | 1.39s        | 0.848966                  |</pre>"
      ],
      "text/plain": [
       "| 9       | 1.39s        | 0.848966                  |"
      ]
     },
     "metadata": {},
     "output_type": "display_data"
    },
    {
     "data": {
      "text/html": [
       "<pre>| 10      | 1.53s        | 0.848813                  |</pre>"
      ],
      "text/plain": [
       "| 10      | 1.53s        | 0.848813                  |"
      ]
     },
     "metadata": {},
     "output_type": "display_data"
    },
    {
     "data": {
      "text/html": [
       "<pre>| 11      | 1.67s        | 0.848697                  |</pre>"
      ],
      "text/plain": [
       "| 11      | 1.67s        | 0.848697                  |"
      ]
     },
     "metadata": {},
     "output_type": "display_data"
    },
    {
     "data": {
      "text/html": [
       "<pre>| 12      | 1.81s        | 0.848606                  |</pre>"
      ],
      "text/plain": [
       "| 12      | 1.81s        | 0.848606                  |"
      ]
     },
     "metadata": {},
     "output_type": "display_data"
    },
    {
     "data": {
      "text/html": [
       "<pre>| 13      | 1.95s        | 0.848534                  |</pre>"
      ],
      "text/plain": [
       "| 13      | 1.95s        | 0.848534                  |"
      ]
     },
     "metadata": {},
     "output_type": "display_data"
    },
    {
     "data": {
      "text/html": [
       "<pre>| 14      | 2.09s        | 0.848476                  |</pre>"
      ],
      "text/plain": [
       "| 14      | 2.09s        | 0.848476                  |"
      ]
     },
     "metadata": {},
     "output_type": "display_data"
    },
    {
     "data": {
      "text/html": [
       "<pre>| 15      | 2.23s        | 0.848429                  |</pre>"
      ],
      "text/plain": [
       "| 15      | 2.23s        | 0.848429                  |"
      ]
     },
     "metadata": {},
     "output_type": "display_data"
    },
    {
     "data": {
      "text/html": [
       "<pre>| 16      | 2.37s        | 0.84839                   |</pre>"
      ],
      "text/plain": [
       "| 16      | 2.37s        | 0.84839                   |"
      ]
     },
     "metadata": {},
     "output_type": "display_data"
    },
    {
     "data": {
      "text/html": [
       "<pre>| 17      | 2.51s        | 0.848358                  |</pre>"
      ],
      "text/plain": [
       "| 17      | 2.51s        | 0.848358                  |"
      ]
     },
     "metadata": {},
     "output_type": "display_data"
    },
    {
     "data": {
      "text/html": [
       "<pre>| 18      | 2.65s        | 0.848332                  |</pre>"
      ],
      "text/plain": [
       "| 18      | 2.65s        | 0.848332                  |"
      ]
     },
     "metadata": {},
     "output_type": "display_data"
    },
    {
     "data": {
      "text/html": [
       "<pre>| 19      | 2.79s        | 0.848309                  |</pre>"
      ],
      "text/plain": [
       "| 19      | 2.79s        | 0.848309                  |"
      ]
     },
     "metadata": {},
     "output_type": "display_data"
    },
    {
     "data": {
      "text/html": [
       "<pre>| 20      | 2.93s        | 0.84829                   |</pre>"
      ],
      "text/plain": [
       "| 20      | 2.93s        | 0.84829                   |"
      ]
     },
     "metadata": {},
     "output_type": "display_data"
    },
    {
     "data": {
      "text/html": [
       "<pre>| 21      | 3.07s        | 0.848274                  |</pre>"
      ],
      "text/plain": [
       "| 21      | 3.07s        | 0.848274                  |"
      ]
     },
     "metadata": {},
     "output_type": "display_data"
    },
    {
     "data": {
      "text/html": [
       "<pre>| 22      | 3.21s        | 0.84826                   |</pre>"
      ],
      "text/plain": [
       "| 22      | 3.21s        | 0.84826                   |"
      ]
     },
     "metadata": {},
     "output_type": "display_data"
    },
    {
     "data": {
      "text/html": [
       "<pre>| 23      | 3.34s        | 0.848248                  |</pre>"
      ],
      "text/plain": [
       "| 23      | 3.34s        | 0.848248                  |"
      ]
     },
     "metadata": {},
     "output_type": "display_data"
    },
    {
     "data": {
      "text/html": [
       "<pre>| 24      | 3.48s        | 0.848238                  |</pre>"
      ],
      "text/plain": [
       "| 24      | 3.48s        | 0.848238                  |"
      ]
     },
     "metadata": {},
     "output_type": "display_data"
    },
    {
     "data": {
      "text/html": [
       "<pre>| FINAL   | 3.48s        | 0.848238                  |</pre>"
      ],
      "text/plain": [
       "| FINAL   | 3.48s        | 0.848238                  |"
      ]
     },
     "metadata": {},
     "output_type": "display_data"
    },
    {
     "data": {
      "text/html": [
       "<pre>+---------+--------------+---------------------------+</pre>"
      ],
      "text/plain": [
       "+---------+--------------+---------------------------+"
      ]
     },
     "metadata": {},
     "output_type": "display_data"
    },
    {
     "data": {
      "text/html": [
       "<pre>Optimization Complete: Iteration limit reached.</pre>"
      ],
      "text/plain": [
       "Optimization Complete: Iteration limit reached."
      ]
     },
     "metadata": {},
     "output_type": "display_data"
    },
    {
     "data": {
      "text/html": [
       "<pre>Preparing data set.</pre>"
      ],
      "text/plain": [
       "Preparing data set."
      ]
     },
     "metadata": {},
     "output_type": "display_data"
    },
    {
     "data": {
      "text/html": [
       "<pre>    Data has 366405 observations with 1600 users and 3860 items.</pre>"
      ],
      "text/plain": [
       "    Data has 366405 observations with 1600 users and 3860 items."
      ]
     },
     "metadata": {},
     "output_type": "display_data"
    },
    {
     "data": {
      "text/html": [
       "<pre>    Data prepared in: 0.261132s</pre>"
      ],
      "text/plain": [
       "    Data prepared in: 0.261132s"
      ]
     },
     "metadata": {},
     "output_type": "display_data"
    },
    {
     "data": {
      "text/html": [
       "<pre>Training ranking_factorization_recommender for recommendations.</pre>"
      ],
      "text/plain": [
       "Training ranking_factorization_recommender for recommendations."
      ]
     },
     "metadata": {},
     "output_type": "display_data"
    },
    {
     "data": {
      "text/html": [
       "<pre>+------------------------------+--------------------------------------------------+----------+</pre>"
      ],
      "text/plain": [
       "+------------------------------+--------------------------------------------------+----------+"
      ]
     },
     "metadata": {},
     "output_type": "display_data"
    },
    {
     "data": {
      "text/html": [
       "<pre>| Parameter                    | Description                                      | Value    |</pre>"
      ],
      "text/plain": [
       "| Parameter                    | Description                                      | Value    |"
      ]
     },
     "metadata": {},
     "output_type": "display_data"
    },
    {
     "data": {
      "text/html": [
       "<pre>+------------------------------+--------------------------------------------------+----------+</pre>"
      ],
      "text/plain": [
       "+------------------------------+--------------------------------------------------+----------+"
      ]
     },
     "metadata": {},
     "output_type": "display_data"
    },
    {
     "data": {
      "text/html": [
       "<pre>| num_factors                  | Factor Dimension                                 | 32       |</pre>"
      ],
      "text/plain": [
       "| num_factors                  | Factor Dimension                                 | 32       |"
      ]
     },
     "metadata": {},
     "output_type": "display_data"
    },
    {
     "data": {
      "text/html": [
       "<pre>| regularization               | L2 Regularization on Factors                     | 1e-05    |</pre>"
      ],
      "text/plain": [
       "| regularization               | L2 Regularization on Factors                     | 1e-05    |"
      ]
     },
     "metadata": {},
     "output_type": "display_data"
    },
    {
     "data": {
      "text/html": [
       "<pre>| max_iterations               | Maximum Number of Iterations                     | 75       |</pre>"
      ],
      "text/plain": [
       "| max_iterations               | Maximum Number of Iterations                     | 75       |"
      ]
     },
     "metadata": {},
     "output_type": "display_data"
    },
    {
     "data": {
      "text/html": [
       "<pre>| solver                       | Solver used for training                         | ials     |</pre>"
      ],
      "text/plain": [
       "| solver                       | Solver used for training                         | ials     |"
      ]
     },
     "metadata": {},
     "output_type": "display_data"
    },
    {
     "data": {
      "text/html": [
       "<pre>+------------------------------+--------------------------------------------------+----------+</pre>"
      ],
      "text/plain": [
       "+------------------------------+--------------------------------------------------+----------+"
      ]
     },
     "metadata": {},
     "output_type": "display_data"
    },
    {
     "data": {
      "text/html": [
       "<pre>+---------+--------------+---------------------------+</pre>"
      ],
      "text/plain": [
       "+---------+--------------+---------------------------+"
      ]
     },
     "metadata": {},
     "output_type": "display_data"
    },
    {
     "data": {
      "text/html": [
       "<pre>| Iter.   | Elapsed time | Estimated Objective Value |</pre>"
      ],
      "text/plain": [
       "| Iter.   | Elapsed time | Estimated Objective Value |"
      ]
     },
     "metadata": {},
     "output_type": "display_data"
    },
    {
     "data": {
      "text/html": [
       "<pre>+---------+--------------+---------------------------+</pre>"
      ],
      "text/plain": [
       "+---------+--------------+---------------------------+"
      ]
     },
     "metadata": {},
     "output_type": "display_data"
    },
    {
     "data": {
      "text/html": [
       "<pre>| Initial | 57us         | NA                        |</pre>"
      ],
      "text/plain": [
       "| Initial | 57us         | NA                        |"
      ]
     },
     "metadata": {},
     "output_type": "display_data"
    },
    {
     "data": {
      "text/html": [
       "<pre>+---------+--------------+---------------------------+</pre>"
      ],
      "text/plain": [
       "+---------+--------------+---------------------------+"
      ]
     },
     "metadata": {},
     "output_type": "display_data"
    },
    {
     "data": {
      "text/html": [
       "<pre>| 0       | 133.477ms    | 1.27641                   |</pre>"
      ],
      "text/plain": [
       "| 0       | 133.477ms    | 1.27641                   |"
      ]
     },
     "metadata": {},
     "output_type": "display_data"
    },
    {
     "data": {
      "text/html": [
       "<pre>| 1       | 262.457ms    | 0.874525                  |</pre>"
      ],
      "text/plain": [
       "| 1       | 262.457ms    | 0.874525                  |"
      ]
     },
     "metadata": {},
     "output_type": "display_data"
    },
    {
     "data": {
      "text/html": [
       "<pre>| 2       | 396.95ms     | 0.864797                  |</pre>"
      ],
      "text/plain": [
       "| 2       | 396.95ms     | 0.864797                  |"
      ]
     },
     "metadata": {},
     "output_type": "display_data"
    },
    {
     "data": {
      "text/html": [
       "<pre>| 3       | 535.057ms    | 0.860972                  |</pre>"
      ],
      "text/plain": [
       "| 3       | 535.057ms    | 0.860972                  |"
      ]
     },
     "metadata": {},
     "output_type": "display_data"
    },
    {
     "data": {
      "text/html": [
       "<pre>| 4       | 667.445ms    | 0.859036                  |</pre>"
      ],
      "text/plain": [
       "| 4       | 667.445ms    | 0.859036                  |"
      ]
     },
     "metadata": {},
     "output_type": "display_data"
    },
    {
     "data": {
      "text/html": [
       "<pre>| 5       | 804.196ms    | 0.857881                  |</pre>"
      ],
      "text/plain": [
       "| 5       | 804.196ms    | 0.857881                  |"
      ]
     },
     "metadata": {},
     "output_type": "display_data"
    },
    {
     "data": {
      "text/html": [
       "<pre>| 6       | 946.706ms    | 0.857114                  |</pre>"
      ],
      "text/plain": [
       "| 6       | 946.706ms    | 0.857114                  |"
      ]
     },
     "metadata": {},
     "output_type": "display_data"
    },
    {
     "data": {
      "text/html": [
       "<pre>| 7       | 1.08s        | 0.85657                   |</pre>"
      ],
      "text/plain": [
       "| 7       | 1.08s        | 0.85657                   |"
      ]
     },
     "metadata": {},
     "output_type": "display_data"
    },
    {
     "data": {
      "text/html": [
       "<pre>| 8       | 1.22s        | 0.856169                  |</pre>"
      ],
      "text/plain": [
       "| 8       | 1.22s        | 0.856169                  |"
      ]
     },
     "metadata": {},
     "output_type": "display_data"
    },
    {
     "data": {
      "text/html": [
       "<pre>| 9       | 1.36s        | 0.855862                  |</pre>"
      ],
      "text/plain": [
       "| 9       | 1.36s        | 0.855862                  |"
      ]
     },
     "metadata": {},
     "output_type": "display_data"
    },
    {
     "data": {
      "text/html": [
       "<pre>| 10      | 1.49s        | 0.855619                  |</pre>"
      ],
      "text/plain": [
       "| 10      | 1.49s        | 0.855619                  |"
      ]
     },
     "metadata": {},
     "output_type": "display_data"
    },
    {
     "data": {
      "text/html": [
       "<pre>| 11      | 1.63s        | 0.855423                  |</pre>"
      ],
      "text/plain": [
       "| 11      | 1.63s        | 0.855423                  |"
      ]
     },
     "metadata": {},
     "output_type": "display_data"
    },
    {
     "data": {
      "text/html": [
       "<pre>| 12      | 1.77s        | 0.85526                   |</pre>"
      ],
      "text/plain": [
       "| 12      | 1.77s        | 0.85526                   |"
      ]
     },
     "metadata": {},
     "output_type": "display_data"
    },
    {
     "data": {
      "text/html": [
       "<pre>| 13      | 1.91s        | 0.855121                  |</pre>"
      ],
      "text/plain": [
       "| 13      | 1.91s        | 0.855121                  |"
      ]
     },
     "metadata": {},
     "output_type": "display_data"
    },
    {
     "data": {
      "text/html": [
       "<pre>| 14      | 2.04s        | 0.855002                  |</pre>"
      ],
      "text/plain": [
       "| 14      | 2.04s        | 0.855002                  |"
      ]
     },
     "metadata": {},
     "output_type": "display_data"
    },
    {
     "data": {
      "text/html": [
       "<pre>| 15      | 2.18s        | 0.854898                  |</pre>"
      ],
      "text/plain": [
       "| 15      | 2.18s        | 0.854898                  |"
      ]
     },
     "metadata": {},
     "output_type": "display_data"
    },
    {
     "data": {
      "text/html": [
       "<pre>| 16      | 2.32s        | 0.854806                  |</pre>"
      ],
      "text/plain": [
       "| 16      | 2.32s        | 0.854806                  |"
      ]
     },
     "metadata": {},
     "output_type": "display_data"
    },
    {
     "data": {
      "text/html": [
       "<pre>| 17      | 2.46s        | 0.854723                  |</pre>"
      ],
      "text/plain": [
       "| 17      | 2.46s        | 0.854723                  |"
      ]
     },
     "metadata": {},
     "output_type": "display_data"
    },
    {
     "data": {
      "text/html": [
       "<pre>| 18      | 2.59s        | 0.85465                   |</pre>"
      ],
      "text/plain": [
       "| 18      | 2.59s        | 0.85465                   |"
      ]
     },
     "metadata": {},
     "output_type": "display_data"
    },
    {
     "data": {
      "text/html": [
       "<pre>| 19      | 2.74s        | 0.854583                  |</pre>"
      ],
      "text/plain": [
       "| 19      | 2.74s        | 0.854583                  |"
      ]
     },
     "metadata": {},
     "output_type": "display_data"
    },
    {
     "data": {
      "text/html": [
       "<pre>| 20      | 2.88s        | 0.854522                  |</pre>"
      ],
      "text/plain": [
       "| 20      | 2.88s        | 0.854522                  |"
      ]
     },
     "metadata": {},
     "output_type": "display_data"
    },
    {
     "data": {
      "text/html": [
       "<pre>| 21      | 3.02s        | 0.854467                  |</pre>"
      ],
      "text/plain": [
       "| 21      | 3.02s        | 0.854467                  |"
      ]
     },
     "metadata": {},
     "output_type": "display_data"
    },
    {
     "data": {
      "text/html": [
       "<pre>| 22      | 3.16s        | 0.854416                  |</pre>"
      ],
      "text/plain": [
       "| 22      | 3.16s        | 0.854416                  |"
      ]
     },
     "metadata": {},
     "output_type": "display_data"
    },
    {
     "data": {
      "text/html": [
       "<pre>| 23      | 3.30s        | 0.854369                  |</pre>"
      ],
      "text/plain": [
       "| 23      | 3.30s        | 0.854369                  |"
      ]
     },
     "metadata": {},
     "output_type": "display_data"
    },
    {
     "data": {
      "text/html": [
       "<pre>| 24      | 3.44s        | 0.854326                  |</pre>"
      ],
      "text/plain": [
       "| 24      | 3.44s        | 0.854326                  |"
      ]
     },
     "metadata": {},
     "output_type": "display_data"
    },
    {
     "data": {
      "text/html": [
       "<pre>| 25      | 3.58s        | 0.854286                  |</pre>"
      ],
      "text/plain": [
       "| 25      | 3.58s        | 0.854286                  |"
      ]
     },
     "metadata": {},
     "output_type": "display_data"
    },
    {
     "data": {
      "text/html": [
       "<pre>| 26      | 3.72s        | 0.854249                  |</pre>"
      ],
      "text/plain": [
       "| 26      | 3.72s        | 0.854249                  |"
      ]
     },
     "metadata": {},
     "output_type": "display_data"
    },
    {
     "data": {
      "text/html": [
       "<pre>| 27      | 3.85s        | 0.854215                  |</pre>"
      ],
      "text/plain": [
       "| 27      | 3.85s        | 0.854215                  |"
      ]
     },
     "metadata": {},
     "output_type": "display_data"
    },
    {
     "data": {
      "text/html": [
       "<pre>| 28      | 3.99s        | 0.854182                  |</pre>"
      ],
      "text/plain": [
       "| 28      | 3.99s        | 0.854182                  |"
      ]
     },
     "metadata": {},
     "output_type": "display_data"
    },
    {
     "data": {
      "text/html": [
       "<pre>| 29      | 4.13s        | 0.854152                  |</pre>"
      ],
      "text/plain": [
       "| 29      | 4.13s        | 0.854152                  |"
      ]
     },
     "metadata": {},
     "output_type": "display_data"
    },
    {
     "data": {
      "text/html": [
       "<pre>| 30      | 4.27s        | 0.854124                  |</pre>"
      ],
      "text/plain": [
       "| 30      | 4.27s        | 0.854124                  |"
      ]
     },
     "metadata": {},
     "output_type": "display_data"
    },
    {
     "data": {
      "text/html": [
       "<pre>| 31      | 4.41s        | 0.854097                  |</pre>"
      ],
      "text/plain": [
       "| 31      | 4.41s        | 0.854097                  |"
      ]
     },
     "metadata": {},
     "output_type": "display_data"
    },
    {
     "data": {
      "text/html": [
       "<pre>| 32      | 4.54s        | 0.854072                  |</pre>"
      ],
      "text/plain": [
       "| 32      | 4.54s        | 0.854072                  |"
      ]
     },
     "metadata": {},
     "output_type": "display_data"
    },
    {
     "data": {
      "text/html": [
       "<pre>| 33      | 4.68s        | 0.854049                  |</pre>"
      ],
      "text/plain": [
       "| 33      | 4.68s        | 0.854049                  |"
      ]
     },
     "metadata": {},
     "output_type": "display_data"
    },
    {
     "data": {
      "text/html": [
       "<pre>| 34      | 4.81s        | 0.854027                  |</pre>"
      ],
      "text/plain": [
       "| 34      | 4.81s        | 0.854027                  |"
      ]
     },
     "metadata": {},
     "output_type": "display_data"
    },
    {
     "data": {
      "text/html": [
       "<pre>| 35      | 4.95s        | 0.854005                  |</pre>"
      ],
      "text/plain": [
       "| 35      | 4.95s        | 0.854005                  |"
      ]
     },
     "metadata": {},
     "output_type": "display_data"
    },
    {
     "data": {
      "text/html": [
       "<pre>| 36      | 5.09s        | 0.853985                  |</pre>"
      ],
      "text/plain": [
       "| 36      | 5.09s        | 0.853985                  |"
      ]
     },
     "metadata": {},
     "output_type": "display_data"
    },
    {
     "data": {
      "text/html": [
       "<pre>| 37      | 5.22s        | 0.853966                  |</pre>"
      ],
      "text/plain": [
       "| 37      | 5.22s        | 0.853966                  |"
      ]
     },
     "metadata": {},
     "output_type": "display_data"
    },
    {
     "data": {
      "text/html": [
       "<pre>| 38      | 5.36s        | 0.853948                  |</pre>"
      ],
      "text/plain": [
       "| 38      | 5.36s        | 0.853948                  |"
      ]
     },
     "metadata": {},
     "output_type": "display_data"
    },
    {
     "data": {
      "text/html": [
       "<pre>| 39      | 5.50s        | 0.853931                  |</pre>"
      ],
      "text/plain": [
       "| 39      | 5.50s        | 0.853931                  |"
      ]
     },
     "metadata": {},
     "output_type": "display_data"
    },
    {
     "data": {
      "text/html": [
       "<pre>| 40      | 5.64s        | 0.853915                  |</pre>"
      ],
      "text/plain": [
       "| 40      | 5.64s        | 0.853915                  |"
      ]
     },
     "metadata": {},
     "output_type": "display_data"
    },
    {
     "data": {
      "text/html": [
       "<pre>| 41      | 5.78s        | 0.853899                  |</pre>"
      ],
      "text/plain": [
       "| 41      | 5.78s        | 0.853899                  |"
      ]
     },
     "metadata": {},
     "output_type": "display_data"
    },
    {
     "data": {
      "text/html": [
       "<pre>| 42      | 5.91s        | 0.853884                  |</pre>"
      ],
      "text/plain": [
       "| 42      | 5.91s        | 0.853884                  |"
      ]
     },
     "metadata": {},
     "output_type": "display_data"
    },
    {
     "data": {
      "text/html": [
       "<pre>| 43      | 6.05s        | 0.85387                   |</pre>"
      ],
      "text/plain": [
       "| 43      | 6.05s        | 0.85387                   |"
      ]
     },
     "metadata": {},
     "output_type": "display_data"
    },
    {
     "data": {
      "text/html": [
       "<pre>| 44      | 6.19s        | 0.853856                  |</pre>"
      ],
      "text/plain": [
       "| 44      | 6.19s        | 0.853856                  |"
      ]
     },
     "metadata": {},
     "output_type": "display_data"
    },
    {
     "data": {
      "text/html": [
       "<pre>| 45      | 6.33s        | 0.853843                  |</pre>"
      ],
      "text/plain": [
       "| 45      | 6.33s        | 0.853843                  |"
      ]
     },
     "metadata": {},
     "output_type": "display_data"
    },
    {
     "data": {
      "text/html": [
       "<pre>| 46      | 6.46s        | 0.85383                   |</pre>"
      ],
      "text/plain": [
       "| 46      | 6.46s        | 0.85383                   |"
      ]
     },
     "metadata": {},
     "output_type": "display_data"
    },
    {
     "data": {
      "text/html": [
       "<pre>| 47      | 6.60s        | 0.853818                  |</pre>"
      ],
      "text/plain": [
       "| 47      | 6.60s        | 0.853818                  |"
      ]
     },
     "metadata": {},
     "output_type": "display_data"
    },
    {
     "data": {
      "text/html": [
       "<pre>| 48      | 6.74s        | 0.853806                  |</pre>"
      ],
      "text/plain": [
       "| 48      | 6.74s        | 0.853806                  |"
      ]
     },
     "metadata": {},
     "output_type": "display_data"
    },
    {
     "data": {
      "text/html": [
       "<pre>| 49      | 6.88s        | 0.853795                  |</pre>"
      ],
      "text/plain": [
       "| 49      | 6.88s        | 0.853795                  |"
      ]
     },
     "metadata": {},
     "output_type": "display_data"
    },
    {
     "data": {
      "text/html": [
       "<pre>| 50      | 7.02s        | 0.853784                  |</pre>"
      ],
      "text/plain": [
       "| 50      | 7.02s        | 0.853784                  |"
      ]
     },
     "metadata": {},
     "output_type": "display_data"
    },
    {
     "data": {
      "text/html": [
       "<pre>| 51      | 7.16s        | 0.853773                  |</pre>"
      ],
      "text/plain": [
       "| 51      | 7.16s        | 0.853773                  |"
      ]
     },
     "metadata": {},
     "output_type": "display_data"
    },
    {
     "data": {
      "text/html": [
       "<pre>| 52      | 7.30s        | 0.853763                  |</pre>"
      ],
      "text/plain": [
       "| 52      | 7.30s        | 0.853763                  |"
      ]
     },
     "metadata": {},
     "output_type": "display_data"
    },
    {
     "data": {
      "text/html": [
       "<pre>| 53      | 7.43s        | 0.853754                  |</pre>"
      ],
      "text/plain": [
       "| 53      | 7.43s        | 0.853754                  |"
      ]
     },
     "metadata": {},
     "output_type": "display_data"
    },
    {
     "data": {
      "text/html": [
       "<pre>| 54      | 7.57s        | 0.853744                  |</pre>"
      ],
      "text/plain": [
       "| 54      | 7.57s        | 0.853744                  |"
      ]
     },
     "metadata": {},
     "output_type": "display_data"
    },
    {
     "data": {
      "text/html": [
       "<pre>| 55      | 7.71s        | 0.853735                  |</pre>"
      ],
      "text/plain": [
       "| 55      | 7.71s        | 0.853735                  |"
      ]
     },
     "metadata": {},
     "output_type": "display_data"
    },
    {
     "data": {
      "text/html": [
       "<pre>| 56      | 7.85s        | 0.853726                  |</pre>"
      ],
      "text/plain": [
       "| 56      | 7.85s        | 0.853726                  |"
      ]
     },
     "metadata": {},
     "output_type": "display_data"
    },
    {
     "data": {
      "text/html": [
       "<pre>| 57      | 7.98s        | 0.853718                  |</pre>"
      ],
      "text/plain": [
       "| 57      | 7.98s        | 0.853718                  |"
      ]
     },
     "metadata": {},
     "output_type": "display_data"
    },
    {
     "data": {
      "text/html": [
       "<pre>| 58      | 8.12s        | 0.853709                  |</pre>"
      ],
      "text/plain": [
       "| 58      | 8.12s        | 0.853709                  |"
      ]
     },
     "metadata": {},
     "output_type": "display_data"
    },
    {
     "data": {
      "text/html": [
       "<pre>| 59      | 8.26s        | 0.853701                  |</pre>"
      ],
      "text/plain": [
       "| 59      | 8.26s        | 0.853701                  |"
      ]
     },
     "metadata": {},
     "output_type": "display_data"
    },
    {
     "data": {
      "text/html": [
       "<pre>| 60      | 8.39s        | 0.853694                  |</pre>"
      ],
      "text/plain": [
       "| 60      | 8.39s        | 0.853694                  |"
      ]
     },
     "metadata": {},
     "output_type": "display_data"
    },
    {
     "data": {
      "text/html": [
       "<pre>| 61      | 8.53s        | 0.853686                  |</pre>"
      ],
      "text/plain": [
       "| 61      | 8.53s        | 0.853686                  |"
      ]
     },
     "metadata": {},
     "output_type": "display_data"
    },
    {
     "data": {
      "text/html": [
       "<pre>| 62      | 8.67s        | 0.853679                  |</pre>"
      ],
      "text/plain": [
       "| 62      | 8.67s        | 0.853679                  |"
      ]
     },
     "metadata": {},
     "output_type": "display_data"
    },
    {
     "data": {
      "text/html": [
       "<pre>| 63      | 8.81s        | 0.853672                  |</pre>"
      ],
      "text/plain": [
       "| 63      | 8.81s        | 0.853672                  |"
      ]
     },
     "metadata": {},
     "output_type": "display_data"
    },
    {
     "data": {
      "text/html": [
       "<pre>| 64      | 8.94s        | 0.853665                  |</pre>"
      ],
      "text/plain": [
       "| 64      | 8.94s        | 0.853665                  |"
      ]
     },
     "metadata": {},
     "output_type": "display_data"
    },
    {
     "data": {
      "text/html": [
       "<pre>| 65      | 9.08s        | 0.853659                  |</pre>"
      ],
      "text/plain": [
       "| 65      | 9.08s        | 0.853659                  |"
      ]
     },
     "metadata": {},
     "output_type": "display_data"
    },
    {
     "data": {
      "text/html": [
       "<pre>| 66      | 9.22s        | 0.853652                  |</pre>"
      ],
      "text/plain": [
       "| 66      | 9.22s        | 0.853652                  |"
      ]
     },
     "metadata": {},
     "output_type": "display_data"
    },
    {
     "data": {
      "text/html": [
       "<pre>| 67      | 9.36s        | 0.853646                  |</pre>"
      ],
      "text/plain": [
       "| 67      | 9.36s        | 0.853646                  |"
      ]
     },
     "metadata": {},
     "output_type": "display_data"
    },
    {
     "data": {
      "text/html": [
       "<pre>| 68      | 9.50s        | 0.85364                   |</pre>"
      ],
      "text/plain": [
       "| 68      | 9.50s        | 0.85364                   |"
      ]
     },
     "metadata": {},
     "output_type": "display_data"
    },
    {
     "data": {
      "text/html": [
       "<pre>| 69      | 9.64s        | 0.853634                  |</pre>"
      ],
      "text/plain": [
       "| 69      | 9.64s        | 0.853634                  |"
      ]
     },
     "metadata": {},
     "output_type": "display_data"
    },
    {
     "data": {
      "text/html": [
       "<pre>| 70      | 9.78s        | 0.853628                  |</pre>"
      ],
      "text/plain": [
       "| 70      | 9.78s        | 0.853628                  |"
      ]
     },
     "metadata": {},
     "output_type": "display_data"
    },
    {
     "data": {
      "text/html": [
       "<pre>| 71      | 9.91s        | 0.853623                  |</pre>"
      ],
      "text/plain": [
       "| 71      | 9.91s        | 0.853623                  |"
      ]
     },
     "metadata": {},
     "output_type": "display_data"
    },
    {
     "data": {
      "text/html": [
       "<pre>| 72      | 10.05s       | 0.853617                  |</pre>"
      ],
      "text/plain": [
       "| 72      | 10.05s       | 0.853617                  |"
      ]
     },
     "metadata": {},
     "output_type": "display_data"
    },
    {
     "data": {
      "text/html": [
       "<pre>| 73      | 10.19s       | 0.853612                  |</pre>"
      ],
      "text/plain": [
       "| 73      | 10.19s       | 0.853612                  |"
      ]
     },
     "metadata": {},
     "output_type": "display_data"
    },
    {
     "data": {
      "text/html": [
       "<pre>| 74      | 10.33s       | 0.853607                  |</pre>"
      ],
      "text/plain": [
       "| 74      | 10.33s       | 0.853607                  |"
      ]
     },
     "metadata": {},
     "output_type": "display_data"
    },
    {
     "data": {
      "text/html": [
       "<pre>| FINAL   | 10.33s       | 0.853607                  |</pre>"
      ],
      "text/plain": [
       "| FINAL   | 10.33s       | 0.853607                  |"
      ]
     },
     "metadata": {},
     "output_type": "display_data"
    },
    {
     "data": {
      "text/html": [
       "<pre>+---------+--------------+---------------------------+</pre>"
      ],
      "text/plain": [
       "+---------+--------------+---------------------------+"
      ]
     },
     "metadata": {},
     "output_type": "display_data"
    },
    {
     "data": {
      "text/html": [
       "<pre>Optimization Complete: Iteration limit reached.</pre>"
      ],
      "text/plain": [
       "Optimization Complete: Iteration limit reached."
      ]
     },
     "metadata": {},
     "output_type": "display_data"
    },
    {
     "data": {
      "text/html": [
       "<pre>Warning: This solver currently does not support side features. Proceeding with training without side features.</pre>"
      ],
      "text/plain": [
       "Warning: This solver currently does not support side features. Proceeding with training without side features."
      ]
     },
     "metadata": {},
     "output_type": "display_data"
    },
    {
     "data": {
      "text/html": [
       "<pre>Preparing data set.</pre>"
      ],
      "text/plain": [
       "Preparing data set."
      ]
     },
     "metadata": {},
     "output_type": "display_data"
    },
    {
     "data": {
      "text/html": [
       "<pre>    Data has 366405 observations with 1600 users and 3860 items.</pre>"
      ],
      "text/plain": [
       "    Data has 366405 observations with 1600 users and 3860 items."
      ]
     },
     "metadata": {},
     "output_type": "display_data"
    },
    {
     "data": {
      "text/html": [
       "<pre>    Data prepared in: 0.26535s</pre>"
      ],
      "text/plain": [
       "    Data prepared in: 0.26535s"
      ]
     },
     "metadata": {},
     "output_type": "display_data"
    },
    {
     "data": {
      "text/html": [
       "<pre>Training ranking_factorization_recommender for recommendations.</pre>"
      ],
      "text/plain": [
       "Training ranking_factorization_recommender for recommendations."
      ]
     },
     "metadata": {},
     "output_type": "display_data"
    },
    {
     "data": {
      "text/html": [
       "<pre>+------------------------------+--------------------------------------------------+----------+</pre>"
      ],
      "text/plain": [
       "+------------------------------+--------------------------------------------------+----------+"
      ]
     },
     "metadata": {},
     "output_type": "display_data"
    },
    {
     "data": {
      "text/html": [
       "<pre>| Parameter                    | Description                                      | Value    |</pre>"
      ],
      "text/plain": [
       "| Parameter                    | Description                                      | Value    |"
      ]
     },
     "metadata": {},
     "output_type": "display_data"
    },
    {
     "data": {
      "text/html": [
       "<pre>+------------------------------+--------------------------------------------------+----------+</pre>"
      ],
      "text/plain": [
       "+------------------------------+--------------------------------------------------+----------+"
      ]
     },
     "metadata": {},
     "output_type": "display_data"
    },
    {
     "data": {
      "text/html": [
       "<pre>| num_factors                  | Factor Dimension                                 | 32       |</pre>"
      ],
      "text/plain": [
       "| num_factors                  | Factor Dimension                                 | 32       |"
      ]
     },
     "metadata": {},
     "output_type": "display_data"
    },
    {
     "data": {
      "text/html": [
       "<pre>| regularization               | L2 Regularization on Factors                     | 1e-09    |</pre>"
      ],
      "text/plain": [
       "| regularization               | L2 Regularization on Factors                     | 1e-09    |"
      ]
     },
     "metadata": {},
     "output_type": "display_data"
    },
    {
     "data": {
      "text/html": [
       "<pre>| max_iterations               | Maximum Number of Iterations                     | 25       |</pre>"
      ],
      "text/plain": [
       "| max_iterations               | Maximum Number of Iterations                     | 25       |"
      ]
     },
     "metadata": {},
     "output_type": "display_data"
    },
    {
     "data": {
      "text/html": [
       "<pre>| solver                       | Solver used for training                         | ials     |</pre>"
      ],
      "text/plain": [
       "| solver                       | Solver used for training                         | ials     |"
      ]
     },
     "metadata": {},
     "output_type": "display_data"
    },
    {
     "data": {
      "text/html": [
       "<pre>+------------------------------+--------------------------------------------------+----------+</pre>"
      ],
      "text/plain": [
       "+------------------------------+--------------------------------------------------+----------+"
      ]
     },
     "metadata": {},
     "output_type": "display_data"
    },
    {
     "data": {
      "text/html": [
       "<pre>+---------+--------------+---------------------------+</pre>"
      ],
      "text/plain": [
       "+---------+--------------+---------------------------+"
      ]
     },
     "metadata": {},
     "output_type": "display_data"
    },
    {
     "data": {
      "text/html": [
       "<pre>| Iter.   | Elapsed time | Estimated Objective Value |</pre>"
      ],
      "text/plain": [
       "| Iter.   | Elapsed time | Estimated Objective Value |"
      ]
     },
     "metadata": {},
     "output_type": "display_data"
    },
    {
     "data": {
      "text/html": [
       "<pre>+---------+--------------+---------------------------+</pre>"
      ],
      "text/plain": [
       "+---------+--------------+---------------------------+"
      ]
     },
     "metadata": {},
     "output_type": "display_data"
    },
    {
     "data": {
      "text/html": [
       "<pre>| Initial | 47us         | NA                        |</pre>"
      ],
      "text/plain": [
       "| Initial | 47us         | NA                        |"
      ]
     },
     "metadata": {},
     "output_type": "display_data"
    },
    {
     "data": {
      "text/html": [
       "<pre>+---------+--------------+---------------------------+</pre>"
      ],
      "text/plain": [
       "+---------+--------------+---------------------------+"
      ]
     },
     "metadata": {},
     "output_type": "display_data"
    },
    {
     "data": {
      "text/html": [
       "<pre>| 0       | 138.242ms    | 0.922436                  |</pre>"
      ],
      "text/plain": [
       "| 0       | 138.242ms    | 0.922436                  |"
      ]
     },
     "metadata": {},
     "output_type": "display_data"
    },
    {
     "data": {
      "text/html": [
       "<pre>| 1       | 266.777ms    | 0.864948                  |</pre>"
      ],
      "text/plain": [
       "| 1       | 266.777ms    | 0.864948                  |"
      ]
     },
     "metadata": {},
     "output_type": "display_data"
    },
    {
     "data": {
      "text/html": [
       "<pre>| 2       | 401.059ms    | 0.856626                  |</pre>"
      ],
      "text/plain": [
       "| 2       | 401.059ms    | 0.856626                  |"
      ]
     },
     "metadata": {},
     "output_type": "display_data"
    },
    {
     "data": {
      "text/html": [
       "<pre>| 3       | 535.181ms    | 0.853163                  |</pre>"
      ],
      "text/plain": [
       "| 3       | 535.181ms    | 0.853163                  |"
      ]
     },
     "metadata": {},
     "output_type": "display_data"
    },
    {
     "data": {
      "text/html": [
       "<pre>| 4       | 668.392ms    | 0.851424                  |</pre>"
      ],
      "text/plain": [
       "| 4       | 668.392ms    | 0.851424                  |"
      ]
     },
     "metadata": {},
     "output_type": "display_data"
    },
    {
     "data": {
      "text/html": [
       "<pre>| 5       | 810.763ms    | 0.850428                  |</pre>"
      ],
      "text/plain": [
       "| 5       | 810.763ms    | 0.850428                  |"
      ]
     },
     "metadata": {},
     "output_type": "display_data"
    },
    {
     "data": {
      "text/html": [
       "<pre>| 6       | 948.469ms    | 0.849802                  |</pre>"
      ],
      "text/plain": [
       "| 6       | 948.469ms    | 0.849802                  |"
      ]
     },
     "metadata": {},
     "output_type": "display_data"
    },
    {
     "data": {
      "text/html": [
       "<pre>| 7       | 1.09s        | 0.849386                  |</pre>"
      ],
      "text/plain": [
       "| 7       | 1.09s        | 0.849386                  |"
      ]
     },
     "metadata": {},
     "output_type": "display_data"
    },
    {
     "data": {
      "text/html": [
       "<pre>| 8       | 1.22s        | 0.8491                    |</pre>"
      ],
      "text/plain": [
       "| 8       | 1.22s        | 0.8491                    |"
      ]
     },
     "metadata": {},
     "output_type": "display_data"
    },
    {
     "data": {
      "text/html": [
       "<pre>| 9       | 1.36s        | 0.848898                  |</pre>"
      ],
      "text/plain": [
       "| 9       | 1.36s        | 0.848898                  |"
      ]
     },
     "metadata": {},
     "output_type": "display_data"
    },
    {
     "data": {
      "text/html": [
       "<pre>| 10      | 1.49s        | 0.848752                  |</pre>"
      ],
      "text/plain": [
       "| 10      | 1.49s        | 0.848752                  |"
      ]
     },
     "metadata": {},
     "output_type": "display_data"
    },
    {
     "data": {
      "text/html": [
       "<pre>| 11      | 1.63s        | 0.848645                  |</pre>"
      ],
      "text/plain": [
       "| 11      | 1.63s        | 0.848645                  |"
      ]
     },
     "metadata": {},
     "output_type": "display_data"
    },
    {
     "data": {
      "text/html": [
       "<pre>| 12      | 1.77s        | 0.848565                  |</pre>"
      ],
      "text/plain": [
       "| 12      | 1.77s        | 0.848565                  |"
      ]
     },
     "metadata": {},
     "output_type": "display_data"
    },
    {
     "data": {
      "text/html": [
       "<pre>| 13      | 1.91s        | 0.848502                  |</pre>"
      ],
      "text/plain": [
       "| 13      | 1.91s        | 0.848502                  |"
      ]
     },
     "metadata": {},
     "output_type": "display_data"
    },
    {
     "data": {
      "text/html": [
       "<pre>| 14      | 2.06s        | 0.848453                  |</pre>"
      ],
      "text/plain": [
       "| 14      | 2.06s        | 0.848453                  |"
      ]
     },
     "metadata": {},
     "output_type": "display_data"
    },
    {
     "data": {
      "text/html": [
       "<pre>| 15      | 2.19s        | 0.848413                  |</pre>"
      ],
      "text/plain": [
       "| 15      | 2.19s        | 0.848413                  |"
      ]
     },
     "metadata": {},
     "output_type": "display_data"
    },
    {
     "data": {
      "text/html": [
       "<pre>| 16      | 2.34s        | 0.84838                   |</pre>"
      ],
      "text/plain": [
       "| 16      | 2.34s        | 0.84838                   |"
      ]
     },
     "metadata": {},
     "output_type": "display_data"
    },
    {
     "data": {
      "text/html": [
       "<pre>| 17      | 2.49s        | 0.848353                  |</pre>"
      ],
      "text/plain": [
       "| 17      | 2.49s        | 0.848353                  |"
      ]
     },
     "metadata": {},
     "output_type": "display_data"
    },
    {
     "data": {
      "text/html": [
       "<pre>| 18      | 2.63s        | 0.848329                  |</pre>"
      ],
      "text/plain": [
       "| 18      | 2.63s        | 0.848329                  |"
      ]
     },
     "metadata": {},
     "output_type": "display_data"
    },
    {
     "data": {
      "text/html": [
       "<pre>| 19      | 2.77s        | 0.848309                  |</pre>"
      ],
      "text/plain": [
       "| 19      | 2.77s        | 0.848309                  |"
      ]
     },
     "metadata": {},
     "output_type": "display_data"
    },
    {
     "data": {
      "text/html": [
       "<pre>| 20      | 2.91s        | 0.848291                  |</pre>"
      ],
      "text/plain": [
       "| 20      | 2.91s        | 0.848291                  |"
      ]
     },
     "metadata": {},
     "output_type": "display_data"
    },
    {
     "data": {
      "text/html": [
       "<pre>| 21      | 3.04s        | 0.848276                  |</pre>"
      ],
      "text/plain": [
       "| 21      | 3.04s        | 0.848276                  |"
      ]
     },
     "metadata": {},
     "output_type": "display_data"
    },
    {
     "data": {
      "text/html": [
       "<pre>| 22      | 3.18s        | 0.848262                  |</pre>"
      ],
      "text/plain": [
       "| 22      | 3.18s        | 0.848262                  |"
      ]
     },
     "metadata": {},
     "output_type": "display_data"
    },
    {
     "data": {
      "text/html": [
       "<pre>| 23      | 3.34s        | 0.84825                   |</pre>"
      ],
      "text/plain": [
       "| 23      | 3.34s        | 0.84825                   |"
      ]
     },
     "metadata": {},
     "output_type": "display_data"
    },
    {
     "data": {
      "text/html": [
       "<pre>| 24      | 3.47s        | 0.848239                  |</pre>"
      ],
      "text/plain": [
       "| 24      | 3.47s        | 0.848239                  |"
      ]
     },
     "metadata": {},
     "output_type": "display_data"
    },
    {
     "data": {
      "text/html": [
       "<pre>| FINAL   | 3.47s        | 0.848239                  |</pre>"
      ],
      "text/plain": [
       "| FINAL   | 3.47s        | 0.848239                  |"
      ]
     },
     "metadata": {},
     "output_type": "display_data"
    },
    {
     "data": {
      "text/html": [
       "<pre>+---------+--------------+---------------------------+</pre>"
      ],
      "text/plain": [
       "+---------+--------------+---------------------------+"
      ]
     },
     "metadata": {},
     "output_type": "display_data"
    },
    {
     "data": {
      "text/html": [
       "<pre>Optimization Complete: Iteration limit reached.</pre>"
      ],
      "text/plain": [
       "Optimization Complete: Iteration limit reached."
      ]
     },
     "metadata": {},
     "output_type": "display_data"
    },
    {
     "data": {
      "text/html": [
       "<pre>Warning: This solver currently does not support side features. Proceeding with training without side features.</pre>"
      ],
      "text/plain": [
       "Warning: This solver currently does not support side features. Proceeding with training without side features."
      ]
     },
     "metadata": {},
     "output_type": "display_data"
    },
    {
     "data": {
      "text/html": [
       "<pre>Preparing data set.</pre>"
      ],
      "text/plain": [
       "Preparing data set."
      ]
     },
     "metadata": {},
     "output_type": "display_data"
    },
    {
     "data": {
      "text/html": [
       "<pre>    Data has 366405 observations with 1600 users and 3860 items.</pre>"
      ],
      "text/plain": [
       "    Data has 366405 observations with 1600 users and 3860 items."
      ]
     },
     "metadata": {},
     "output_type": "display_data"
    },
    {
     "data": {
      "text/html": [
       "<pre>    Data prepared in: 0.26483s</pre>"
      ],
      "text/plain": [
       "    Data prepared in: 0.26483s"
      ]
     },
     "metadata": {},
     "output_type": "display_data"
    },
    {
     "data": {
      "text/html": [
       "<pre>Training ranking_factorization_recommender for recommendations.</pre>"
      ],
      "text/plain": [
       "Training ranking_factorization_recommender for recommendations."
      ]
     },
     "metadata": {},
     "output_type": "display_data"
    },
    {
     "data": {
      "text/html": [
       "<pre>+------------------------------+--------------------------------------------------+----------+</pre>"
      ],
      "text/plain": [
       "+------------------------------+--------------------------------------------------+----------+"
      ]
     },
     "metadata": {},
     "output_type": "display_data"
    },
    {
     "data": {
      "text/html": [
       "<pre>| Parameter                    | Description                                      | Value    |</pre>"
      ],
      "text/plain": [
       "| Parameter                    | Description                                      | Value    |"
      ]
     },
     "metadata": {},
     "output_type": "display_data"
    },
    {
     "data": {
      "text/html": [
       "<pre>+------------------------------+--------------------------------------------------+----------+</pre>"
      ],
      "text/plain": [
       "+------------------------------+--------------------------------------------------+----------+"
      ]
     },
     "metadata": {},
     "output_type": "display_data"
    },
    {
     "data": {
      "text/html": [
       "<pre>| num_factors                  | Factor Dimension                                 | 32       |</pre>"
      ],
      "text/plain": [
       "| num_factors                  | Factor Dimension                                 | 32       |"
      ]
     },
     "metadata": {},
     "output_type": "display_data"
    },
    {
     "data": {
      "text/html": [
       "<pre>| regularization               | L2 Regularization on Factors                     | 1e-09    |</pre>"
      ],
      "text/plain": [
       "| regularization               | L2 Regularization on Factors                     | 1e-09    |"
      ]
     },
     "metadata": {},
     "output_type": "display_data"
    },
    {
     "data": {
      "text/html": [
       "<pre>| max_iterations               | Maximum Number of Iterations                     | 25       |</pre>"
      ],
      "text/plain": [
       "| max_iterations               | Maximum Number of Iterations                     | 25       |"
      ]
     },
     "metadata": {},
     "output_type": "display_data"
    },
    {
     "data": {
      "text/html": [
       "<pre>| solver                       | Solver used for training                         | ials     |</pre>"
      ],
      "text/plain": [
       "| solver                       | Solver used for training                         | ials     |"
      ]
     },
     "metadata": {},
     "output_type": "display_data"
    },
    {
     "data": {
      "text/html": [
       "<pre>+------------------------------+--------------------------------------------------+----------+</pre>"
      ],
      "text/plain": [
       "+------------------------------+--------------------------------------------------+----------+"
      ]
     },
     "metadata": {},
     "output_type": "display_data"
    },
    {
     "data": {
      "text/html": [
       "<pre>+---------+--------------+---------------------------+</pre>"
      ],
      "text/plain": [
       "+---------+--------------+---------------------------+"
      ]
     },
     "metadata": {},
     "output_type": "display_data"
    },
    {
     "data": {
      "text/html": [
       "<pre>| Iter.   | Elapsed time | Estimated Objective Value |</pre>"
      ],
      "text/plain": [
       "| Iter.   | Elapsed time | Estimated Objective Value |"
      ]
     },
     "metadata": {},
     "output_type": "display_data"
    },
    {
     "data": {
      "text/html": [
       "<pre>+---------+--------------+---------------------------+</pre>"
      ],
      "text/plain": [
       "+---------+--------------+---------------------------+"
      ]
     },
     "metadata": {},
     "output_type": "display_data"
    },
    {
     "data": {
      "text/html": [
       "<pre>| Initial | 52us         | NA                        |</pre>"
      ],
      "text/plain": [
       "| Initial | 52us         | NA                        |"
      ]
     },
     "metadata": {},
     "output_type": "display_data"
    },
    {
     "data": {
      "text/html": [
       "<pre>+---------+--------------+---------------------------+</pre>"
      ],
      "text/plain": [
       "+---------+--------------+---------------------------+"
      ]
     },
     "metadata": {},
     "output_type": "display_data"
    },
    {
     "data": {
      "text/html": [
       "<pre>| 0       | 135.071ms    | 0.922622                  |</pre>"
      ],
      "text/plain": [
       "| 0       | 135.071ms    | 0.922622                  |"
      ]
     },
     "metadata": {},
     "output_type": "display_data"
    },
    {
     "data": {
      "text/html": [
       "<pre>| 1       | 263.567ms    | 0.86513                   |</pre>"
      ],
      "text/plain": [
       "| 1       | 263.567ms    | 0.86513                   |"
      ]
     },
     "metadata": {},
     "output_type": "display_data"
    },
    {
     "data": {
      "text/html": [
       "<pre>| 2       | 398.329ms    | 0.856691                  |</pre>"
      ],
      "text/plain": [
       "| 2       | 398.329ms    | 0.856691                  |"
      ]
     },
     "metadata": {},
     "output_type": "display_data"
    },
    {
     "data": {
      "text/html": [
       "<pre>| 3       | 533.804ms    | 0.853155                  |</pre>"
      ],
      "text/plain": [
       "| 3       | 533.804ms    | 0.853155                  |"
      ]
     },
     "metadata": {},
     "output_type": "display_data"
    },
    {
     "data": {
      "text/html": [
       "<pre>| 4       | 673.542ms    | 0.851402                  |</pre>"
      ],
      "text/plain": [
       "| 4       | 673.542ms    | 0.851402                  |"
      ]
     },
     "metadata": {},
     "output_type": "display_data"
    },
    {
     "data": {
      "text/html": [
       "<pre>| 5       | 807.107ms    | 0.850416                  |</pre>"
      ],
      "text/plain": [
       "| 5       | 807.107ms    | 0.850416                  |"
      ]
     },
     "metadata": {},
     "output_type": "display_data"
    },
    {
     "data": {
      "text/html": [
       "<pre>| 6       | 948.611ms    | 0.849803                  |</pre>"
      ],
      "text/plain": [
       "| 6       | 948.611ms    | 0.849803                  |"
      ]
     },
     "metadata": {},
     "output_type": "display_data"
    },
    {
     "data": {
      "text/html": [
       "<pre>| 7       | 1.10s        | 0.849396                  |</pre>"
      ],
      "text/plain": [
       "| 7       | 1.10s        | 0.849396                  |"
      ]
     },
     "metadata": {},
     "output_type": "display_data"
    },
    {
     "data": {
      "text/html": [
       "<pre>| 8       | 1.24s        | 0.849114                  |</pre>"
      ],
      "text/plain": [
       "| 8       | 1.24s        | 0.849114                  |"
      ]
     },
     "metadata": {},
     "output_type": "display_data"
    },
    {
     "data": {
      "text/html": [
       "<pre>| 9       | 1.37s        | 0.848914                  |</pre>"
      ],
      "text/plain": [
       "| 9       | 1.37s        | 0.848914                  |"
      ]
     },
     "metadata": {},
     "output_type": "display_data"
    },
    {
     "data": {
      "text/html": [
       "<pre>| 10      | 1.51s        | 0.84877                   |</pre>"
      ],
      "text/plain": [
       "| 10      | 1.51s        | 0.84877                   |"
      ]
     },
     "metadata": {},
     "output_type": "display_data"
    },
    {
     "data": {
      "text/html": [
       "<pre>| 11      | 1.65s        | 0.848664                  |</pre>"
      ],
      "text/plain": [
       "| 11      | 1.65s        | 0.848664                  |"
      ]
     },
     "metadata": {},
     "output_type": "display_data"
    },
    {
     "data": {
      "text/html": [
       "<pre>| 12      | 1.79s        | 0.848584                  |</pre>"
      ],
      "text/plain": [
       "| 12      | 1.79s        | 0.848584                  |"
      ]
     },
     "metadata": {},
     "output_type": "display_data"
    },
    {
     "data": {
      "text/html": [
       "<pre>| 13      | 1.93s        | 0.848524                  |</pre>"
      ],
      "text/plain": [
       "| 13      | 1.93s        | 0.848524                  |"
      ]
     },
     "metadata": {},
     "output_type": "display_data"
    },
    {
     "data": {
      "text/html": [
       "<pre>| 14      | 2.06s        | 0.848476                  |</pre>"
      ],
      "text/plain": [
       "| 14      | 2.06s        | 0.848476                  |"
      ]
     },
     "metadata": {},
     "output_type": "display_data"
    },
    {
     "data": {
      "text/html": [
       "<pre>| 15      | 2.20s        | 0.848438                  |</pre>"
      ],
      "text/plain": [
       "| 15      | 2.20s        | 0.848438                  |"
      ]
     },
     "metadata": {},
     "output_type": "display_data"
    },
    {
     "data": {
      "text/html": [
       "<pre>| 16      | 2.34s        | 0.848406                  |</pre>"
      ],
      "text/plain": [
       "| 16      | 2.34s        | 0.848406                  |"
      ]
     },
     "metadata": {},
     "output_type": "display_data"
    },
    {
     "data": {
      "text/html": [
       "<pre>| 17      | 2.48s        | 0.84838                   |</pre>"
      ],
      "text/plain": [
       "| 17      | 2.48s        | 0.84838                   |"
      ]
     },
     "metadata": {},
     "output_type": "display_data"
    },
    {
     "data": {
      "text/html": [
       "<pre>| 18      | 2.62s        | 0.848358                  |</pre>"
      ],
      "text/plain": [
       "| 18      | 2.62s        | 0.848358                  |"
      ]
     },
     "metadata": {},
     "output_type": "display_data"
    },
    {
     "data": {
      "text/html": [
       "<pre>| 19      | 2.75s        | 0.848339                  |</pre>"
      ],
      "text/plain": [
       "| 19      | 2.75s        | 0.848339                  |"
      ]
     },
     "metadata": {},
     "output_type": "display_data"
    },
    {
     "data": {
      "text/html": [
       "<pre>| 20      | 2.89s        | 0.848322                  |</pre>"
      ],
      "text/plain": [
       "| 20      | 2.89s        | 0.848322                  |"
      ]
     },
     "metadata": {},
     "output_type": "display_data"
    },
    {
     "data": {
      "text/html": [
       "<pre>| 21      | 3.03s        | 0.848307                  |</pre>"
      ],
      "text/plain": [
       "| 21      | 3.03s        | 0.848307                  |"
      ]
     },
     "metadata": {},
     "output_type": "display_data"
    },
    {
     "data": {
      "text/html": [
       "<pre>| 22      | 3.17s        | 0.848294                  |</pre>"
      ],
      "text/plain": [
       "| 22      | 3.17s        | 0.848294                  |"
      ]
     },
     "metadata": {},
     "output_type": "display_data"
    },
    {
     "data": {
      "text/html": [
       "<pre>| 23      | 3.30s        | 0.848283                  |</pre>"
      ],
      "text/plain": [
       "| 23      | 3.30s        | 0.848283                  |"
      ]
     },
     "metadata": {},
     "output_type": "display_data"
    },
    {
     "data": {
      "text/html": [
       "<pre>| 24      | 3.44s        | 0.848272                  |</pre>"
      ],
      "text/plain": [
       "| 24      | 3.44s        | 0.848272                  |"
      ]
     },
     "metadata": {},
     "output_type": "display_data"
    },
    {
     "data": {
      "text/html": [
       "<pre>| FINAL   | 3.44s        | 0.848272                  |</pre>"
      ],
      "text/plain": [
       "| FINAL   | 3.44s        | 0.848272                  |"
      ]
     },
     "metadata": {},
     "output_type": "display_data"
    },
    {
     "data": {
      "text/html": [
       "<pre>+---------+--------------+---------------------------+</pre>"
      ],
      "text/plain": [
       "+---------+--------------+---------------------------+"
      ]
     },
     "metadata": {},
     "output_type": "display_data"
    },
    {
     "data": {
      "text/html": [
       "<pre>Optimization Complete: Iteration limit reached.</pre>"
      ],
      "text/plain": [
       "Optimization Complete: Iteration limit reached."
      ]
     },
     "metadata": {},
     "output_type": "display_data"
    },
    {
     "data": {
      "text/html": [
       "<pre>Warning: This solver currently does not support side features. Proceeding with training without side features.</pre>"
      ],
      "text/plain": [
       "Warning: This solver currently does not support side features. Proceeding with training without side features."
      ]
     },
     "metadata": {},
     "output_type": "display_data"
    },
    {
     "data": {
      "text/html": [
       "<pre>Preparing data set.</pre>"
      ],
      "text/plain": [
       "Preparing data set."
      ]
     },
     "metadata": {},
     "output_type": "display_data"
    },
    {
     "data": {
      "text/html": [
       "<pre>    Data has 366405 observations with 1600 users and 3860 items.</pre>"
      ],
      "text/plain": [
       "    Data has 366405 observations with 1600 users and 3860 items."
      ]
     },
     "metadata": {},
     "output_type": "display_data"
    },
    {
     "data": {
      "text/html": [
       "<pre>    Data prepared in: 0.256398s</pre>"
      ],
      "text/plain": [
       "    Data prepared in: 0.256398s"
      ]
     },
     "metadata": {},
     "output_type": "display_data"
    },
    {
     "data": {
      "text/html": [
       "<pre>Training ranking_factorization_recommender for recommendations.</pre>"
      ],
      "text/plain": [
       "Training ranking_factorization_recommender for recommendations."
      ]
     },
     "metadata": {},
     "output_type": "display_data"
    },
    {
     "data": {
      "text/html": [
       "<pre>+------------------------------+--------------------------------------------------+----------+</pre>"
      ],
      "text/plain": [
       "+------------------------------+--------------------------------------------------+----------+"
      ]
     },
     "metadata": {},
     "output_type": "display_data"
    },
    {
     "data": {
      "text/html": [
       "<pre>| Parameter                    | Description                                      | Value    |</pre>"
      ],
      "text/plain": [
       "| Parameter                    | Description                                      | Value    |"
      ]
     },
     "metadata": {},
     "output_type": "display_data"
    },
    {
     "data": {
      "text/html": [
       "<pre>+------------------------------+--------------------------------------------------+----------+</pre>"
      ],
      "text/plain": [
       "+------------------------------+--------------------------------------------------+----------+"
      ]
     },
     "metadata": {},
     "output_type": "display_data"
    },
    {
     "data": {
      "text/html": [
       "<pre>| num_factors                  | Factor Dimension                                 | 32       |</pre>"
      ],
      "text/plain": [
       "| num_factors                  | Factor Dimension                                 | 32       |"
      ]
     },
     "metadata": {},
     "output_type": "display_data"
    },
    {
     "data": {
      "text/html": [
       "<pre>| regularization               | L2 Regularization on Factors                     | 1e-05    |</pre>"
      ],
      "text/plain": [
       "| regularization               | L2 Regularization on Factors                     | 1e-05    |"
      ]
     },
     "metadata": {},
     "output_type": "display_data"
    },
    {
     "data": {
      "text/html": [
       "<pre>| max_iterations               | Maximum Number of Iterations                     | 75       |</pre>"
      ],
      "text/plain": [
       "| max_iterations               | Maximum Number of Iterations                     | 75       |"
      ]
     },
     "metadata": {},
     "output_type": "display_data"
    },
    {
     "data": {
      "text/html": [
       "<pre>| solver                       | Solver used for training                         | ials     |</pre>"
      ],
      "text/plain": [
       "| solver                       | Solver used for training                         | ials     |"
      ]
     },
     "metadata": {},
     "output_type": "display_data"
    },
    {
     "data": {
      "text/html": [
       "<pre>+------------------------------+--------------------------------------------------+----------+</pre>"
      ],
      "text/plain": [
       "+------------------------------+--------------------------------------------------+----------+"
      ]
     },
     "metadata": {},
     "output_type": "display_data"
    },
    {
     "data": {
      "text/html": [
       "<pre>+---------+--------------+---------------------------+</pre>"
      ],
      "text/plain": [
       "+---------+--------------+---------------------------+"
      ]
     },
     "metadata": {},
     "output_type": "display_data"
    },
    {
     "data": {
      "text/html": [
       "<pre>| Iter.   | Elapsed time | Estimated Objective Value |</pre>"
      ],
      "text/plain": [
       "| Iter.   | Elapsed time | Estimated Objective Value |"
      ]
     },
     "metadata": {},
     "output_type": "display_data"
    },
    {
     "data": {
      "text/html": [
       "<pre>+---------+--------------+---------------------------+</pre>"
      ],
      "text/plain": [
       "+---------+--------------+---------------------------+"
      ]
     },
     "metadata": {},
     "output_type": "display_data"
    },
    {
     "data": {
      "text/html": [
       "<pre>| Initial | 62us         | NA                        |</pre>"
      ],
      "text/plain": [
       "| Initial | 62us         | NA                        |"
      ]
     },
     "metadata": {},
     "output_type": "display_data"
    },
    {
     "data": {
      "text/html": [
       "<pre>+---------+--------------+---------------------------+</pre>"
      ],
      "text/plain": [
       "+---------+--------------+---------------------------+"
      ]
     },
     "metadata": {},
     "output_type": "display_data"
    },
    {
     "data": {
      "text/html": [
       "<pre>| 0       | 142.349ms    | 1.27676                   |</pre>"
      ],
      "text/plain": [
       "| 0       | 142.349ms    | 1.27676                   |"
      ]
     },
     "metadata": {},
     "output_type": "display_data"
    },
    {
     "data": {
      "text/html": [
       "<pre>| 1       | 274.891ms    | 0.87439                   |</pre>"
      ],
      "text/plain": [
       "| 1       | 274.891ms    | 0.87439                   |"
      ]
     },
     "metadata": {},
     "output_type": "display_data"
    },
    {
     "data": {
      "text/html": [
       "<pre>| 2       | 406.464ms    | 0.86467                   |</pre>"
      ],
      "text/plain": [
       "| 2       | 406.464ms    | 0.86467                   |"
      ]
     },
     "metadata": {},
     "output_type": "display_data"
    },
    {
     "data": {
      "text/html": [
       "<pre>| 3       | 539.004ms    | 0.860899                  |</pre>"
      ],
      "text/plain": [
       "| 3       | 539.004ms    | 0.860899                  |"
      ]
     },
     "metadata": {},
     "output_type": "display_data"
    },
    {
     "data": {
      "text/html": [
       "<pre>| 4       | 677.502ms    | 0.859002                  |</pre>"
      ],
      "text/plain": [
       "| 4       | 677.502ms    | 0.859002                  |"
      ]
     },
     "metadata": {},
     "output_type": "display_data"
    },
    {
     "data": {
      "text/html": [
       "<pre>| 5       | 819.342ms    | 0.857873                  |</pre>"
      ],
      "text/plain": [
       "| 5       | 819.342ms    | 0.857873                  |"
      ]
     },
     "metadata": {},
     "output_type": "display_data"
    },
    {
     "data": {
      "text/html": [
       "<pre>| 6       | 952.542ms    | 0.857124                  |</pre>"
      ],
      "text/plain": [
       "| 6       | 952.542ms    | 0.857124                  |"
      ]
     },
     "metadata": {},
     "output_type": "display_data"
    },
    {
     "data": {
      "text/html": [
       "<pre>| 7       | 1.09s        | 0.856591                  |</pre>"
      ],
      "text/plain": [
       "| 7       | 1.09s        | 0.856591                  |"
      ]
     },
     "metadata": {},
     "output_type": "display_data"
    },
    {
     "data": {
      "text/html": [
       "<pre>| 8       | 1.22s        | 0.856194                  |</pre>"
      ],
      "text/plain": [
       "| 8       | 1.22s        | 0.856194                  |"
      ]
     },
     "metadata": {},
     "output_type": "display_data"
    },
    {
     "data": {
      "text/html": [
       "<pre>| 9       | 1.36s        | 0.855888                  |</pre>"
      ],
      "text/plain": [
       "| 9       | 1.36s        | 0.855888                  |"
      ]
     },
     "metadata": {},
     "output_type": "display_data"
    },
    {
     "data": {
      "text/html": [
       "<pre>| 10      | 1.53s        | 0.855646                  |</pre>"
      ],
      "text/plain": [
       "| 10      | 1.53s        | 0.855646                  |"
      ]
     },
     "metadata": {},
     "output_type": "display_data"
    },
    {
     "data": {
      "text/html": [
       "<pre>| 11      | 1.67s        | 0.855448                  |</pre>"
      ],
      "text/plain": [
       "| 11      | 1.67s        | 0.855448                  |"
      ]
     },
     "metadata": {},
     "output_type": "display_data"
    },
    {
     "data": {
      "text/html": [
       "<pre>| 12      | 1.81s        | 0.855285                  |</pre>"
      ],
      "text/plain": [
       "| 12      | 1.81s        | 0.855285                  |"
      ]
     },
     "metadata": {},
     "output_type": "display_data"
    },
    {
     "data": {
      "text/html": [
       "<pre>| 13      | 1.94s        | 0.855147                  |</pre>"
      ],
      "text/plain": [
       "| 13      | 1.94s        | 0.855147                  |"
      ]
     },
     "metadata": {},
     "output_type": "display_data"
    },
    {
     "data": {
      "text/html": [
       "<pre>| 14      | 2.09s        | 0.855029                  |</pre>"
      ],
      "text/plain": [
       "| 14      | 2.09s        | 0.855029                  |"
      ]
     },
     "metadata": {},
     "output_type": "display_data"
    },
    {
     "data": {
      "text/html": [
       "<pre>| 15      | 2.28s        | 0.854927                  |</pre>"
      ],
      "text/plain": [
       "| 15      | 2.28s        | 0.854927                  |"
      ]
     },
     "metadata": {},
     "output_type": "display_data"
    },
    {
     "data": {
      "text/html": [
       "<pre>| 16      | 2.44s        | 0.854837                  |</pre>"
      ],
      "text/plain": [
       "| 16      | 2.44s        | 0.854837                  |"
      ]
     },
     "metadata": {},
     "output_type": "display_data"
    },
    {
     "data": {
      "text/html": [
       "<pre>| 17      | 2.58s        | 0.854757                  |</pre>"
      ],
      "text/plain": [
       "| 17      | 2.58s        | 0.854757                  |"
      ]
     },
     "metadata": {},
     "output_type": "display_data"
    },
    {
     "data": {
      "text/html": [
       "<pre>| 18      | 2.73s        | 0.854686                  |</pre>"
      ],
      "text/plain": [
       "| 18      | 2.73s        | 0.854686                  |"
      ]
     },
     "metadata": {},
     "output_type": "display_data"
    },
    {
     "data": {
      "text/html": [
       "<pre>| 19      | 2.87s        | 0.854622                  |</pre>"
      ],
      "text/plain": [
       "| 19      | 2.87s        | 0.854622                  |"
      ]
     },
     "metadata": {},
     "output_type": "display_data"
    },
    {
     "data": {
      "text/html": [
       "<pre>| 20      | 3.01s        | 0.854563                  |</pre>"
      ],
      "text/plain": [
       "| 20      | 3.01s        | 0.854563                  |"
      ]
     },
     "metadata": {},
     "output_type": "display_data"
    },
    {
     "data": {
      "text/html": [
       "<pre>| 21      | 3.17s        | 0.854509                  |</pre>"
      ],
      "text/plain": [
       "| 21      | 3.17s        | 0.854509                  |"
      ]
     },
     "metadata": {},
     "output_type": "display_data"
    },
    {
     "data": {
      "text/html": [
       "<pre>| 22      | 3.31s        | 0.85446                   |</pre>"
      ],
      "text/plain": [
       "| 22      | 3.31s        | 0.85446                   |"
      ]
     },
     "metadata": {},
     "output_type": "display_data"
    },
    {
     "data": {
      "text/html": [
       "<pre>| 23      | 3.45s        | 0.854415                  |</pre>"
      ],
      "text/plain": [
       "| 23      | 3.45s        | 0.854415                  |"
      ]
     },
     "metadata": {},
     "output_type": "display_data"
    },
    {
     "data": {
      "text/html": [
       "<pre>| 24      | 3.59s        | 0.854373                  |</pre>"
      ],
      "text/plain": [
       "| 24      | 3.59s        | 0.854373                  |"
      ]
     },
     "metadata": {},
     "output_type": "display_data"
    },
    {
     "data": {
      "text/html": [
       "<pre>| 25      | 3.73s        | 0.854333                  |</pre>"
      ],
      "text/plain": [
       "| 25      | 3.73s        | 0.854333                  |"
      ]
     },
     "metadata": {},
     "output_type": "display_data"
    },
    {
     "data": {
      "text/html": [
       "<pre>| 26      | 3.88s        | 0.854297                  |</pre>"
      ],
      "text/plain": [
       "| 26      | 3.88s        | 0.854297                  |"
      ]
     },
     "metadata": {},
     "output_type": "display_data"
    },
    {
     "data": {
      "text/html": [
       "<pre>| 27      | 4.02s        | 0.854263                  |</pre>"
      ],
      "text/plain": [
       "| 27      | 4.02s        | 0.854263                  |"
      ]
     },
     "metadata": {},
     "output_type": "display_data"
    },
    {
     "data": {
      "text/html": [
       "<pre>| 28      | 4.17s        | 0.85423                   |</pre>"
      ],
      "text/plain": [
       "| 28      | 4.17s        | 0.85423                   |"
      ]
     },
     "metadata": {},
     "output_type": "display_data"
    },
    {
     "data": {
      "text/html": [
       "<pre>| 29      | 4.31s        | 0.8542                    |</pre>"
      ],
      "text/plain": [
       "| 29      | 4.31s        | 0.8542                    |"
      ]
     },
     "metadata": {},
     "output_type": "display_data"
    },
    {
     "data": {
      "text/html": [
       "<pre>| 30      | 4.44s        | 0.854172                  |</pre>"
      ],
      "text/plain": [
       "| 30      | 4.44s        | 0.854172                  |"
      ]
     },
     "metadata": {},
     "output_type": "display_data"
    },
    {
     "data": {
      "text/html": [
       "<pre>| 31      | 4.58s        | 0.854145                  |</pre>"
      ],
      "text/plain": [
       "| 31      | 4.58s        | 0.854145                  |"
      ]
     },
     "metadata": {},
     "output_type": "display_data"
    },
    {
     "data": {
      "text/html": [
       "<pre>| 32      | 4.72s        | 0.854119                  |</pre>"
      ],
      "text/plain": [
       "| 32      | 4.72s        | 0.854119                  |"
      ]
     },
     "metadata": {},
     "output_type": "display_data"
    },
    {
     "data": {
      "text/html": [
       "<pre>| 33      | 4.86s        | 0.854095                  |</pre>"
      ],
      "text/plain": [
       "| 33      | 4.86s        | 0.854095                  |"
      ]
     },
     "metadata": {},
     "output_type": "display_data"
    },
    {
     "data": {
      "text/html": [
       "<pre>| 34      | 5.00s        | 0.854072                  |</pre>"
      ],
      "text/plain": [
       "| 34      | 5.00s        | 0.854072                  |"
      ]
     },
     "metadata": {},
     "output_type": "display_data"
    },
    {
     "data": {
      "text/html": [
       "<pre>| 35      | 5.15s        | 0.85405                   |</pre>"
      ],
      "text/plain": [
       "| 35      | 5.15s        | 0.85405                   |"
      ]
     },
     "metadata": {},
     "output_type": "display_data"
    },
    {
     "data": {
      "text/html": [
       "<pre>| 36      | 5.30s        | 0.854029                  |</pre>"
      ],
      "text/plain": [
       "| 36      | 5.30s        | 0.854029                  |"
      ]
     },
     "metadata": {},
     "output_type": "display_data"
    },
    {
     "data": {
      "text/html": [
       "<pre>| 37      | 5.50s        | 0.854009                  |</pre>"
      ],
      "text/plain": [
       "| 37      | 5.50s        | 0.854009                  |"
      ]
     },
     "metadata": {},
     "output_type": "display_data"
    },
    {
     "data": {
      "text/html": [
       "<pre>| 38      | 5.66s        | 0.853991                  |</pre>"
      ],
      "text/plain": [
       "| 38      | 5.66s        | 0.853991                  |"
      ]
     },
     "metadata": {},
     "output_type": "display_data"
    },
    {
     "data": {
      "text/html": [
       "<pre>| 39      | 5.81s        | 0.853972                  |</pre>"
      ],
      "text/plain": [
       "| 39      | 5.81s        | 0.853972                  |"
      ]
     },
     "metadata": {},
     "output_type": "display_data"
    },
    {
     "data": {
      "text/html": [
       "<pre>| 40      | 5.98s        | 0.853955                  |</pre>"
      ],
      "text/plain": [
       "| 40      | 5.98s        | 0.853955                  |"
      ]
     },
     "metadata": {},
     "output_type": "display_data"
    },
    {
     "data": {
      "text/html": [
       "<pre>| 41      | 6.13s        | 0.853938                  |</pre>"
      ],
      "text/plain": [
       "| 41      | 6.13s        | 0.853938                  |"
      ]
     },
     "metadata": {},
     "output_type": "display_data"
    },
    {
     "data": {
      "text/html": [
       "<pre>| 42      | 6.28s        | 0.853923                  |</pre>"
      ],
      "text/plain": [
       "| 42      | 6.28s        | 0.853923                  |"
      ]
     },
     "metadata": {},
     "output_type": "display_data"
    },
    {
     "data": {
      "text/html": [
       "<pre>| 43      | 6.43s        | 0.853907                  |</pre>"
      ],
      "text/plain": [
       "| 43      | 6.43s        | 0.853907                  |"
      ]
     },
     "metadata": {},
     "output_type": "display_data"
    },
    {
     "data": {
      "text/html": [
       "<pre>| 44      | 6.57s        | 0.853893                  |</pre>"
      ],
      "text/plain": [
       "| 44      | 6.57s        | 0.853893                  |"
      ]
     },
     "metadata": {},
     "output_type": "display_data"
    },
    {
     "data": {
      "text/html": [
       "<pre>| 45      | 6.72s        | 0.853879                  |</pre>"
      ],
      "text/plain": [
       "| 45      | 6.72s        | 0.853879                  |"
      ]
     },
     "metadata": {},
     "output_type": "display_data"
    },
    {
     "data": {
      "text/html": [
       "<pre>| 46      | 6.86s        | 0.853865                  |</pre>"
      ],
      "text/plain": [
       "| 46      | 6.86s        | 0.853865                  |"
      ]
     },
     "metadata": {},
     "output_type": "display_data"
    },
    {
     "data": {
      "text/html": [
       "<pre>| 47      | 7.00s        | 0.853852                  |</pre>"
      ],
      "text/plain": [
       "| 47      | 7.00s        | 0.853852                  |"
      ]
     },
     "metadata": {},
     "output_type": "display_data"
    },
    {
     "data": {
      "text/html": [
       "<pre>| 48      | 7.16s        | 0.85384                   |</pre>"
      ],
      "text/plain": [
       "| 48      | 7.16s        | 0.85384                   |"
      ]
     },
     "metadata": {},
     "output_type": "display_data"
    },
    {
     "data": {
      "text/html": [
       "<pre>| 49      | 7.32s        | 0.853827                  |</pre>"
      ],
      "text/plain": [
       "| 49      | 7.32s        | 0.853827                  |"
      ]
     },
     "metadata": {},
     "output_type": "display_data"
    },
    {
     "data": {
      "text/html": [
       "<pre>| 50      | 7.47s        | 0.853816                  |</pre>"
      ],
      "text/plain": [
       "| 50      | 7.47s        | 0.853816                  |"
      ]
     },
     "metadata": {},
     "output_type": "display_data"
    },
    {
     "data": {
      "text/html": [
       "<pre>| 51      | 7.62s        | 0.853805                  |</pre>"
      ],
      "text/plain": [
       "| 51      | 7.62s        | 0.853805                  |"
      ]
     },
     "metadata": {},
     "output_type": "display_data"
    },
    {
     "data": {
      "text/html": [
       "<pre>| 52      | 7.76s        | 0.853794                  |</pre>"
      ],
      "text/plain": [
       "| 52      | 7.76s        | 0.853794                  |"
      ]
     },
     "metadata": {},
     "output_type": "display_data"
    },
    {
     "data": {
      "text/html": [
       "<pre>| 53      | 7.91s        | 0.853784                  |</pre>"
      ],
      "text/plain": [
       "| 53      | 7.91s        | 0.853784                  |"
      ]
     },
     "metadata": {},
     "output_type": "display_data"
    },
    {
     "data": {
      "text/html": [
       "<pre>| 54      | 8.08s        | 0.853774                  |</pre>"
      ],
      "text/plain": [
       "| 54      | 8.08s        | 0.853774                  |"
      ]
     },
     "metadata": {},
     "output_type": "display_data"
    },
    {
     "data": {
      "text/html": [
       "<pre>| 55      | 8.23s        | 0.853764                  |</pre>"
      ],
      "text/plain": [
       "| 55      | 8.23s        | 0.853764                  |"
      ]
     },
     "metadata": {},
     "output_type": "display_data"
    },
    {
     "data": {
      "text/html": [
       "<pre>| 56      | 8.38s        | 0.853755                  |</pre>"
      ],
      "text/plain": [
       "| 56      | 8.38s        | 0.853755                  |"
      ]
     },
     "metadata": {},
     "output_type": "display_data"
    },
    {
     "data": {
      "text/html": [
       "<pre>| 57      | 8.52s        | 0.853746                  |</pre>"
      ],
      "text/plain": [
       "| 57      | 8.52s        | 0.853746                  |"
      ]
     },
     "metadata": {},
     "output_type": "display_data"
    },
    {
     "data": {
      "text/html": [
       "<pre>| 58      | 8.66s        | 0.853737                  |</pre>"
      ],
      "text/plain": [
       "| 58      | 8.66s        | 0.853737                  |"
      ]
     },
     "metadata": {},
     "output_type": "display_data"
    },
    {
     "data": {
      "text/html": [
       "<pre>| 59      | 8.80s        | 0.853728                  |</pre>"
      ],
      "text/plain": [
       "| 59      | 8.80s        | 0.853728                  |"
      ]
     },
     "metadata": {},
     "output_type": "display_data"
    },
    {
     "data": {
      "text/html": [
       "<pre>| 60      | 8.97s        | 0.85372                   |</pre>"
      ],
      "text/plain": [
       "| 60      | 8.97s        | 0.85372                   |"
      ]
     },
     "metadata": {},
     "output_type": "display_data"
    },
    {
     "data": {
      "text/html": [
       "<pre>| 61      | 9.12s        | 0.853712                  |</pre>"
      ],
      "text/plain": [
       "| 61      | 9.12s        | 0.853712                  |"
      ]
     },
     "metadata": {},
     "output_type": "display_data"
    },
    {
     "data": {
      "text/html": [
       "<pre>| 62      | 9.28s        | 0.853705                  |</pre>"
      ],
      "text/plain": [
       "| 62      | 9.28s        | 0.853705                  |"
      ]
     },
     "metadata": {},
     "output_type": "display_data"
    },
    {
     "data": {
      "text/html": [
       "<pre>| 63      | 9.46s        | 0.853698                  |</pre>"
      ],
      "text/plain": [
       "| 63      | 9.46s        | 0.853698                  |"
      ]
     },
     "metadata": {},
     "output_type": "display_data"
    },
    {
     "data": {
      "text/html": [
       "<pre>| 64      | 9.63s        | 0.85369                   |</pre>"
      ],
      "text/plain": [
       "| 64      | 9.63s        | 0.85369                   |"
      ]
     },
     "metadata": {},
     "output_type": "display_data"
    },
    {
     "data": {
      "text/html": [
       "<pre>| 65      | 9.77s        | 0.853684                  |</pre>"
      ],
      "text/plain": [
       "| 65      | 9.77s        | 0.853684                  |"
      ]
     },
     "metadata": {},
     "output_type": "display_data"
    },
    {
     "data": {
      "text/html": [
       "<pre>| 66      | 9.91s        | 0.853677                  |</pre>"
      ],
      "text/plain": [
       "| 66      | 9.91s        | 0.853677                  |"
      ]
     },
     "metadata": {},
     "output_type": "display_data"
    },
    {
     "data": {
      "text/html": [
       "<pre>| 67      | 10.05s       | 0.85367                   |</pre>"
      ],
      "text/plain": [
       "| 67      | 10.05s       | 0.85367                   |"
      ]
     },
     "metadata": {},
     "output_type": "display_data"
    },
    {
     "data": {
      "text/html": [
       "<pre>| 68      | 10.21s       | 0.853664                  |</pre>"
      ],
      "text/plain": [
       "| 68      | 10.21s       | 0.853664                  |"
      ]
     },
     "metadata": {},
     "output_type": "display_data"
    },
    {
     "data": {
      "text/html": [
       "<pre>| 69      | 10.37s       | 0.853658                  |</pre>"
      ],
      "text/plain": [
       "| 69      | 10.37s       | 0.853658                  |"
      ]
     },
     "metadata": {},
     "output_type": "display_data"
    },
    {
     "data": {
      "text/html": [
       "<pre>| 70      | 10.53s       | 0.853652                  |</pre>"
      ],
      "text/plain": [
       "| 70      | 10.53s       | 0.853652                  |"
      ]
     },
     "metadata": {},
     "output_type": "display_data"
    },
    {
     "data": {
      "text/html": [
       "<pre>| 71      | 10.70s       | 0.853646                  |</pre>"
      ],
      "text/plain": [
       "| 71      | 10.70s       | 0.853646                  |"
      ]
     },
     "metadata": {},
     "output_type": "display_data"
    },
    {
     "data": {
      "text/html": [
       "<pre>| 72      | 10.87s       | 0.853641                  |</pre>"
      ],
      "text/plain": [
       "| 72      | 10.87s       | 0.853641                  |"
      ]
     },
     "metadata": {},
     "output_type": "display_data"
    },
    {
     "data": {
      "text/html": [
       "<pre>| 73      | 11.03s       | 0.853636                  |</pre>"
      ],
      "text/plain": [
       "| 73      | 11.03s       | 0.853636                  |"
      ]
     },
     "metadata": {},
     "output_type": "display_data"
    },
    {
     "data": {
      "text/html": [
       "<pre>| 74      | 11.17s       | 0.85363                   |</pre>"
      ],
      "text/plain": [
       "| 74      | 11.17s       | 0.85363                   |"
      ]
     },
     "metadata": {},
     "output_type": "display_data"
    },
    {
     "data": {
      "text/html": [
       "<pre>| FINAL   | 11.17s       | 0.85363                   |</pre>"
      ],
      "text/plain": [
       "| FINAL   | 11.17s       | 0.85363                   |"
      ]
     },
     "metadata": {},
     "output_type": "display_data"
    },
    {
     "data": {
      "text/html": [
       "<pre>+---------+--------------+---------------------------+</pre>"
      ],
      "text/plain": [
       "+---------+--------------+---------------------------+"
      ]
     },
     "metadata": {},
     "output_type": "display_data"
    },
    {
     "data": {
      "text/html": [
       "<pre>Optimization Complete: Iteration limit reached.</pre>"
      ],
      "text/plain": [
       "Optimization Complete: Iteration limit reached."
      ]
     },
     "metadata": {},
     "output_type": "display_data"
    }
   ],
   "source": [
    "model_1 = tc.ranking_factorization_recommender.create(tc.SFrame(data_dummy), \n",
    "                                                    user_id=user_id, \n",
    "                                                    item_id=item_id, target='total_quantity',solver='ials')\n",
    "\n",
    "model_2 = tc.ranking_factorization_recommender.create(tc.SFrame(data_dummy), \n",
    "                                                    user_id=user_id, \n",
    "                                                    item_id=item_id, \n",
    "                                                    target='total_quantity',user_data=user_data, item_data=item_data, \n",
    "                                                    solver='ials')\n",
    "\n",
    "model_3 = tc.ranking_factorization_recommender.create(tc.SFrame(data_dummy), \n",
    "                                                    user_id=user_id, \n",
    "                                                    item_id=item_id, target='total_quantity',solver='ials',\n",
    "                                                    ranking_regularization=0.1)\n",
    "\n",
    "model_4 = tc.ranking_factorization_recommender.create(tc.SFrame(data_dummy), \n",
    "                                                    user_id=user_id, \n",
    "                                                    item_id=item_id, target='total_quantity',solver='ials',\n",
    "                                                    max_iterations=75, regularization=1e-5)\n",
    "\n",
    "model_5 = tc.ranking_factorization_recommender.create(tc.SFrame(data_dummy), \n",
    "                                                    user_id=user_id, \n",
    "                                                    item_id=item_id, target='total_quantity',item_data=item_data, \n",
    "                                                    solver='ials', num_sampled_negative_examples=20)\n",
    "\n",
    "\n",
    "model_6 = tc.ranking_factorization_recommender.create(tc.SFrame(data_dummy), \n",
    "                                                    user_id=user_id, \n",
    "                                                    item_id=item_id, \n",
    "                                                    target='total_quantity',user_data=user_data, \n",
    "                                                    item_data=tc.SFrame(items_df.drop(['single_digit_numeric'],axis=1)), \n",
    "                                                    solver='ials')\n",
    "\n",
    "model_7 = tc.ranking_factorization_recommender.create(tc.SFrame(data_dummy), \n",
    "                                                    user_id=user_id, \n",
    "                                                    item_id=item_id, target='total_quantity',solver='ials',\n",
    "                                                    item_data=tc.SFrame(items_df.drop(['single_digit_numeric'],axis=1)),\n",
    "                                                    max_iterations=75, regularization=1e-5)\n",
    "\n"
   ]
  },
  {
   "cell_type": "code",
   "execution_count": 54,
   "metadata": {},
   "outputs": [],
   "source": [
    "test_user_new = pd.DataFrame(test['CustomerID'].unique(), columns=['CustomerID'])\n",
    "test_user_new['no_reco_to_made'] = test_user_new['CustomerID'].apply(lambda x:merged[merged['CustomerID']==x]['StockCode'].nunique())\n",
    "\n",
    "# test_user_new['Items'] = test_user_new['CustomerID'].apply(lambda x: list(model.recommend(users=[x], k=int(test_user_new[test_user_new['CustomerID']==x]['no_reco_to_made']))['StockCode']))"
   ]
  },
  {
   "cell_type": "code",
   "execution_count": 55,
   "metadata": {
    "scrolled": true
   },
   "outputs": [],
   "source": [
    "reco_series = pd.Series()\n",
    "count = 0\n",
    "for i in test_user_new['CustomerID']:\n",
    "    no_of_products = merged[merged['CustomerID']==i]['StockCode'].nunique()\n",
    "    \n",
    "#     if no_of_products<10:\n",
    "#         no_of_products=10\n",
    "    \n",
    "    m1 = pd.DataFrame(model_1.recommend(users=[i], k=(3860 - no_of_products)))\n",
    "    m2 = pd.DataFrame(model_2.recommend(users=[i], k=(3860 - no_of_products)))\n",
    "    m3 = pd.DataFrame(model_3.recommend(users=[i], k=(3860 - no_of_products)))\n",
    "    m4 = pd.DataFrame(model_4.recommend(users=[i], k=(3860 - no_of_products)))\n",
    "    m5 = pd.DataFrame(model_5.recommend(users=[i], k=(3860 - no_of_products)))\n",
    "    m6 = pd.DataFrame(model_6.recommend(users=[i], k=(3860 - no_of_products)))\n",
    "    m7 = pd.DataFrame(model_7.recommend(users=[i], k=(3860 - no_of_products)))    \n",
    "    \n",
    "    m1.columns = ['CustomerID','StockCode','rank_1','score_1']\n",
    "    m2.columns = ['CustomerID','StockCode','rank_2','score_2']\n",
    "    m3.columns = ['CustomerID','StockCode','rank_3','score_3']\n",
    "    m4.columns = ['CustomerID','StockCode','rank_4','score_4']\n",
    "    m5.columns = ['CustomerID','StockCode','rank_5','score_5']\n",
    "    m6.columns = ['CustomerID','StockCode','rank_6','score_6']\n",
    "    m7.columns = ['CustomerID','StockCode','rank_7','score_7']\n",
    "\n",
    "    s1 = m1.merge(m2,on=['StockCode','CustomerID'])\n",
    "    s2 = s1.merge(m3,on=['StockCode','CustomerID'])\n",
    "    s3 = s2.merge(m4,on=['StockCode','CustomerID'])\n",
    "    s4 = s3.merge(m5,on=['StockCode','CustomerID'])\n",
    "    s5 = s4.merge(m6,on=['StockCode','CustomerID'])\n",
    "    score_merged = s5.merge(m7,on=['StockCode','CustomerID']) \n",
    "\n",
    "    score_merged['weighted_score'] = (score_merged['score_1']+score_merged['score_2']+score_merged['score_3']+\n",
    "                                 score_merged['score_4']+score_merged['score_5']+score_merged['score_6']+\n",
    "                                  score_merged['score_7'])/7\n",
    "\n",
    "\n",
    "    score_merged.sort_values('weighted_score',ascending=False,inplace=True)\n",
    "    score_merged.reset_index(drop=True,inplace=True)\n",
    "    ensemble_pred_list = score_merged['StockCode'].iloc[0:no_of_products]  \n",
    "    \n",
    "#     index = test_user_new.loc[test_user_new['CustomerID']==i].index[0]\n",
    "#     test_user_new.loc[index,'Items'] = np.array(ensemble_pred_list)\n",
    "\n",
    "    reco_series.loc[count]=list(ensemble_pred_list)\n",
    "    \n",
    "    count+=1"
   ]
  },
  {
   "cell_type": "code",
   "execution_count": 56,
   "metadata": {},
   "outputs": [],
   "source": [
    "test_user_new['Items'] = reco_series"
   ]
  },
  {
   "cell_type": "code",
   "execution_count": 57,
   "metadata": {},
   "outputs": [],
   "source": [
    "test_user_new.drop('no_reco_to_made',axis=1).to_csv('./new_submissions_data_exp/reco_fact_target_purchase_count_ensemble_with_item_user_new_experiment_more_user_data\".csv',index=False,header=True)"
   ]
  },
  {
   "cell_type": "markdown",
   "metadata": {},
   "source": [
    "## MORE FE THOUGHTS"
   ]
  },
  {
   "cell_type": "markdown",
   "metadata": {},
   "source": [
    "1. Adding customer behaviour features, like customer byuing capabilaty, based on the min, max, var, count features of the products he bought previously.\n",
    "2. Also the seasonality features like months and years he bought, his frequency of buying and all\n",
    "2. Similarily adding product features like, customer "
   ]
  },
  {
   "cell_type": "code",
   "execution_count": 58,
   "metadata": {
    "scrolled": true
   },
   "outputs": [
    {
     "data": {
      "text/html": [
       "<div>\n",
       "<style scoped>\n",
       "    .dataframe tbody tr th:only-of-type {\n",
       "        vertical-align: middle;\n",
       "    }\n",
       "\n",
       "    .dataframe tbody tr th {\n",
       "        vertical-align: top;\n",
       "    }\n",
       "\n",
       "    .dataframe thead th {\n",
       "        text-align: right;\n",
       "    }\n",
       "</style>\n",
       "<table border=\"1\" class=\"dataframe\">\n",
       "  <thead>\n",
       "    <tr style=\"text-align: right;\">\n",
       "      <th></th>\n",
       "      <th>Country</th>\n",
       "      <th>CustomerID</th>\n",
       "      <th>InvoiceDate</th>\n",
       "      <th>InvoiceNo</th>\n",
       "      <th>Quantity</th>\n",
       "      <th>StockCode</th>\n",
       "      <th>UnitPrice</th>\n",
       "    </tr>\n",
       "  </thead>\n",
       "  <tbody>\n",
       "    <tr>\n",
       "      <th>0</th>\n",
       "      <td>PX</td>\n",
       "      <td>27270</td>\n",
       "      <td>01/12/10 8:26</td>\n",
       "      <td>27270</td>\n",
       "      <td>7</td>\n",
       "      <td>85123AY</td>\n",
       "      <td>2.55</td>\n",
       "    </tr>\n",
       "    <tr>\n",
       "      <th>1</th>\n",
       "      <td>PX</td>\n",
       "      <td>27270</td>\n",
       "      <td>01/12/10 8:26</td>\n",
       "      <td>27270</td>\n",
       "      <td>7</td>\n",
       "      <td>71053R</td>\n",
       "      <td>3.39</td>\n",
       "    </tr>\n",
       "    <tr>\n",
       "      <th>2</th>\n",
       "      <td>PX</td>\n",
       "      <td>27270</td>\n",
       "      <td>01/12/10 8:26</td>\n",
       "      <td>27270</td>\n",
       "      <td>9</td>\n",
       "      <td>84406BH</td>\n",
       "      <td>2.75</td>\n",
       "    </tr>\n",
       "    <tr>\n",
       "      <th>3</th>\n",
       "      <td>PX</td>\n",
       "      <td>27270</td>\n",
       "      <td>01/12/10 8:26</td>\n",
       "      <td>27270</td>\n",
       "      <td>7</td>\n",
       "      <td>84029GV</td>\n",
       "      <td>3.39</td>\n",
       "    </tr>\n",
       "    <tr>\n",
       "      <th>4</th>\n",
       "      <td>PX</td>\n",
       "      <td>27270</td>\n",
       "      <td>01/12/10 8:26</td>\n",
       "      <td>27270</td>\n",
       "      <td>7</td>\n",
       "      <td>84029EX</td>\n",
       "      <td>3.39</td>\n",
       "    </tr>\n",
       "    <tr>\n",
       "      <th>5</th>\n",
       "      <td>PX</td>\n",
       "      <td>27270</td>\n",
       "      <td>01/12/10 8:26</td>\n",
       "      <td>27270</td>\n",
       "      <td>2</td>\n",
       "      <td>22752G</td>\n",
       "      <td>7.65</td>\n",
       "    </tr>\n",
       "    <tr>\n",
       "      <th>6</th>\n",
       "      <td>PX</td>\n",
       "      <td>27270</td>\n",
       "      <td>01/12/10 8:26</td>\n",
       "      <td>27270</td>\n",
       "      <td>7</td>\n",
       "      <td>21730R</td>\n",
       "      <td>4.25</td>\n",
       "    </tr>\n",
       "    <tr>\n",
       "      <th>7</th>\n",
       "      <td>PX</td>\n",
       "      <td>427266</td>\n",
       "      <td>01/12/10 8:35</td>\n",
       "      <td>427266</td>\n",
       "      <td>3</td>\n",
       "      <td>21756Q</td>\n",
       "      <td>5.95</td>\n",
       "    </tr>\n",
       "    <tr>\n",
       "      <th>8</th>\n",
       "      <td>RA</td>\n",
       "      <td>462735</td>\n",
       "      <td>01/12/10 8:45</td>\n",
       "      <td>462735</td>\n",
       "      <td>28</td>\n",
       "      <td>22728B</td>\n",
       "      <td>3.75</td>\n",
       "    </tr>\n",
       "    <tr>\n",
       "      <th>9</th>\n",
       "      <td>RA</td>\n",
       "      <td>462735</td>\n",
       "      <td>01/12/10 8:45</td>\n",
       "      <td>462735</td>\n",
       "      <td>28</td>\n",
       "      <td>22727B</td>\n",
       "      <td>3.75</td>\n",
       "    </tr>\n",
       "    <tr>\n",
       "      <th>10</th>\n",
       "      <td>RA</td>\n",
       "      <td>462735</td>\n",
       "      <td>01/12/10 8:45</td>\n",
       "      <td>462735</td>\n",
       "      <td>14</td>\n",
       "      <td>22726C</td>\n",
       "      <td>3.75</td>\n",
       "    </tr>\n",
       "    <tr>\n",
       "      <th>11</th>\n",
       "      <td>RA</td>\n",
       "      <td>462735</td>\n",
       "      <td>01/12/10 8:45</td>\n",
       "      <td>462735</td>\n",
       "      <td>14</td>\n",
       "      <td>21724T</td>\n",
       "      <td>0.85</td>\n",
       "    </tr>\n",
       "    <tr>\n",
       "      <th>12</th>\n",
       "      <td>RA</td>\n",
       "      <td>462735</td>\n",
       "      <td>01/12/10 8:45</td>\n",
       "      <td>462735</td>\n",
       "      <td>28</td>\n",
       "      <td>21883V</td>\n",
       "      <td>0.65</td>\n",
       "    </tr>\n",
       "    <tr>\n",
       "      <th>13</th>\n",
       "      <td>RA</td>\n",
       "      <td>462735</td>\n",
       "      <td>01/12/10 8:45</td>\n",
       "      <td>462735</td>\n",
       "      <td>57</td>\n",
       "      <td>10002F</td>\n",
       "      <td>0.85</td>\n",
       "    </tr>\n",
       "    <tr>\n",
       "      <th>14</th>\n",
       "      <td>RA</td>\n",
       "      <td>462735</td>\n",
       "      <td>01/12/10 8:45</td>\n",
       "      <td>462735</td>\n",
       "      <td>28</td>\n",
       "      <td>21791H</td>\n",
       "      <td>1.25</td>\n",
       "    </tr>\n",
       "    <tr>\n",
       "      <th>15</th>\n",
       "      <td>RA</td>\n",
       "      <td>462735</td>\n",
       "      <td>01/12/10 8:45</td>\n",
       "      <td>462735</td>\n",
       "      <td>21</td>\n",
       "      <td>21035O</td>\n",
       "      <td>2.95</td>\n",
       "    </tr>\n",
       "    <tr>\n",
       "      <th>16</th>\n",
       "      <td>RA</td>\n",
       "      <td>462735</td>\n",
       "      <td>01/12/10 8:45</td>\n",
       "      <td>462735</td>\n",
       "      <td>28</td>\n",
       "      <td>22326L</td>\n",
       "      <td>2.95</td>\n",
       "    </tr>\n",
       "    <tr>\n",
       "      <th>17</th>\n",
       "      <td>RA</td>\n",
       "      <td>462735</td>\n",
       "      <td>01/12/10 8:45</td>\n",
       "      <td>462735</td>\n",
       "      <td>28</td>\n",
       "      <td>22629C</td>\n",
       "      <td>1.95</td>\n",
       "    </tr>\n",
       "    <tr>\n",
       "      <th>18</th>\n",
       "      <td>RA</td>\n",
       "      <td>462735</td>\n",
       "      <td>01/12/10 8:45</td>\n",
       "      <td>462735</td>\n",
       "      <td>28</td>\n",
       "      <td>22659F</td>\n",
       "      <td>1.95</td>\n",
       "    </tr>\n",
       "    <tr>\n",
       "      <th>19</th>\n",
       "      <td>RA</td>\n",
       "      <td>462735</td>\n",
       "      <td>01/12/10 8:45</td>\n",
       "      <td>462735</td>\n",
       "      <td>28</td>\n",
       "      <td>22631M</td>\n",
       "      <td>1.95</td>\n",
       "    </tr>\n",
       "    <tr>\n",
       "      <th>20</th>\n",
       "      <td>RA</td>\n",
       "      <td>462735</td>\n",
       "      <td>01/12/10 8:45</td>\n",
       "      <td>462735</td>\n",
       "      <td>24</td>\n",
       "      <td>22661W</td>\n",
       "      <td>0.85</td>\n",
       "    </tr>\n",
       "    <tr>\n",
       "      <th>21</th>\n",
       "      <td>RA</td>\n",
       "      <td>462735</td>\n",
       "      <td>01/12/10 8:45</td>\n",
       "      <td>462735</td>\n",
       "      <td>28</td>\n",
       "      <td>21731V</td>\n",
       "      <td>1.65</td>\n",
       "    </tr>\n",
       "    <tr>\n",
       "      <th>22</th>\n",
       "      <td>RA</td>\n",
       "      <td>462735</td>\n",
       "      <td>01/12/10 8:45</td>\n",
       "      <td>462735</td>\n",
       "      <td>28</td>\n",
       "      <td>22900U</td>\n",
       "      <td>2.95</td>\n",
       "    </tr>\n",
       "    <tr>\n",
       "      <th>23</th>\n",
       "      <td>RA</td>\n",
       "      <td>462735</td>\n",
       "      <td>01/12/10 8:45</td>\n",
       "      <td>462735</td>\n",
       "      <td>14</td>\n",
       "      <td>21913C</td>\n",
       "      <td>3.75</td>\n",
       "    </tr>\n",
       "    <tr>\n",
       "      <th>24</th>\n",
       "      <td>RA</td>\n",
       "      <td>462735</td>\n",
       "      <td>01/12/10 8:45</td>\n",
       "      <td>462735</td>\n",
       "      <td>28</td>\n",
       "      <td>22540W</td>\n",
       "      <td>0.42</td>\n",
       "    </tr>\n",
       "    <tr>\n",
       "      <th>25</th>\n",
       "      <td>RA</td>\n",
       "      <td>462735</td>\n",
       "      <td>01/12/10 8:45</td>\n",
       "      <td>462735</td>\n",
       "      <td>28</td>\n",
       "      <td>22544C</td>\n",
       "      <td>0.42</td>\n",
       "    </tr>\n",
       "    <tr>\n",
       "      <th>26</th>\n",
       "      <td>RA</td>\n",
       "      <td>462735</td>\n",
       "      <td>01/12/10 8:45</td>\n",
       "      <td>462735</td>\n",
       "      <td>43</td>\n",
       "      <td>22492E</td>\n",
       "      <td>0.65</td>\n",
       "    </tr>\n",
       "    <tr>\n",
       "      <th>27</th>\n",
       "      <td>PX</td>\n",
       "      <td>262737</td>\n",
       "      <td>01/12/10 9:01</td>\n",
       "      <td>262737</td>\n",
       "      <td>7</td>\n",
       "      <td>22632O</td>\n",
       "      <td>1.85</td>\n",
       "    </tr>\n",
       "    <tr>\n",
       "      <th>28</th>\n",
       "      <td>PX</td>\n",
       "      <td>262737</td>\n",
       "      <td>01/12/10 9:01</td>\n",
       "      <td>262737</td>\n",
       "      <td>7</td>\n",
       "      <td>22633V</td>\n",
       "      <td>1.85</td>\n",
       "    </tr>\n",
       "    <tr>\n",
       "      <th>29</th>\n",
       "      <td>PX</td>\n",
       "      <td>62739</td>\n",
       "      <td>01/12/10 9:09</td>\n",
       "      <td>62739</td>\n",
       "      <td>38</td>\n",
       "      <td>21258H</td>\n",
       "      <td>10.95</td>\n",
       "    </tr>\n",
       "    <tr>\n",
       "      <th>...</th>\n",
       "      <td>...</td>\n",
       "      <td>...</td>\n",
       "      <td>...</td>\n",
       "      <td>...</td>\n",
       "      <td>...</td>\n",
       "      <td>...</td>\n",
       "      <td>...</td>\n",
       "    </tr>\n",
       "    <tr>\n",
       "      <th>330545</th>\n",
       "      <td>PX</td>\n",
       "      <td>496395</td>\n",
       "      <td>09/12/11 12:20</td>\n",
       "      <td>496395</td>\n",
       "      <td>1</td>\n",
       "      <td>22906G</td>\n",
       "      <td>1.65</td>\n",
       "    </tr>\n",
       "    <tr>\n",
       "      <th>330546</th>\n",
       "      <td>PX</td>\n",
       "      <td>496395</td>\n",
       "      <td>09/12/11 12:20</td>\n",
       "      <td>496395</td>\n",
       "      <td>2</td>\n",
       "      <td>21803X</td>\n",
       "      <td>0.42</td>\n",
       "    </tr>\n",
       "    <tr>\n",
       "      <th>330547</th>\n",
       "      <td>PX</td>\n",
       "      <td>496395</td>\n",
       "      <td>09/12/11 12:20</td>\n",
       "      <td>496395</td>\n",
       "      <td>2</td>\n",
       "      <td>21809L</td>\n",
       "      <td>0.39</td>\n",
       "    </tr>\n",
       "    <tr>\n",
       "      <th>330548</th>\n",
       "      <td>PX</td>\n",
       "      <td>496395</td>\n",
       "      <td>09/12/11 12:20</td>\n",
       "      <td>496395</td>\n",
       "      <td>1</td>\n",
       "      <td>20974J</td>\n",
       "      <td>0.65</td>\n",
       "    </tr>\n",
       "    <tr>\n",
       "      <th>330549</th>\n",
       "      <td>PX</td>\n",
       "      <td>496395</td>\n",
       "      <td>09/12/11 12:20</td>\n",
       "      <td>496395</td>\n",
       "      <td>1</td>\n",
       "      <td>23338J</td>\n",
       "      <td>2.08</td>\n",
       "    </tr>\n",
       "    <tr>\n",
       "      <th>330550</th>\n",
       "      <td>PX</td>\n",
       "      <td>496395</td>\n",
       "      <td>09/12/11 12:20</td>\n",
       "      <td>496395</td>\n",
       "      <td>1</td>\n",
       "      <td>85049AF</td>\n",
       "      <td>1.25</td>\n",
       "    </tr>\n",
       "    <tr>\n",
       "      <th>330551</th>\n",
       "      <td>PX</td>\n",
       "      <td>496395</td>\n",
       "      <td>09/12/11 12:20</td>\n",
       "      <td>496395</td>\n",
       "      <td>1</td>\n",
       "      <td>23126J</td>\n",
       "      <td>4.95</td>\n",
       "    </tr>\n",
       "    <tr>\n",
       "      <th>330552</th>\n",
       "      <td>PX</td>\n",
       "      <td>496395</td>\n",
       "      <td>09/12/11 12:20</td>\n",
       "      <td>496395</td>\n",
       "      <td>1</td>\n",
       "      <td>22695M</td>\n",
       "      <td>0.59</td>\n",
       "    </tr>\n",
       "    <tr>\n",
       "      <th>330553</th>\n",
       "      <td>PX</td>\n",
       "      <td>496395</td>\n",
       "      <td>09/12/11 12:20</td>\n",
       "      <td>496395</td>\n",
       "      <td>1</td>\n",
       "      <td>22144E</td>\n",
       "      <td>2.10</td>\n",
       "    </tr>\n",
       "    <tr>\n",
       "      <th>330554</th>\n",
       "      <td>PX</td>\n",
       "      <td>496395</td>\n",
       "      <td>09/12/11 12:20</td>\n",
       "      <td>496395</td>\n",
       "      <td>2</td>\n",
       "      <td>22908G</td>\n",
       "      <td>0.85</td>\n",
       "    </tr>\n",
       "    <tr>\n",
       "      <th>330555</th>\n",
       "      <td>PX</td>\n",
       "      <td>496395</td>\n",
       "      <td>09/12/11 12:20</td>\n",
       "      <td>496395</td>\n",
       "      <td>2</td>\n",
       "      <td>22894Q</td>\n",
       "      <td>9.95</td>\n",
       "    </tr>\n",
       "    <tr>\n",
       "      <th>330556</th>\n",
       "      <td>PX</td>\n",
       "      <td>496395</td>\n",
       "      <td>09/12/11 12:20</td>\n",
       "      <td>496395</td>\n",
       "      <td>30</td>\n",
       "      <td>22704P</td>\n",
       "      <td>0.42</td>\n",
       "    </tr>\n",
       "    <tr>\n",
       "      <th>330557</th>\n",
       "      <td>PX</td>\n",
       "      <td>496395</td>\n",
       "      <td>09/12/11 12:20</td>\n",
       "      <td>496395</td>\n",
       "      <td>1</td>\n",
       "      <td>22721T</td>\n",
       "      <td>1.95</td>\n",
       "    </tr>\n",
       "    <tr>\n",
       "      <th>330558</th>\n",
       "      <td>PX</td>\n",
       "      <td>496395</td>\n",
       "      <td>09/12/11 12:20</td>\n",
       "      <td>496395</td>\n",
       "      <td>28</td>\n",
       "      <td>22816Q</td>\n",
       "      <td>0.42</td>\n",
       "    </tr>\n",
       "    <tr>\n",
       "      <th>330559</th>\n",
       "      <td>PX</td>\n",
       "      <td>496395</td>\n",
       "      <td>09/12/11 12:20</td>\n",
       "      <td>496395</td>\n",
       "      <td>2</td>\n",
       "      <td>85049EP</td>\n",
       "      <td>1.25</td>\n",
       "    </tr>\n",
       "    <tr>\n",
       "      <th>330560</th>\n",
       "      <td>PX</td>\n",
       "      <td>496395</td>\n",
       "      <td>09/12/11 12:20</td>\n",
       "      <td>496395</td>\n",
       "      <td>2</td>\n",
       "      <td>22075W</td>\n",
       "      <td>0.39</td>\n",
       "    </tr>\n",
       "    <tr>\n",
       "      <th>330561</th>\n",
       "      <td>PX</td>\n",
       "      <td>496395</td>\n",
       "      <td>09/12/11 12:20</td>\n",
       "      <td>496395</td>\n",
       "      <td>1</td>\n",
       "      <td>21351H</td>\n",
       "      <td>6.75</td>\n",
       "    </tr>\n",
       "    <tr>\n",
       "      <th>330562</th>\n",
       "      <td>PX</td>\n",
       "      <td>496395</td>\n",
       "      <td>09/12/11 12:20</td>\n",
       "      <td>496395</td>\n",
       "      <td>1</td>\n",
       "      <td>22698C</td>\n",
       "      <td>2.95</td>\n",
       "    </tr>\n",
       "    <tr>\n",
       "      <th>330563</th>\n",
       "      <td>PX</td>\n",
       "      <td>496395</td>\n",
       "      <td>09/12/11 12:20</td>\n",
       "      <td>496395</td>\n",
       "      <td>1</td>\n",
       "      <td>22567D</td>\n",
       "      <td>1.45</td>\n",
       "    </tr>\n",
       "    <tr>\n",
       "      <th>330564</th>\n",
       "      <td>PX</td>\n",
       "      <td>496395</td>\n",
       "      <td>09/12/11 12:20</td>\n",
       "      <td>496395</td>\n",
       "      <td>2</td>\n",
       "      <td>79321V</td>\n",
       "      <td>5.75</td>\n",
       "    </tr>\n",
       "    <tr>\n",
       "      <th>330565</th>\n",
       "      <td>PX</td>\n",
       "      <td>496395</td>\n",
       "      <td>09/12/11 12:20</td>\n",
       "      <td>496395</td>\n",
       "      <td>1</td>\n",
       "      <td>37500D</td>\n",
       "      <td>4.95</td>\n",
       "    </tr>\n",
       "    <tr>\n",
       "      <th>330566</th>\n",
       "      <td>PX</td>\n",
       "      <td>396396</td>\n",
       "      <td>09/12/11 12:20</td>\n",
       "      <td>396396</td>\n",
       "      <td>7</td>\n",
       "      <td>23562I</td>\n",
       "      <td>2.89</td>\n",
       "    </tr>\n",
       "    <tr>\n",
       "      <th>330567</th>\n",
       "      <td>PX</td>\n",
       "      <td>396396</td>\n",
       "      <td>09/12/11 12:20</td>\n",
       "      <td>396396</td>\n",
       "      <td>7</td>\n",
       "      <td>23561C</td>\n",
       "      <td>2.89</td>\n",
       "    </tr>\n",
       "    <tr>\n",
       "      <th>330568</th>\n",
       "      <td>PX</td>\n",
       "      <td>396396</td>\n",
       "      <td>09/12/11 12:20</td>\n",
       "      <td>396396</td>\n",
       "      <td>12</td>\n",
       "      <td>23681Y</td>\n",
       "      <td>1.65</td>\n",
       "    </tr>\n",
       "    <tr>\n",
       "      <th>330569</th>\n",
       "      <td>PX</td>\n",
       "      <td>296397</td>\n",
       "      <td>09/12/11 12:21</td>\n",
       "      <td>296397</td>\n",
       "      <td>7</td>\n",
       "      <td>23552T</td>\n",
       "      <td>2.08</td>\n",
       "    </tr>\n",
       "    <tr>\n",
       "      <th>330570</th>\n",
       "      <td>PX</td>\n",
       "      <td>296397</td>\n",
       "      <td>09/12/11 12:21</td>\n",
       "      <td>296397</td>\n",
       "      <td>14</td>\n",
       "      <td>23498F</td>\n",
       "      <td>1.45</td>\n",
       "    </tr>\n",
       "    <tr>\n",
       "      <th>330571</th>\n",
       "      <td>PX</td>\n",
       "      <td>103599</td>\n",
       "      <td>09/12/11 12:49</td>\n",
       "      <td>103599</td>\n",
       "      <td>9</td>\n",
       "      <td>22061J</td>\n",
       "      <td>2.95</td>\n",
       "    </tr>\n",
       "    <tr>\n",
       "      <th>330572</th>\n",
       "      <td>PX</td>\n",
       "      <td>103599</td>\n",
       "      <td>09/12/11 12:49</td>\n",
       "      <td>103599</td>\n",
       "      <td>28</td>\n",
       "      <td>23275I</td>\n",
       "      <td>1.25</td>\n",
       "    </tr>\n",
       "    <tr>\n",
       "      <th>330573</th>\n",
       "      <td>PX</td>\n",
       "      <td>103599</td>\n",
       "      <td>09/12/11 12:49</td>\n",
       "      <td>103599</td>\n",
       "      <td>28</td>\n",
       "      <td>21217W</td>\n",
       "      <td>8.95</td>\n",
       "    </tr>\n",
       "    <tr>\n",
       "      <th>330574</th>\n",
       "      <td>PX</td>\n",
       "      <td>103599</td>\n",
       "      <td>09/12/11 12:49</td>\n",
       "      <td>103599</td>\n",
       "      <td>12</td>\n",
       "      <td>20685H</td>\n",
       "      <td>7.08</td>\n",
       "    </tr>\n",
       "  </tbody>\n",
       "</table>\n",
       "<p>330575 rows × 7 columns</p>\n",
       "</div>"
      ],
      "text/plain": [
       "       Country  CustomerID     InvoiceDate  InvoiceNo  Quantity StockCode  \\\n",
       "0           PX       27270   01/12/10 8:26      27270         7   85123AY   \n",
       "1           PX       27270   01/12/10 8:26      27270         7    71053R   \n",
       "2           PX       27270   01/12/10 8:26      27270         9   84406BH   \n",
       "3           PX       27270   01/12/10 8:26      27270         7   84029GV   \n",
       "4           PX       27270   01/12/10 8:26      27270         7   84029EX   \n",
       "...        ...         ...             ...        ...       ...       ...   \n",
       "330570      PX      296397  09/12/11 12:21     296397        14    23498F   \n",
       "330571      PX      103599  09/12/11 12:49     103599         9    22061J   \n",
       "330572      PX      103599  09/12/11 12:49     103599        28    23275I   \n",
       "330573      PX      103599  09/12/11 12:49     103599        28    21217W   \n",
       "330574      PX      103599  09/12/11 12:49     103599        12    20685H   \n",
       "\n",
       "        UnitPrice  \n",
       "0            2.55  \n",
       "1            3.39  \n",
       "2            2.75  \n",
       "3            3.39  \n",
       "4            3.39  \n",
       "...           ...  \n",
       "330570       1.45  \n",
       "330571       2.95  \n",
       "330572       1.25  \n",
       "330573       8.95  \n",
       "330574       7.08  \n",
       "\n",
       "[330575 rows x 7 columns]"
      ]
     },
     "execution_count": 58,
     "metadata": {},
     "output_type": "execute_result"
    }
   ],
   "source": [
    "train"
   ]
  },
  {
   "cell_type": "code",
   "execution_count": 59,
   "metadata": {
    "scrolled": true
   },
   "outputs": [],
   "source": [
    "user_quant = merged.groupby(['CustomerID'])['Quantity'].agg({'min_quant':'min','max_quant':'max','mean_quant':'mean','var_quant':'var','mode_quant':stats.mode}).reset_index()\n",
    "user_quant['mode_quant'] = user_quant['mode_quant'].apply(lambda x:x[0][0])\n",
    "\n",
    "user_country_1 = merged.groupby(['CustomerID'])['Country'].agg({'unique_countries':'unique','count_unique_countries':'nunique','mode_country':stats.mode}).reset_index()\n",
    "user_country_1['mode_country'] = user_country_1['mode_country'].apply(lambda x:x[0][0])\n",
    "\n",
    "user_price = merged.groupby(['CustomerID'])['UnitPrice'].agg({'min_price':'min','max_price':'max','mean_price':'mean','var_price':'var','mode_price':stats.mode}).reset_index()\n",
    "user_price['mode_price'] = user_price['mode_price'].apply(lambda x:x[0][0])\n",
    "\n",
    "\n",
    "items_quant = merged.groupby(['StockCode'])['Quantity'].agg({'min_quant':'min','max_quant':'max','mean_quant':'mean','var_quant':'var'}).reset_index()\n",
    "items_price = merged.groupby(['StockCode'])['UnitPrice'].agg({'min_price':'min','max_price':'max','mean_price':'mean','var_price':'var'}).reset_index()"
   ]
  },
  {
   "cell_type": "code",
   "execution_count": 60,
   "metadata": {},
   "outputs": [],
   "source": [
    "items_df = items_df.merge(items_price, on=['StockCode'],how='inner')\n",
    "items_df = items_df.merge(items_quant, on=['StockCode'], how='inner')"
   ]
  },
  {
   "cell_type": "code",
   "execution_count": 61,
   "metadata": {
    "scrolled": true
   },
   "outputs": [],
   "source": [
    "user_df = pd.DataFrame(merged['CustomerID'].unique(),columns=['CustomerID'])\n",
    "\n",
    "user_df = user_df.merge(user_quant, on=['CustomerID'], how='inner')\n",
    "user_df = user_df.merge(user_country_1, on=['CustomerID'], how='inner')\n",
    "user_df = user_df.merge(user_price, on=['CustomerID'], how='inner')"
   ]
  },
  {
   "cell_type": "markdown",
   "metadata": {},
   "source": [
    "## Final Model experiment/"
   ]
  },
  {
   "cell_type": "code",
   "execution_count": 62,
   "metadata": {},
   "outputs": [],
   "source": [
    "# constant variables to define field names include:\n",
    "user_id = 'CustomerID'\n",
    "item_id = 'StockCode'\n",
    "users_to_recommend = list(train_data[user_id][0:3])\n",
    "n_rec = 10 # number of items to recommend\n",
    "n_display = 30 # to display the first few rows in an output dataset"
   ]
  },
  {
   "cell_type": "code",
   "execution_count": 63,
   "metadata": {
    "scrolled": true
   },
   "outputs": [],
   "source": [
    "target = 'total_quantity'\n",
    "item_data = tc.SFrame(items_df)\n",
    "user_data = tc.SFrame(user_df.drop(['unique_countries'],axis=1))"
   ]
  },
  {
   "cell_type": "code",
   "execution_count": 64,
   "metadata": {
    "scrolled": true
   },
   "outputs": [
    {
     "data": {
      "text/html": [
       "<pre>Warning: This solver currently does not support side features. Proceeding with training without side features.</pre>"
      ],
      "text/plain": [
       "Warning: This solver currently does not support side features. Proceeding with training without side features."
      ]
     },
     "metadata": {},
     "output_type": "display_data"
    },
    {
     "data": {
      "text/html": [
       "<pre>Preparing data set.</pre>"
      ],
      "text/plain": [
       "Preparing data set."
      ]
     },
     "metadata": {},
     "output_type": "display_data"
    },
    {
     "data": {
      "text/html": [
       "<pre>    Data has 366405 observations with 1600 users and 3860 items.</pre>"
      ],
      "text/plain": [
       "    Data has 366405 observations with 1600 users and 3860 items."
      ]
     },
     "metadata": {},
     "output_type": "display_data"
    },
    {
     "data": {
      "text/html": [
       "<pre>    Data prepared in: 0.262377s</pre>"
      ],
      "text/plain": [
       "    Data prepared in: 0.262377s"
      ]
     },
     "metadata": {},
     "output_type": "display_data"
    },
    {
     "data": {
      "text/html": [
       "<pre>Training ranking_factorization_recommender for recommendations.</pre>"
      ],
      "text/plain": [
       "Training ranking_factorization_recommender for recommendations."
      ]
     },
     "metadata": {},
     "output_type": "display_data"
    },
    {
     "data": {
      "text/html": [
       "<pre>+------------------------------+--------------------------------------------------+----------+</pre>"
      ],
      "text/plain": [
       "+------------------------------+--------------------------------------------------+----------+"
      ]
     },
     "metadata": {},
     "output_type": "display_data"
    },
    {
     "data": {
      "text/html": [
       "<pre>| Parameter                    | Description                                      | Value    |</pre>"
      ],
      "text/plain": [
       "| Parameter                    | Description                                      | Value    |"
      ]
     },
     "metadata": {},
     "output_type": "display_data"
    },
    {
     "data": {
      "text/html": [
       "<pre>+------------------------------+--------------------------------------------------+----------+</pre>"
      ],
      "text/plain": [
       "+------------------------------+--------------------------------------------------+----------+"
      ]
     },
     "metadata": {},
     "output_type": "display_data"
    },
    {
     "data": {
      "text/html": [
       "<pre>| num_factors                  | Factor Dimension                                 | 32       |</pre>"
      ],
      "text/plain": [
       "| num_factors                  | Factor Dimension                                 | 32       |"
      ]
     },
     "metadata": {},
     "output_type": "display_data"
    },
    {
     "data": {
      "text/html": [
       "<pre>| regularization               | L2 Regularization on Factors                     | 1e-09    |</pre>"
      ],
      "text/plain": [
       "| regularization               | L2 Regularization on Factors                     | 1e-09    |"
      ]
     },
     "metadata": {},
     "output_type": "display_data"
    },
    {
     "data": {
      "text/html": [
       "<pre>| max_iterations               | Maximum Number of Iterations                     | 25       |</pre>"
      ],
      "text/plain": [
       "| max_iterations               | Maximum Number of Iterations                     | 25       |"
      ]
     },
     "metadata": {},
     "output_type": "display_data"
    },
    {
     "data": {
      "text/html": [
       "<pre>| solver                       | Solver used for training                         | ials     |</pre>"
      ],
      "text/plain": [
       "| solver                       | Solver used for training                         | ials     |"
      ]
     },
     "metadata": {},
     "output_type": "display_data"
    },
    {
     "data": {
      "text/html": [
       "<pre>+------------------------------+--------------------------------------------------+----------+</pre>"
      ],
      "text/plain": [
       "+------------------------------+--------------------------------------------------+----------+"
      ]
     },
     "metadata": {},
     "output_type": "display_data"
    },
    {
     "data": {
      "text/html": [
       "<pre>+---------+--------------+---------------------------+</pre>"
      ],
      "text/plain": [
       "+---------+--------------+---------------------------+"
      ]
     },
     "metadata": {},
     "output_type": "display_data"
    },
    {
     "data": {
      "text/html": [
       "<pre>| Iter.   | Elapsed time | Estimated Objective Value |</pre>"
      ],
      "text/plain": [
       "| Iter.   | Elapsed time | Estimated Objective Value |"
      ]
     },
     "metadata": {},
     "output_type": "display_data"
    },
    {
     "data": {
      "text/html": [
       "<pre>+---------+--------------+---------------------------+</pre>"
      ],
      "text/plain": [
       "+---------+--------------+---------------------------+"
      ]
     },
     "metadata": {},
     "output_type": "display_data"
    },
    {
     "data": {
      "text/html": [
       "<pre>| Initial | 54us         | NA                        |</pre>"
      ],
      "text/plain": [
       "| Initial | 54us         | NA                        |"
      ]
     },
     "metadata": {},
     "output_type": "display_data"
    },
    {
     "data": {
      "text/html": [
       "<pre>+---------+--------------+---------------------------+</pre>"
      ],
      "text/plain": [
       "+---------+--------------+---------------------------+"
      ]
     },
     "metadata": {},
     "output_type": "display_data"
    },
    {
     "data": {
      "text/html": [
       "<pre>| 0       | 124.701ms    | 0.922851                  |</pre>"
      ],
      "text/plain": [
       "| 0       | 124.701ms    | 0.922851                  |"
      ]
     },
     "metadata": {},
     "output_type": "display_data"
    },
    {
     "data": {
      "text/html": [
       "<pre>| 1       | 233.222ms    | 0.865059                  |</pre>"
      ],
      "text/plain": [
       "| 1       | 233.222ms    | 0.865059                  |"
      ]
     },
     "metadata": {},
     "output_type": "display_data"
    },
    {
     "data": {
      "text/html": [
       "<pre>| 2       | 342.962ms    | 0.856581                  |</pre>"
      ],
      "text/plain": [
       "| 2       | 342.962ms    | 0.856581                  |"
      ]
     },
     "metadata": {},
     "output_type": "display_data"
    },
    {
     "data": {
      "text/html": [
       "<pre>| 3       | 455.584ms    | 0.853057                  |</pre>"
      ],
      "text/plain": [
       "| 3       | 455.584ms    | 0.853057                  |"
      ]
     },
     "metadata": {},
     "output_type": "display_data"
    },
    {
     "data": {
      "text/html": [
       "<pre>| 4       | 565.489ms    | 0.851303                  |</pre>"
      ],
      "text/plain": [
       "| 4       | 565.489ms    | 0.851303                  |"
      ]
     },
     "metadata": {},
     "output_type": "display_data"
    },
    {
     "data": {
      "text/html": [
       "<pre>| 5       | 675.93ms     | 0.850314                  |</pre>"
      ],
      "text/plain": [
       "| 5       | 675.93ms     | 0.850314                  |"
      ]
     },
     "metadata": {},
     "output_type": "display_data"
    },
    {
     "data": {
      "text/html": [
       "<pre>| 6       | 783.998ms    | 0.849705                  |</pre>"
      ],
      "text/plain": [
       "| 6       | 783.998ms    | 0.849705                  |"
      ]
     },
     "metadata": {},
     "output_type": "display_data"
    },
    {
     "data": {
      "text/html": [
       "<pre>| 7       | 892.098ms    | 0.84931                   |</pre>"
      ],
      "text/plain": [
       "| 7       | 892.098ms    | 0.84931                   |"
      ]
     },
     "metadata": {},
     "output_type": "display_data"
    },
    {
     "data": {
      "text/html": [
       "<pre>| 8       | 1.00s        | 0.849042                  |</pre>"
      ],
      "text/plain": [
       "| 8       | 1.00s        | 0.849042                  |"
      ]
     },
     "metadata": {},
     "output_type": "display_data"
    },
    {
     "data": {
      "text/html": [
       "<pre>| 9       | 1.11s        | 0.848854                  |</pre>"
      ],
      "text/plain": [
       "| 9       | 1.11s        | 0.848854                  |"
      ]
     },
     "metadata": {},
     "output_type": "display_data"
    },
    {
     "data": {
      "text/html": [
       "<pre>| 10      | 1.22s        | 0.848718                  |</pre>"
      ],
      "text/plain": [
       "| 10      | 1.22s        | 0.848718                  |"
      ]
     },
     "metadata": {},
     "output_type": "display_data"
    },
    {
     "data": {
      "text/html": [
       "<pre>| 11      | 1.34s        | 0.848618                  |</pre>"
      ],
      "text/plain": [
       "| 11      | 1.34s        | 0.848618                  |"
      ]
     },
     "metadata": {},
     "output_type": "display_data"
    },
    {
     "data": {
      "text/html": [
       "<pre>| 12      | 1.45s        | 0.848543                  |</pre>"
      ],
      "text/plain": [
       "| 12      | 1.45s        | 0.848543                  |"
      ]
     },
     "metadata": {},
     "output_type": "display_data"
    },
    {
     "data": {
      "text/html": [
       "<pre>| 13      | 1.55s        | 0.848484                  |</pre>"
      ],
      "text/plain": [
       "| 13      | 1.55s        | 0.848484                  |"
      ]
     },
     "metadata": {},
     "output_type": "display_data"
    },
    {
     "data": {
      "text/html": [
       "<pre>| 14      | 1.67s        | 0.848438                  |</pre>"
      ],
      "text/plain": [
       "| 14      | 1.67s        | 0.848438                  |"
      ]
     },
     "metadata": {},
     "output_type": "display_data"
    },
    {
     "data": {
      "text/html": [
       "<pre>| 15      | 1.78s        | 0.848401                  |</pre>"
      ],
      "text/plain": [
       "| 15      | 1.78s        | 0.848401                  |"
      ]
     },
     "metadata": {},
     "output_type": "display_data"
    },
    {
     "data": {
      "text/html": [
       "<pre>| 16      | 1.89s        | 0.848371                  |</pre>"
      ],
      "text/plain": [
       "| 16      | 1.89s        | 0.848371                  |"
      ]
     },
     "metadata": {},
     "output_type": "display_data"
    },
    {
     "data": {
      "text/html": [
       "<pre>| 17      | 2.00s        | 0.848346                  |</pre>"
      ],
      "text/plain": [
       "| 17      | 2.00s        | 0.848346                  |"
      ]
     },
     "metadata": {},
     "output_type": "display_data"
    },
    {
     "data": {
      "text/html": [
       "<pre>| 18      | 2.11s        | 0.848325                  |</pre>"
      ],
      "text/plain": [
       "| 18      | 2.11s        | 0.848325                  |"
      ]
     },
     "metadata": {},
     "output_type": "display_data"
    },
    {
     "data": {
      "text/html": [
       "<pre>| 19      | 2.22s        | 0.848308                  |</pre>"
      ],
      "text/plain": [
       "| 19      | 2.22s        | 0.848308                  |"
      ]
     },
     "metadata": {},
     "output_type": "display_data"
    },
    {
     "data": {
      "text/html": [
       "<pre>| 20      | 2.33s        | 0.848293                  |</pre>"
      ],
      "text/plain": [
       "| 20      | 2.33s        | 0.848293                  |"
      ]
     },
     "metadata": {},
     "output_type": "display_data"
    },
    {
     "data": {
      "text/html": [
       "<pre>| 21      | 2.44s        | 0.84828                   |</pre>"
      ],
      "text/plain": [
       "| 21      | 2.44s        | 0.84828                   |"
      ]
     },
     "metadata": {},
     "output_type": "display_data"
    },
    {
     "data": {
      "text/html": [
       "<pre>| 22      | 2.55s        | 0.848269                  |</pre>"
      ],
      "text/plain": [
       "| 22      | 2.55s        | 0.848269                  |"
      ]
     },
     "metadata": {},
     "output_type": "display_data"
    },
    {
     "data": {
      "text/html": [
       "<pre>| 23      | 2.66s        | 0.84826                   |</pre>"
      ],
      "text/plain": [
       "| 23      | 2.66s        | 0.84826                   |"
      ]
     },
     "metadata": {},
     "output_type": "display_data"
    },
    {
     "data": {
      "text/html": [
       "<pre>| 24      | 2.77s        | 0.848251                  |</pre>"
      ],
      "text/plain": [
       "| 24      | 2.77s        | 0.848251                  |"
      ]
     },
     "metadata": {},
     "output_type": "display_data"
    },
    {
     "data": {
      "text/html": [
       "<pre>| FINAL   | 2.77s        | 0.848251                  |</pre>"
      ],
      "text/plain": [
       "| FINAL   | 2.77s        | 0.848251                  |"
      ]
     },
     "metadata": {},
     "output_type": "display_data"
    },
    {
     "data": {
      "text/html": [
       "<pre>+---------+--------------+---------------------------+</pre>"
      ],
      "text/plain": [
       "+---------+--------------+---------------------------+"
      ]
     },
     "metadata": {},
     "output_type": "display_data"
    },
    {
     "data": {
      "text/html": [
       "<pre>Optimization Complete: Iteration limit reached.</pre>"
      ],
      "text/plain": [
       "Optimization Complete: Iteration limit reached."
      ]
     },
     "metadata": {},
     "output_type": "display_data"
    },
    {
     "name": "stdout",
     "output_type": "stream",
     "text": [
      "+------------+-----------+--------------------+------+\n",
      "| CustomerID | StockCode |       score        | rank |\n",
      "+------------+-----------+--------------------+------+\n",
      "|   36360    |   47566Y  | 0.6563539505004883 |  1   |\n",
      "|   36360    |   22178V  | 0.6403002142906189 |  2   |\n",
      "|   36360    |  85123AY  | 0.6083240509033203 |  3   |\n",
      "|   36360    |   22697A  | 0.6005438566207886 |  4   |\n",
      "|   36360    |   21314Q  | 0.5955486297607422 |  5   |\n",
      "|   36360    |   84946F  | 0.5787147283554077 |  6   |\n",
      "|   36360    |   22469S  | 0.5647217631340027 |  7   |\n",
      "|   36360    |   22457C  | 0.5615686774253845 |  8   |\n",
      "|   36360    |   21669G  | 0.5549391508102417 |  9   |\n",
      "|   36360    |   22197J  | 0.5517067909240723 |  10  |\n",
      "|   239058   |   22966E  | 0.9547631740570068 |  1   |\n",
      "|   239058   |   22197J  | 0.9052513837814331 |  2   |\n",
      "|   239058   |   22625P  | 0.8967427015304565 |  3   |\n",
      "|   239058   |   21931F  | 0.8942598700523376 |  4   |\n",
      "|   239058   |   21080R  | 0.8866696953773499 |  5   |\n",
      "|   239058   |   23298Q  | 0.8620445132255554 |  6   |\n",
      "|   239058   |   22558H  | 0.8579089641571045 |  7   |\n",
      "|   239058   |   22726C  | 0.8464041948318481 |  8   |\n",
      "|   239058   |   22192Y  | 0.8426462411880493 |  9   |\n",
      "|   239058   |  85123AY  | 0.833318829536438  |  10  |\n",
      "|   433566   |   22865Y  | 0.7310584187507629 |  1   |\n",
      "|   433566   |   22866X  | 0.723703145980835  |  2   |\n",
      "|   433566   |  85099BJ  | 0.6710111498832703 |  3   |\n",
      "|   433566   |   23203B  | 0.6477084159851074 |  4   |\n",
      "|   433566   |   22632O  | 0.6017706990242004 |  5   |\n",
      "|   433566   |   22386V  | 0.5940878987312317 |  6   |\n",
      "|   433566   |   22037V  | 0.589974582195282  |  7   |\n",
      "|   433566   |   82582N  | 0.5766860842704773 |  8   |\n",
      "|   433566   |   22111I  | 0.5758370161056519 |  9   |\n",
      "|   433566   |   22716A  | 0.5710086822509766 |  10  |\n",
      "+------------+-----------+--------------------+------+\n",
      "[30 rows x 4 columns]\n",
      "\n"
     ]
    }
   ],
   "source": [
    "model = tc.ranking_factorization_recommender.create(tc.SFrame(data_dummy), \n",
    "                                                    user_id=user_id, \n",
    "                                                    item_id=item_id, \n",
    "                                                    target='total_quantity',user_data=user_data, item_data=item_data, \n",
    "                                                    solver='ials')\n",
    " \n",
    "\n",
    "recom = model.recommend(users=users_to_recommend, k=n_rec)\n",
    "recom.print_rows(n_display)"
   ]
  },
  {
   "cell_type": "code",
   "execution_count": null,
   "metadata": {},
   "outputs": [],
   "source": []
  },
  {
   "cell_type": "code",
   "execution_count": 65,
   "metadata": {
    "scrolled": true
   },
   "outputs": [
    {
     "data": {
      "text/html": [
       "<pre>Preparing data set.</pre>"
      ],
      "text/plain": [
       "Preparing data set."
      ]
     },
     "metadata": {},
     "output_type": "display_data"
    },
    {
     "data": {
      "text/html": [
       "<pre>    Data has 366405 observations with 1600 users and 3860 items.</pre>"
      ],
      "text/plain": [
       "    Data has 366405 observations with 1600 users and 3860 items."
      ]
     },
     "metadata": {},
     "output_type": "display_data"
    },
    {
     "data": {
      "text/html": [
       "<pre>    Data prepared in: 0.25075s</pre>"
      ],
      "text/plain": [
       "    Data prepared in: 0.25075s"
      ]
     },
     "metadata": {},
     "output_type": "display_data"
    },
    {
     "data": {
      "text/html": [
       "<pre>Training ranking_factorization_recommender for recommendations.</pre>"
      ],
      "text/plain": [
       "Training ranking_factorization_recommender for recommendations."
      ]
     },
     "metadata": {},
     "output_type": "display_data"
    },
    {
     "data": {
      "text/html": [
       "<pre>+------------------------------+--------------------------------------------------+----------+</pre>"
      ],
      "text/plain": [
       "+------------------------------+--------------------------------------------------+----------+"
      ]
     },
     "metadata": {},
     "output_type": "display_data"
    },
    {
     "data": {
      "text/html": [
       "<pre>| Parameter                    | Description                                      | Value    |</pre>"
      ],
      "text/plain": [
       "| Parameter                    | Description                                      | Value    |"
      ]
     },
     "metadata": {},
     "output_type": "display_data"
    },
    {
     "data": {
      "text/html": [
       "<pre>+------------------------------+--------------------------------------------------+----------+</pre>"
      ],
      "text/plain": [
       "+------------------------------+--------------------------------------------------+----------+"
      ]
     },
     "metadata": {},
     "output_type": "display_data"
    },
    {
     "data": {
      "text/html": [
       "<pre>| num_factors                  | Factor Dimension                                 | 32       |</pre>"
      ],
      "text/plain": [
       "| num_factors                  | Factor Dimension                                 | 32       |"
      ]
     },
     "metadata": {},
     "output_type": "display_data"
    },
    {
     "data": {
      "text/html": [
       "<pre>| regularization               | L2 Regularization on Factors                     | 1e-09    |</pre>"
      ],
      "text/plain": [
       "| regularization               | L2 Regularization on Factors                     | 1e-09    |"
      ]
     },
     "metadata": {},
     "output_type": "display_data"
    },
    {
     "data": {
      "text/html": [
       "<pre>| max_iterations               | Maximum Number of Iterations                     | 25       |</pre>"
      ],
      "text/plain": [
       "| max_iterations               | Maximum Number of Iterations                     | 25       |"
      ]
     },
     "metadata": {},
     "output_type": "display_data"
    },
    {
     "data": {
      "text/html": [
       "<pre>| solver                       | Solver used for training                         | ials     |</pre>"
      ],
      "text/plain": [
       "| solver                       | Solver used for training                         | ials     |"
      ]
     },
     "metadata": {},
     "output_type": "display_data"
    },
    {
     "data": {
      "text/html": [
       "<pre>+------------------------------+--------------------------------------------------+----------+</pre>"
      ],
      "text/plain": [
       "+------------------------------+--------------------------------------------------+----------+"
      ]
     },
     "metadata": {},
     "output_type": "display_data"
    },
    {
     "data": {
      "text/html": [
       "<pre>+---------+--------------+---------------------------+</pre>"
      ],
      "text/plain": [
       "+---------+--------------+---------------------------+"
      ]
     },
     "metadata": {},
     "output_type": "display_data"
    },
    {
     "data": {
      "text/html": [
       "<pre>| Iter.   | Elapsed time | Estimated Objective Value |</pre>"
      ],
      "text/plain": [
       "| Iter.   | Elapsed time | Estimated Objective Value |"
      ]
     },
     "metadata": {},
     "output_type": "display_data"
    },
    {
     "data": {
      "text/html": [
       "<pre>+---------+--------------+---------------------------+</pre>"
      ],
      "text/plain": [
       "+---------+--------------+---------------------------+"
      ]
     },
     "metadata": {},
     "output_type": "display_data"
    },
    {
     "data": {
      "text/html": [
       "<pre>| Initial | 63us         | NA                        |</pre>"
      ],
      "text/plain": [
       "| Initial | 63us         | NA                        |"
      ]
     },
     "metadata": {},
     "output_type": "display_data"
    },
    {
     "data": {
      "text/html": [
       "<pre>+---------+--------------+---------------------------+</pre>"
      ],
      "text/plain": [
       "+---------+--------------+---------------------------+"
      ]
     },
     "metadata": {},
     "output_type": "display_data"
    },
    {
     "data": {
      "text/html": [
       "<pre>| 0       | 120.296ms    | 0.923621                  |</pre>"
      ],
      "text/plain": [
       "| 0       | 120.296ms    | 0.923621                  |"
      ]
     },
     "metadata": {},
     "output_type": "display_data"
    },
    {
     "data": {
      "text/html": [
       "<pre>| 1       | 231.111ms    | 0.865176                  |</pre>"
      ],
      "text/plain": [
       "| 1       | 231.111ms    | 0.865176                  |"
      ]
     },
     "metadata": {},
     "output_type": "display_data"
    },
    {
     "data": {
      "text/html": [
       "<pre>| 2       | 341.504ms    | 0.856775                  |</pre>"
      ],
      "text/plain": [
       "| 2       | 341.504ms    | 0.856775                  |"
      ]
     },
     "metadata": {},
     "output_type": "display_data"
    },
    {
     "data": {
      "text/html": [
       "<pre>| 3       | 453.177ms    | 0.853332                  |</pre>"
      ],
      "text/plain": [
       "| 3       | 453.177ms    | 0.853332                  |"
      ]
     },
     "metadata": {},
     "output_type": "display_data"
    },
    {
     "data": {
      "text/html": [
       "<pre>| 4       | 565.441ms    | 0.851643                  |</pre>"
      ],
      "text/plain": [
       "| 4       | 565.441ms    | 0.851643                  |"
      ]
     },
     "metadata": {},
     "output_type": "display_data"
    },
    {
     "data": {
      "text/html": [
       "<pre>| 5       | 677.581ms    | 0.850674                  |</pre>"
      ],
      "text/plain": [
       "| 5       | 677.581ms    | 0.850674                  |"
      ]
     },
     "metadata": {},
     "output_type": "display_data"
    },
    {
     "data": {
      "text/html": [
       "<pre>| 6       | 786.655ms    | 0.850043                  |</pre>"
      ],
      "text/plain": [
       "| 6       | 786.655ms    | 0.850043                  |"
      ]
     },
     "metadata": {},
     "output_type": "display_data"
    },
    {
     "data": {
      "text/html": [
       "<pre>| 7       | 898.435ms    | 0.849599                  |</pre>"
      ],
      "text/plain": [
       "| 7       | 898.435ms    | 0.849599                  |"
      ]
     },
     "metadata": {},
     "output_type": "display_data"
    },
    {
     "data": {
      "text/html": [
       "<pre>| 8       | 1.00s        | 0.849277                  |</pre>"
      ],
      "text/plain": [
       "| 8       | 1.00s        | 0.849277                  |"
      ]
     },
     "metadata": {},
     "output_type": "display_data"
    },
    {
     "data": {
      "text/html": [
       "<pre>| 9       | 1.11s        | 0.84904                   |</pre>"
      ],
      "text/plain": [
       "| 9       | 1.11s        | 0.84904                   |"
      ]
     },
     "metadata": {},
     "output_type": "display_data"
    },
    {
     "data": {
      "text/html": [
       "<pre>| 10      | 1.23s        | 0.848867                  |</pre>"
      ],
      "text/plain": [
       "| 10      | 1.23s        | 0.848867                  |"
      ]
     },
     "metadata": {},
     "output_type": "display_data"
    },
    {
     "data": {
      "text/html": [
       "<pre>| 11      | 1.34s        | 0.848738                  |</pre>"
      ],
      "text/plain": [
       "| 11      | 1.34s        | 0.848738                  |"
      ]
     },
     "metadata": {},
     "output_type": "display_data"
    },
    {
     "data": {
      "text/html": [
       "<pre>| 12      | 1.46s        | 0.848642                  |</pre>"
      ],
      "text/plain": [
       "| 12      | 1.46s        | 0.848642                  |"
      ]
     },
     "metadata": {},
     "output_type": "display_data"
    },
    {
     "data": {
      "text/html": [
       "<pre>| 13      | 1.57s        | 0.848569                  |</pre>"
      ],
      "text/plain": [
       "| 13      | 1.57s        | 0.848569                  |"
      ]
     },
     "metadata": {},
     "output_type": "display_data"
    },
    {
     "data": {
      "text/html": [
       "<pre>| 14      | 1.68s        | 0.848512                  |</pre>"
      ],
      "text/plain": [
       "| 14      | 1.68s        | 0.848512                  |"
      ]
     },
     "metadata": {},
     "output_type": "display_data"
    },
    {
     "data": {
      "text/html": [
       "<pre>| 15      | 1.80s        | 0.848467                  |</pre>"
      ],
      "text/plain": [
       "| 15      | 1.80s        | 0.848467                  |"
      ]
     },
     "metadata": {},
     "output_type": "display_data"
    },
    {
     "data": {
      "text/html": [
       "<pre>| 16      | 1.91s        | 0.848431                  |</pre>"
      ],
      "text/plain": [
       "| 16      | 1.91s        | 0.848431                  |"
      ]
     },
     "metadata": {},
     "output_type": "display_data"
    },
    {
     "data": {
      "text/html": [
       "<pre>| 17      | 2.02s        | 0.848401                  |</pre>"
      ],
      "text/plain": [
       "| 17      | 2.02s        | 0.848401                  |"
      ]
     },
     "metadata": {},
     "output_type": "display_data"
    },
    {
     "data": {
      "text/html": [
       "<pre>| 18      | 2.13s        | 0.848377                  |</pre>"
      ],
      "text/plain": [
       "| 18      | 2.13s        | 0.848377                  |"
      ]
     },
     "metadata": {},
     "output_type": "display_data"
    },
    {
     "data": {
      "text/html": [
       "<pre>| 19      | 2.24s        | 0.848356                  |</pre>"
      ],
      "text/plain": [
       "| 19      | 2.24s        | 0.848356                  |"
      ]
     },
     "metadata": {},
     "output_type": "display_data"
    },
    {
     "data": {
      "text/html": [
       "<pre>| 20      | 2.35s        | 0.848338                  |</pre>"
      ],
      "text/plain": [
       "| 20      | 2.35s        | 0.848338                  |"
      ]
     },
     "metadata": {},
     "output_type": "display_data"
    },
    {
     "data": {
      "text/html": [
       "<pre>| 21      | 2.46s        | 0.848322                  |</pre>"
      ],
      "text/plain": [
       "| 21      | 2.46s        | 0.848322                  |"
      ]
     },
     "metadata": {},
     "output_type": "display_data"
    },
    {
     "data": {
      "text/html": [
       "<pre>| 22      | 2.58s        | 0.848308                  |</pre>"
      ],
      "text/plain": [
       "| 22      | 2.58s        | 0.848308                  |"
      ]
     },
     "metadata": {},
     "output_type": "display_data"
    },
    {
     "data": {
      "text/html": [
       "<pre>| 23      | 2.69s        | 0.848296                  |</pre>"
      ],
      "text/plain": [
       "| 23      | 2.69s        | 0.848296                  |"
      ]
     },
     "metadata": {},
     "output_type": "display_data"
    },
    {
     "data": {
      "text/html": [
       "<pre>| 24      | 2.80s        | 0.848286                  |</pre>"
      ],
      "text/plain": [
       "| 24      | 2.80s        | 0.848286                  |"
      ]
     },
     "metadata": {},
     "output_type": "display_data"
    },
    {
     "data": {
      "text/html": [
       "<pre>| FINAL   | 2.80s        | 0.848286                  |</pre>"
      ],
      "text/plain": [
       "| FINAL   | 2.80s        | 0.848286                  |"
      ]
     },
     "metadata": {},
     "output_type": "display_data"
    },
    {
     "data": {
      "text/html": [
       "<pre>+---------+--------------+---------------------------+</pre>"
      ],
      "text/plain": [
       "+---------+--------------+---------------------------+"
      ]
     },
     "metadata": {},
     "output_type": "display_data"
    },
    {
     "data": {
      "text/html": [
       "<pre>Optimization Complete: Iteration limit reached.</pre>"
      ],
      "text/plain": [
       "Optimization Complete: Iteration limit reached."
      ]
     },
     "metadata": {},
     "output_type": "display_data"
    },
    {
     "data": {
      "text/html": [
       "<pre>Warning: This solver currently does not support side features. Proceeding with training without side features.</pre>"
      ],
      "text/plain": [
       "Warning: This solver currently does not support side features. Proceeding with training without side features."
      ]
     },
     "metadata": {},
     "output_type": "display_data"
    },
    {
     "data": {
      "text/html": [
       "<pre>Preparing data set.</pre>"
      ],
      "text/plain": [
       "Preparing data set."
      ]
     },
     "metadata": {},
     "output_type": "display_data"
    },
    {
     "data": {
      "text/html": [
       "<pre>    Data has 366405 observations with 1600 users and 3860 items.</pre>"
      ],
      "text/plain": [
       "    Data has 366405 observations with 1600 users and 3860 items."
      ]
     },
     "metadata": {},
     "output_type": "display_data"
    },
    {
     "data": {
      "text/html": [
       "<pre>    Data prepared in: 0.256823s</pre>"
      ],
      "text/plain": [
       "    Data prepared in: 0.256823s"
      ]
     },
     "metadata": {},
     "output_type": "display_data"
    },
    {
     "data": {
      "text/html": [
       "<pre>Training ranking_factorization_recommender for recommendations.</pre>"
      ],
      "text/plain": [
       "Training ranking_factorization_recommender for recommendations."
      ]
     },
     "metadata": {},
     "output_type": "display_data"
    },
    {
     "data": {
      "text/html": [
       "<pre>+------------------------------+--------------------------------------------------+----------+</pre>"
      ],
      "text/plain": [
       "+------------------------------+--------------------------------------------------+----------+"
      ]
     },
     "metadata": {},
     "output_type": "display_data"
    },
    {
     "data": {
      "text/html": [
       "<pre>| Parameter                    | Description                                      | Value    |</pre>"
      ],
      "text/plain": [
       "| Parameter                    | Description                                      | Value    |"
      ]
     },
     "metadata": {},
     "output_type": "display_data"
    },
    {
     "data": {
      "text/html": [
       "<pre>+------------------------------+--------------------------------------------------+----------+</pre>"
      ],
      "text/plain": [
       "+------------------------------+--------------------------------------------------+----------+"
      ]
     },
     "metadata": {},
     "output_type": "display_data"
    },
    {
     "data": {
      "text/html": [
       "<pre>| num_factors                  | Factor Dimension                                 | 32       |</pre>"
      ],
      "text/plain": [
       "| num_factors                  | Factor Dimension                                 | 32       |"
      ]
     },
     "metadata": {},
     "output_type": "display_data"
    },
    {
     "data": {
      "text/html": [
       "<pre>| regularization               | L2 Regularization on Factors                     | 1e-09    |</pre>"
      ],
      "text/plain": [
       "| regularization               | L2 Regularization on Factors                     | 1e-09    |"
      ]
     },
     "metadata": {},
     "output_type": "display_data"
    },
    {
     "data": {
      "text/html": [
       "<pre>| max_iterations               | Maximum Number of Iterations                     | 25       |</pre>"
      ],
      "text/plain": [
       "| max_iterations               | Maximum Number of Iterations                     | 25       |"
      ]
     },
     "metadata": {},
     "output_type": "display_data"
    },
    {
     "data": {
      "text/html": [
       "<pre>| solver                       | Solver used for training                         | ials     |</pre>"
      ],
      "text/plain": [
       "| solver                       | Solver used for training                         | ials     |"
      ]
     },
     "metadata": {},
     "output_type": "display_data"
    },
    {
     "data": {
      "text/html": [
       "<pre>+------------------------------+--------------------------------------------------+----------+</pre>"
      ],
      "text/plain": [
       "+------------------------------+--------------------------------------------------+----------+"
      ]
     },
     "metadata": {},
     "output_type": "display_data"
    },
    {
     "data": {
      "text/html": [
       "<pre>+---------+--------------+---------------------------+</pre>"
      ],
      "text/plain": [
       "+---------+--------------+---------------------------+"
      ]
     },
     "metadata": {},
     "output_type": "display_data"
    },
    {
     "data": {
      "text/html": [
       "<pre>| Iter.   | Elapsed time | Estimated Objective Value |</pre>"
      ],
      "text/plain": [
       "| Iter.   | Elapsed time | Estimated Objective Value |"
      ]
     },
     "metadata": {},
     "output_type": "display_data"
    },
    {
     "data": {
      "text/html": [
       "<pre>+---------+--------------+---------------------------+</pre>"
      ],
      "text/plain": [
       "+---------+--------------+---------------------------+"
      ]
     },
     "metadata": {},
     "output_type": "display_data"
    },
    {
     "data": {
      "text/html": [
       "<pre>| Initial | 70us         | NA                        |</pre>"
      ],
      "text/plain": [
       "| Initial | 70us         | NA                        |"
      ]
     },
     "metadata": {},
     "output_type": "display_data"
    },
    {
     "data": {
      "text/html": [
       "<pre>+---------+--------------+---------------------------+</pre>"
      ],
      "text/plain": [
       "+---------+--------------+---------------------------+"
      ]
     },
     "metadata": {},
     "output_type": "display_data"
    },
    {
     "data": {
      "text/html": [
       "<pre>| 0       | 118.635ms    | 0.922533                  |</pre>"
      ],
      "text/plain": [
       "| 0       | 118.635ms    | 0.922533                  |"
      ]
     },
     "metadata": {},
     "output_type": "display_data"
    },
    {
     "data": {
      "text/html": [
       "<pre>| 1       | 227.41ms     | 0.864935                  |</pre>"
      ],
      "text/plain": [
       "| 1       | 227.41ms     | 0.864935                  |"
      ]
     },
     "metadata": {},
     "output_type": "display_data"
    },
    {
     "data": {
      "text/html": [
       "<pre>| 2       | 337.925ms    | 0.856567                  |</pre>"
      ],
      "text/plain": [
       "| 2       | 337.925ms    | 0.856567                  |"
      ]
     },
     "metadata": {},
     "output_type": "display_data"
    },
    {
     "data": {
      "text/html": [
       "<pre>| 3       | 445.961ms    | 0.853113                  |</pre>"
      ],
      "text/plain": [
       "| 3       | 445.961ms    | 0.853113                  |"
      ]
     },
     "metadata": {},
     "output_type": "display_data"
    },
    {
     "data": {
      "text/html": [
       "<pre>| 4       | 555.383ms    | 0.851409                  |</pre>"
      ],
      "text/plain": [
       "| 4       | 555.383ms    | 0.851409                  |"
      ]
     },
     "metadata": {},
     "output_type": "display_data"
    },
    {
     "data": {
      "text/html": [
       "<pre>| 5       | 665.419ms    | 0.850449                  |</pre>"
      ],
      "text/plain": [
       "| 5       | 665.419ms    | 0.850449                  |"
      ]
     },
     "metadata": {},
     "output_type": "display_data"
    },
    {
     "data": {
      "text/html": [
       "<pre>| 6       | 775.25ms     | 0.849852                  |</pre>"
      ],
      "text/plain": [
       "| 6       | 775.25ms     | 0.849852                  |"
      ]
     },
     "metadata": {},
     "output_type": "display_data"
    },
    {
     "data": {
      "text/html": [
       "<pre>| 7       | 884.691ms    | 0.849455                  |</pre>"
      ],
      "text/plain": [
       "| 7       | 884.691ms    | 0.849455                  |"
      ]
     },
     "metadata": {},
     "output_type": "display_data"
    },
    {
     "data": {
      "text/html": [
       "<pre>| 8       | 998.052ms    | 0.849178                  |</pre>"
      ],
      "text/plain": [
       "| 8       | 998.052ms    | 0.849178                  |"
      ]
     },
     "metadata": {},
     "output_type": "display_data"
    },
    {
     "data": {
      "text/html": [
       "<pre>| 9       | 1.10s        | 0.848979                  |</pre>"
      ],
      "text/plain": [
       "| 9       | 1.10s        | 0.848979                  |"
      ]
     },
     "metadata": {},
     "output_type": "display_data"
    },
    {
     "data": {
      "text/html": [
       "<pre>| 10      | 1.21s        | 0.848831                  |</pre>"
      ],
      "text/plain": [
       "| 10      | 1.21s        | 0.848831                  |"
      ]
     },
     "metadata": {},
     "output_type": "display_data"
    },
    {
     "data": {
      "text/html": [
       "<pre>| 11      | 1.32s        | 0.84872                   |</pre>"
      ],
      "text/plain": [
       "| 11      | 1.32s        | 0.84872                   |"
      ]
     },
     "metadata": {},
     "output_type": "display_data"
    },
    {
     "data": {
      "text/html": [
       "<pre>| 12      | 1.43s        | 0.848633                  |</pre>"
      ],
      "text/plain": [
       "| 12      | 1.43s        | 0.848633                  |"
      ]
     },
     "metadata": {},
     "output_type": "display_data"
    },
    {
     "data": {
      "text/html": [
       "<pre>| 13      | 1.54s        | 0.848566                  |</pre>"
      ],
      "text/plain": [
       "| 13      | 1.54s        | 0.848566                  |"
      ]
     },
     "metadata": {},
     "output_type": "display_data"
    },
    {
     "data": {
      "text/html": [
       "<pre>| 14      | 1.66s        | 0.848511                  |</pre>"
      ],
      "text/plain": [
       "| 14      | 1.66s        | 0.848511                  |"
      ]
     },
     "metadata": {},
     "output_type": "display_data"
    },
    {
     "data": {
      "text/html": [
       "<pre>| 15      | 1.79s        | 0.848467                  |</pre>"
      ],
      "text/plain": [
       "| 15      | 1.79s        | 0.848467                  |"
      ]
     },
     "metadata": {},
     "output_type": "display_data"
    },
    {
     "data": {
      "text/html": [
       "<pre>| 16      | 1.92s        | 0.848431                  |</pre>"
      ],
      "text/plain": [
       "| 16      | 1.92s        | 0.848431                  |"
      ]
     },
     "metadata": {},
     "output_type": "display_data"
    },
    {
     "data": {
      "text/html": [
       "<pre>| 17      | 2.06s        | 0.848401                  |</pre>"
      ],
      "text/plain": [
       "| 17      | 2.06s        | 0.848401                  |"
      ]
     },
     "metadata": {},
     "output_type": "display_data"
    },
    {
     "data": {
      "text/html": [
       "<pre>| 18      | 2.19s        | 0.848375                  |</pre>"
      ],
      "text/plain": [
       "| 18      | 2.19s        | 0.848375                  |"
      ]
     },
     "metadata": {},
     "output_type": "display_data"
    },
    {
     "data": {
      "text/html": [
       "<pre>| 19      | 2.33s        | 0.848353                  |</pre>"
      ],
      "text/plain": [
       "| 19      | 2.33s        | 0.848353                  |"
      ]
     },
     "metadata": {},
     "output_type": "display_data"
    },
    {
     "data": {
      "text/html": [
       "<pre>| 20      | 2.47s        | 0.848334                  |</pre>"
      ],
      "text/plain": [
       "| 20      | 2.47s        | 0.848334                  |"
      ]
     },
     "metadata": {},
     "output_type": "display_data"
    },
    {
     "data": {
      "text/html": [
       "<pre>| 21      | 2.61s        | 0.848318                  |</pre>"
      ],
      "text/plain": [
       "| 21      | 2.61s        | 0.848318                  |"
      ]
     },
     "metadata": {},
     "output_type": "display_data"
    },
    {
     "data": {
      "text/html": [
       "<pre>| 22      | 2.75s        | 0.848303                  |</pre>"
      ],
      "text/plain": [
       "| 22      | 2.75s        | 0.848303                  |"
      ]
     },
     "metadata": {},
     "output_type": "display_data"
    },
    {
     "data": {
      "text/html": [
       "<pre>| 23      | 2.89s        | 0.84829                   |</pre>"
      ],
      "text/plain": [
       "| 23      | 2.89s        | 0.84829                   |"
      ]
     },
     "metadata": {},
     "output_type": "display_data"
    },
    {
     "data": {
      "text/html": [
       "<pre>| 24      | 3.03s        | 0.848279                  |</pre>"
      ],
      "text/plain": [
       "| 24      | 3.03s        | 0.848279                  |"
      ]
     },
     "metadata": {},
     "output_type": "display_data"
    },
    {
     "data": {
      "text/html": [
       "<pre>| FINAL   | 3.03s        | 0.848279                  |</pre>"
      ],
      "text/plain": [
       "| FINAL   | 3.03s        | 0.848279                  |"
      ]
     },
     "metadata": {},
     "output_type": "display_data"
    },
    {
     "data": {
      "text/html": [
       "<pre>+---------+--------------+---------------------------+</pre>"
      ],
      "text/plain": [
       "+---------+--------------+---------------------------+"
      ]
     },
     "metadata": {},
     "output_type": "display_data"
    },
    {
     "data": {
      "text/html": [
       "<pre>Optimization Complete: Iteration limit reached.</pre>"
      ],
      "text/plain": [
       "Optimization Complete: Iteration limit reached."
      ]
     },
     "metadata": {},
     "output_type": "display_data"
    },
    {
     "data": {
      "text/html": [
       "<pre>Preparing data set.</pre>"
      ],
      "text/plain": [
       "Preparing data set."
      ]
     },
     "metadata": {},
     "output_type": "display_data"
    },
    {
     "data": {
      "text/html": [
       "<pre>    Data has 366405 observations with 1600 users and 3860 items.</pre>"
      ],
      "text/plain": [
       "    Data has 366405 observations with 1600 users and 3860 items."
      ]
     },
     "metadata": {},
     "output_type": "display_data"
    },
    {
     "data": {
      "text/html": [
       "<pre>    Data prepared in: 0.259336s</pre>"
      ],
      "text/plain": [
       "    Data prepared in: 0.259336s"
      ]
     },
     "metadata": {},
     "output_type": "display_data"
    },
    {
     "data": {
      "text/html": [
       "<pre>Training ranking_factorization_recommender for recommendations.</pre>"
      ],
      "text/plain": [
       "Training ranking_factorization_recommender for recommendations."
      ]
     },
     "metadata": {},
     "output_type": "display_data"
    },
    {
     "data": {
      "text/html": [
       "<pre>+------------------------------+--------------------------------------------------+----------+</pre>"
      ],
      "text/plain": [
       "+------------------------------+--------------------------------------------------+----------+"
      ]
     },
     "metadata": {},
     "output_type": "display_data"
    },
    {
     "data": {
      "text/html": [
       "<pre>| Parameter                    | Description                                      | Value    |</pre>"
      ],
      "text/plain": [
       "| Parameter                    | Description                                      | Value    |"
      ]
     },
     "metadata": {},
     "output_type": "display_data"
    },
    {
     "data": {
      "text/html": [
       "<pre>+------------------------------+--------------------------------------------------+----------+</pre>"
      ],
      "text/plain": [
       "+------------------------------+--------------------------------------------------+----------+"
      ]
     },
     "metadata": {},
     "output_type": "display_data"
    },
    {
     "data": {
      "text/html": [
       "<pre>| num_factors                  | Factor Dimension                                 | 32       |</pre>"
      ],
      "text/plain": [
       "| num_factors                  | Factor Dimension                                 | 32       |"
      ]
     },
     "metadata": {},
     "output_type": "display_data"
    },
    {
     "data": {
      "text/html": [
       "<pre>| regularization               | L2 Regularization on Factors                     | 1e-09    |</pre>"
      ],
      "text/plain": [
       "| regularization               | L2 Regularization on Factors                     | 1e-09    |"
      ]
     },
     "metadata": {},
     "output_type": "display_data"
    },
    {
     "data": {
      "text/html": [
       "<pre>| max_iterations               | Maximum Number of Iterations                     | 25       |</pre>"
      ],
      "text/plain": [
       "| max_iterations               | Maximum Number of Iterations                     | 25       |"
      ]
     },
     "metadata": {},
     "output_type": "display_data"
    },
    {
     "data": {
      "text/html": [
       "<pre>| solver                       | Solver used for training                         | ials     |</pre>"
      ],
      "text/plain": [
       "| solver                       | Solver used for training                         | ials     |"
      ]
     },
     "metadata": {},
     "output_type": "display_data"
    },
    {
     "data": {
      "text/html": [
       "<pre>+------------------------------+--------------------------------------------------+----------+</pre>"
      ],
      "text/plain": [
       "+------------------------------+--------------------------------------------------+----------+"
      ]
     },
     "metadata": {},
     "output_type": "display_data"
    },
    {
     "data": {
      "text/html": [
       "<pre>+---------+--------------+---------------------------+</pre>"
      ],
      "text/plain": [
       "+---------+--------------+---------------------------+"
      ]
     },
     "metadata": {},
     "output_type": "display_data"
    },
    {
     "data": {
      "text/html": [
       "<pre>| Iter.   | Elapsed time | Estimated Objective Value |</pre>"
      ],
      "text/plain": [
       "| Iter.   | Elapsed time | Estimated Objective Value |"
      ]
     },
     "metadata": {},
     "output_type": "display_data"
    },
    {
     "data": {
      "text/html": [
       "<pre>+---------+--------------+---------------------------+</pre>"
      ],
      "text/plain": [
       "+---------+--------------+---------------------------+"
      ]
     },
     "metadata": {},
     "output_type": "display_data"
    },
    {
     "data": {
      "text/html": [
       "<pre>| Initial | 48us         | NA                        |</pre>"
      ],
      "text/plain": [
       "| Initial | 48us         | NA                        |"
      ]
     },
     "metadata": {},
     "output_type": "display_data"
    },
    {
     "data": {
      "text/html": [
       "<pre>+---------+--------------+---------------------------+</pre>"
      ],
      "text/plain": [
       "+---------+--------------+---------------------------+"
      ]
     },
     "metadata": {},
     "output_type": "display_data"
    },
    {
     "data": {
      "text/html": [
       "<pre>| 0       | 138.832ms    | 0.92284                   |</pre>"
      ],
      "text/plain": [
       "| 0       | 138.832ms    | 0.92284                   |"
      ]
     },
     "metadata": {},
     "output_type": "display_data"
    },
    {
     "data": {
      "text/html": [
       "<pre>| 1       | 268.095ms    | 0.865036                  |</pre>"
      ],
      "text/plain": [
       "| 1       | 268.095ms    | 0.865036                  |"
      ]
     },
     "metadata": {},
     "output_type": "display_data"
    },
    {
     "data": {
      "text/html": [
       "<pre>| 2       | 401.757ms    | 0.856538                  |</pre>"
      ],
      "text/plain": [
       "| 2       | 401.757ms    | 0.856538                  |"
      ]
     },
     "metadata": {},
     "output_type": "display_data"
    },
    {
     "data": {
      "text/html": [
       "<pre>| 3       | 539.955ms    | 0.853039                  |</pre>"
      ],
      "text/plain": [
       "| 3       | 539.955ms    | 0.853039                  |"
      ]
     },
     "metadata": {},
     "output_type": "display_data"
    },
    {
     "data": {
      "text/html": [
       "<pre>| 4       | 679.149ms    | 0.851307                  |</pre>"
      ],
      "text/plain": [
       "| 4       | 679.149ms    | 0.851307                  |"
      ]
     },
     "metadata": {},
     "output_type": "display_data"
    },
    {
     "data": {
      "text/html": [
       "<pre>| 5       | 815.422ms    | 0.85033                   |</pre>"
      ],
      "text/plain": [
       "| 5       | 815.422ms    | 0.85033                   |"
      ]
     },
     "metadata": {},
     "output_type": "display_data"
    },
    {
     "data": {
      "text/html": [
       "<pre>| 6       | 955.283ms    | 0.849731                  |</pre>"
      ],
      "text/plain": [
       "| 6       | 955.283ms    | 0.849731                  |"
      ]
     },
     "metadata": {},
     "output_type": "display_data"
    },
    {
     "data": {
      "text/html": [
       "<pre>| 7       | 1.09s        | 0.849342                  |</pre>"
      ],
      "text/plain": [
       "| 7       | 1.09s        | 0.849342                  |"
      ]
     },
     "metadata": {},
     "output_type": "display_data"
    },
    {
     "data": {
      "text/html": [
       "<pre>| 8       | 1.23s        | 0.849078                  |</pre>"
      ],
      "text/plain": [
       "| 8       | 1.23s        | 0.849078                  |"
      ]
     },
     "metadata": {},
     "output_type": "display_data"
    },
    {
     "data": {
      "text/html": [
       "<pre>| 9       | 1.39s        | 0.84889                   |</pre>"
      ],
      "text/plain": [
       "| 9       | 1.39s        | 0.84889                   |"
      ]
     },
     "metadata": {},
     "output_type": "display_data"
    },
    {
     "data": {
      "text/html": [
       "<pre>| 10      | 1.53s        | 0.848754                  |</pre>"
      ],
      "text/plain": [
       "| 10      | 1.53s        | 0.848754                  |"
      ]
     },
     "metadata": {},
     "output_type": "display_data"
    },
    {
     "data": {
      "text/html": [
       "<pre>| 11      | 1.67s        | 0.848651                  |</pre>"
      ],
      "text/plain": [
       "| 11      | 1.67s        | 0.848651                  |"
      ]
     },
     "metadata": {},
     "output_type": "display_data"
    },
    {
     "data": {
      "text/html": [
       "<pre>| 12      | 1.81s        | 0.848572                  |</pre>"
      ],
      "text/plain": [
       "| 12      | 1.81s        | 0.848572                  |"
      ]
     },
     "metadata": {},
     "output_type": "display_data"
    },
    {
     "data": {
      "text/html": [
       "<pre>| 13      | 1.95s        | 0.848511                  |</pre>"
      ],
      "text/plain": [
       "| 13      | 1.95s        | 0.848511                  |"
      ]
     },
     "metadata": {},
     "output_type": "display_data"
    },
    {
     "data": {
      "text/html": [
       "<pre>| 14      | 2.09s        | 0.848462                  |</pre>"
      ],
      "text/plain": [
       "| 14      | 2.09s        | 0.848462                  |"
      ]
     },
     "metadata": {},
     "output_type": "display_data"
    },
    {
     "data": {
      "text/html": [
       "<pre>| 15      | 2.23s        | 0.848422                  |</pre>"
      ],
      "text/plain": [
       "| 15      | 2.23s        | 0.848422                  |"
      ]
     },
     "metadata": {},
     "output_type": "display_data"
    },
    {
     "data": {
      "text/html": [
       "<pre>| 16      | 2.37s        | 0.84839                   |</pre>"
      ],
      "text/plain": [
       "| 16      | 2.37s        | 0.84839                   |"
      ]
     },
     "metadata": {},
     "output_type": "display_data"
    },
    {
     "data": {
      "text/html": [
       "<pre>| 17      | 2.51s        | 0.848363                  |</pre>"
      ],
      "text/plain": [
       "| 17      | 2.51s        | 0.848363                  |"
      ]
     },
     "metadata": {},
     "output_type": "display_data"
    },
    {
     "data": {
      "text/html": [
       "<pre>| 18      | 2.64s        | 0.84834                   |</pre>"
      ],
      "text/plain": [
       "| 18      | 2.64s        | 0.84834                   |"
      ]
     },
     "metadata": {},
     "output_type": "display_data"
    },
    {
     "data": {
      "text/html": [
       "<pre>| 19      | 2.78s        | 0.848321                  |</pre>"
      ],
      "text/plain": [
       "| 19      | 2.78s        | 0.848321                  |"
      ]
     },
     "metadata": {},
     "output_type": "display_data"
    },
    {
     "data": {
      "text/html": [
       "<pre>| 20      | 2.92s        | 0.848305                  |</pre>"
      ],
      "text/plain": [
       "| 20      | 2.92s        | 0.848305                  |"
      ]
     },
     "metadata": {},
     "output_type": "display_data"
    },
    {
     "data": {
      "text/html": [
       "<pre>| 21      | 3.07s        | 0.848291                  |</pre>"
      ],
      "text/plain": [
       "| 21      | 3.07s        | 0.848291                  |"
      ]
     },
     "metadata": {},
     "output_type": "display_data"
    },
    {
     "data": {
      "text/html": [
       "<pre>| 22      | 3.20s        | 0.848279                  |</pre>"
      ],
      "text/plain": [
       "| 22      | 3.20s        | 0.848279                  |"
      ]
     },
     "metadata": {},
     "output_type": "display_data"
    },
    {
     "data": {
      "text/html": [
       "<pre>| 23      | 3.34s        | 0.848268                  |</pre>"
      ],
      "text/plain": [
       "| 23      | 3.34s        | 0.848268                  |"
      ]
     },
     "metadata": {},
     "output_type": "display_data"
    },
    {
     "data": {
      "text/html": [
       "<pre>| 24      | 3.48s        | 0.848259                  |</pre>"
      ],
      "text/plain": [
       "| 24      | 3.48s        | 0.848259                  |"
      ]
     },
     "metadata": {},
     "output_type": "display_data"
    },
    {
     "data": {
      "text/html": [
       "<pre>| FINAL   | 3.48s        | 0.848259                  |</pre>"
      ],
      "text/plain": [
       "| FINAL   | 3.48s        | 0.848259                  |"
      ]
     },
     "metadata": {},
     "output_type": "display_data"
    },
    {
     "data": {
      "text/html": [
       "<pre>+---------+--------------+---------------------------+</pre>"
      ],
      "text/plain": [
       "+---------+--------------+---------------------------+"
      ]
     },
     "metadata": {},
     "output_type": "display_data"
    },
    {
     "data": {
      "text/html": [
       "<pre>Optimization Complete: Iteration limit reached.</pre>"
      ],
      "text/plain": [
       "Optimization Complete: Iteration limit reached."
      ]
     },
     "metadata": {},
     "output_type": "display_data"
    },
    {
     "data": {
      "text/html": [
       "<pre>Preparing data set.</pre>"
      ],
      "text/plain": [
       "Preparing data set."
      ]
     },
     "metadata": {},
     "output_type": "display_data"
    },
    {
     "data": {
      "text/html": [
       "<pre>    Data has 366405 observations with 1600 users and 3860 items.</pre>"
      ],
      "text/plain": [
       "    Data has 366405 observations with 1600 users and 3860 items."
      ]
     },
     "metadata": {},
     "output_type": "display_data"
    },
    {
     "data": {
      "text/html": [
       "<pre>    Data prepared in: 0.260372s</pre>"
      ],
      "text/plain": [
       "    Data prepared in: 0.260372s"
      ]
     },
     "metadata": {},
     "output_type": "display_data"
    },
    {
     "data": {
      "text/html": [
       "<pre>Training ranking_factorization_recommender for recommendations.</pre>"
      ],
      "text/plain": [
       "Training ranking_factorization_recommender for recommendations."
      ]
     },
     "metadata": {},
     "output_type": "display_data"
    },
    {
     "data": {
      "text/html": [
       "<pre>+------------------------------+--------------------------------------------------+----------+</pre>"
      ],
      "text/plain": [
       "+------------------------------+--------------------------------------------------+----------+"
      ]
     },
     "metadata": {},
     "output_type": "display_data"
    },
    {
     "data": {
      "text/html": [
       "<pre>| Parameter                    | Description                                      | Value    |</pre>"
      ],
      "text/plain": [
       "| Parameter                    | Description                                      | Value    |"
      ]
     },
     "metadata": {},
     "output_type": "display_data"
    },
    {
     "data": {
      "text/html": [
       "<pre>+------------------------------+--------------------------------------------------+----------+</pre>"
      ],
      "text/plain": [
       "+------------------------------+--------------------------------------------------+----------+"
      ]
     },
     "metadata": {},
     "output_type": "display_data"
    },
    {
     "data": {
      "text/html": [
       "<pre>| num_factors                  | Factor Dimension                                 | 32       |</pre>"
      ],
      "text/plain": [
       "| num_factors                  | Factor Dimension                                 | 32       |"
      ]
     },
     "metadata": {},
     "output_type": "display_data"
    },
    {
     "data": {
      "text/html": [
       "<pre>| regularization               | L2 Regularization on Factors                     | 1e-05    |</pre>"
      ],
      "text/plain": [
       "| regularization               | L2 Regularization on Factors                     | 1e-05    |"
      ]
     },
     "metadata": {},
     "output_type": "display_data"
    },
    {
     "data": {
      "text/html": [
       "<pre>| max_iterations               | Maximum Number of Iterations                     | 75       |</pre>"
      ],
      "text/plain": [
       "| max_iterations               | Maximum Number of Iterations                     | 75       |"
      ]
     },
     "metadata": {},
     "output_type": "display_data"
    },
    {
     "data": {
      "text/html": [
       "<pre>| solver                       | Solver used for training                         | ials     |</pre>"
      ],
      "text/plain": [
       "| solver                       | Solver used for training                         | ials     |"
      ]
     },
     "metadata": {},
     "output_type": "display_data"
    },
    {
     "data": {
      "text/html": [
       "<pre>+------------------------------+--------------------------------------------------+----------+</pre>"
      ],
      "text/plain": [
       "+------------------------------+--------------------------------------------------+----------+"
      ]
     },
     "metadata": {},
     "output_type": "display_data"
    },
    {
     "data": {
      "text/html": [
       "<pre>+---------+--------------+---------------------------+</pre>"
      ],
      "text/plain": [
       "+---------+--------------+---------------------------+"
      ]
     },
     "metadata": {},
     "output_type": "display_data"
    },
    {
     "data": {
      "text/html": [
       "<pre>| Iter.   | Elapsed time | Estimated Objective Value |</pre>"
      ],
      "text/plain": [
       "| Iter.   | Elapsed time | Estimated Objective Value |"
      ]
     },
     "metadata": {},
     "output_type": "display_data"
    },
    {
     "data": {
      "text/html": [
       "<pre>+---------+--------------+---------------------------+</pre>"
      ],
      "text/plain": [
       "+---------+--------------+---------------------------+"
      ]
     },
     "metadata": {},
     "output_type": "display_data"
    },
    {
     "data": {
      "text/html": [
       "<pre>| Initial | 80us         | NA                        |</pre>"
      ],
      "text/plain": [
       "| Initial | 80us         | NA                        |"
      ]
     },
     "metadata": {},
     "output_type": "display_data"
    },
    {
     "data": {
      "text/html": [
       "<pre>+---------+--------------+---------------------------+</pre>"
      ],
      "text/plain": [
       "+---------+--------------+---------------------------+"
      ]
     },
     "metadata": {},
     "output_type": "display_data"
    },
    {
     "data": {
      "text/html": [
       "<pre>| 0       | 132.59ms     | 1.27661                   |</pre>"
      ],
      "text/plain": [
       "| 0       | 132.59ms     | 1.27661                   |"
      ]
     },
     "metadata": {},
     "output_type": "display_data"
    },
    {
     "data": {
      "text/html": [
       "<pre>| 1       | 259.586ms    | 0.874417                  |</pre>"
      ],
      "text/plain": [
       "| 1       | 259.586ms    | 0.874417                  |"
      ]
     },
     "metadata": {},
     "output_type": "display_data"
    },
    {
     "data": {
      "text/html": [
       "<pre>| 2       | 390.752ms    | 0.864691                  |</pre>"
      ],
      "text/plain": [
       "| 2       | 390.752ms    | 0.864691                  |"
      ]
     },
     "metadata": {},
     "output_type": "display_data"
    },
    {
     "data": {
      "text/html": [
       "<pre>| 3       | 526.314ms    | 0.860858                  |</pre>"
      ],
      "text/plain": [
       "| 3       | 526.314ms    | 0.860858                  |"
      ]
     },
     "metadata": {},
     "output_type": "display_data"
    },
    {
     "data": {
      "text/html": [
       "<pre>| 4       | 664.737ms    | 0.858934                  |</pre>"
      ],
      "text/plain": [
       "| 4       | 664.737ms    | 0.858934                  |"
      ]
     },
     "metadata": {},
     "output_type": "display_data"
    },
    {
     "data": {
      "text/html": [
       "<pre>| 5       | 799.646ms    | 0.857803                  |</pre>"
      ],
      "text/plain": [
       "| 5       | 799.646ms    | 0.857803                  |"
      ]
     },
     "metadata": {},
     "output_type": "display_data"
    },
    {
     "data": {
      "text/html": [
       "<pre>| 6       | 939.133ms    | 0.857057                  |</pre>"
      ],
      "text/plain": [
       "| 6       | 939.133ms    | 0.857057                  |"
      ]
     },
     "metadata": {},
     "output_type": "display_data"
    },
    {
     "data": {
      "text/html": [
       "<pre>| 7       | 1.07s        | 0.856525                  |</pre>"
      ],
      "text/plain": [
       "| 7       | 1.07s        | 0.856525                  |"
      ]
     },
     "metadata": {},
     "output_type": "display_data"
    },
    {
     "data": {
      "text/html": [
       "<pre>| 8       | 1.21s        | 0.856127                  |</pre>"
      ],
      "text/plain": [
       "| 8       | 1.21s        | 0.856127                  |"
      ]
     },
     "metadata": {},
     "output_type": "display_data"
    },
    {
     "data": {
      "text/html": [
       "<pre>| 9       | 1.35s        | 0.855819                  |</pre>"
      ],
      "text/plain": [
       "| 9       | 1.35s        | 0.855819                  |"
      ]
     },
     "metadata": {},
     "output_type": "display_data"
    },
    {
     "data": {
      "text/html": [
       "<pre>| 10      | 1.48s        | 0.855574                  |</pre>"
      ],
      "text/plain": [
       "| 10      | 1.48s        | 0.855574                  |"
      ]
     },
     "metadata": {},
     "output_type": "display_data"
    },
    {
     "data": {
      "text/html": [
       "<pre>| 11      | 1.62s        | 0.855375                  |</pre>"
      ],
      "text/plain": [
       "| 11      | 1.62s        | 0.855375                  |"
      ]
     },
     "metadata": {},
     "output_type": "display_data"
    },
    {
     "data": {
      "text/html": [
       "<pre>| 12      | 1.76s        | 0.85521                   |</pre>"
      ],
      "text/plain": [
       "| 12      | 1.76s        | 0.85521                   |"
      ]
     },
     "metadata": {},
     "output_type": "display_data"
    },
    {
     "data": {
      "text/html": [
       "<pre>| 13      | 1.90s        | 0.855071                  |</pre>"
      ],
      "text/plain": [
       "| 13      | 1.90s        | 0.855071                  |"
      ]
     },
     "metadata": {},
     "output_type": "display_data"
    },
    {
     "data": {
      "text/html": [
       "<pre>| 14      | 2.03s        | 0.854952                  |</pre>"
      ],
      "text/plain": [
       "| 14      | 2.03s        | 0.854952                  |"
      ]
     },
     "metadata": {},
     "output_type": "display_data"
    },
    {
     "data": {
      "text/html": [
       "<pre>| 15      | 2.17s        | 0.854849                  |</pre>"
      ],
      "text/plain": [
       "| 15      | 2.17s        | 0.854849                  |"
      ]
     },
     "metadata": {},
     "output_type": "display_data"
    },
    {
     "data": {
      "text/html": [
       "<pre>| 16      | 2.31s        | 0.854758                  |</pre>"
      ],
      "text/plain": [
       "| 16      | 2.31s        | 0.854758                  |"
      ]
     },
     "metadata": {},
     "output_type": "display_data"
    },
    {
     "data": {
      "text/html": [
       "<pre>| 17      | 2.44s        | 0.854678                  |</pre>"
      ],
      "text/plain": [
       "| 17      | 2.44s        | 0.854678                  |"
      ]
     },
     "metadata": {},
     "output_type": "display_data"
    },
    {
     "data": {
      "text/html": [
       "<pre>| 18      | 2.58s        | 0.854606                  |</pre>"
      ],
      "text/plain": [
       "| 18      | 2.58s        | 0.854606                  |"
      ]
     },
     "metadata": {},
     "output_type": "display_data"
    },
    {
     "data": {
      "text/html": [
       "<pre>| 19      | 2.72s        | 0.854542                  |</pre>"
      ],
      "text/plain": [
       "| 19      | 2.72s        | 0.854542                  |"
      ]
     },
     "metadata": {},
     "output_type": "display_data"
    },
    {
     "data": {
      "text/html": [
       "<pre>| 20      | 2.85s        | 0.854484                  |</pre>"
      ],
      "text/plain": [
       "| 20      | 2.85s        | 0.854484                  |"
      ]
     },
     "metadata": {},
     "output_type": "display_data"
    },
    {
     "data": {
      "text/html": [
       "<pre>| 21      | 2.99s        | 0.854431                  |</pre>"
      ],
      "text/plain": [
       "| 21      | 2.99s        | 0.854431                  |"
      ]
     },
     "metadata": {},
     "output_type": "display_data"
    },
    {
     "data": {
      "text/html": [
       "<pre>| 22      | 3.13s        | 0.854382                  |</pre>"
      ],
      "text/plain": [
       "| 22      | 3.13s        | 0.854382                  |"
      ]
     },
     "metadata": {},
     "output_type": "display_data"
    },
    {
     "data": {
      "text/html": [
       "<pre>| 23      | 3.27s        | 0.854338                  |</pre>"
      ],
      "text/plain": [
       "| 23      | 3.27s        | 0.854338                  |"
      ]
     },
     "metadata": {},
     "output_type": "display_data"
    },
    {
     "data": {
      "text/html": [
       "<pre>| 24      | 3.40s        | 0.854298                  |</pre>"
      ],
      "text/plain": [
       "| 24      | 3.40s        | 0.854298                  |"
      ]
     },
     "metadata": {},
     "output_type": "display_data"
    },
    {
     "data": {
      "text/html": [
       "<pre>| 25      | 3.54s        | 0.85426                   |</pre>"
      ],
      "text/plain": [
       "| 25      | 3.54s        | 0.85426                   |"
      ]
     },
     "metadata": {},
     "output_type": "display_data"
    },
    {
     "data": {
      "text/html": [
       "<pre>| 26      | 3.68s        | 0.854226                  |</pre>"
      ],
      "text/plain": [
       "| 26      | 3.68s        | 0.854226                  |"
      ]
     },
     "metadata": {},
     "output_type": "display_data"
    },
    {
     "data": {
      "text/html": [
       "<pre>| 27      | 3.81s        | 0.854193                  |</pre>"
      ],
      "text/plain": [
       "| 27      | 3.81s        | 0.854193                  |"
      ]
     },
     "metadata": {},
     "output_type": "display_data"
    },
    {
     "data": {
      "text/html": [
       "<pre>| 28      | 3.95s        | 0.854164                  |</pre>"
      ],
      "text/plain": [
       "| 28      | 3.95s        | 0.854164                  |"
      ]
     },
     "metadata": {},
     "output_type": "display_data"
    },
    {
     "data": {
      "text/html": [
       "<pre>| 29      | 4.09s        | 0.854136                  |</pre>"
      ],
      "text/plain": [
       "| 29      | 4.09s        | 0.854136                  |"
      ]
     },
     "metadata": {},
     "output_type": "display_data"
    },
    {
     "data": {
      "text/html": [
       "<pre>| 30      | 4.23s        | 0.85411                   |</pre>"
      ],
      "text/plain": [
       "| 30      | 4.23s        | 0.85411                   |"
      ]
     },
     "metadata": {},
     "output_type": "display_data"
    },
    {
     "data": {
      "text/html": [
       "<pre>| 31      | 4.36s        | 0.854085                  |</pre>"
      ],
      "text/plain": [
       "| 31      | 4.36s        | 0.854085                  |"
      ]
     },
     "metadata": {},
     "output_type": "display_data"
    },
    {
     "data": {
      "text/html": [
       "<pre>| 32      | 4.50s        | 0.854062                  |</pre>"
      ],
      "text/plain": [
       "| 32      | 4.50s        | 0.854062                  |"
      ]
     },
     "metadata": {},
     "output_type": "display_data"
    },
    {
     "data": {
      "text/html": [
       "<pre>| 33      | 4.64s        | 0.85404                   |</pre>"
      ],
      "text/plain": [
       "| 33      | 4.64s        | 0.85404                   |"
      ]
     },
     "metadata": {},
     "output_type": "display_data"
    },
    {
     "data": {
      "text/html": [
       "<pre>| 34      | 4.78s        | 0.85402                   |</pre>"
      ],
      "text/plain": [
       "| 34      | 4.78s        | 0.85402                   |"
      ]
     },
     "metadata": {},
     "output_type": "display_data"
    },
    {
     "data": {
      "text/html": [
       "<pre>| 35      | 4.91s        | 0.854001                  |</pre>"
      ],
      "text/plain": [
       "| 35      | 4.91s        | 0.854001                  |"
      ]
     },
     "metadata": {},
     "output_type": "display_data"
    },
    {
     "data": {
      "text/html": [
       "<pre>| 36      | 5.05s        | 0.853982                  |</pre>"
      ],
      "text/plain": [
       "| 36      | 5.05s        | 0.853982                  |"
      ]
     },
     "metadata": {},
     "output_type": "display_data"
    },
    {
     "data": {
      "text/html": [
       "<pre>| 37      | 5.20s        | 0.853965                  |</pre>"
      ],
      "text/plain": [
       "| 37      | 5.20s        | 0.853965                  |"
      ]
     },
     "metadata": {},
     "output_type": "display_data"
    },
    {
     "data": {
      "text/html": [
       "<pre>| 38      | 5.33s        | 0.853948                  |</pre>"
      ],
      "text/plain": [
       "| 38      | 5.33s        | 0.853948                  |"
      ]
     },
     "metadata": {},
     "output_type": "display_data"
    },
    {
     "data": {
      "text/html": [
       "<pre>| 39      | 5.47s        | 0.853932                  |</pre>"
      ],
      "text/plain": [
       "| 39      | 5.47s        | 0.853932                  |"
      ]
     },
     "metadata": {},
     "output_type": "display_data"
    },
    {
     "data": {
      "text/html": [
       "<pre>| 40      | 5.61s        | 0.853917                  |</pre>"
      ],
      "text/plain": [
       "| 40      | 5.61s        | 0.853917                  |"
      ]
     },
     "metadata": {},
     "output_type": "display_data"
    },
    {
     "data": {
      "text/html": [
       "<pre>| 41      | 5.75s        | 0.853903                  |</pre>"
      ],
      "text/plain": [
       "| 41      | 5.75s        | 0.853903                  |"
      ]
     },
     "metadata": {},
     "output_type": "display_data"
    },
    {
     "data": {
      "text/html": [
       "<pre>| 42      | 5.88s        | 0.853889                  |</pre>"
      ],
      "text/plain": [
       "| 42      | 5.88s        | 0.853889                  |"
      ]
     },
     "metadata": {},
     "output_type": "display_data"
    },
    {
     "data": {
      "text/html": [
       "<pre>| 43      | 6.03s        | 0.853875                  |</pre>"
      ],
      "text/plain": [
       "| 43      | 6.03s        | 0.853875                  |"
      ]
     },
     "metadata": {},
     "output_type": "display_data"
    },
    {
     "data": {
      "text/html": [
       "<pre>| 44      | 6.16s        | 0.853863                  |</pre>"
      ],
      "text/plain": [
       "| 44      | 6.16s        | 0.853863                  |"
      ]
     },
     "metadata": {},
     "output_type": "display_data"
    },
    {
     "data": {
      "text/html": [
       "<pre>| 45      | 6.30s        | 0.85385                   |</pre>"
      ],
      "text/plain": [
       "| 45      | 6.30s        | 0.85385                   |"
      ]
     },
     "metadata": {},
     "output_type": "display_data"
    },
    {
     "data": {
      "text/html": [
       "<pre>| 46      | 6.44s        | 0.853839                  |</pre>"
      ],
      "text/plain": [
       "| 46      | 6.44s        | 0.853839                  |"
      ]
     },
     "metadata": {},
     "output_type": "display_data"
    },
    {
     "data": {
      "text/html": [
       "<pre>| 47      | 6.57s        | 0.853827                  |</pre>"
      ],
      "text/plain": [
       "| 47      | 6.57s        | 0.853827                  |"
      ]
     },
     "metadata": {},
     "output_type": "display_data"
    },
    {
     "data": {
      "text/html": [
       "<pre>| 48      | 6.71s        | 0.853816                  |</pre>"
      ],
      "text/plain": [
       "| 48      | 6.71s        | 0.853816                  |"
      ]
     },
     "metadata": {},
     "output_type": "display_data"
    },
    {
     "data": {
      "text/html": [
       "<pre>| 49      | 6.85s        | 0.853806                  |</pre>"
      ],
      "text/plain": [
       "| 49      | 6.85s        | 0.853806                  |"
      ]
     },
     "metadata": {},
     "output_type": "display_data"
    },
    {
     "data": {
      "text/html": [
       "<pre>| 50      | 6.99s        | 0.853795                  |</pre>"
      ],
      "text/plain": [
       "| 50      | 6.99s        | 0.853795                  |"
      ]
     },
     "metadata": {},
     "output_type": "display_data"
    },
    {
     "data": {
      "text/html": [
       "<pre>| 51      | 7.12s        | 0.853786                  |</pre>"
      ],
      "text/plain": [
       "| 51      | 7.12s        | 0.853786                  |"
      ]
     },
     "metadata": {},
     "output_type": "display_data"
    },
    {
     "data": {
      "text/html": [
       "<pre>| 52      | 7.26s        | 0.853776                  |</pre>"
      ],
      "text/plain": [
       "| 52      | 7.26s        | 0.853776                  |"
      ]
     },
     "metadata": {},
     "output_type": "display_data"
    },
    {
     "data": {
      "text/html": [
       "<pre>| 53      | 7.40s        | 0.853767                  |</pre>"
      ],
      "text/plain": [
       "| 53      | 7.40s        | 0.853767                  |"
      ]
     },
     "metadata": {},
     "output_type": "display_data"
    },
    {
     "data": {
      "text/html": [
       "<pre>| 54      | 7.53s        | 0.853758                  |</pre>"
      ],
      "text/plain": [
       "| 54      | 7.53s        | 0.853758                  |"
      ]
     },
     "metadata": {},
     "output_type": "display_data"
    },
    {
     "data": {
      "text/html": [
       "<pre>| 55      | 7.67s        | 0.853749                  |</pre>"
      ],
      "text/plain": [
       "| 55      | 7.67s        | 0.853749                  |"
      ]
     },
     "metadata": {},
     "output_type": "display_data"
    },
    {
     "data": {
      "text/html": [
       "<pre>| 56      | 7.80s        | 0.853741                  |</pre>"
      ],
      "text/plain": [
       "| 56      | 7.80s        | 0.853741                  |"
      ]
     },
     "metadata": {},
     "output_type": "display_data"
    },
    {
     "data": {
      "text/html": [
       "<pre>| 57      | 7.94s        | 0.853733                  |</pre>"
      ],
      "text/plain": [
       "| 57      | 7.94s        | 0.853733                  |"
      ]
     },
     "metadata": {},
     "output_type": "display_data"
    },
    {
     "data": {
      "text/html": [
       "<pre>| 58      | 8.08s        | 0.853725                  |</pre>"
      ],
      "text/plain": [
       "| 58      | 8.08s        | 0.853725                  |"
      ]
     },
     "metadata": {},
     "output_type": "display_data"
    },
    {
     "data": {
      "text/html": [
       "<pre>| 59      | 8.22s        | 0.853717                  |</pre>"
      ],
      "text/plain": [
       "| 59      | 8.22s        | 0.853717                  |"
      ]
     },
     "metadata": {},
     "output_type": "display_data"
    },
    {
     "data": {
      "text/html": [
       "<pre>| 60      | 8.35s        | 0.85371                   |</pre>"
      ],
      "text/plain": [
       "| 60      | 8.35s        | 0.85371                   |"
      ]
     },
     "metadata": {},
     "output_type": "display_data"
    },
    {
     "data": {
      "text/html": [
       "<pre>| 61      | 8.49s        | 0.853703                  |</pre>"
      ],
      "text/plain": [
       "| 61      | 8.49s        | 0.853703                  |"
      ]
     },
     "metadata": {},
     "output_type": "display_data"
    },
    {
     "data": {
      "text/html": [
       "<pre>| 62      | 8.63s        | 0.853696                  |</pre>"
      ],
      "text/plain": [
       "| 62      | 8.63s        | 0.853696                  |"
      ]
     },
     "metadata": {},
     "output_type": "display_data"
    },
    {
     "data": {
      "text/html": [
       "<pre>| 63      | 8.77s        | 0.853689                  |</pre>"
      ],
      "text/plain": [
       "| 63      | 8.77s        | 0.853689                  |"
      ]
     },
     "metadata": {},
     "output_type": "display_data"
    },
    {
     "data": {
      "text/html": [
       "<pre>| 64      | 8.90s        | 0.853682                  |</pre>"
      ],
      "text/plain": [
       "| 64      | 8.90s        | 0.853682                  |"
      ]
     },
     "metadata": {},
     "output_type": "display_data"
    },
    {
     "data": {
      "text/html": [
       "<pre>| 65      | 9.04s        | 0.853676                  |</pre>"
      ],
      "text/plain": [
       "| 65      | 9.04s        | 0.853676                  |"
      ]
     },
     "metadata": {},
     "output_type": "display_data"
    },
    {
     "data": {
      "text/html": [
       "<pre>| 66      | 9.17s        | 0.85367                   |</pre>"
      ],
      "text/plain": [
       "| 66      | 9.17s        | 0.85367                   |"
      ]
     },
     "metadata": {},
     "output_type": "display_data"
    },
    {
     "data": {
      "text/html": [
       "<pre>| 67      | 9.32s        | 0.853664                  |</pre>"
      ],
      "text/plain": [
       "| 67      | 9.32s        | 0.853664                  |"
      ]
     },
     "metadata": {},
     "output_type": "display_data"
    },
    {
     "data": {
      "text/html": [
       "<pre>| 68      | 9.45s        | 0.853658                  |</pre>"
      ],
      "text/plain": [
       "| 68      | 9.45s        | 0.853658                  |"
      ]
     },
     "metadata": {},
     "output_type": "display_data"
    },
    {
     "data": {
      "text/html": [
       "<pre>| 69      | 9.59s        | 0.853652                  |</pre>"
      ],
      "text/plain": [
       "| 69      | 9.59s        | 0.853652                  |"
      ]
     },
     "metadata": {},
     "output_type": "display_data"
    },
    {
     "data": {
      "text/html": [
       "<pre>| 70      | 9.73s        | 0.853647                  |</pre>"
      ],
      "text/plain": [
       "| 70      | 9.73s        | 0.853647                  |"
      ]
     },
     "metadata": {},
     "output_type": "display_data"
    },
    {
     "data": {
      "text/html": [
       "<pre>| 71      | 9.87s        | 0.853641                  |</pre>"
      ],
      "text/plain": [
       "| 71      | 9.87s        | 0.853641                  |"
      ]
     },
     "metadata": {},
     "output_type": "display_data"
    },
    {
     "data": {
      "text/html": [
       "<pre>| 72      | 10.00s       | 0.853636                  |</pre>"
      ],
      "text/plain": [
       "| 72      | 10.00s       | 0.853636                  |"
      ]
     },
     "metadata": {},
     "output_type": "display_data"
    },
    {
     "data": {
      "text/html": [
       "<pre>| 73      | 10.14s       | 0.853631                  |</pre>"
      ],
      "text/plain": [
       "| 73      | 10.14s       | 0.853631                  |"
      ]
     },
     "metadata": {},
     "output_type": "display_data"
    },
    {
     "data": {
      "text/html": [
       "<pre>| 74      | 10.27s       | 0.853626                  |</pre>"
      ],
      "text/plain": [
       "| 74      | 10.27s       | 0.853626                  |"
      ]
     },
     "metadata": {},
     "output_type": "display_data"
    },
    {
     "data": {
      "text/html": [
       "<pre>| FINAL   | 10.27s       | 0.853626                  |</pre>"
      ],
      "text/plain": [
       "| FINAL   | 10.27s       | 0.853626                  |"
      ]
     },
     "metadata": {},
     "output_type": "display_data"
    },
    {
     "data": {
      "text/html": [
       "<pre>+---------+--------------+---------------------------+</pre>"
      ],
      "text/plain": [
       "+---------+--------------+---------------------------+"
      ]
     },
     "metadata": {},
     "output_type": "display_data"
    },
    {
     "data": {
      "text/html": [
       "<pre>Optimization Complete: Iteration limit reached.</pre>"
      ],
      "text/plain": [
       "Optimization Complete: Iteration limit reached."
      ]
     },
     "metadata": {},
     "output_type": "display_data"
    },
    {
     "data": {
      "text/html": [
       "<pre>Warning: This solver currently does not support side features. Proceeding with training without side features.</pre>"
      ],
      "text/plain": [
       "Warning: This solver currently does not support side features. Proceeding with training without side features."
      ]
     },
     "metadata": {},
     "output_type": "display_data"
    },
    {
     "data": {
      "text/html": [
       "<pre>Preparing data set.</pre>"
      ],
      "text/plain": [
       "Preparing data set."
      ]
     },
     "metadata": {},
     "output_type": "display_data"
    },
    {
     "data": {
      "text/html": [
       "<pre>    Data has 366405 observations with 1600 users and 3860 items.</pre>"
      ],
      "text/plain": [
       "    Data has 366405 observations with 1600 users and 3860 items."
      ]
     },
     "metadata": {},
     "output_type": "display_data"
    },
    {
     "data": {
      "text/html": [
       "<pre>    Data prepared in: 0.271787s</pre>"
      ],
      "text/plain": [
       "    Data prepared in: 0.271787s"
      ]
     },
     "metadata": {},
     "output_type": "display_data"
    },
    {
     "data": {
      "text/html": [
       "<pre>Training ranking_factorization_recommender for recommendations.</pre>"
      ],
      "text/plain": [
       "Training ranking_factorization_recommender for recommendations."
      ]
     },
     "metadata": {},
     "output_type": "display_data"
    },
    {
     "data": {
      "text/html": [
       "<pre>+------------------------------+--------------------------------------------------+----------+</pre>"
      ],
      "text/plain": [
       "+------------------------------+--------------------------------------------------+----------+"
      ]
     },
     "metadata": {},
     "output_type": "display_data"
    },
    {
     "data": {
      "text/html": [
       "<pre>| Parameter                    | Description                                      | Value    |</pre>"
      ],
      "text/plain": [
       "| Parameter                    | Description                                      | Value    |"
      ]
     },
     "metadata": {},
     "output_type": "display_data"
    },
    {
     "data": {
      "text/html": [
       "<pre>+------------------------------+--------------------------------------------------+----------+</pre>"
      ],
      "text/plain": [
       "+------------------------------+--------------------------------------------------+----------+"
      ]
     },
     "metadata": {},
     "output_type": "display_data"
    },
    {
     "data": {
      "text/html": [
       "<pre>| num_factors                  | Factor Dimension                                 | 32       |</pre>"
      ],
      "text/plain": [
       "| num_factors                  | Factor Dimension                                 | 32       |"
      ]
     },
     "metadata": {},
     "output_type": "display_data"
    },
    {
     "data": {
      "text/html": [
       "<pre>| regularization               | L2 Regularization on Factors                     | 1e-09    |</pre>"
      ],
      "text/plain": [
       "| regularization               | L2 Regularization on Factors                     | 1e-09    |"
      ]
     },
     "metadata": {},
     "output_type": "display_data"
    },
    {
     "data": {
      "text/html": [
       "<pre>| max_iterations               | Maximum Number of Iterations                     | 25       |</pre>"
      ],
      "text/plain": [
       "| max_iterations               | Maximum Number of Iterations                     | 25       |"
      ]
     },
     "metadata": {},
     "output_type": "display_data"
    },
    {
     "data": {
      "text/html": [
       "<pre>| solver                       | Solver used for training                         | ials     |</pre>"
      ],
      "text/plain": [
       "| solver                       | Solver used for training                         | ials     |"
      ]
     },
     "metadata": {},
     "output_type": "display_data"
    },
    {
     "data": {
      "text/html": [
       "<pre>+------------------------------+--------------------------------------------------+----------+</pre>"
      ],
      "text/plain": [
       "+------------------------------+--------------------------------------------------+----------+"
      ]
     },
     "metadata": {},
     "output_type": "display_data"
    },
    {
     "data": {
      "text/html": [
       "<pre>+---------+--------------+---------------------------+</pre>"
      ],
      "text/plain": [
       "+---------+--------------+---------------------------+"
      ]
     },
     "metadata": {},
     "output_type": "display_data"
    },
    {
     "data": {
      "text/html": [
       "<pre>| Iter.   | Elapsed time | Estimated Objective Value |</pre>"
      ],
      "text/plain": [
       "| Iter.   | Elapsed time | Estimated Objective Value |"
      ]
     },
     "metadata": {},
     "output_type": "display_data"
    },
    {
     "data": {
      "text/html": [
       "<pre>+---------+--------------+---------------------------+</pre>"
      ],
      "text/plain": [
       "+---------+--------------+---------------------------+"
      ]
     },
     "metadata": {},
     "output_type": "display_data"
    },
    {
     "data": {
      "text/html": [
       "<pre>| Initial | 54us         | NA                        |</pre>"
      ],
      "text/plain": [
       "| Initial | 54us         | NA                        |"
      ]
     },
     "metadata": {},
     "output_type": "display_data"
    },
    {
     "data": {
      "text/html": [
       "<pre>+---------+--------------+---------------------------+</pre>"
      ],
      "text/plain": [
       "+---------+--------------+---------------------------+"
      ]
     },
     "metadata": {},
     "output_type": "display_data"
    },
    {
     "data": {
      "text/html": [
       "<pre>| 0       | 136.457ms    | 0.922515                  |</pre>"
      ],
      "text/plain": [
       "| 0       | 136.457ms    | 0.922515                  |"
      ]
     },
     "metadata": {},
     "output_type": "display_data"
    },
    {
     "data": {
      "text/html": [
       "<pre>| 1       | 266.324ms    | 0.865185                  |</pre>"
      ],
      "text/plain": [
       "| 1       | 266.324ms    | 0.865185                  |"
      ]
     },
     "metadata": {},
     "output_type": "display_data"
    },
    {
     "data": {
      "text/html": [
       "<pre>| 2       | 399.594ms    | 0.856644                  |</pre>"
      ],
      "text/plain": [
       "| 2       | 399.594ms    | 0.856644                  |"
      ]
     },
     "metadata": {},
     "output_type": "display_data"
    },
    {
     "data": {
      "text/html": [
       "<pre>| 3       | 534.77ms     | 0.853148                  |</pre>"
      ],
      "text/plain": [
       "| 3       | 534.77ms     | 0.853148                  |"
      ]
     },
     "metadata": {},
     "output_type": "display_data"
    },
    {
     "data": {
      "text/html": [
       "<pre>| 4       | 667.737ms    | 0.85143                   |</pre>"
      ],
      "text/plain": [
       "| 4       | 667.737ms    | 0.85143                   |"
      ]
     },
     "metadata": {},
     "output_type": "display_data"
    },
    {
     "data": {
      "text/html": [
       "<pre>| 5       | 804.578ms    | 0.850454                  |</pre>"
      ],
      "text/plain": [
       "| 5       | 804.578ms    | 0.850454                  |"
      ]
     },
     "metadata": {},
     "output_type": "display_data"
    },
    {
     "data": {
      "text/html": [
       "<pre>| 6       | 940.032ms    | 0.849843                  |</pre>"
      ],
      "text/plain": [
       "| 6       | 940.032ms    | 0.849843                  |"
      ]
     },
     "metadata": {},
     "output_type": "display_data"
    },
    {
     "data": {
      "text/html": [
       "<pre>| 7       | 1.07s        | 0.849437                  |</pre>"
      ],
      "text/plain": [
       "| 7       | 1.07s        | 0.849437                  |"
      ]
     },
     "metadata": {},
     "output_type": "display_data"
    },
    {
     "data": {
      "text/html": [
       "<pre>| 8       | 1.22s        | 0.849154                  |</pre>"
      ],
      "text/plain": [
       "| 8       | 1.22s        | 0.849154                  |"
      ]
     },
     "metadata": {},
     "output_type": "display_data"
    },
    {
     "data": {
      "text/html": [
       "<pre>| 9       | 1.37s        | 0.848952                  |</pre>"
      ],
      "text/plain": [
       "| 9       | 1.37s        | 0.848952                  |"
      ]
     },
     "metadata": {},
     "output_type": "display_data"
    },
    {
     "data": {
      "text/html": [
       "<pre>| 10      | 1.51s        | 0.848803                  |</pre>"
      ],
      "text/plain": [
       "| 10      | 1.51s        | 0.848803                  |"
      ]
     },
     "metadata": {},
     "output_type": "display_data"
    },
    {
     "data": {
      "text/html": [
       "<pre>| 11      | 1.64s        | 0.848692                  |</pre>"
      ],
      "text/plain": [
       "| 11      | 1.64s        | 0.848692                  |"
      ]
     },
     "metadata": {},
     "output_type": "display_data"
    },
    {
     "data": {
      "text/html": [
       "<pre>| 12      | 1.78s        | 0.848607                  |</pre>"
      ],
      "text/plain": [
       "| 12      | 1.78s        | 0.848607                  |"
      ]
     },
     "metadata": {},
     "output_type": "display_data"
    },
    {
     "data": {
      "text/html": [
       "<pre>| 13      | 1.92s        | 0.848541                  |</pre>"
      ],
      "text/plain": [
       "| 13      | 1.92s        | 0.848541                  |"
      ]
     },
     "metadata": {},
     "output_type": "display_data"
    },
    {
     "data": {
      "text/html": [
       "<pre>| 14      | 2.06s        | 0.848489                  |</pre>"
      ],
      "text/plain": [
       "| 14      | 2.06s        | 0.848489                  |"
      ]
     },
     "metadata": {},
     "output_type": "display_data"
    },
    {
     "data": {
      "text/html": [
       "<pre>| 15      | 2.19s        | 0.848448                  |</pre>"
      ],
      "text/plain": [
       "| 15      | 2.19s        | 0.848448                  |"
      ]
     },
     "metadata": {},
     "output_type": "display_data"
    },
    {
     "data": {
      "text/html": [
       "<pre>| 16      | 2.33s        | 0.848414                  |</pre>"
      ],
      "text/plain": [
       "| 16      | 2.33s        | 0.848414                  |"
      ]
     },
     "metadata": {},
     "output_type": "display_data"
    },
    {
     "data": {
      "text/html": [
       "<pre>| 17      | 2.46s        | 0.848386                  |</pre>"
      ],
      "text/plain": [
       "| 17      | 2.46s        | 0.848386                  |"
      ]
     },
     "metadata": {},
     "output_type": "display_data"
    },
    {
     "data": {
      "text/html": [
       "<pre>| 18      | 2.60s        | 0.848363                  |</pre>"
      ],
      "text/plain": [
       "| 18      | 2.60s        | 0.848363                  |"
      ]
     },
     "metadata": {},
     "output_type": "display_data"
    },
    {
     "data": {
      "text/html": [
       "<pre>| 19      | 2.73s        | 0.848344                  |</pre>"
      ],
      "text/plain": [
       "| 19      | 2.73s        | 0.848344                  |"
      ]
     },
     "metadata": {},
     "output_type": "display_data"
    },
    {
     "data": {
      "text/html": [
       "<pre>| 20      | 2.87s        | 0.848327                  |</pre>"
      ],
      "text/plain": [
       "| 20      | 2.87s        | 0.848327                  |"
      ]
     },
     "metadata": {},
     "output_type": "display_data"
    },
    {
     "data": {
      "text/html": [
       "<pre>| 21      | 3.01s        | 0.848313                  |</pre>"
      ],
      "text/plain": [
       "| 21      | 3.01s        | 0.848313                  |"
      ]
     },
     "metadata": {},
     "output_type": "display_data"
    },
    {
     "data": {
      "text/html": [
       "<pre>| 22      | 3.14s        | 0.848301                  |</pre>"
      ],
      "text/plain": [
       "| 22      | 3.14s        | 0.848301                  |"
      ]
     },
     "metadata": {},
     "output_type": "display_data"
    },
    {
     "data": {
      "text/html": [
       "<pre>| 23      | 3.28s        | 0.84829                   |</pre>"
      ],
      "text/plain": [
       "| 23      | 3.28s        | 0.84829                   |"
      ]
     },
     "metadata": {},
     "output_type": "display_data"
    },
    {
     "data": {
      "text/html": [
       "<pre>| 24      | 3.42s        | 0.84828                   |</pre>"
      ],
      "text/plain": [
       "| 24      | 3.42s        | 0.84828                   |"
      ]
     },
     "metadata": {},
     "output_type": "display_data"
    },
    {
     "data": {
      "text/html": [
       "<pre>| FINAL   | 3.42s        | 0.84828                   |</pre>"
      ],
      "text/plain": [
       "| FINAL   | 3.42s        | 0.84828                   |"
      ]
     },
     "metadata": {},
     "output_type": "display_data"
    },
    {
     "data": {
      "text/html": [
       "<pre>+---------+--------------+---------------------------+</pre>"
      ],
      "text/plain": [
       "+---------+--------------+---------------------------+"
      ]
     },
     "metadata": {},
     "output_type": "display_data"
    },
    {
     "data": {
      "text/html": [
       "<pre>Optimization Complete: Iteration limit reached.</pre>"
      ],
      "text/plain": [
       "Optimization Complete: Iteration limit reached."
      ]
     },
     "metadata": {},
     "output_type": "display_data"
    },
    {
     "data": {
      "text/html": [
       "<pre>Warning: This solver currently does not support side features. Proceeding with training without side features.</pre>"
      ],
      "text/plain": [
       "Warning: This solver currently does not support side features. Proceeding with training without side features."
      ]
     },
     "metadata": {},
     "output_type": "display_data"
    },
    {
     "data": {
      "text/html": [
       "<pre>Preparing data set.</pre>"
      ],
      "text/plain": [
       "Preparing data set."
      ]
     },
     "metadata": {},
     "output_type": "display_data"
    },
    {
     "data": {
      "text/html": [
       "<pre>    Data has 366405 observations with 1600 users and 3860 items.</pre>"
      ],
      "text/plain": [
       "    Data has 366405 observations with 1600 users and 3860 items."
      ]
     },
     "metadata": {},
     "output_type": "display_data"
    },
    {
     "data": {
      "text/html": [
       "<pre>    Data prepared in: 0.266226s</pre>"
      ],
      "text/plain": [
       "    Data prepared in: 0.266226s"
      ]
     },
     "metadata": {},
     "output_type": "display_data"
    },
    {
     "data": {
      "text/html": [
       "<pre>Training ranking_factorization_recommender for recommendations.</pre>"
      ],
      "text/plain": [
       "Training ranking_factorization_recommender for recommendations."
      ]
     },
     "metadata": {},
     "output_type": "display_data"
    },
    {
     "data": {
      "text/html": [
       "<pre>+------------------------------+--------------------------------------------------+----------+</pre>"
      ],
      "text/plain": [
       "+------------------------------+--------------------------------------------------+----------+"
      ]
     },
     "metadata": {},
     "output_type": "display_data"
    },
    {
     "data": {
      "text/html": [
       "<pre>| Parameter                    | Description                                      | Value    |</pre>"
      ],
      "text/plain": [
       "| Parameter                    | Description                                      | Value    |"
      ]
     },
     "metadata": {},
     "output_type": "display_data"
    },
    {
     "data": {
      "text/html": [
       "<pre>+------------------------------+--------------------------------------------------+----------+</pre>"
      ],
      "text/plain": [
       "+------------------------------+--------------------------------------------------+----------+"
      ]
     },
     "metadata": {},
     "output_type": "display_data"
    },
    {
     "data": {
      "text/html": [
       "<pre>| num_factors                  | Factor Dimension                                 | 32       |</pre>"
      ],
      "text/plain": [
       "| num_factors                  | Factor Dimension                                 | 32       |"
      ]
     },
     "metadata": {},
     "output_type": "display_data"
    },
    {
     "data": {
      "text/html": [
       "<pre>| regularization               | L2 Regularization on Factors                     | 1e-09    |</pre>"
      ],
      "text/plain": [
       "| regularization               | L2 Regularization on Factors                     | 1e-09    |"
      ]
     },
     "metadata": {},
     "output_type": "display_data"
    },
    {
     "data": {
      "text/html": [
       "<pre>| max_iterations               | Maximum Number of Iterations                     | 25       |</pre>"
      ],
      "text/plain": [
       "| max_iterations               | Maximum Number of Iterations                     | 25       |"
      ]
     },
     "metadata": {},
     "output_type": "display_data"
    },
    {
     "data": {
      "text/html": [
       "<pre>| solver                       | Solver used for training                         | ials     |</pre>"
      ],
      "text/plain": [
       "| solver                       | Solver used for training                         | ials     |"
      ]
     },
     "metadata": {},
     "output_type": "display_data"
    },
    {
     "data": {
      "text/html": [
       "<pre>+------------------------------+--------------------------------------------------+----------+</pre>"
      ],
      "text/plain": [
       "+------------------------------+--------------------------------------------------+----------+"
      ]
     },
     "metadata": {},
     "output_type": "display_data"
    },
    {
     "data": {
      "text/html": [
       "<pre>+---------+--------------+---------------------------+</pre>"
      ],
      "text/plain": [
       "+---------+--------------+---------------------------+"
      ]
     },
     "metadata": {},
     "output_type": "display_data"
    },
    {
     "data": {
      "text/html": [
       "<pre>| Iter.   | Elapsed time | Estimated Objective Value |</pre>"
      ],
      "text/plain": [
       "| Iter.   | Elapsed time | Estimated Objective Value |"
      ]
     },
     "metadata": {},
     "output_type": "display_data"
    },
    {
     "data": {
      "text/html": [
       "<pre>+---------+--------------+---------------------------+</pre>"
      ],
      "text/plain": [
       "+---------+--------------+---------------------------+"
      ]
     },
     "metadata": {},
     "output_type": "display_data"
    },
    {
     "data": {
      "text/html": [
       "<pre>| Initial | 67us         | NA                        |</pre>"
      ],
      "text/plain": [
       "| Initial | 67us         | NA                        |"
      ]
     },
     "metadata": {},
     "output_type": "display_data"
    },
    {
     "data": {
      "text/html": [
       "<pre>+---------+--------------+---------------------------+</pre>"
      ],
      "text/plain": [
       "+---------+--------------+---------------------------+"
      ]
     },
     "metadata": {},
     "output_type": "display_data"
    },
    {
     "data": {
      "text/html": [
       "<pre>| 0       | 137.186ms    | 0.922718                  |</pre>"
      ],
      "text/plain": [
       "| 0       | 137.186ms    | 0.922718                  |"
      ]
     },
     "metadata": {},
     "output_type": "display_data"
    },
    {
     "data": {
      "text/html": [
       "<pre>| 1       | 265.712ms    | 0.864892                  |</pre>"
      ],
      "text/plain": [
       "| 1       | 265.712ms    | 0.864892                  |"
      ]
     },
     "metadata": {},
     "output_type": "display_data"
    },
    {
     "data": {
      "text/html": [
       "<pre>| 2       | 398.716ms    | 0.856519                  |</pre>"
      ],
      "text/plain": [
       "| 2       | 398.716ms    | 0.856519                  |"
      ]
     },
     "metadata": {},
     "output_type": "display_data"
    },
    {
     "data": {
      "text/html": [
       "<pre>| 3       | 534.646ms    | 0.853077                  |</pre>"
      ],
      "text/plain": [
       "| 3       | 534.646ms    | 0.853077                  |"
      ]
     },
     "metadata": {},
     "output_type": "display_data"
    },
    {
     "data": {
      "text/html": [
       "<pre>| 4       | 672.502ms    | 0.851374                  |</pre>"
      ],
      "text/plain": [
       "| 4       | 672.502ms    | 0.851374                  |"
      ]
     },
     "metadata": {},
     "output_type": "display_data"
    },
    {
     "data": {
      "text/html": [
       "<pre>| 5       | 812.653ms    | 0.850412                  |</pre>"
      ],
      "text/plain": [
       "| 5       | 812.653ms    | 0.850412                  |"
      ]
     },
     "metadata": {},
     "output_type": "display_data"
    },
    {
     "data": {
      "text/html": [
       "<pre>| 6       | 953.333ms    | 0.849818                  |</pre>"
      ],
      "text/plain": [
       "| 6       | 953.333ms    | 0.849818                  |"
      ]
     },
     "metadata": {},
     "output_type": "display_data"
    },
    {
     "data": {
      "text/html": [
       "<pre>| 7       | 1.09s        | 0.849425                  |</pre>"
      ],
      "text/plain": [
       "| 7       | 1.09s        | 0.849425                  |"
      ]
     },
     "metadata": {},
     "output_type": "display_data"
    },
    {
     "data": {
      "text/html": [
       "<pre>| 8       | 1.23s        | 0.849154                  |</pre>"
      ],
      "text/plain": [
       "| 8       | 1.23s        | 0.849154                  |"
      ]
     },
     "metadata": {},
     "output_type": "display_data"
    },
    {
     "data": {
      "text/html": [
       "<pre>| 9       | 1.36s        | 0.848958                  |</pre>"
      ],
      "text/plain": [
       "| 9       | 1.36s        | 0.848958                  |"
      ]
     },
     "metadata": {},
     "output_type": "display_data"
    },
    {
     "data": {
      "text/html": [
       "<pre>| 10      | 1.50s        | 0.848814                  |</pre>"
      ],
      "text/plain": [
       "| 10      | 1.50s        | 0.848814                  |"
      ]
     },
     "metadata": {},
     "output_type": "display_data"
    },
    {
     "data": {
      "text/html": [
       "<pre>| 11      | 1.64s        | 0.848705                  |</pre>"
      ],
      "text/plain": [
       "| 11      | 1.64s        | 0.848705                  |"
      ]
     },
     "metadata": {},
     "output_type": "display_data"
    },
    {
     "data": {
      "text/html": [
       "<pre>| 12      | 1.78s        | 0.84862                   |</pre>"
      ],
      "text/plain": [
       "| 12      | 1.78s        | 0.84862                   |"
      ]
     },
     "metadata": {},
     "output_type": "display_data"
    },
    {
     "data": {
      "text/html": [
       "<pre>| 13      | 1.91s        | 0.848554                  |</pre>"
      ],
      "text/plain": [
       "| 13      | 1.91s        | 0.848554                  |"
      ]
     },
     "metadata": {},
     "output_type": "display_data"
    },
    {
     "data": {
      "text/html": [
       "<pre>| 14      | 2.05s        | 0.848501                  |</pre>"
      ],
      "text/plain": [
       "| 14      | 2.05s        | 0.848501                  |"
      ]
     },
     "metadata": {},
     "output_type": "display_data"
    },
    {
     "data": {
      "text/html": [
       "<pre>| 15      | 2.19s        | 0.848457                  |</pre>"
      ],
      "text/plain": [
       "| 15      | 2.19s        | 0.848457                  |"
      ]
     },
     "metadata": {},
     "output_type": "display_data"
    },
    {
     "data": {
      "text/html": [
       "<pre>| 16      | 2.33s        | 0.848421                  |</pre>"
      ],
      "text/plain": [
       "| 16      | 2.33s        | 0.848421                  |"
      ]
     },
     "metadata": {},
     "output_type": "display_data"
    },
    {
     "data": {
      "text/html": [
       "<pre>| 17      | 2.47s        | 0.848391                  |</pre>"
      ],
      "text/plain": [
       "| 17      | 2.47s        | 0.848391                  |"
      ]
     },
     "metadata": {},
     "output_type": "display_data"
    },
    {
     "data": {
      "text/html": [
       "<pre>| 18      | 2.61s        | 0.848366                  |</pre>"
      ],
      "text/plain": [
       "| 18      | 2.61s        | 0.848366                  |"
      ]
     },
     "metadata": {},
     "output_type": "display_data"
    },
    {
     "data": {
      "text/html": [
       "<pre>| 19      | 2.75s        | 0.848344                  |</pre>"
      ],
      "text/plain": [
       "| 19      | 2.75s        | 0.848344                  |"
      ]
     },
     "metadata": {},
     "output_type": "display_data"
    },
    {
     "data": {
      "text/html": [
       "<pre>| 20      | 2.89s        | 0.848325                  |</pre>"
      ],
      "text/plain": [
       "| 20      | 2.89s        | 0.848325                  |"
      ]
     },
     "metadata": {},
     "output_type": "display_data"
    },
    {
     "data": {
      "text/html": [
       "<pre>| 21      | 3.03s        | 0.848308                  |</pre>"
      ],
      "text/plain": [
       "| 21      | 3.03s        | 0.848308                  |"
      ]
     },
     "metadata": {},
     "output_type": "display_data"
    },
    {
     "data": {
      "text/html": [
       "<pre>| 22      | 3.16s        | 0.848294                  |</pre>"
      ],
      "text/plain": [
       "| 22      | 3.16s        | 0.848294                  |"
      ]
     },
     "metadata": {},
     "output_type": "display_data"
    },
    {
     "data": {
      "text/html": [
       "<pre>| 23      | 3.30s        | 0.848281                  |</pre>"
      ],
      "text/plain": [
       "| 23      | 3.30s        | 0.848281                  |"
      ]
     },
     "metadata": {},
     "output_type": "display_data"
    },
    {
     "data": {
      "text/html": [
       "<pre>| 24      | 3.44s        | 0.848269                  |</pre>"
      ],
      "text/plain": [
       "| 24      | 3.44s        | 0.848269                  |"
      ]
     },
     "metadata": {},
     "output_type": "display_data"
    },
    {
     "data": {
      "text/html": [
       "<pre>| FINAL   | 3.45s        | 0.848269                  |</pre>"
      ],
      "text/plain": [
       "| FINAL   | 3.45s        | 0.848269                  |"
      ]
     },
     "metadata": {},
     "output_type": "display_data"
    },
    {
     "data": {
      "text/html": [
       "<pre>+---------+--------------+---------------------------+</pre>"
      ],
      "text/plain": [
       "+---------+--------------+---------------------------+"
      ]
     },
     "metadata": {},
     "output_type": "display_data"
    },
    {
     "data": {
      "text/html": [
       "<pre>Optimization Complete: Iteration limit reached.</pre>"
      ],
      "text/plain": [
       "Optimization Complete: Iteration limit reached."
      ]
     },
     "metadata": {},
     "output_type": "display_data"
    },
    {
     "data": {
      "text/html": [
       "<pre>Warning: This solver currently does not support side features. Proceeding with training without side features.</pre>"
      ],
      "text/plain": [
       "Warning: This solver currently does not support side features. Proceeding with training without side features."
      ]
     },
     "metadata": {},
     "output_type": "display_data"
    },
    {
     "data": {
      "text/html": [
       "<pre>Preparing data set.</pre>"
      ],
      "text/plain": [
       "Preparing data set."
      ]
     },
     "metadata": {},
     "output_type": "display_data"
    },
    {
     "data": {
      "text/html": [
       "<pre>    Data has 366405 observations with 1600 users and 3860 items.</pre>"
      ],
      "text/plain": [
       "    Data has 366405 observations with 1600 users and 3860 items."
      ]
     },
     "metadata": {},
     "output_type": "display_data"
    },
    {
     "data": {
      "text/html": [
       "<pre>    Data prepared in: 0.268809s</pre>"
      ],
      "text/plain": [
       "    Data prepared in: 0.268809s"
      ]
     },
     "metadata": {},
     "output_type": "display_data"
    },
    {
     "data": {
      "text/html": [
       "<pre>Training ranking_factorization_recommender for recommendations.</pre>"
      ],
      "text/plain": [
       "Training ranking_factorization_recommender for recommendations."
      ]
     },
     "metadata": {},
     "output_type": "display_data"
    },
    {
     "data": {
      "text/html": [
       "<pre>+------------------------------+--------------------------------------------------+----------+</pre>"
      ],
      "text/plain": [
       "+------------------------------+--------------------------------------------------+----------+"
      ]
     },
     "metadata": {},
     "output_type": "display_data"
    },
    {
     "data": {
      "text/html": [
       "<pre>| Parameter                    | Description                                      | Value    |</pre>"
      ],
      "text/plain": [
       "| Parameter                    | Description                                      | Value    |"
      ]
     },
     "metadata": {},
     "output_type": "display_data"
    },
    {
     "data": {
      "text/html": [
       "<pre>+------------------------------+--------------------------------------------------+----------+</pre>"
      ],
      "text/plain": [
       "+------------------------------+--------------------------------------------------+----------+"
      ]
     },
     "metadata": {},
     "output_type": "display_data"
    },
    {
     "data": {
      "text/html": [
       "<pre>| num_factors                  | Factor Dimension                                 | 32       |</pre>"
      ],
      "text/plain": [
       "| num_factors                  | Factor Dimension                                 | 32       |"
      ]
     },
     "metadata": {},
     "output_type": "display_data"
    },
    {
     "data": {
      "text/html": [
       "<pre>| regularization               | L2 Regularization on Factors                     | 1e-05    |</pre>"
      ],
      "text/plain": [
       "| regularization               | L2 Regularization on Factors                     | 1e-05    |"
      ]
     },
     "metadata": {},
     "output_type": "display_data"
    },
    {
     "data": {
      "text/html": [
       "<pre>| max_iterations               | Maximum Number of Iterations                     | 75       |</pre>"
      ],
      "text/plain": [
       "| max_iterations               | Maximum Number of Iterations                     | 75       |"
      ]
     },
     "metadata": {},
     "output_type": "display_data"
    },
    {
     "data": {
      "text/html": [
       "<pre>| solver                       | Solver used for training                         | ials     |</pre>"
      ],
      "text/plain": [
       "| solver                       | Solver used for training                         | ials     |"
      ]
     },
     "metadata": {},
     "output_type": "display_data"
    },
    {
     "data": {
      "text/html": [
       "<pre>+------------------------------+--------------------------------------------------+----------+</pre>"
      ],
      "text/plain": [
       "+------------------------------+--------------------------------------------------+----------+"
      ]
     },
     "metadata": {},
     "output_type": "display_data"
    },
    {
     "data": {
      "text/html": [
       "<pre>+---------+--------------+---------------------------+</pre>"
      ],
      "text/plain": [
       "+---------+--------------+---------------------------+"
      ]
     },
     "metadata": {},
     "output_type": "display_data"
    },
    {
     "data": {
      "text/html": [
       "<pre>| Iter.   | Elapsed time | Estimated Objective Value |</pre>"
      ],
      "text/plain": [
       "| Iter.   | Elapsed time | Estimated Objective Value |"
      ]
     },
     "metadata": {},
     "output_type": "display_data"
    },
    {
     "data": {
      "text/html": [
       "<pre>+---------+--------------+---------------------------+</pre>"
      ],
      "text/plain": [
       "+---------+--------------+---------------------------+"
      ]
     },
     "metadata": {},
     "output_type": "display_data"
    },
    {
     "data": {
      "text/html": [
       "<pre>| Initial | 60us         | NA                        |</pre>"
      ],
      "text/plain": [
       "| Initial | 60us         | NA                        |"
      ]
     },
     "metadata": {},
     "output_type": "display_data"
    },
    {
     "data": {
      "text/html": [
       "<pre>+---------+--------------+---------------------------+</pre>"
      ],
      "text/plain": [
       "+---------+--------------+---------------------------+"
      ]
     },
     "metadata": {},
     "output_type": "display_data"
    },
    {
     "data": {
      "text/html": [
       "<pre>| 0       | 132.889ms    | 1.27641                   |</pre>"
      ],
      "text/plain": [
       "| 0       | 132.889ms    | 1.27641                   |"
      ]
     },
     "metadata": {},
     "output_type": "display_data"
    },
    {
     "data": {
      "text/html": [
       "<pre>| 1       | 261.304ms    | 0.874387                  |</pre>"
      ],
      "text/plain": [
       "| 1       | 261.304ms    | 0.874387                  |"
      ]
     },
     "metadata": {},
     "output_type": "display_data"
    },
    {
     "data": {
      "text/html": [
       "<pre>| 2       | 392.536ms    | 0.864777                  |</pre>"
      ],
      "text/plain": [
       "| 2       | 392.536ms    | 0.864777                  |"
      ]
     },
     "metadata": {},
     "output_type": "display_data"
    },
    {
     "data": {
      "text/html": [
       "<pre>| 3       | 524.449ms    | 0.860956                  |</pre>"
      ],
      "text/plain": [
       "| 3       | 524.449ms    | 0.860956                  |"
      ]
     },
     "metadata": {},
     "output_type": "display_data"
    },
    {
     "data": {
      "text/html": [
       "<pre>| 4       | 659.066ms    | 0.859007                  |</pre>"
      ],
      "text/plain": [
       "| 4       | 659.066ms    | 0.859007                  |"
      ]
     },
     "metadata": {},
     "output_type": "display_data"
    },
    {
     "data": {
      "text/html": [
       "<pre>| 5       | 798.136ms    | 0.857845                  |</pre>"
      ],
      "text/plain": [
       "| 5       | 798.136ms    | 0.857845                  |"
      ]
     },
     "metadata": {},
     "output_type": "display_data"
    },
    {
     "data": {
      "text/html": [
       "<pre>| 6       | 937.734ms    | 0.857076                  |</pre>"
      ],
      "text/plain": [
       "| 6       | 937.734ms    | 0.857076                  |"
      ]
     },
     "metadata": {},
     "output_type": "display_data"
    },
    {
     "data": {
      "text/html": [
       "<pre>| 7       | 1.07s        | 0.856531                  |</pre>"
      ],
      "text/plain": [
       "| 7       | 1.07s        | 0.856531                  |"
      ]
     },
     "metadata": {},
     "output_type": "display_data"
    },
    {
     "data": {
      "text/html": [
       "<pre>| 8       | 1.21s        | 0.856128                  |</pre>"
      ],
      "text/plain": [
       "| 8       | 1.21s        | 0.856128                  |"
      ]
     },
     "metadata": {},
     "output_type": "display_data"
    },
    {
     "data": {
      "text/html": [
       "<pre>| 9       | 1.34s        | 0.855819                  |</pre>"
      ],
      "text/plain": [
       "| 9       | 1.34s        | 0.855819                  |"
      ]
     },
     "metadata": {},
     "output_type": "display_data"
    },
    {
     "data": {
      "text/html": [
       "<pre>| 10      | 1.48s        | 0.855575                  |</pre>"
      ],
      "text/plain": [
       "| 10      | 1.48s        | 0.855575                  |"
      ]
     },
     "metadata": {},
     "output_type": "display_data"
    },
    {
     "data": {
      "text/html": [
       "<pre>| 11      | 1.62s        | 0.855378                  |</pre>"
      ],
      "text/plain": [
       "| 11      | 1.62s        | 0.855378                  |"
      ]
     },
     "metadata": {},
     "output_type": "display_data"
    },
    {
     "data": {
      "text/html": [
       "<pre>| 12      | 1.76s        | 0.855215                  |</pre>"
      ],
      "text/plain": [
       "| 12      | 1.76s        | 0.855215                  |"
      ]
     },
     "metadata": {},
     "output_type": "display_data"
    },
    {
     "data": {
      "text/html": [
       "<pre>| 13      | 1.89s        | 0.855078                  |</pre>"
      ],
      "text/plain": [
       "| 13      | 1.89s        | 0.855078                  |"
      ]
     },
     "metadata": {},
     "output_type": "display_data"
    },
    {
     "data": {
      "text/html": [
       "<pre>| 14      | 2.03s        | 0.85496                   |</pre>"
      ],
      "text/plain": [
       "| 14      | 2.03s        | 0.85496                   |"
      ]
     },
     "metadata": {},
     "output_type": "display_data"
    },
    {
     "data": {
      "text/html": [
       "<pre>| 15      | 2.17s        | 0.854858                  |</pre>"
      ],
      "text/plain": [
       "| 15      | 2.17s        | 0.854858                  |"
      ]
     },
     "metadata": {},
     "output_type": "display_data"
    },
    {
     "data": {
      "text/html": [
       "<pre>| 16      | 2.30s        | 0.854768                  |</pre>"
      ],
      "text/plain": [
       "| 16      | 2.30s        | 0.854768                  |"
      ]
     },
     "metadata": {},
     "output_type": "display_data"
    },
    {
     "data": {
      "text/html": [
       "<pre>| 17      | 2.44s        | 0.854688                  |</pre>"
      ],
      "text/plain": [
       "| 17      | 2.44s        | 0.854688                  |"
      ]
     },
     "metadata": {},
     "output_type": "display_data"
    },
    {
     "data": {
      "text/html": [
       "<pre>| 18      | 2.58s        | 0.854616                  |</pre>"
      ],
      "text/plain": [
       "| 18      | 2.58s        | 0.854616                  |"
      ]
     },
     "metadata": {},
     "output_type": "display_data"
    },
    {
     "data": {
      "text/html": [
       "<pre>| 19      | 2.71s        | 0.854551                  |</pre>"
      ],
      "text/plain": [
       "| 19      | 2.71s        | 0.854551                  |"
      ]
     },
     "metadata": {},
     "output_type": "display_data"
    },
    {
     "data": {
      "text/html": [
       "<pre>| 20      | 2.85s        | 0.854492                  |</pre>"
      ],
      "text/plain": [
       "| 20      | 2.85s        | 0.854492                  |"
      ]
     },
     "metadata": {},
     "output_type": "display_data"
    },
    {
     "data": {
      "text/html": [
       "<pre>| 21      | 2.99s        | 0.854438                  |</pre>"
      ],
      "text/plain": [
       "| 21      | 2.99s        | 0.854438                  |"
      ]
     },
     "metadata": {},
     "output_type": "display_data"
    },
    {
     "data": {
      "text/html": [
       "<pre>| 22      | 3.13s        | 0.854388                  |</pre>"
      ],
      "text/plain": [
       "| 22      | 3.13s        | 0.854388                  |"
      ]
     },
     "metadata": {},
     "output_type": "display_data"
    },
    {
     "data": {
      "text/html": [
       "<pre>| 23      | 3.27s        | 0.854342                  |</pre>"
      ],
      "text/plain": [
       "| 23      | 3.27s        | 0.854342                  |"
      ]
     },
     "metadata": {},
     "output_type": "display_data"
    },
    {
     "data": {
      "text/html": [
       "<pre>| 24      | 3.40s        | 0.8543                    |</pre>"
      ],
      "text/plain": [
       "| 24      | 3.40s        | 0.8543                    |"
      ]
     },
     "metadata": {},
     "output_type": "display_data"
    },
    {
     "data": {
      "text/html": [
       "<pre>| 25      | 3.54s        | 0.854261                  |</pre>"
      ],
      "text/plain": [
       "| 25      | 3.54s        | 0.854261                  |"
      ]
     },
     "metadata": {},
     "output_type": "display_data"
    },
    {
     "data": {
      "text/html": [
       "<pre>| 26      | 3.68s        | 0.854224                  |</pre>"
      ],
      "text/plain": [
       "| 26      | 3.68s        | 0.854224                  |"
      ]
     },
     "metadata": {},
     "output_type": "display_data"
    },
    {
     "data": {
      "text/html": [
       "<pre>| 27      | 3.82s        | 0.85419                   |</pre>"
      ],
      "text/plain": [
       "| 27      | 3.82s        | 0.85419                   |"
      ]
     },
     "metadata": {},
     "output_type": "display_data"
    },
    {
     "data": {
      "text/html": [
       "<pre>| 28      | 3.96s        | 0.854159                  |</pre>"
      ],
      "text/plain": [
       "| 28      | 3.96s        | 0.854159                  |"
      ]
     },
     "metadata": {},
     "output_type": "display_data"
    },
    {
     "data": {
      "text/html": [
       "<pre>| 29      | 4.10s        | 0.854129                  |</pre>"
      ],
      "text/plain": [
       "| 29      | 4.10s        | 0.854129                  |"
      ]
     },
     "metadata": {},
     "output_type": "display_data"
    },
    {
     "data": {
      "text/html": [
       "<pre>| 30      | 4.23s        | 0.854101                  |</pre>"
      ],
      "text/plain": [
       "| 30      | 4.23s        | 0.854101                  |"
      ]
     },
     "metadata": {},
     "output_type": "display_data"
    },
    {
     "data": {
      "text/html": [
       "<pre>| 31      | 4.37s        | 0.854075                  |</pre>"
      ],
      "text/plain": [
       "| 31      | 4.37s        | 0.854075                  |"
      ]
     },
     "metadata": {},
     "output_type": "display_data"
    },
    {
     "data": {
      "text/html": [
       "<pre>| 32      | 4.51s        | 0.85405                   |</pre>"
      ],
      "text/plain": [
       "| 32      | 4.51s        | 0.85405                   |"
      ]
     },
     "metadata": {},
     "output_type": "display_data"
    },
    {
     "data": {
      "text/html": [
       "<pre>| 33      | 4.65s        | 0.854027                  |</pre>"
      ],
      "text/plain": [
       "| 33      | 4.65s        | 0.854027                  |"
      ]
     },
     "metadata": {},
     "output_type": "display_data"
    },
    {
     "data": {
      "text/html": [
       "<pre>| 34      | 4.78s        | 0.854005                  |</pre>"
      ],
      "text/plain": [
       "| 34      | 4.78s        | 0.854005                  |"
      ]
     },
     "metadata": {},
     "output_type": "display_data"
    },
    {
     "data": {
      "text/html": [
       "<pre>| 35      | 4.92s        | 0.853984                  |</pre>"
      ],
      "text/plain": [
       "| 35      | 4.92s        | 0.853984                  |"
      ]
     },
     "metadata": {},
     "output_type": "display_data"
    },
    {
     "data": {
      "text/html": [
       "<pre>| 36      | 5.06s        | 0.853965                  |</pre>"
      ],
      "text/plain": [
       "| 36      | 5.06s        | 0.853965                  |"
      ]
     },
     "metadata": {},
     "output_type": "display_data"
    },
    {
     "data": {
      "text/html": [
       "<pre>| 37      | 5.20s        | 0.853946                  |</pre>"
      ],
      "text/plain": [
       "| 37      | 5.20s        | 0.853946                  |"
      ]
     },
     "metadata": {},
     "output_type": "display_data"
    },
    {
     "data": {
      "text/html": [
       "<pre>| 38      | 5.33s        | 0.853928                  |</pre>"
      ],
      "text/plain": [
       "| 38      | 5.33s        | 0.853928                  |"
      ]
     },
     "metadata": {},
     "output_type": "display_data"
    },
    {
     "data": {
      "text/html": [
       "<pre>| 39      | 5.47s        | 0.853911                  |</pre>"
      ],
      "text/plain": [
       "| 39      | 5.47s        | 0.853911                  |"
      ]
     },
     "metadata": {},
     "output_type": "display_data"
    },
    {
     "data": {
      "text/html": [
       "<pre>| 40      | 5.61s        | 0.853895                  |</pre>"
      ],
      "text/plain": [
       "| 40      | 5.61s        | 0.853895                  |"
      ]
     },
     "metadata": {},
     "output_type": "display_data"
    },
    {
     "data": {
      "text/html": [
       "<pre>| 41      | 5.74s        | 0.85388                   |</pre>"
      ],
      "text/plain": [
       "| 41      | 5.74s        | 0.85388                   |"
      ]
     },
     "metadata": {},
     "output_type": "display_data"
    },
    {
     "data": {
      "text/html": [
       "<pre>| 42      | 5.88s        | 0.853865                  |</pre>"
      ],
      "text/plain": [
       "| 42      | 5.88s        | 0.853865                  |"
      ]
     },
     "metadata": {},
     "output_type": "display_data"
    },
    {
     "data": {
      "text/html": [
       "<pre>| 43      | 6.02s        | 0.853851                  |</pre>"
      ],
      "text/plain": [
       "| 43      | 6.02s        | 0.853851                  |"
      ]
     },
     "metadata": {},
     "output_type": "display_data"
    },
    {
     "data": {
      "text/html": [
       "<pre>| 44      | 6.16s        | 0.853838                  |</pre>"
      ],
      "text/plain": [
       "| 44      | 6.16s        | 0.853838                  |"
      ]
     },
     "metadata": {},
     "output_type": "display_data"
    },
    {
     "data": {
      "text/html": [
       "<pre>| 45      | 6.30s        | 0.853825                  |</pre>"
      ],
      "text/plain": [
       "| 45      | 6.30s        | 0.853825                  |"
      ]
     },
     "metadata": {},
     "output_type": "display_data"
    },
    {
     "data": {
      "text/html": [
       "<pre>| 46      | 6.43s        | 0.853813                  |</pre>"
      ],
      "text/plain": [
       "| 46      | 6.43s        | 0.853813                  |"
      ]
     },
     "metadata": {},
     "output_type": "display_data"
    },
    {
     "data": {
      "text/html": [
       "<pre>| 47      | 6.57s        | 0.853801                  |</pre>"
      ],
      "text/plain": [
       "| 47      | 6.57s        | 0.853801                  |"
      ]
     },
     "metadata": {},
     "output_type": "display_data"
    },
    {
     "data": {
      "text/html": [
       "<pre>| 48      | 6.71s        | 0.85379                   |</pre>"
      ],
      "text/plain": [
       "| 48      | 6.71s        | 0.85379                   |"
      ]
     },
     "metadata": {},
     "output_type": "display_data"
    },
    {
     "data": {
      "text/html": [
       "<pre>| 49      | 6.84s        | 0.853779                  |</pre>"
      ],
      "text/plain": [
       "| 49      | 6.84s        | 0.853779                  |"
      ]
     },
     "metadata": {},
     "output_type": "display_data"
    },
    {
     "data": {
      "text/html": [
       "<pre>| 50      | 6.98s        | 0.853768                  |</pre>"
      ],
      "text/plain": [
       "| 50      | 6.98s        | 0.853768                  |"
      ]
     },
     "metadata": {},
     "output_type": "display_data"
    },
    {
     "data": {
      "text/html": [
       "<pre>| 51      | 7.12s        | 0.853758                  |</pre>"
      ],
      "text/plain": [
       "| 51      | 7.12s        | 0.853758                  |"
      ]
     },
     "metadata": {},
     "output_type": "display_data"
    },
    {
     "data": {
      "text/html": [
       "<pre>| 52      | 7.26s        | 0.853748                  |</pre>"
      ],
      "text/plain": [
       "| 52      | 7.26s        | 0.853748                  |"
      ]
     },
     "metadata": {},
     "output_type": "display_data"
    },
    {
     "data": {
      "text/html": [
       "<pre>| 53      | 7.40s        | 0.853739                  |</pre>"
      ],
      "text/plain": [
       "| 53      | 7.40s        | 0.853739                  |"
      ]
     },
     "metadata": {},
     "output_type": "display_data"
    },
    {
     "data": {
      "text/html": [
       "<pre>| 54      | 7.53s        | 0.853729                  |</pre>"
      ],
      "text/plain": [
       "| 54      | 7.53s        | 0.853729                  |"
      ]
     },
     "metadata": {},
     "output_type": "display_data"
    },
    {
     "data": {
      "text/html": [
       "<pre>| 55      | 7.67s        | 0.853721                  |</pre>"
      ],
      "text/plain": [
       "| 55      | 7.67s        | 0.853721                  |"
      ]
     },
     "metadata": {},
     "output_type": "display_data"
    },
    {
     "data": {
      "text/html": [
       "<pre>| 56      | 7.80s        | 0.853712                  |</pre>"
      ],
      "text/plain": [
       "| 56      | 7.80s        | 0.853712                  |"
      ]
     },
     "metadata": {},
     "output_type": "display_data"
    },
    {
     "data": {
      "text/html": [
       "<pre>| 57      | 7.94s        | 0.853704                  |</pre>"
      ],
      "text/plain": [
       "| 57      | 7.94s        | 0.853704                  |"
      ]
     },
     "metadata": {},
     "output_type": "display_data"
    },
    {
     "data": {
      "text/html": [
       "<pre>| 58      | 8.08s        | 0.853696                  |</pre>"
      ],
      "text/plain": [
       "| 58      | 8.08s        | 0.853696                  |"
      ]
     },
     "metadata": {},
     "output_type": "display_data"
    },
    {
     "data": {
      "text/html": [
       "<pre>| 59      | 8.21s        | 0.853688                  |</pre>"
      ],
      "text/plain": [
       "| 59      | 8.21s        | 0.853688                  |"
      ]
     },
     "metadata": {},
     "output_type": "display_data"
    },
    {
     "data": {
      "text/html": [
       "<pre>| 60      | 8.35s        | 0.853681                  |</pre>"
      ],
      "text/plain": [
       "| 60      | 8.35s        | 0.853681                  |"
      ]
     },
     "metadata": {},
     "output_type": "display_data"
    },
    {
     "data": {
      "text/html": [
       "<pre>| 61      | 8.48s        | 0.853673                  |</pre>"
      ],
      "text/plain": [
       "| 61      | 8.48s        | 0.853673                  |"
      ]
     },
     "metadata": {},
     "output_type": "display_data"
    },
    {
     "data": {
      "text/html": [
       "<pre>| 62      | 8.62s        | 0.853666                  |</pre>"
      ],
      "text/plain": [
       "| 62      | 8.62s        | 0.853666                  |"
      ]
     },
     "metadata": {},
     "output_type": "display_data"
    },
    {
     "data": {
      "text/html": [
       "<pre>| 63      | 8.76s        | 0.85366                   |</pre>"
      ],
      "text/plain": [
       "| 63      | 8.76s        | 0.85366                   |"
      ]
     },
     "metadata": {},
     "output_type": "display_data"
    },
    {
     "data": {
      "text/html": [
       "<pre>| 64      | 8.90s        | 0.853653                  |</pre>"
      ],
      "text/plain": [
       "| 64      | 8.90s        | 0.853653                  |"
      ]
     },
     "metadata": {},
     "output_type": "display_data"
    },
    {
     "data": {
      "text/html": [
       "<pre>| 65      | 9.03s        | 0.853647                  |</pre>"
      ],
      "text/plain": [
       "| 65      | 9.03s        | 0.853647                  |"
      ]
     },
     "metadata": {},
     "output_type": "display_data"
    },
    {
     "data": {
      "text/html": [
       "<pre>| 66      | 9.17s        | 0.853641                  |</pre>"
      ],
      "text/plain": [
       "| 66      | 9.17s        | 0.853641                  |"
      ]
     },
     "metadata": {},
     "output_type": "display_data"
    },
    {
     "data": {
      "text/html": [
       "<pre>| 67      | 9.31s        | 0.853635                  |</pre>"
      ],
      "text/plain": [
       "| 67      | 9.31s        | 0.853635                  |"
      ]
     },
     "metadata": {},
     "output_type": "display_data"
    },
    {
     "data": {
      "text/html": [
       "<pre>| 68      | 9.45s        | 0.853629                  |</pre>"
      ],
      "text/plain": [
       "| 68      | 9.45s        | 0.853629                  |"
      ]
     },
     "metadata": {},
     "output_type": "display_data"
    },
    {
     "data": {
      "text/html": [
       "<pre>| 69      | 9.59s        | 0.853623                  |</pre>"
      ],
      "text/plain": [
       "| 69      | 9.59s        | 0.853623                  |"
      ]
     },
     "metadata": {},
     "output_type": "display_data"
    },
    {
     "data": {
      "text/html": [
       "<pre>| 70      | 9.73s        | 0.853618                  |</pre>"
      ],
      "text/plain": [
       "| 70      | 9.73s        | 0.853618                  |"
      ]
     },
     "metadata": {},
     "output_type": "display_data"
    },
    {
     "data": {
      "text/html": [
       "<pre>| 71      | 9.86s        | 0.853612                  |</pre>"
      ],
      "text/plain": [
       "| 71      | 9.86s        | 0.853612                  |"
      ]
     },
     "metadata": {},
     "output_type": "display_data"
    },
    {
     "data": {
      "text/html": [
       "<pre>| 72      | 10.00s       | 0.853607                  |</pre>"
      ],
      "text/plain": [
       "| 72      | 10.00s       | 0.853607                  |"
      ]
     },
     "metadata": {},
     "output_type": "display_data"
    },
    {
     "data": {
      "text/html": [
       "<pre>| 73      | 10.13s       | 0.853602                  |</pre>"
      ],
      "text/plain": [
       "| 73      | 10.13s       | 0.853602                  |"
      ]
     },
     "metadata": {},
     "output_type": "display_data"
    },
    {
     "data": {
      "text/html": [
       "<pre>| 74      | 10.27s       | 0.853597                  |</pre>"
      ],
      "text/plain": [
       "| 74      | 10.27s       | 0.853597                  |"
      ]
     },
     "metadata": {},
     "output_type": "display_data"
    },
    {
     "data": {
      "text/html": [
       "<pre>| FINAL   | 10.27s       | 0.853597                  |</pre>"
      ],
      "text/plain": [
       "| FINAL   | 10.27s       | 0.853597                  |"
      ]
     },
     "metadata": {},
     "output_type": "display_data"
    },
    {
     "data": {
      "text/html": [
       "<pre>+---------+--------------+---------------------------+</pre>"
      ],
      "text/plain": [
       "+---------+--------------+---------------------------+"
      ]
     },
     "metadata": {},
     "output_type": "display_data"
    },
    {
     "data": {
      "text/html": [
       "<pre>Optimization Complete: Iteration limit reached.</pre>"
      ],
      "text/plain": [
       "Optimization Complete: Iteration limit reached."
      ]
     },
     "metadata": {},
     "output_type": "display_data"
    },
    {
     "data": {
      "text/html": [
       "<pre>Preparing data set.</pre>"
      ],
      "text/plain": [
       "Preparing data set."
      ]
     },
     "metadata": {},
     "output_type": "display_data"
    },
    {
     "data": {
      "text/html": [
       "<pre>    Data has 366405 observations with 1600 users and 3860 items.</pre>"
      ],
      "text/plain": [
       "    Data has 366405 observations with 1600 users and 3860 items."
      ]
     },
     "metadata": {},
     "output_type": "display_data"
    },
    {
     "data": {
      "text/html": [
       "<pre>    Data prepared in: 0.297142s</pre>"
      ],
      "text/plain": [
       "    Data prepared in: 0.297142s"
      ]
     },
     "metadata": {},
     "output_type": "display_data"
    },
    {
     "data": {
      "text/html": [
       "<pre>Training ranking_factorization_recommender for recommendations.</pre>"
      ],
      "text/plain": [
       "Training ranking_factorization_recommender for recommendations."
      ]
     },
     "metadata": {},
     "output_type": "display_data"
    },
    {
     "data": {
      "text/html": [
       "<pre>+--------------------------------+--------------------------------------------------+----------+</pre>"
      ],
      "text/plain": [
       "+--------------------------------+--------------------------------------------------+----------+"
      ]
     },
     "metadata": {},
     "output_type": "display_data"
    },
    {
     "data": {
      "text/html": [
       "<pre>| Parameter                      | Description                                      | Value    |</pre>"
      ],
      "text/plain": [
       "| Parameter                      | Description                                      | Value    |"
      ]
     },
     "metadata": {},
     "output_type": "display_data"
    },
    {
     "data": {
      "text/html": [
       "<pre>+--------------------------------+--------------------------------------------------+----------+</pre>"
      ],
      "text/plain": [
       "+--------------------------------+--------------------------------------------------+----------+"
      ]
     },
     "metadata": {},
     "output_type": "display_data"
    },
    {
     "data": {
      "text/html": [
       "<pre>| num_factors                    | Factor Dimension                                 | 32       |</pre>"
      ],
      "text/plain": [
       "| num_factors                    | Factor Dimension                                 | 32       |"
      ]
     },
     "metadata": {},
     "output_type": "display_data"
    },
    {
     "data": {
      "text/html": [
       "<pre>| regularization                 | L2 Regularization on Factors                     | 1e-09    |</pre>"
      ],
      "text/plain": [
       "| regularization                 | L2 Regularization on Factors                     | 1e-09    |"
      ]
     },
     "metadata": {},
     "output_type": "display_data"
    },
    {
     "data": {
      "text/html": [
       "<pre>| solver                         | Solver used for training                         | sgd      |</pre>"
      ],
      "text/plain": [
       "| solver                         | Solver used for training                         | sgd      |"
      ]
     },
     "metadata": {},
     "output_type": "display_data"
    },
    {
     "data": {
      "text/html": [
       "<pre>| linear_regularization          | L2 Regularization on Linear Coefficients         | 1e-09    |</pre>"
      ],
      "text/plain": [
       "| linear_regularization          | L2 Regularization on Linear Coefficients         | 1e-09    |"
      ]
     },
     "metadata": {},
     "output_type": "display_data"
    },
    {
     "data": {
      "text/html": [
       "<pre>| binary_target                  | Assume Binary Targets                            | True     |</pre>"
      ],
      "text/plain": [
       "| binary_target                  | Assume Binary Targets                            | True     |"
      ]
     },
     "metadata": {},
     "output_type": "display_data"
    },
    {
     "data": {
      "text/html": [
       "<pre>| max_iterations                 | Maximum Number of Iterations                     | 25       |</pre>"
      ],
      "text/plain": [
       "| max_iterations                 | Maximum Number of Iterations                     | 25       |"
      ]
     },
     "metadata": {},
     "output_type": "display_data"
    },
    {
     "data": {
      "text/html": [
       "<pre>+--------------------------------+--------------------------------------------------+----------+</pre>"
      ],
      "text/plain": [
       "+--------------------------------+--------------------------------------------------+----------+"
      ]
     },
     "metadata": {},
     "output_type": "display_data"
    },
    {
     "data": {
      "text/html": [
       "<pre>  Optimizing model using SGD; tuning step size.</pre>"
      ],
      "text/plain": [
       "  Optimizing model using SGD; tuning step size."
      ]
     },
     "metadata": {},
     "output_type": "display_data"
    },
    {
     "data": {
      "text/html": [
       "<pre>  Using 45800 / 366405 points for tuning the step size.</pre>"
      ],
      "text/plain": [
       "  Using 45800 / 366405 points for tuning the step size."
      ]
     },
     "metadata": {},
     "output_type": "display_data"
    },
    {
     "data": {
      "text/html": [
       "<pre>+---------+-------------------+------------------------------------------+</pre>"
      ],
      "text/plain": [
       "+---------+-------------------+------------------------------------------+"
      ]
     },
     "metadata": {},
     "output_type": "display_data"
    },
    {
     "data": {
      "text/html": [
       "<pre>| Attempt | Initial Step Size | Estimated Objective Value                |</pre>"
      ],
      "text/plain": [
       "| Attempt | Initial Step Size | Estimated Objective Value                |"
      ]
     },
     "metadata": {},
     "output_type": "display_data"
    },
    {
     "data": {
      "text/html": [
       "<pre>+---------+-------------------+------------------------------------------+</pre>"
      ],
      "text/plain": [
       "+---------+-------------------+------------------------------------------+"
      ]
     },
     "metadata": {},
     "output_type": "display_data"
    },
    {
     "data": {
      "text/html": [
       "<pre>| 0       | 10                | Not Viable                               |</pre>"
      ],
      "text/plain": [
       "| 0       | 10                | Not Viable                               |"
      ]
     },
     "metadata": {},
     "output_type": "display_data"
    },
    {
     "data": {
      "text/html": [
       "<pre>| 1       | 2.5               | Not Viable                               |</pre>"
      ],
      "text/plain": [
       "| 1       | 2.5               | Not Viable                               |"
      ]
     },
     "metadata": {},
     "output_type": "display_data"
    },
    {
     "data": {
      "text/html": [
       "<pre>| 2       | 0.625             | Not Viable                               |</pre>"
      ],
      "text/plain": [
       "| 2       | 0.625             | Not Viable                               |"
      ]
     },
     "metadata": {},
     "output_type": "display_data"
    },
    {
     "data": {
      "text/html": [
       "<pre>| 3       | 0.15625           | Not Viable                               |</pre>"
      ],
      "text/plain": [
       "| 3       | 0.15625           | Not Viable                               |"
      ]
     },
     "metadata": {},
     "output_type": "display_data"
    },
    {
     "data": {
      "text/html": [
       "<pre>| 4       | 0.0390625         | 1.37637                                  |</pre>"
      ],
      "text/plain": [
       "| 4       | 0.0390625         | 1.37637                                  |"
      ]
     },
     "metadata": {},
     "output_type": "display_data"
    },
    {
     "data": {
      "text/html": [
       "<pre>| 5       | 0.0195312         | 1.37645                                  |</pre>"
      ],
      "text/plain": [
       "| 5       | 0.0195312         | 1.37645                                  |"
      ]
     },
     "metadata": {},
     "output_type": "display_data"
    },
    {
     "data": {
      "text/html": [
       "<pre>| 6       | 0.00976562        | 1.37871                                  |</pre>"
      ],
      "text/plain": [
       "| 6       | 0.00976562        | 1.37871                                  |"
      ]
     },
     "metadata": {},
     "output_type": "display_data"
    },
    {
     "data": {
      "text/html": [
       "<pre>| 7       | 0.00488281        | 1.38107                                  |</pre>"
      ],
      "text/plain": [
       "| 7       | 0.00488281        | 1.38107                                  |"
      ]
     },
     "metadata": {},
     "output_type": "display_data"
    },
    {
     "data": {
      "text/html": [
       "<pre>+---------+-------------------+------------------------------------------+</pre>"
      ],
      "text/plain": [
       "+---------+-------------------+------------------------------------------+"
      ]
     },
     "metadata": {},
     "output_type": "display_data"
    },
    {
     "data": {
      "text/html": [
       "<pre>| Final   | 0.0390625         | 1.37637                                  |</pre>"
      ],
      "text/plain": [
       "| Final   | 0.0390625         | 1.37637                                  |"
      ]
     },
     "metadata": {},
     "output_type": "display_data"
    },
    {
     "data": {
      "text/html": [
       "<pre>+---------+-------------------+------------------------------------------+</pre>"
      ],
      "text/plain": [
       "+---------+-------------------+------------------------------------------+"
      ]
     },
     "metadata": {},
     "output_type": "display_data"
    },
    {
     "data": {
      "text/html": [
       "<pre>Starting Optimization.</pre>"
      ],
      "text/plain": [
       "Starting Optimization."
      ]
     },
     "metadata": {},
     "output_type": "display_data"
    },
    {
     "data": {
      "text/html": [
       "<pre>+---------+--------------+-------------------+-----------------------------------+-------------+</pre>"
      ],
      "text/plain": [
       "+---------+--------------+-------------------+-----------------------------------+-------------+"
      ]
     },
     "metadata": {},
     "output_type": "display_data"
    },
    {
     "data": {
      "text/html": [
       "<pre>| Iter.   | Elapsed Time | Approx. Objective | Approx. Training Predictive Error | Step Size   |</pre>"
      ],
      "text/plain": [
       "| Iter.   | Elapsed Time | Approx. Objective | Approx. Training Predictive Error | Step Size   |"
      ]
     },
     "metadata": {},
     "output_type": "display_data"
    },
    {
     "data": {
      "text/html": [
       "<pre>+---------+--------------+-------------------+-----------------------------------+-------------+</pre>"
      ],
      "text/plain": [
       "+---------+--------------+-------------------+-----------------------------------+-------------+"
      ]
     },
     "metadata": {},
     "output_type": "display_data"
    },
    {
     "data": {
      "text/html": [
       "<pre>| Initial | 95us         | 1.38644           | 0.693277                          |             |</pre>"
      ],
      "text/plain": [
       "| Initial | 95us         | 1.38644           | 0.693277                          |             |"
      ]
     },
     "metadata": {},
     "output_type": "display_data"
    },
    {
     "data": {
      "text/html": [
       "<pre>+---------+--------------+-------------------+-----------------------------------+-------------+</pre>"
      ],
      "text/plain": [
       "+---------+--------------+-------------------+-----------------------------------+-------------+"
      ]
     },
     "metadata": {},
     "output_type": "display_data"
    },
    {
     "data": {
      "text/html": [
       "<pre>| 1       | 545.194ms    | DIVERGED          | DIVERGED                          | 0.0390625   |</pre>"
      ],
      "text/plain": [
       "| 1       | 545.194ms    | DIVERGED          | DIVERGED                          | 0.0390625   |"
      ]
     },
     "metadata": {},
     "output_type": "display_data"
    },
    {
     "data": {
      "text/html": [
       "<pre>| RESET   | 731.837ms    | 1.38645           | 0.692929                          |             |</pre>"
      ],
      "text/plain": [
       "| RESET   | 731.837ms    | 1.38645           | 0.692929                          |             |"
      ]
     },
     "metadata": {},
     "output_type": "display_data"
    },
    {
     "data": {
      "text/html": [
       "<pre>| 1       | 1.28s        | DIVERGED          | DIVERGED                          | 0.0195312   |</pre>"
      ],
      "text/plain": [
       "| 1       | 1.28s        | DIVERGED          | DIVERGED                          | 0.0195312   |"
      ]
     },
     "metadata": {},
     "output_type": "display_data"
    },
    {
     "data": {
      "text/html": [
       "<pre>| RESET   | 1.46s        | 1.38644           | 0.6932                            |             |</pre>"
      ],
      "text/plain": [
       "| RESET   | 1.46s        | 1.38644           | 0.6932                            |             |"
      ]
     },
     "metadata": {},
     "output_type": "display_data"
    },
    {
     "data": {
      "text/html": [
       "<pre>| 1       | 1.83s        | 1.36006           | 0.681278                          | 0.00976562  |</pre>"
      ],
      "text/plain": [
       "| 1       | 1.83s        | 1.36006           | 0.681278                          | 0.00976562  |"
      ]
     },
     "metadata": {},
     "output_type": "display_data"
    },
    {
     "data": {
      "text/html": [
       "<pre>| 2       | 2.38s        | DIVERGED          | DIVERGED                          | 0.00580668  |</pre>"
      ],
      "text/plain": [
       "| 2       | 2.38s        | DIVERGED          | DIVERGED                          | 0.00580668  |"
      ]
     },
     "metadata": {},
     "output_type": "display_data"
    },
    {
     "data": {
      "text/html": [
       "<pre>| RESET   | 2.58s        | 1.38645           | 0.693136                          |             |</pre>"
      ],
      "text/plain": [
       "| RESET   | 2.58s        | 1.38645           | 0.693136                          |             |"
      ]
     },
     "metadata": {},
     "output_type": "display_data"
    },
    {
     "data": {
      "text/html": [
       "<pre>| 1       | 2.95s        | 1.37015           | 0.684687                          | 0.00290334  |</pre>"
      ],
      "text/plain": [
       "| 1       | 2.95s        | 1.37015           | 0.684687                          | 0.00290334  |"
      ]
     },
     "metadata": {},
     "output_type": "display_data"
    },
    {
     "data": {
      "text/html": [
       "<pre>| 2       | 3.31s        | 1.35183           | 0.676611                          | 0.00172633  |</pre>"
      ],
      "text/plain": [
       "| 2       | 3.31s        | 1.35183           | 0.676611                          | 0.00172633  |"
      ]
     },
     "metadata": {},
     "output_type": "display_data"
    },
    {
     "data": {
      "text/html": [
       "<pre>| 3       | 3.68s        | 1.34331           | 0.672465                          | 0.00127367  |</pre>"
      ],
      "text/plain": [
       "| 3       | 3.68s        | 1.34331           | 0.672465                          | 0.00127367  |"
      ]
     },
     "metadata": {},
     "output_type": "display_data"
    },
    {
     "data": {
      "text/html": [
       "<pre>| 4       | 4.04s        | 1.33482           | 0.668799                          | 0.00102648  |</pre>"
      ],
      "text/plain": [
       "| 4       | 4.04s        | 1.33482           | 0.668799                          | 0.00102648  |"
      ]
     },
     "metadata": {},
     "output_type": "display_data"
    },
    {
     "data": {
      "text/html": [
       "<pre>| 6       | 4.76s        | 1.32204           | 0.663789                          | 0.000757328 |</pre>"
      ],
      "text/plain": [
       "| 6       | 4.76s        | 1.32204           | 0.663789                          | 0.000757328 |"
      ]
     },
     "metadata": {},
     "output_type": "display_data"
    },
    {
     "data": {
      "text/html": [
       "<pre>| 16      | 8.35s        | 1.3168            | 0.660536                          | 0.000181459 |</pre>"
      ],
      "text/plain": [
       "| 16      | 8.35s        | 1.3168            | 0.660536                          | 0.000181459 |"
      ]
     },
     "metadata": {},
     "output_type": "display_data"
    },
    {
     "data": {
      "text/html": [
       "<pre>| 25      | 11.59s       | 1.31361           | 0.658853                          | 4.59058e-05 |</pre>"
      ],
      "text/plain": [
       "| 25      | 11.59s       | 1.31361           | 0.658853                          | 4.59058e-05 |"
      ]
     },
     "metadata": {},
     "output_type": "display_data"
    },
    {
     "data": {
      "text/html": [
       "<pre>+---------+--------------+-------------------+-----------------------------------+-------------+</pre>"
      ],
      "text/plain": [
       "+---------+--------------+-------------------+-----------------------------------+-------------+"
      ]
     },
     "metadata": {},
     "output_type": "display_data"
    },
    {
     "data": {
      "text/html": [
       "<pre>Optimization Complete: Maximum number of passes through the data reached.</pre>"
      ],
      "text/plain": [
       "Optimization Complete: Maximum number of passes through the data reached."
      ]
     },
     "metadata": {},
     "output_type": "display_data"
    },
    {
     "data": {
      "text/html": [
       "<pre>Computing final objective value and training Predictive Error.</pre>"
      ],
      "text/plain": [
       "Computing final objective value and training Predictive Error."
      ]
     },
     "metadata": {},
     "output_type": "display_data"
    },
    {
     "data": {
      "text/html": [
       "<pre>       Final objective value: 1.3248</pre>"
      ],
      "text/plain": [
       "       Final objective value: 1.3248"
      ]
     },
     "metadata": {},
     "output_type": "display_data"
    },
    {
     "data": {
      "text/html": [
       "<pre>       Final training Predictive Error: 0.657928</pre>"
      ],
      "text/plain": [
       "       Final training Predictive Error: 0.657928"
      ]
     },
     "metadata": {},
     "output_type": "display_data"
    }
   ],
   "source": [
    "model_1 = tc.ranking_factorization_recommender.create(tc.SFrame(data_dummy), \n",
    "                                                    user_id=user_id, \n",
    "                                                    item_id=item_id, target='total_quantity',solver='ials')\n",
    "\n",
    "model_2 = tc.ranking_factorization_recommender.create(tc.SFrame(data_dummy), \n",
    "                                                    user_id=user_id, \n",
    "                                                    item_id=item_id, \n",
    "                                                    target='total_quantity',user_data=user_data, item_data=item_data, \n",
    "                                                    solver='ials')\n",
    "\n",
    "model_3 = tc.ranking_factorization_recommender.create(tc.SFrame(data_dummy), \n",
    "                                                    user_id=user_id, \n",
    "                                                    item_id=item_id, target='total_quantity',solver='ials',\n",
    "                                                    ranking_regularization=0.1)\n",
    "\n",
    "model_4 = tc.ranking_factorization_recommender.create(tc.SFrame(data_dummy), \n",
    "                                                    user_id=user_id, \n",
    "                                                    item_id=item_id, target='total_quantity',solver='ials',\n",
    "                                                    max_iterations=75, regularization=1e-5)\n",
    "\n",
    "model_5 = tc.ranking_factorization_recommender.create(tc.SFrame(data_dummy), \n",
    "                                                    user_id=user_id, \n",
    "                                                    item_id=item_id, target='total_quantity',\n",
    "                                                    user_data=user_data, item_data=item_data, \n",
    "                                                    solver='ials', num_sampled_negative_examples=20)\n",
    "\n",
    "\n",
    "model_6 = tc.ranking_factorization_recommender.create(tc.SFrame(data_dummy), \n",
    "                                                    user_id=user_id, \n",
    "                                                    item_id=item_id, \n",
    "                                                    target='total_quantity',user_data=user_data, \n",
    "                                                    item_data=item_data, \n",
    "                                                    solver='ials')\n",
    "\n",
    "model_7 = tc.ranking_factorization_recommender.create(tc.SFrame(data_dummy), \n",
    "                                                    user_id=user_id, \n",
    "                                                    item_id=item_id, target='total_quantity',solver='ials',\n",
    "                                                    user_data=user_data,\n",
    "                                                      item_data=item_data,\n",
    "                                                    max_iterations=75, regularization=1e-5)\n",
    "\n",
    "\n",
    "model_8 = tc.ranking_factorization_recommender.create(tc.SFrame(data_dummy), \n",
    "                                                    user_id=user_id, \n",
    "                                                    item_id=item_id, \n",
    "                                                    target=None, \n",
    "                                                    solver='sgd')\n",
    " "
   ]
  },
  {
   "cell_type": "code",
   "execution_count": 66,
   "metadata": {},
   "outputs": [],
   "source": [
    "test_user_new = pd.DataFrame(test['CustomerID'].unique(), columns=['CustomerID'])\n",
    "test_user_new['no_reco_to_made'] = test_user_new['CustomerID'].apply(lambda x:merged[merged['CustomerID']==x]['StockCode'].nunique())\n",
    "\n",
    "# test_user_new['Items'] = test_user_new['CustomerID'].apply(lambda x: list(model.recommend(users=[x], k=int(test_user_new[test_user_new['CustomerID']==x]['no_reco_to_made']))['StockCode']))"
   ]
  },
  {
   "cell_type": "code",
   "execution_count": 67,
   "metadata": {},
   "outputs": [],
   "source": [
    "reco_series = pd.Series()\n",
    "count = 0\n",
    "for i in test_user_new['CustomerID']:\n",
    "    no_of_products = merged[merged['CustomerID']==i]['StockCode'].nunique()\n",
    "    \n",
    "#     if no_of_products<10:\n",
    "#         no_of_products=10\n",
    "    \n",
    "    m1 = pd.DataFrame(model_1.recommend(users=[i], k=(3860 - no_of_products)))\n",
    "    m2 = pd.DataFrame(model_2.recommend(users=[i], k=(3860 - no_of_products)))\n",
    "    m3 = pd.DataFrame(model_3.recommend(users=[i], k=(3860 - no_of_products)))\n",
    "    m4 = pd.DataFrame(model_4.recommend(users=[i], k=(3860 - no_of_products)))\n",
    "    m5 = pd.DataFrame(model_5.recommend(users=[i], k=(3860 - no_of_products)))\n",
    "    m6 = pd.DataFrame(model_6.recommend(users=[i], k=(3860 - no_of_products)))\n",
    "    m7 = pd.DataFrame(model_7.recommend(users=[i], k=(3860 - no_of_products)))    \n",
    "    \n",
    "    m1.columns = ['CustomerID','StockCode','rank_1','score_1']\n",
    "    m2.columns = ['CustomerID','StockCode','rank_2','score_2']\n",
    "    m3.columns = ['CustomerID','StockCode','rank_3','score_3']\n",
    "    m4.columns = ['CustomerID','StockCode','rank_4','score_4']\n",
    "    m5.columns = ['CustomerID','StockCode','rank_5','score_5']\n",
    "    m6.columns = ['CustomerID','StockCode','rank_6','score_6']\n",
    "    m7.columns = ['CustomerID','StockCode','rank_7','score_7']\n",
    "\n",
    "    s1 = m1.merge(m2,on=['StockCode','CustomerID'])\n",
    "    s2 = s1.merge(m3,on=['StockCode','CustomerID'])\n",
    "    s3 = s2.merge(m4,on=['StockCode','CustomerID'])\n",
    "    s4 = s3.merge(m5,on=['StockCode','CustomerID'])\n",
    "    s5 = s4.merge(m6,on=['StockCode','CustomerID'])\n",
    "    score_merged = s5.merge(m7,on=['StockCode','CustomerID']) \n",
    "\n",
    "    score_merged['weighted_score'] = (score_merged['score_1']+score_merged['score_2']+score_merged['score_3']+\n",
    "                                 score_merged['score_4']+score_merged['score_5']+score_merged['score_6']+\n",
    "                                  score_merged['score_7'])/7\n",
    "\n",
    "\n",
    "    score_merged.sort_values('weighted_score',ascending=False,inplace=True)\n",
    "    score_merged.reset_index(drop=True,inplace=True)\n",
    "    ensemble_pred_list = score_merged['StockCode'].iloc[0:no_of_products]  \n",
    "    \n",
    "#     index = test_user_new.loc[test_user_new['CustomerID']==i].index[0]\n",
    "#     test_user_new.loc[index,'Items'] = np.array(ensemble_pred_list)\n",
    "\n",
    "    reco_series.loc[count]=list(ensemble_pred_list)\n",
    "    \n",
    "    count+=1"
   ]
  },
  {
   "cell_type": "code",
   "execution_count": 68,
   "metadata": {},
   "outputs": [],
   "source": [
    "test_user_new['Items'] = reco_series\n",
    "test_user_new.drop('no_reco_to_made',axis=1).to_csv('./new_submissions_data_exp/reco_fact_target_purchase_count_ensemble_with_item_user_new_experiment_more_user_data_1\".csv',index=False,header=True)"
   ]
  },
  {
   "cell_type": "markdown",
   "metadata": {},
   "source": [
    "###### best results as of now, ensemble after adding item data, user data. Used the ensemble method in previous snippet, not the one right above this, and got a score of 0.262654"
   ]
  },
  {
   "cell_type": "code",
   "execution_count": null,
   "metadata": {},
   "outputs": [],
   "source": []
  }
 ],
 "metadata": {
  "kernelspec": {
   "display_name": "Python 3",
   "language": "python",
   "name": "python3"
  },
  "language_info": {
   "codemirror_mode": {
    "name": "ipython",
    "version": 3
   },
   "file_extension": ".py",
   "mimetype": "text/x-python",
   "name": "python",
   "nbconvert_exporter": "python",
   "pygments_lexer": "ipython3",
   "version": "3.7.3"
  }
 },
 "nbformat": 4,
 "nbformat_minor": 2
}
